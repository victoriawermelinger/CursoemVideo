{
 "cells": [
  {
   "cell_type": "markdown",
   "metadata": {},
   "source": [
    "Vamos continuar nossos estudos de funções em  Python, aprendendo mais sobre Interactive Help em Python, o uso de docstrings para documentar nossas funções, argumentos opcionais para dar mais dinamismo em funções Python, escopo de variáveis e retorno de resultados."
   ]
  },
  {
   "cell_type": "markdown",
   "metadata": {},
   "source": [
    "### 1. **Interactive Help**\n",
    "O Python possui uma função interna chamada `help()` que fornece informações sobre funções, módulos, classes, etc. Você pode usá-la para obter ajuda interativa diretamente no interpretador. Por exemplo:\n",
    "\n",
    "```python\n",
    "help(print)\n",
    "```\n",
    "\n",
    "Isso exibe a documentação da função `print`.\n",
    "\n",
    "### 2. **Docstrings**\n",
    "Docstrings são cadeias de texto que você pode adicionar às suas funções, classes e módulos para documentar o que eles fazem. Isso é muito útil para quem ler seu código, incluindo você mesmo no futuro. As docstrings ficam logo abaixo da definição da função, entre aspas triplas (`\"\"\"` ou `'''`). Exemplo:\n",
    "\n",
    "```python\n",
    "def soma(a, b):\n",
    "    \"\"\"\n",
    "    Retorna a soma de dois números.\n",
    "\n",
    "    Parâmetros:\n",
    "    a (int, float): O primeiro número.\n",
    "    b (int, float): O segundo número.\n",
    "\n",
    "    Retorno:\n",
    "    int, float: A soma de a e b.\n",
    "    \"\"\"\n",
    "    return a + b\n",
    "```\n",
    "\n",
    "Você pode acessar a docstring com `help(soma)`.\n",
    "\n",
    "### 3. **Argumentos Opcionais**\n",
    "Argumentos opcionais permitem que você defina valores padrão para parâmetros em uma função. Se um valor não for passado, o padrão será usado. Isso torna as funções mais flexíveis. Exemplo:\n",
    "\n",
    "```python\n",
    "def saudacao(nome, mensagem=\"Olá\"):\n",
    "    print(f\"{mensagem}, {nome}!\")\n",
    "\n",
    "saudacao(\"Victoria\")         # Usa o valor padrão para mensagem\n",
    "saudacao(\"Victoria\", \"Oi\")   # Usa o valor fornecido para mensagem\n",
    "```\n",
    "\n",
    "### 4. **Escopo de Variáveis**\n",
    "O escopo refere-se à visibilidade de variáveis dentro do código. Em Python, existem dois tipos principais de escopo:\n",
    "- **Escopo Local:** Variáveis definidas dentro de uma função só podem ser usadas dentro dessa função.\n",
    "- **Escopo Global:** Variáveis definidas fora de todas as funções podem ser acessadas em qualquer lugar do código, incluindo dentro de funções.\n",
    "\n",
    "Exemplo:\n",
    "\n",
    "```python\n",
    "def funcao():\n",
    "    x = 10  # x é local\n",
    "    print(x)\n",
    "\n",
    "x = 20  # x é global\n",
    "funcao()  # Imprime 10\n",
    "print(x)  # Imprime 20\n",
    "```\n",
    "\n",
    "### 5. **Retorno de Resultados**\n",
    "Funções em Python podem retornar valores usando a palavra-chave `return`. Isso permite que você capture o resultado da função para uso posterior. Exemplo:\n",
    "\n",
    "```python\n",
    "def multiplicar(a, b):\n",
    "    return a * b\n",
    "\n",
    "resultado = multiplicar(3, 4)\n",
    "print(resultado)  # Imprime 12\n",
    "```\n",
    "\n",
    "Se uma função não tiver um `return`, ela retornará `None` por padrão."
   ]
  },
  {
   "cell_type": "code",
   "execution_count": 1,
   "metadata": {},
   "outputs": [
    {
     "name": "stdout",
     "output_type": "stream",
     "text": [
      "Welcome to Python 3.12's help utility! If this is your first time using\n",
      "Python, you should definitely check out the tutorial at\n",
      "https://docs.python.org/3.12/tutorial/.\n",
      "\n",
      "Enter the name of any module, keyword, or topic to get help on writing\n",
      "Python programs and using Python modules.  To get a list of available\n",
      "modules, keywords, symbols, or topics, enter \"modules\", \"keywords\",\n",
      "\"symbols\", or \"topics\".\n",
      "\n",
      "Each module also comes with a one-line summary of what it does; to list\n",
      "the modules whose name or summary contain a given string such as \"spam\",\n",
      "enter \"modules spam\".\n",
      "\n",
      "To quit this help utility and return to the interpreter,\n",
      "enter \"q\" or \"quit\".\n",
      "\n",
      "Help on built-in function print in module builtins:\n",
      "\n",
      "print(*args, sep=' ', end='\\n', file=None, flush=False)\n",
      "    Prints the values to a stream, or to sys.stdout by default.\n",
      "\n",
      "    sep\n",
      "      string inserted between values, default a space.\n",
      "    end\n",
      "      string appended after the last value, default a newline.\n",
      "    file\n",
      "      a file-like object (stream); defaults to the current sys.stdout.\n",
      "    flush\n",
      "      whether to forcibly flush the stream.\n",
      "\n",
      "\n",
      "You are now leaving help and returning to the Python interpreter.\n",
      "If you want to ask for help on a particular object directly from the\n",
      "interpreter, you can type \"help(object)\".  Executing \"help('string')\"\n",
      "has the same effect as typing a particular string at the help> prompt.\n"
     ]
    }
   ],
   "source": [
    "\"\"\"O comando help() em Python é uma função embutida que permite acessar a documentação de outros comandos, módulos ou objetos no próprio ambiente de programação.\n",
    " Quando você usa help(), ele exibe informações sobre como usar uma função, classe, ou módulo, incluindo descrições e exemplos. Por exemplo, help(print) \n",
    " mostra como a função print() funciona.\n",
    " Se usado sem argumentos, abre um menu interativo de ajuda.\"\"\"\n",
    "\n",
    "help()"
   ]
  },
  {
   "cell_type": "markdown",
   "metadata": {},
   "source": [
    "Quando você executa `help(print)`, Python exibe uma explicação detalhada sobre como a função `print()` funciona. Aqui está uma versão simplificada do que você verá:\n",
    "\n",
    "- **Descrição**: A função `print()` exibe os valores passados a ela na tela ou em outro dispositivo de saída.\n",
    "  \n",
    "- **Sintaxe**:\n",
    "  ```python\n",
    "  print(*objects, sep=' ', end='\\n', file=sys.stdout, flush=False)\n",
    "  ```\n",
    "\n",
    "- **Parâmetros**:\n",
    "  - `*objects`: Um ou mais objetos que você deseja imprimir.\n",
    "  - `sep`: O separador entre os objetos (padrão é um espaço).\n",
    "  - `end`: O que colocar no final da impressão (padrão é uma nova linha).\n",
    "  - `file`: O local onde a saída será enviada (padrão é a tela).\n",
    "  - `flush`: Se `True`, força a saída imediata.\n",
    "\n",
    "Por exemplo:\n",
    "```python\n",
    "print(\"Hello\", \"World\", sep=\", \", end=\"!\\n\")\n",
    "```\n",
    "Isso exibirá: `Hello, World!`"
   ]
  },
  {
   "cell_type": "code",
   "execution_count": 2,
   "metadata": {},
   "outputs": [
    {
     "name": "stdout",
     "output_type": "stream",
     "text": [
      "Help on built-in function print in module builtins:\n",
      "\n",
      "print(*args, sep=' ', end='\\n', file=None, flush=False)\n",
      "    Prints the values to a stream, or to sys.stdout by default.\n",
      "\n",
      "    sep\n",
      "      string inserted between values, default a space.\n",
      "    end\n",
      "      string appended after the last value, default a newline.\n",
      "    file\n",
      "      a file-like object (stream); defaults to the current sys.stdout.\n",
      "    flush\n",
      "      whether to forcibly flush the stream.\n",
      "\n"
     ]
    }
   ],
   "source": [
    "help(print)"
   ]
  },
  {
   "cell_type": "markdown",
   "metadata": {},
   "source": [
    "Quando você executa `help(input)` em Python, ele fornece uma descrição de como a função `input()` funciona. Aqui está uma versão simplificada:\n",
    "\n",
    "- **Descrição**: A função `input()` lê uma linha de texto digitada pelo usuário no console e a retorna como uma string.\n",
    "\n",
    "- **Sintaxe**:\n",
    "  ```python\n",
    "  input([prompt])\n",
    "  ```\n",
    "\n",
    "- **Parâmetros**:\n",
    "  - `prompt`: Uma string opcional que é exibida na tela antes do usuário digitar (por exemplo, uma mensagem como \"Digite seu nome: \").\n",
    "\n",
    "- **Uso**:\n",
    "  - Quando `input()` é chamado, o programa para e espera que o usuário digite algo. Depois que o usuário pressiona Enter, a função retorna o texto digitado como uma string.\n",
    "\n",
    "Por exemplo:\n",
    "```python\n",
    "nome = input(\"Qual é o seu nome? \")\n",
    "print(\"Olá,\", nome)\n",
    "```\n",
    "Se o usuário digitar \"Victoria\", o programa exibirá: `Olá, Victoria`."
   ]
  },
  {
   "cell_type": "code",
   "execution_count": 3,
   "metadata": {},
   "outputs": [
    {
     "name": "stdout",
     "output_type": "stream",
     "text": [
      "Help on method raw_input in module ipykernel.kernelbase:\n",
      "\n",
      "raw_input(prompt='') method of ipykernel.ipkernel.IPythonKernel instance\n",
      "    Forward raw_input to frontends\n",
      "\n",
      "    Raises\n",
      "    ------\n",
      "    StdinNotImplementedError if active frontend doesn't support stdin.\n",
      "\n"
     ]
    }
   ],
   "source": [
    "help(input)"
   ]
  },
  {
   "cell_type": "markdown",
   "metadata": {},
   "source": [
    "Quando você executa `print(input.__doc__)`, o Python imprime a *docstring* (documentação) associada à função `input()`. A *docstring* é uma string que descreve o propósito da função e como ela deve ser usada. Para `input()`, a saída seria algo como:\n",
    "\n",
    "```python\n",
    "input(prompt=None, /) -> str\n",
    "\n",
    "Read a string from standard input. The trailing newline is stripped.\n",
    "\n",
    "The prompt string, if given, is printed to standard output without a trailing newline before reading input.\n",
    "If the user hits EOF (*nix: Ctrl-D, Windows: Ctrl-Z+Return), raise EOFError.\n",
    "```\n",
    "\n",
    "Essa documentação básica indica que a função lê uma string do usuário, remove a nova linha no final, e, se um *prompt* for fornecido, ele é exibido antes de ler a entrada. Ela também menciona que um erro `EOFError` é levantado se o usuário tenta encerrar a entrada de forma inesperada."
   ]
  },
  {
   "cell_type": "code",
   "execution_count": 2,
   "metadata": {},
   "outputs": [
    {
     "name": "stdout",
     "output_type": "stream",
     "text": [
      "Forward raw_input to frontends\n",
      "\n",
      "        Raises\n",
      "        ------\n",
      "        StdinNotImplementedError if active frontend doesn't support stdin.\n",
      "        \n"
     ]
    }
   ],
   "source": [
    "print(input.__doc__)"
   ]
  },
  {
   "cell_type": "code",
   "execution_count": 10,
   "metadata": {},
   "outputs": [
    {
     "name": "stdout",
     "output_type": "stream",
     "text": [
      "2 ..4 ..6 ..8 ..10 ..Fim!\n",
      "Help on function contador in module __main__:\n",
      "\n",
      "contador(i, f, p)\n",
      "    -> Faz um contagem e mostra na tela\n",
      "    :param i: início da contagem\n",
      "    :param f: fim da contagem\n",
      "    :param p: passo da contagem\n",
      "    :retun: sem retorno\n",
      "    função criada por Gustavo Guanabara - Curso em vídeo\n",
      "\n"
     ]
    }
   ],
   "source": [
    "def contador(i,f,p):\n",
    "    '''\n",
    "    -> Faz um contagem e mostra na tela \n",
    "    :param i: início da contagem\n",
    "    :param f: fim da contagem \n",
    "    :param p: passo da contagem \n",
    "    :retun: sem retorno\n",
    "    função criada por Gustavo Guanabara - Curso em vídeo \n",
    "    '''\n",
    "    c = i \n",
    "    while c <= f:\n",
    "        print(f'{c} ', end=\"..\")\n",
    "        c += p\n",
    "    print(\"Fim!\")\n",
    "\n",
    "contador(2,10,2)\n",
    "\n",
    "help(contador)"
   ]
  },
  {
   "cell_type": "markdown",
   "metadata": {},
   "source": [
    "Parâmetros opcionais em Python são aqueles que têm valores padrão atribuídos, o que significa que você não precisa fornecê-los ao chamar a função. Se você não os especificar, a função usará o valor padrão. Eles são definidos atribuindo um valor padrão ao parâmetro na assinatura da função.\n",
    "\n",
    "**Como usar parâmetros opcionais:**\n",
    "\n",
    "```python\n",
    "def saudacao(nome, saudacao=\"Olá\"):\n",
    "    print(f\"{saudacao}, {nome}!\")\n",
    "```\n",
    "\n",
    "- **Comportamento**:\n",
    "  - Se você chamar a função sem fornecer o segundo argumento, ela usará o valor padrão `\"Olá\"`.\n",
    "  - Exemplo:\n",
    "    ```python\n",
    "    saudacao(\"Victoria\")  # Saída: Olá, Victoria!\n",
    "    saudacao(\"Victoria\", \"Bom dia\")  # Saída: Bom dia, Victoria!\n",
    "    ```\n",
    "\n",
    "**Características importantes**:\n",
    "- Parâmetros opcionais devem sempre vir após os obrigatórios na definição da função.\n",
    "- Você pode usar múltiplos parâmetros opcionais na mesma função.\n",
    "- Se você quiser mudar o valor de um parâmetro opcional, basta especificá-lo ao chamar a função.\n",
    "\n",
    "**Exemplo avançado**:\n",
    "\n",
    "```python\n",
    "def calculadora(a, b=0, operacao=\"soma\"):\n",
    "    if operacao == \"soma\":\n",
    "        return a + b\n",
    "    elif operacao == \"subtracao\":\n",
    "        return a - b\n",
    "    else:\n",
    "        return \"Operação desconhecida\"\n",
    "\n",
    "print(calculadora(10))  # Saída: 10 (soma com 0)\n",
    "print(calculadora(10, 5, \"subtracao\"))  # Saída: 5\n",
    "```\n",
    "\n",
    "Aqui, `b` e `operacao` são opcionais. Se não forem especificados, a função assume que `b` é 0 e a operação é `\"soma\"`.\n",
    "\n",
    "Isso ajuda a tornar suas funções mais flexíveis e fáceis de usar, especialmente em casos onde os valores padrão são geralmente aceitos."
   ]
  },
  {
   "cell_type": "code",
   "execution_count": 16,
   "metadata": {},
   "outputs": [
    {
     "name": "stdout",
     "output_type": "stream",
     "text": [
      "soma de vale 11\n",
      "soma de vale 7\n"
     ]
    }
   ],
   "source": [
    "def somar(a=0,b=0,c=0):\n",
    "    '''\n",
    "    -> Faz um contagem e mostra na tela \n",
    "    :param a: primeiro valor\n",
    "    :param b: segundo valor \n",
    "    :param c: terceiro valor \n",
    "    função criada por Gustavo Guanabara - Curso em vídeo \n",
    "    '''\n",
    "    s= a + b + c\n",
    "    print(f'soma de vale {s}')\n",
    "\n",
    "somar(3,3,5) # ele reconhce até 3 padrões\n",
    "somar(b=2,c=5)\n"
   ]
  },
  {
   "cell_type": "markdown",
   "metadata": {},
   "source": [
    "O **escopo de variáveis** em Python define onde uma variável pode ser acessada ou modificada dentro do código.\n",
    "\n",
    "- **Escopo Local**: Variáveis definidas dentro de uma função só podem ser usadas nessa função.\n",
    "  \n",
    "  ```python\n",
    "  def minha_funcao():\n",
    "      x = 10  # x tem escopo local\n",
    "      print(x)\n",
    "\n",
    "  minha_funcao()  # Saída: 10\n",
    "  # print(x)  # Erro, x não é acessível fora da função\n",
    "  ```\n",
    "\n",
    "- **Escopo Global**: Variáveis definidas fora de qualquer função podem ser acessadas em qualquer lugar do código.\n",
    "\n",
    "  ```python\n",
    "  y = 20  # y tem escopo global\n",
    "\n",
    "  def outra_funcao():\n",
    "      print(y)\n",
    "\n",
    "  outra_funcao()  # Saída: 20\n",
    "  ```\n",
    "\n",
    "- **Palavra-chave `global`**: Permite modificar uma variável global dentro de uma função.\n",
    "\n",
    "  ```python\n",
    "  z = 30\n",
    "\n",
    "  def alterar_global():\n",
    "      global z\n",
    "      z = 40  # Agora z é modificado globalmente\n",
    "\n",
    "  alterar_global()\n",
    "  print(z)  # Saída: 40\n",
    "  ```\n",
    "\n",
    "Resumindo: **Local** é dentro da função e só acessível ali, **Global** é fora e acessível em todo o código."
   ]
  },
  {
   "cell_type": "code",
   "execution_count": 18,
   "metadata": {},
   "outputs": [
    {
     "name": "stdout",
     "output_type": "stream",
     "text": [
      "Na programa principal, n vale 2\n",
      "Na função teste, n vale 2\n",
      "Na função teste, x vale 8\n"
     ]
    },
    {
     "ename": "NameError",
     "evalue": "name 'x' is not defined",
     "output_type": "error",
     "traceback": [
      "\u001b[1;31m---------------------------------------------------------------------------\u001b[0m",
      "\u001b[1;31mNameError\u001b[0m                                 Traceback (most recent call last)",
      "Cell \u001b[1;32mIn[18], line 9\u001b[0m\n\u001b[0;32m      7\u001b[0m \u001b[38;5;28mprint\u001b[39m(\u001b[38;5;124mf\u001b[39m\u001b[38;5;124m'\u001b[39m\u001b[38;5;124mNa programa principal, n vale \u001b[39m\u001b[38;5;132;01m{\u001b[39;00mn\u001b[38;5;132;01m}\u001b[39;00m\u001b[38;5;124m'\u001b[39m)\n\u001b[0;32m      8\u001b[0m teste()\n\u001b[1;32m----> 9\u001b[0m \u001b[38;5;28mprint\u001b[39m(\u001b[38;5;124mf\u001b[39m\u001b[38;5;124m'\u001b[39m\u001b[38;5;124mNa programa principal, x vale \u001b[39m\u001b[38;5;132;01m{\u001b[39;00m\u001b[43mx\u001b[49m\u001b[38;5;132;01m}\u001b[39;00m\u001b[38;5;124m'\u001b[39m)\n",
      "\u001b[1;31mNameError\u001b[0m: name 'x' is not defined"
     ]
    }
   ],
   "source": [
    "def teste():\n",
    "    x = 8\n",
    "    print(f'Na função teste, n vale {n}')\n",
    "    print(f'Na função teste, x vale {x}')\n",
    "#programa principal \n",
    "n=2\n",
    "print(f'Na programa principal, n vale {n}')\n",
    "teste()\n",
    "print(f'Na programa principal, x vale {x}')"
   ]
  },
  {
   "cell_type": "code",
   "execution_count": 19,
   "metadata": {},
   "outputs": [
    {
     "name": "stdout",
     "output_type": "stream",
     "text": [
      "N1 dentro vale 4\n",
      "N1 fora vale 2\n"
     ]
    }
   ],
   "source": [
    "def função():\n",
    "    n1 = 4\n",
    "    print(f'N1 dentro vale {n1}')\n",
    "\n",
    "n1 = 2\n",
    "função()\n",
    "print(f'N1 fora vale {n1}')"
   ]
  },
  {
   "cell_type": "markdown",
   "metadata": {},
   "source": [
    "Em Python, uma função pode **retornar valores** usando a palavra-chave `return`. Isso permite que a função envie um resultado de volta para onde foi chamada.\n",
    "\n",
    "**Como funciona:**\n",
    "\n",
    "- Quando a função atinge `return`, ela para de executar e retorna o valor especificado.\n",
    "- Você pode retornar qualquer tipo de dado: números, strings, listas, ou até outros objetos.\n",
    "\n",
    "**Exemplo básico:**\n",
    "\n",
    "```python\n",
    "def soma(a, b):\n",
    "    return a + b\n",
    "\n",
    "resultado = soma(3, 4)\n",
    "print(resultado)  # Saída: 7\n",
    "```\n",
    "\n",
    "- Aqui, `soma(3, 4)` retorna o valor `7`, que é armazenado na variável `resultado`.\n",
    "\n",
    "**Retornando múltiplos valores:**\n",
    "\n",
    "- Você pode retornar mais de um valor usando uma tupla.\n",
    "\n",
    "```python\n",
    "def operacoes(a, b):\n",
    "    return a + b, a - b\n",
    "\n",
    "soma, subtracao = operacoes(10, 5)\n",
    "print(soma)       # Saída: 15\n",
    "print(subtracao)  # Saída: 5\n",
    "```\n",
    "\n",
    "Resumindo: `return` envia valores de volta ao chamador da função, podendo ser um ou mais valores."
   ]
  },
  {
   "cell_type": "code",
   "execution_count": 28,
   "metadata": {},
   "outputs": [
    {
     "name": "stdout",
     "output_type": "stream",
     "text": [
      "Os resultados foram 11 , 7 e 6.\n"
     ]
    }
   ],
   "source": [
    "def somar(a=0,b=0,c=0):\n",
    "    s= a + b + c\n",
    "    return s\n",
    "\n",
    "r1 = somar(3,3,5) \n",
    "r2 = somar(b=2,c=5)\n",
    "r3 = somar(6)\n",
    "\n",
    "print(f'Os resultados foram {r1} , {r2} e {r3}.')"
   ]
  },
  {
   "cell_type": "code",
   "execution_count": 27,
   "metadata": {},
   "outputs": [
    {
     "name": "stdout",
     "output_type": "stream",
     "text": [
      "P fatorial de 5 é igual a 120.\n"
     ]
    }
   ],
   "source": [
    "def fatorial(num=1):\n",
    "    f = 1 \n",
    "    for c in range(num, 0, -1):\n",
    "        f *= c\n",
    "    return f\n",
    "n = int(input('Digite um número: '))\n",
    "print(f'P fatorial de {n} é igual a {fatorial(n)}.')"
   ]
  },
  {
   "cell_type": "code",
   "execution_count": 32,
   "metadata": {},
   "outputs": [
    {
     "name": "stdout",
     "output_type": "stream",
     "text": [
      "O resultados são 120 , 720 e 1.\n"
     ]
    }
   ],
   "source": [
    "def fatorial(num=1):\n",
    "    f = 1 \n",
    "    for c in range(num, 0, -1):\n",
    "        f *= c\n",
    "    return f\n",
    "\n",
    "f1 = fatorial(5)\n",
    "f2 = fatorial(6)\n",
    "f3 = fatorial()\n",
    "\n",
    "print(f'O resultados são {f1} , {f2} e {f3}.')"
   ]
  },
  {
   "cell_type": "code",
   "execution_count": 34,
   "metadata": {},
   "outputs": [
    {
     "name": "stdout",
     "output_type": "stream",
     "text": [
      "Não é par!\n"
     ]
    }
   ],
   "source": [
    "def par(n=0):\n",
    "    if n % 2 == 0:\n",
    "        return True\n",
    "    else:\n",
    "        return False\n",
    "    \n",
    "num = int(input('Digite um número: '))\n",
    "if par(num):\n",
    "    print('É par!')\n",
    "else:\n",
    "    print('Não é par!')"
   ]
  },
  {
   "cell_type": "code",
   "execution_count": 36,
   "metadata": {},
   "outputs": [
    {
     "name": "stdout",
     "output_type": "stream",
     "text": [
      "Com 33 anos: Voto OBRIGATÓRIO.\n"
     ]
    }
   ],
   "source": [
    "\"\"\"Ex.101 Crie um programa que tenha uma função chamada voto() que vai receber como parâmetro o ano de nascimento de uma pessoa, \n",
    "retornando um valor literal indicando se uma pessoa tem voto NEGADO, OPCIONAL e OBRIGATÓRIO nas eleições.\"\"\"\n",
    "\n",
    "import datetime\n",
    "\n",
    "def voto(ano_nascimento):\n",
    "    ano_atual = datetime.date.today().year\n",
    "    idade = ano_atual - ano_nascimento\n",
    "    \n",
    "    if idade < 16:\n",
    "        return \"NEGADO\"\n",
    "    elif 16 <= idade < 18 or idade > 65:\n",
    "        return \"OPCIONAL\"\n",
    "    else:\n",
    "        return \"OBRIGATÓRIO\"\n",
    "\n",
    "# Exemplo de uso:\n",
    "ano = int(input(\"Em que ano você nasceu? \"))\n",
    "print(f\"Com {datetime.date.today().year - ano} anos: Voto {voto(ano)}.\")"
   ]
  },
  {
   "cell_type": "code",
   "execution_count": 37,
   "metadata": {},
   "outputs": [
    {
     "name": "stdout",
     "output_type": "stream",
     "text": [
      "5 x 4 x 3 x 2 x 1 = 120\n",
      "24\n"
     ]
    }
   ],
   "source": [
    "\"\"\"Ex.102 Crie um programa que tenha uma função fatorial() que receba dois parâmetros: \n",
    "o primeiro que indique o número a calcular e outro chamado show, que será um valor lógico (opcional) \n",
    "indicando se será mostrado ou não na tela o processo de cálculo do fatorial.\"\"\"\n",
    "\n",
    "def fatorial(num, show=False):\n",
    "    \"\"\"\n",
    "    Calcula o fatorial de um número.\n",
    "\n",
    "    Parâmetros:\n",
    "    num (int): O número a ser calculado o fatorial.\n",
    "    show (bool, opcional): Se True, mostra o processo de cálculo. Padrão é False.\n",
    "\n",
    "    Retorna:\n",
    "    int: O fatorial de 'num'.\n",
    "    \"\"\"\n",
    "    f = 1\n",
    "    for c in range(num, 0, -1):\n",
    "        if show:\n",
    "            print(c, end=' x ' if c > 1 else ' = ')\n",
    "        f *= c\n",
    "    return f\n",
    "\n",
    "# Exemplos de uso:\n",
    "print(fatorial(5, show=True))\n",
    "print(fatorial(4))\n"
   ]
  },
  {
   "cell_type": "code",
   "execution_count": 40,
   "metadata": {},
   "outputs": [
    {
     "name": "stdout",
     "output_type": "stream",
     "text": [
      "O jogador Matheus fez 4 gol(s) no campeonato.\n"
     ]
    }
   ],
   "source": [
    "\"\"\"Ex.103: Faça um programa que tenha uma função chamada ficha(), que receba dois parâmetros opcionais: \n",
    "o nome de um jogador e quantos gols ele marcou.\n",
    "O programa deverá ser capaz de mostrar a ficha do jogador, mesmo que algum dado não tenha sido informado corretamente.\"\"\"\n",
    "\n",
    "def ficha(nome='<desconhecido>', gols=0):\n",
    "    \"\"\"\n",
    "    Exibe a ficha de um jogador de futebol.\n",
    "\n",
    "    Parâmetros:\n",
    "    nome (str, opcional): O nome do jogador. Padrão é '<desconhecido>'.\n",
    "    gols (int, opcional): O número de gols marcados pelo jogador. Padrão é 0.\n",
    "\n",
    "    Retorna:\n",
    "    str: Uma string formatada com a ficha do jogador.\n",
    "    \"\"\"\n",
    "    return f'O jogador {nome} fez {gols} gol(s) no campeonato.'\n",
    "\n",
    "# Exemplo de uso:\n",
    "nome_jogador = input(\"Nome do jogador: \").strip().title()\n",
    "gols_jogador = input(\"Número de gols: \")\n",
    "\n",
    "# Tratamento dos parâmetros:\n",
    "if gols_jogador.isdigit():\n",
    "    gols_jogador = int(gols_jogador)\n",
    "else:\n",
    "    gols_jogador = 0\n",
    "\n",
    "if nome_jogador == \"\":\n",
    "    print(ficha(gols=gols_jogador))\n",
    "else:\n",
    "    print(ficha(nome_jogador, gols_jogador))"
   ]
  },
  {
   "cell_type": "code",
   "execution_count": 41,
   "metadata": {},
   "outputs": [
    {
     "name": "stdout",
     "output_type": "stream",
     "text": [
      "\u001b[31mERRO! Digite um número inteiro válido.\u001b[m\n",
      "Você acabou de digitar o número 31.\n"
     ]
    }
   ],
   "source": [
    "'''Ex.104 Crie um programa que tenha a função leiaInt(), que vai funcionar de forma semelhante \n",
    "‘a função input() do Python, só que fazendo a validação para aceitar apenas um valor numérico.\n",
    "Ex: n = leiaInt(‘Digite um n: ‘)'''\n",
    "\n",
    "def leiaInt(msg):\n",
    "    \"\"\"\n",
    "    Função que solicita ao usuário que insira um número inteiro, validando a entrada.\n",
    "\n",
    "    Parâmetros:\n",
    "    msg (str): A mensagem que será exibida ao solicitar a entrada do usuário.\n",
    "\n",
    "    Retorna:\n",
    "    int: O número inteiro inserido pelo usuário.\n",
    "    \"\"\"\n",
    "    while True:\n",
    "        n = input(msg)\n",
    "        if n.isdigit():\n",
    "            return int(n)\n",
    "        else:\n",
    "            print(\"\\033[31mERRO! Digite um número inteiro válido.\\033[m\")\n",
    "\n",
    "# Programa principal\n",
    "n = leiaInt(\"Digite um número: \")\n",
    "print(f\"Você acabou de digitar o número {n}.\")"
   ]
  },
  {
   "cell_type": "code",
   "execution_count": 42,
   "metadata": {},
   "outputs": [
    {
     "name": "stdout",
     "output_type": "stream",
     "text": [
      "{'total': 3, 'maior': 9.0, 'menor': 5.5, 'media': 7.333333333333333, 'situacao': 'BOA'}\n"
     ]
    }
   ],
   "source": [
    "'''Ex.105 Faça um programa que tenha uma função notas() que pode receber várias notas de alunos e vai retornar\n",
    "um dicionário com as seguintes informações:\n",
    "– Quantidade de notas             \n",
    "– A maior nota          \n",
    "– A menor nota  \n",
    "– A média da turma                                                                                                                                                     \n",
    "– A situação (opcional)'''\n",
    "\n",
    "def notas(*n, situacao=False):\n",
    "    \"\"\"\n",
    "    Função para analisar notas de vários alunos e retornar um dicionário com várias informações.\n",
    "\n",
    "    Parâmetros:\n",
    "    n (float): Várias notas dos alunos (aceita múltiplas).\n",
    "    situacao (bool, opcional): Indica se deve ou não adicionar a situação da turma (True/False).\n",
    "\n",
    "    Retorna:\n",
    "    dict: Um dicionário com a quantidade de notas, maior nota, menor nota, média da turma e situação (se solicitado).\n",
    "    \"\"\"\n",
    "    relatorio = {}\n",
    "    relatorio['total'] = len(n)\n",
    "    relatorio['maior'] = max(n)\n",
    "    relatorio['menor'] = min(n)\n",
    "    relatorio['media'] = sum(n) / len(n)\n",
    "\n",
    "    if situacao:\n",
    "        if relatorio['media'] >= 7:\n",
    "            relatorio['situacao'] = 'BOA'\n",
    "        elif 5 <= relatorio['media'] < 7:\n",
    "            relatorio['situacao'] = 'RAZOÁVEL'\n",
    "        else:\n",
    "            relatorio['situacao'] = 'RUIM'\n",
    "\n",
    "    return relatorio\n",
    "\n",
    "# Exemplo de uso:\n",
    "resultado = notas(5.5, 9.0, 7.5, situacao=True)\n",
    "print(resultado)\n"
   ]
  },
  {
   "cell_type": "code",
   "execution_count": 1,
   "metadata": {},
   "outputs": [
    {
     "name": "stdout",
     "output_type": "stream",
     "text": [
      "Acessando o manual do comando 'print()'...\n",
      "No Python documentation found for 'print()'.\n",
      "Use help() to get the interactive help utility.\n",
      "Use help(str) for help on the str class.\n",
      "\n",
      "Encerrando o programa. Até logo!\n"
     ]
    }
   ],
   "source": [
    "\"\"\"Ex.106 Faça um mini-sistema que utiliza a Ajuda Interativa do Python. \n",
    "O usuário vai digitar o comando e o manual vai aparecer. \n",
    "Quando o usuário digita a palavra 'FIM', o programa será encerrado. Importante: use núcleos.\"\"\"\n",
    "\n",
    "\n",
    "def ajuda_interativa():\n",
    "    while True:\n",
    "        comando = input(\"Digite um comando ou 'FIM' para sair: \").strip().lower()\n",
    "        if comando == 'fim':\n",
    "            print(\"Encerrando o programa. Até logo!\")\n",
    "            break\n",
    "        else:\n",
    "            print(f\"Acessando o manual do comando '{comando}'...\")\n",
    "            help(comando)\n",
    "\n",
    "# Executa o mini-sistema de ajuda interativa\n",
    "ajuda_interativa()"
   ]
  }
 ],
 "metadata": {
  "kernelspec": {
   "display_name": "Python 3",
   "language": "python",
   "name": "python3"
  },
  "language_info": {
   "codemirror_mode": {
    "name": "ipython",
    "version": 3
   },
   "file_extension": ".py",
   "mimetype": "text/x-python",
   "name": "python",
   "nbconvert_exporter": "python",
   "pygments_lexer": "ipython3",
   "version": "3.12.5"
  }
 },
 "nbformat": 4,
 "nbformat_minor": 2
}
