{
 "cells": [
  {
   "cell_type": "markdown",
   "metadata": {},
   "source": [
    "Funções em Python são blocos de código que realizam uma tarefa específica e podem ser executados em diferentes momentos do programa. Elas permitem que você escreva um conjunto de instruções uma vez e o reutilize em várias partes do código, evitando repetição e melhorando a organização. O comando `def` é usado para definir uma função, que pode receber parâmetros simples ou múltiplos, conforme necessário.\n",
    "\n",
    "### Características principais de uma função:\n",
    "- **Definição:** Você define uma função usando a palavra-chave `def`, seguida pelo nome da função e parênteses. Dentro dos parênteses, você pode incluir parâmetros (valores que a função pode receber).\n",
    "  \n",
    "  ```python\n",
    "  def saudacao(nome):\n",
    "      print(f\"Olá, {nome}!\")\n",
    "  ```\n",
    "\n",
    "- **Chamada:** Depois de definir a função, você pode chamá-la em qualquer parte do seu código usando o nome da função seguido de parênteses, passando argumentos se necessário.\n",
    "\n",
    "  ```python\n",
    "  saudacao(\"Victoria\")\n",
    "  ```\n",
    "\n",
    "- **Retorno:** As funções podem opcionalmente retornar um valor usando a palavra-chave `return`.\n",
    "\n",
    "  ```python\n",
    "  def soma(a, b):\n",
    "      return a + b\n",
    "\n",
    "  resultado = soma(3, 5)\n",
    "  print(resultado)  # Saída: 8\n",
    "  ```\n",
    "\n",
    "### Vantagens de usar funções:\n",
    "- **Reutilização:** Evita a repetição de código.\n",
    "- **Organização:** Torna o código mais limpo e fácil de entender.\n",
    "- **Modularidade:** Facilita a manutenção, pois cada função tem uma responsabilidade específica.\n",
    "\n",
    "Resumindo, funções ajudam a estruturar o código, tornando-o mais eficiente e legível."
   ]
  },
  {
   "cell_type": "markdown",
   "metadata": {},
   "source": [
    "**função = rotina**\n"
   ]
  },
  {
   "cell_type": "code",
   "execution_count": 4,
   "metadata": {},
   "outputs": [
    {
     "name": "stdout",
     "output_type": "stream",
     "text": [
      "--------------------\n",
      " CURSO EM VÍDEO \n",
      "--------------------\n",
      " APRENDA PYTHON \n",
      "--------------------\n",
      " GUSTAVO GUANABARA \n",
      "--------------------\n"
     ]
    }
   ],
   "source": [
    "def lin():\n",
    "    print('-' * 20)\n",
    "\n",
    "#prgrama principal \n",
    "lin()\n",
    "print(' CURSO EM VÍDEO ')\n",
    "lin()\n",
    "print(' APRENDA PYTHON ')\n",
    "lin()\n",
    "print(' GUSTAVO GUANABARA ')\n",
    "lin()"
   ]
  },
  {
   "cell_type": "code",
   "execution_count": 5,
   "metadata": {},
   "outputs": [
    {
     "name": "stdout",
     "output_type": "stream",
     "text": [
      "--------------------\n",
      "SISTEMA DE ALUNOS\n",
      "--------------------\n"
     ]
    }
   ],
   "source": [
    "def mensagem (msg):\n",
    "     print('-' * 20)\n",
    "     print(msg)\n",
    "     print('-' * 20)\n",
    "\n",
    "mensagem('SISTEMA DE ALUNOS')"
   ]
  },
  {
   "cell_type": "code",
   "execution_count": 6,
   "metadata": {},
   "outputs": [
    {
     "name": "stdout",
     "output_type": "stream",
     "text": [
      "--------------------\n",
      " CURSO EM VÍDEO \n",
      "--------------------\n",
      "--------------------\n",
      " APRENDA PYTHON \n",
      "--------------------\n",
      "--------------------\n",
      " GUSTAVO GUANABARA \n",
      "--------------------\n"
     ]
    }
   ],
   "source": [
    "def título(txt):\n",
    "    print('-' * 20)\n",
    "    print(txt)\n",
    "    print('-' * 20)\n",
    "\n",
    "#prgrama principal \n",
    "\n",
    "título(' CURSO EM VÍDEO ')\n",
    "título(' APRENDA PYTHON ')\n",
    "título(' GUSTAVO GUANABARA ')\n"
   ]
  },
  {
   "cell_type": "code",
   "execution_count": 15,
   "metadata": {},
   "outputs": [
    {
     "name": "stdout",
     "output_type": "stream",
     "text": [
      "A = 4 + B = 5\n",
      " Asoma de A + B = 9\n",
      "A = 9 + B = 8\n",
      " Asoma de A + B = 17\n",
      "A = 2 + B = 1\n",
      " Asoma de A + B = 3\n"
     ]
    }
   ],
   "source": [
    "def soma(a, b):\n",
    "    print(f'A = {a} + B = {b}')\n",
    "    s = a + b\n",
    "    print(f' Asoma de A + B = {s}')\n",
    "\n",
    "#programa principal \n",
    "soma(4,5)\n",
    "soma(b=8,a=9)\n",
    "soma(2,1)"
   ]
  },
  {
   "cell_type": "code",
   "execution_count": 18,
   "metadata": {},
   "outputs": [
    {
     "name": "stdout",
     "output_type": "stream",
     "text": [
      "217 FIM!\n",
      "80 FIM!\n",
      "44762 FIM!\n"
     ]
    }
   ],
   "source": [
    "# desempacotador\n",
    "def contador(*núm):\n",
    "    for valor in núm:\n",
    "        print (f'{valor}', end=\"\")\n",
    "    print(' FIM!')\n",
    "\n",
    "contador(2,1,7)\n",
    "contador(8,0)\n",
    "contador(4,4,7,6,2)"
   ]
  },
  {
   "cell_type": "code",
   "execution_count": 19,
   "metadata": {},
   "outputs": [
    {
     "name": "stdout",
     "output_type": "stream",
     "text": [
      "Recebi os valores (2, 1, 7) e são ao todo 3 números. FIM!\n",
      "Recebi os valores (8, 0) e são ao todo 2 números. FIM!\n",
      "Recebi os valores (4, 4, 7, 6, 2) e são ao todo 5 números. FIM!\n"
     ]
    }
   ],
   "source": [
    "def contador(*núm):\n",
    "    tam = len(núm)\n",
    "    print (f'Recebi os valores {núm} e são ao todo {tam} números.', end=\"\")\n",
    "    print(' FIM!')\n",
    "\n",
    "contador(2,1,7)\n",
    "contador(8,0)\n",
    "contador(4,4,7,6,2)"
   ]
  },
  {
   "cell_type": "code",
   "execution_count": 22,
   "metadata": {},
   "outputs": [
    {
     "name": "stdout",
     "output_type": "stream",
     "text": [
      "[12, 6, 18, 2, 0, 4]\n"
     ]
    }
   ],
   "source": [
    "valores = [6,3,9,1,0,2]\n",
    "\n",
    "def dobra (list):\n",
    "    pos = 0\n",
    "    while pos < len(list):\n",
    "        list[pos] *= 2\n",
    "        pos += 1\n",
    "\n",
    "dobra(valores)\n",
    "print(valores)"
   ]
  }
 ],
 "metadata": {
  "kernelspec": {
   "display_name": "Python 3",
   "language": "python",
   "name": "python3"
  },
  "language_info": {
   "codemirror_mode": {
    "name": "ipython",
    "version": 3
   },
   "file_extension": ".py",
   "mimetype": "text/x-python",
   "name": "python",
   "nbconvert_exporter": "python",
   "pygments_lexer": "ipython3",
   "version": "3.12.5"
  }
 },
 "nbformat": 4,
 "nbformat_minor": 2
}
