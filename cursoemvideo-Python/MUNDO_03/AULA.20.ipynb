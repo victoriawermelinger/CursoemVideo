{
 "cells": [
  {
   "cell_type": "markdown",
   "metadata": {},
   "source": [
    "Funções em Python são blocos de código que realizam uma tarefa específica e podem ser executados em diferentes momentos do programa. Elas permitem que você escreva um conjunto de instruções uma vez e o reutilize em várias partes do código, evitando repetição e melhorando a organização. O comando `def` é usado para definir uma função, que pode receber parâmetros simples ou múltiplos, conforme necessário.\n",
    "\n",
    "### Características principais de uma função:\n",
    "- **Definição:** Você define uma função usando a palavra-chave `def`, seguida pelo nome da função e parênteses. Dentro dos parênteses, você pode incluir parâmetros (valores que a função pode receber).\n",
    "  \n",
    "  ```python\n",
    "  def saudacao(nome):\n",
    "      print(f\"Olá, {nome}!\")\n",
    "  ```\n",
    "\n",
    "- **Chamada:** Depois de definir a função, você pode chamá-la em qualquer parte do seu código usando o nome da função seguido de parênteses, passando argumentos se necessário.\n",
    "\n",
    "  ```python\n",
    "  saudacao(\"Victoria\")\n",
    "  ```\n",
    "\n",
    "- **Retorno:** As funções podem opcionalmente retornar um valor usando a palavra-chave `return`.\n",
    "\n",
    "  ```python\n",
    "  def soma(a, b):\n",
    "      return a + b\n",
    "\n",
    "  resultado = soma(3, 5)\n",
    "  print(resultado)  # Saída: 8\n",
    "  ```\n",
    "\n",
    "### Vantagens de usar funções:\n",
    "- **Reutilização:** Evita a repetição de código.\n",
    "- **Organização:** Torna o código mais limpo e fácil de entender.\n",
    "- **Modularidade:** Facilita a manutenção, pois cada função tem uma responsabilidade específica.\n",
    "\n",
    "Resumindo, funções ajudam a estruturar o código, tornando-o mais eficiente e legível."
   ]
  },
  {
   "cell_type": "markdown",
   "metadata": {},
   "source": [
    "**função = rotina**\n"
   ]
  },
  {
   "cell_type": "code",
   "execution_count": 4,
   "metadata": {},
   "outputs": [
    {
     "name": "stdout",
     "output_type": "stream",
     "text": [
      "--------------------\n",
      " CURSO EM VÍDEO \n",
      "--------------------\n",
      " APRENDA PYTHON \n",
      "--------------------\n",
      " GUSTAVO GUANABARA \n",
      "--------------------\n"
     ]
    }
   ],
   "source": [
    "def lin():\n",
    "    print('-' * 20)\n",
    "\n",
    "#prgrama principal \n",
    "lin()\n",
    "print(' CURSO EM VÍDEO ')\n",
    "lin()\n",
    "print(' APRENDA PYTHON ')\n",
    "lin()\n",
    "print(' GUSTAVO GUANABARA ')\n",
    "lin()"
   ]
  },
  {
   "cell_type": "code",
   "execution_count": 5,
   "metadata": {},
   "outputs": [
    {
     "name": "stdout",
     "output_type": "stream",
     "text": [
      "--------------------\n",
      "SISTEMA DE ALUNOS\n",
      "--------------------\n"
     ]
    }
   ],
   "source": [
    "def mensagem (msg):\n",
    "     print('-' * 20)\n",
    "     print(msg)\n",
    "     print('-' * 20)\n",
    "\n",
    "mensagem('SISTEMA DE ALUNOS')"
   ]
  },
  {
   "cell_type": "code",
   "execution_count": 6,
   "metadata": {},
   "outputs": [
    {
     "name": "stdout",
     "output_type": "stream",
     "text": [
      "--------------------\n",
      " CURSO EM VÍDEO \n",
      "--------------------\n",
      "--------------------\n",
      " APRENDA PYTHON \n",
      "--------------------\n",
      "--------------------\n",
      " GUSTAVO GUANABARA \n",
      "--------------------\n"
     ]
    }
   ],
   "source": [
    "def título(txt):\n",
    "    print('-' * 20)\n",
    "    print(txt)\n",
    "    print('-' * 20)\n",
    "\n",
    "#prgrama principal \n",
    "\n",
    "título(' CURSO EM VÍDEO ')\n",
    "título(' APRENDA PYTHON ')\n",
    "título(' GUSTAVO GUANABARA ')\n"
   ]
  },
  {
   "cell_type": "code",
   "execution_count": 15,
   "metadata": {},
   "outputs": [
    {
     "name": "stdout",
     "output_type": "stream",
     "text": [
      "A = 4 + B = 5\n",
      " Asoma de A + B = 9\n",
      "A = 9 + B = 8\n",
      " Asoma de A + B = 17\n",
      "A = 2 + B = 1\n",
      " Asoma de A + B = 3\n"
     ]
    }
   ],
   "source": [
    "def soma(a, b):\n",
    "    print(f'A = {a} + B = {b}')\n",
    "    s = a + b\n",
    "    print(f' Asoma de A + B = {s}')\n",
    "\n",
    "#programa principal \n",
    "soma(4,5)\n",
    "soma(b=8,a=9)\n",
    "soma(2,1)"
   ]
  },
  {
   "cell_type": "code",
   "execution_count": 18,
   "metadata": {},
   "outputs": [
    {
     "name": "stdout",
     "output_type": "stream",
     "text": [
      "217 FIM!\n",
      "80 FIM!\n",
      "44762 FIM!\n"
     ]
    }
   ],
   "source": [
    "# desempacotador\n",
    "def contador(*núm):\n",
    "    for valor in núm:\n",
    "        print (f'{valor}', end=\"\")\n",
    "    print(' FIM!')\n",
    "\n",
    "contador(2,1,7)\n",
    "contador(8,0)\n",
    "contador(4,4,7,6,2)"
   ]
  },
  {
   "cell_type": "code",
   "execution_count": 19,
   "metadata": {},
   "outputs": [
    {
     "name": "stdout",
     "output_type": "stream",
     "text": [
      "Recebi os valores (2, 1, 7) e são ao todo 3 números. FIM!\n",
      "Recebi os valores (8, 0) e são ao todo 2 números. FIM!\n",
      "Recebi os valores (4, 4, 7, 6, 2) e são ao todo 5 números. FIM!\n"
     ]
    }
   ],
   "source": [
    "def contador(*núm):\n",
    "    tam = len(núm)\n",
    "    print (f'Recebi os valores {núm} e são ao todo {tam} números.', end=\"\")\n",
    "    print(' FIM!')\n",
    "\n",
    "contador(2,1,7)\n",
    "contador(8,0)\n",
    "contador(4,4,7,6,2)"
   ]
  },
  {
   "cell_type": "code",
   "execution_count": 22,
   "metadata": {},
   "outputs": [
    {
     "name": "stdout",
     "output_type": "stream",
     "text": [
      "[12, 6, 18, 2, 0, 4]\n"
     ]
    }
   ],
   "source": [
    "valores = [6,3,9,1,0,2]\n",
    "\n",
    "def dobra (list):\n",
    "    pos = 0\n",
    "    while pos < len(list):\n",
    "        list[pos] *= 2\n",
    "        pos += 1\n",
    "\n",
    "dobra(valores)\n",
    "print(valores)"
   ]
  },
  {
   "cell_type": "code",
   "execution_count": 23,
   "metadata": {},
   "outputs": [
    {
     "name": "stdout",
     "output_type": "stream",
     "text": [
      "A área do terreno de 45.0m x 98.0m é de 4410.0m².\n"
     ]
    }
   ],
   "source": [
    "##Ex.096 Faça um programa que tenha uma função chamada área(), que receba as dimensões de um terreno retangular (largura e comprimento) \n",
    "# e mostre a área do terreno.\n",
    "\n",
    "def area(larg, compr):\n",
    "    terreno = larg * compr\n",
    "    print(f\"A área do terreno de {larg}m x {compr}m é de {terreno}m².\")\n",
    "\n",
    "largura = float(input(\"Digite a largura do terreno (em metros): \"))\n",
    "comprimento = float(input(\"Digite o comprimento do terreno (em metros): \"))\n",
    "\n",
    "area(largura, comprimento)"
   ]
  },
  {
   "cell_type": "code",
   "execution_count": 29,
   "metadata": {},
   "outputs": [
    {
     "name": "stdout",
     "output_type": "stream",
     "text": [
      "~~~~~~~~~~~~~~~\n",
      "  Olá, Mundo!\n",
      "~~~~~~~~~~~~~~~\n"
     ]
    }
   ],
   "source": [
    "\"\"\"Ex.097 Faça um programa que tenha uma função chamada escreva(), que receba um texto qualquer como parâmetro e mostre uma mensagem com tamanho adaptável.\n",
    "Ex:\n",
    " escreva(‘Olá, Mundo!’) \n",
    " Saída: \n",
    "~~~~~~~~~~~\n",
    "Olá, Mundo!\n",
    "~~~~~~~~~~~\"\"\"\n",
    "\n",
    "def saudação(txt):\n",
    "    tam = len(txt) + 4\n",
    "    print('~' * tam)\n",
    "    print(f'  {txt}')\n",
    "    print('~' * tam)\n",
    "\n",
    "saudação('Olá, Mundo!')"
   ]
  },
  {
   "cell_type": "code",
   "execution_count": 35,
   "metadata": {},
   "outputs": [
    {
     "name": "stdout",
     "output_type": "stream",
     "text": [
      "Contagem de 1 até 10, de 1 em 1:\n",
      "1 2 3 4 5 6 7 8 9 10 FIM!\n",
      "\n",
      "Contagem de 10 até 0, de 2 em 2:\n",
      "10 8 6 4 2 0 FIM!\n",
      "\n",
      "Agora é sua vez de personalizar a contagem!\n",
      "0 5 10 15 20 25 30 35 40 45 FIM!\n"
     ]
    }
   ],
   "source": [
    "\"\"\"Ex.098 Faça um programa que tenha uma função chamada contador(), que receba três parâmetros: \n",
    "início, fim e passo. Seu programa tem que realizar três contagens através da função criada:  \n",
    "a) de 1 até 10, de 1 em 1             \n",
    "b) de 10 até 0, de 2 em 2                                                                                                                                            \n",
    "c) uma contagem personalizada\"\"\"\n",
    "\n",
    "import time\n",
    "\n",
    "def contador(inicio, fim, passo):\n",
    "    if passo == 0:\n",
    "        passo = 1\n",
    "    elif passo < 0:\n",
    "        passo = -passo\n",
    "\n",
    "    if inicio < fim:\n",
    "        for i in range(inicio, fim + 1, passo):\n",
    "            print(i, end=' ', flush=True)\n",
    "            time.sleep(0.5)\n",
    "    else:\n",
    "        for i in range(inicio, fim - 1, -passo):\n",
    "            print(i, end=' ', flush=True)\n",
    "            time.sleep(0.5)\n",
    "    print(\"FIM!\")\n",
    "\n",
    "# a) Contagem de 1 até 10, de 1 em 1\n",
    "print(\"Contagem de 1 até 10, de 1 em 1:\")\n",
    "contador(1, 10, 1)\n",
    "\n",
    "# b) Contagem de 10 até 0, de 2 em 2\n",
    "print(\"\\nContagem de 10 até 0, de 2 em 2:\")\n",
    "contador(10, 0, 2)\n",
    "\n",
    "# c) Contagem personalizada\n",
    "print(\"\\nAgora é sua vez de personalizar a contagem!\")\n",
    "inicio = int(input(\"Início: \"))\n",
    "fim = int(input(\"Fim: \"))\n",
    "passo = int(input(\"Passo: \"))\n",
    "contador(inicio, fim, passo)\n"
   ]
  },
  {
   "cell_type": "code",
   "execution_count": 36,
   "metadata": {},
   "outputs": [
    {
     "name": "stdout",
     "output_type": "stream",
     "text": [
      "-=-=-=-=-=-=-=-=-=-=-=-=-=-=-=-=-=-=-=-=\n",
      "Analisando os valores (2, 9, 4, 5, 7, 1) ...\n",
      "O maior valor informado foi 9.\n",
      "-=-=-=-=-=-=-=-=-=-=-=-=-=-=-=-=-=-=-=-=\n",
      "-=-=-=-=-=-=-=-=-=-=-=-=-=-=-=-=-=-=-=-=\n",
      "Analisando os valores (4, 7, 0) ...\n",
      "O maior valor informado foi 7.\n",
      "-=-=-=-=-=-=-=-=-=-=-=-=-=-=-=-=-=-=-=-=\n"
     ]
    }
   ],
   "source": [
    "# Ex.099 Faça um programa que tenha uma função chamada maior(), que receba vários parâmetros com valores inteiros. \n",
    "# Seu programa tem que analisar todos os valores e dizer qual deles é o maior.\n",
    "\n",
    "def maior(*numeros):\n",
    "    # Verifica se a lista de números não está vazia\n",
    "    if len(numeros) == 0:\n",
    "        print(\"Nenhum número foi informado.\")\n",
    "    else:\n",
    "        # Inicializa o maior valor como o primeiro da lista\n",
    "        maior_valor = numeros[0]\n",
    "        \n",
    "        # Percorre todos os números para encontrar o maior\n",
    "        for num in numeros:\n",
    "            if num > maior_valor:\n",
    "                maior_valor = num\n",
    "        \n",
    "        # Exibe o resultado\n",
    "        print('-=' * 20)\n",
    "        print(f\"Analisando os valores {numeros} ...\")\n",
    "        print(f\"O maior valor informado foi {maior_valor}.\")\n",
    "        print('-=' * 20)\n",
    "\n",
    "# Testando a função\n",
    "maior(2, 9, 4, 5, 7, 1)\n",
    "maior(4, 7, 0)\n",
    "\n"
   ]
  },
  {
   "cell_type": "code",
   "execution_count": 37,
   "metadata": {},
   "outputs": [
    {
     "name": "stdout",
     "output_type": "stream",
     "text": [
      "Sorteando 5 números para a lista: 15 41 97 76 41 PRONTO!\n",
      "Somando os valores pares de [15, 41, 97, 76, 41], temos 76.\n"
     ]
    }
   ],
   "source": [
    "\"\"\"Ex.100 Faça um programa que tenha uma lista chamada números e duas funções chamadas sorteia() e somaPar(). \n",
    "A primeira função vai sortear 5 números e vai colocá-los dentro da lista e a \n",
    "segunda função vai mostrar a soma entre todos os valores pares sorteados pela função anterior.\"\"\"\n",
    "\n",
    "from random import randint\n",
    "from time import sleep\n",
    "\n",
    "# Função para sortear 5 números e colocá-los na lista\n",
    "def sorteia(numeros):\n",
    "    print('Sorteando 5 números para a lista: ', end='')\n",
    "    for _ in range(5):\n",
    "        num = randint(1, 100)\n",
    "        numeros.append(num)\n",
    "        print(f'{num} ', end='', flush=True)\n",
    "        sleep(0.5)\n",
    "    print('PRONTO!')\n",
    "\n",
    "# Função para somar os valores pares da lista\n",
    "def somaPar(numeros):\n",
    "    soma = 0\n",
    "    for num in numeros:\n",
    "        if num % 2 == 0:\n",
    "            soma += num\n",
    "    print(f'Somando os valores pares de {numeros}, temos {soma}.')\n",
    "\n",
    "# Programa principal\n",
    "numeros = []\n",
    "sorteia(numeros)\n",
    "somaPar(numeros)\n"
   ]
  }
 ],
 "metadata": {
  "kernelspec": {
   "display_name": "Python 3",
   "language": "python",
   "name": "python3"
  },
  "language_info": {
   "codemirror_mode": {
    "name": "ipython",
    "version": 3
   },
   "file_extension": ".py",
   "mimetype": "text/x-python",
   "name": "python",
   "nbconvert_exporter": "python",
   "pygments_lexer": "ipython3",
   "version": "3.12.5"
  }
 },
 "nbformat": 4,
 "nbformat_minor": 2
}
