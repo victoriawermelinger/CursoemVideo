{
 "cells": [
  {
   "cell_type": "markdown",
   "metadata": {},
   "source": [
    "Em Python, uma tupla é uma coleção ordenada e imutável de elementos. Tuplas são usadas para agrupar dados e podem conter elementos de tipos diferentes. Aqui estão alguns pontos importantes sobre tuplas em Python:\n",
    "\n",
    "### Criação de Tuplas\n",
    "- **Tupla Vazia:** \n",
    "  ```python\n",
    "  tupla_vazia = ()\n",
    "  ```\n",
    "- **Tupla com Elementos:**\n",
    "  ```python\n",
    "  tupla = (1, 2, 3)\n",
    "  tupla_mista = (1, \"hello\", 3.14, True)\n",
    "  ```\n",
    "\n",
    "### Acesso a Elementos\n",
    "Você pode acessar elementos de uma tupla usando índices, que começam em 0.\n",
    "\n",
    "```python\n",
    "tupla = (10, 20, 30, 40)\n",
    "print(tupla[1])  # Saída: 20\n",
    "```\n",
    "\n",
    "### Fatiamento\n",
    "Assim como listas, você pode fatiar tuplas para obter subtuplas.\n",
    "\n",
    "```python\n",
    "tupla = (10, 20, 30, 40, 50)\n",
    "print(tupla[1:4])  # Saída: (20, 30, 40)\n",
    "```\n",
    "\n",
    "### Imutabilidade\n",
    "Tuplas são imutáveis, o que significa que você não pode alterar, adicionar ou remover elementos após a criação.\n",
    "\n",
    "```python\n",
    "tupla = (1, 2, 3)\n",
    "# Isto causará um erro\n",
    "tupla[1] = 4\n",
    "```\n",
    "\n",
    "### Desempacotamento\n",
    "Você pode desempacotar os elementos de uma tupla em variáveis individuais.\n",
    "\n",
    "```python\n",
    "tupla = (1, 2, 3)\n",
    "a, b, c = tupla\n",
    "print(a)  # Saída: 1\n",
    "print(b)  # Saída: 2\n",
    "print(c)  # Saída: 3\n",
    "```\n",
    "\n",
    "### Métodos Úteis\n",
    "Tuplas possuem métodos embutidos como `count` e `index`.\n",
    "\n",
    "- **count:** Retorna o número de vezes que um valor aparece na tupla.\n",
    "  ```python\n",
    "  tupla = (1, 2, 2, 3, 4)\n",
    "  print(tupla.count(2))  # Saída: 2\n",
    "  ```\n",
    "\n",
    "- **index:** Retorna o índice da primeira ocorrência de um valor.\n",
    "  ```python\n",
    "  tupla = (1, 2, 3, 4)\n",
    "  print(tupla.index(3))  # Saída: 2\n",
    "  ```\n",
    "\n",
    "### Tuplas Aninhadas\n",
    "Tuplas podem conter outras tuplas como elementos.\n",
    "\n",
    "```python\n",
    "tupla_aninhada = (1, (2, 3), 4)\n",
    "print(tupla_aninhada[1])  # Saída: (2, 3)\n",
    "print(tupla_aninhada[1][0])  # Saída: 2\n",
    "```\n",
    "\n",
    "### Conversão de Lista para Tupla e Vice-Versa\n",
    "Você pode converter uma lista para uma tupla e vice-versa.\n",
    "\n",
    "```python\n",
    "lista = [1, 2, 3]\n",
    "tupla = tuple(lista)\n",
    "print(tupla)  # Saída: (1, 2, 3)\n",
    "\n",
    "lista_convertida = list(tupla)\n",
    "print(lista_convertida)  # Saída: [1, 2, 3]\n",
    "```\n",
    "\n",
    "### Exemplos de Uso de Tuplas\n",
    "Tuplas são úteis para agrupar dados relacionados. Um exemplo comum é retornar múltiplos valores de uma função.\n",
    "\n",
    "```python\n",
    "def coordenadas():\n",
    "    return (10, 20)\n",
    "\n",
    "x, y = coordenadas()\n",
    "print(x, y)  # Saída: 10 20\n",
    "```\n",
    "\n",
    "Tuplas são uma ferramenta poderosa e eficiente em Python, particularmente úteis quando você quer garantir que os dados permaneçam constantes ao longo da execução do programa."
   ]
  },
  {
   "cell_type": "code",
   "execution_count": 12,
   "metadata": {},
   "outputs": [
    {
     "name": "stdout",
     "output_type": "stream",
     "text": [
      "Suco\n",
      "Pizza\n",
      "('Suco', 'Pizza')\n",
      "('Hambúrguer', 'Suco')\n",
      "('Suco', 'Pizza', 'Pudim')\n"
     ]
    },
    {
     "data": {
      "text/plain": [
       "('Hambúrguer', 'Suco', 'Pizza', 'Pudim')"
      ]
     },
     "execution_count": 12,
     "metadata": {},
     "output_type": "execute_result"
    }
   ],
   "source": [
    "Lanche = ('Hambúrguer', 'Suco', 'Pizza', 'Pudim')\n",
    "print(Lanche[1])\n",
    "print(Lanche[-2])\n",
    "print(Lanche[1:3])\n",
    "print(Lanche[:2])\n",
    "print(Lanche[-3:])\n",
    "Lanche"
   ]
  },
  {
   "cell_type": "code",
   "execution_count": 13,
   "metadata": {},
   "outputs": [
    {
     "ename": "TypeError",
     "evalue": "'tuple' object does not support item assignment",
     "output_type": "error",
     "traceback": [
      "\u001b[1;31m---------------------------------------------------------------------------\u001b[0m",
      "\u001b[1;31mTypeError\u001b[0m                                 Traceback (most recent call last)",
      "Cell \u001b[1;32mIn[13], line 3\u001b[0m\n\u001b[0;32m      1\u001b[0m \u001b[38;5;66;03m# TUPLAS SÃO IMUTÁVEIS \u001b[39;00m\n\u001b[0;32m      2\u001b[0m Lanche \u001b[38;5;66;03m#criada acima\u001b[39;00m\n\u001b[1;32m----> 3\u001b[0m \u001b[43mLanche\u001b[49m\u001b[43m[\u001b[49m\u001b[38;5;241;43m1\u001b[39;49m\u001b[43m]\u001b[49m \u001b[38;5;241m=\u001b[39m \u001b[38;5;124m'\u001b[39m\u001b[38;5;124mRefregerante\u001b[39m\u001b[38;5;124m'\u001b[39m\n\u001b[0;32m      4\u001b[0m \u001b[38;5;28mprint\u001b[39m(Lanche[\u001b[38;5;241m1\u001b[39m])\n",
      "\u001b[1;31mTypeError\u001b[0m: 'tuple' object does not support item assignment"
     ]
    }
   ],
   "source": [
    "# TUPLAS SÃO IMUTÁVEIS \n",
    "Lanche #criada acima\n",
    "Lanche[1] = 'Refregerante'\n",
    "print(Lanche[1])"
   ]
  },
  {
   "cell_type": "code",
   "execution_count": 29,
   "metadata": {},
   "outputs": [
    {
     "name": "stdout",
     "output_type": "stream",
     "text": [
      "Eu vou comer Hambúrguer nessa ordem 0\n",
      "Eu vou comer Suco nessa ordem 1\n",
      "Eu vou comer Pizza nessa ordem 2\n",
      "Eu vou comer Pudim nessa ordem 3\n",
      "Eu vou comer Refregerante nessa ordem 4\n",
      "Comi pra Caramba!\n",
      "['Hambúrguer', 'Pizza', 'Pudim', 'Refregerante', 'Suco']\n"
     ]
    },
    {
     "data": {
      "text/plain": [
       "('Hambúrguer', 'Suco', 'Pizza', 'Pudim', 'Refregerante')"
      ]
     },
     "execution_count": 29,
     "metadata": {},
     "output_type": "execute_result"
    }
   ],
   "source": [
    "Lanche1 = ('Hambúrguer', 'Suco', 'Pizza', 'Pudim', 'Refregerante')\n",
    "\n",
    "#for cont in range (0, len(Lanche1)):\n",
    "#    print(Lanche1[cont])\n",
    "\n",
    "#for comida in Lanche1:\n",
    "#    print(f'Eu vou comer {comida} \\n'\n",
    "#    'Comi pra Caramba!')\n",
    "\n",
    "for pos, comida in enumerate(Lanche1):\n",
    "    print(f'Eu vou comer {comida} nessa ordem {pos}')\n",
    "print('Comi pra Caramba!')\n",
    "\n",
    "# reodernado \n",
    "print(sorted(Lanche1))\n",
    "Lanche1"
   ]
  },
  {
   "cell_type": "code",
   "execution_count": 34,
   "metadata": {},
   "outputs": [
    {
     "name": "stdout",
     "output_type": "stream",
     "text": [
      "(2, 5, 4, 5, 8, 1, 2)\n",
      "2\n",
      "4\n"
     ]
    }
   ],
   "source": [
    "a = (2,5,4)\n",
    "b = (5,8,1,2)\n",
    "c = a + b\n",
    "\n",
    "print(c)\n",
    "print(c.count(5))\n",
    "print(c.index(8))"
   ]
  },
  {
   "cell_type": "code",
   "execution_count": 36,
   "metadata": {},
   "outputs": [
    {
     "ename": "NameError",
     "evalue": "name 'pessoa' is not defined",
     "output_type": "error",
     "traceback": [
      "\u001b[1;31m---------------------------------------------------------------------------\u001b[0m",
      "\u001b[1;31mNameError\u001b[0m                                 Traceback (most recent call last)",
      "Cell \u001b[1;32mIn[36], line 6\u001b[0m\n\u001b[0;32m      2\u001b[0m pessoa \n\u001b[0;32m      4\u001b[0m \u001b[38;5;28;01mdel\u001b[39;00m(pessoa) \u001b[38;5;66;03m# deleta a tupla \u001b[39;00m\n\u001b[1;32m----> 6\u001b[0m \u001b[43mpessoa\u001b[49m\n",
      "\u001b[1;31mNameError\u001b[0m: name 'pessoa' is not defined"
     ]
    }
   ],
   "source": [
    "pessoa = ('Gustavo', 39, 'M', 99,88)\n",
    "pessoa \n",
    "\n",
    "del(pessoa) # deleta a tupla \n",
    "\n",
    "pessoa"
   ]
  },
  {
   "cell_type": "code",
   "execution_count": 37,
   "metadata": {},
   "outputs": [
    {
     "name": "stdout",
     "output_type": "stream",
     "text": [
      "Você digitou o número quinze.\n"
     ]
    }
   ],
   "source": [
    "#Ex.072 Crie um programa que tenha uma dupla totalmente preenchida com uma contagem por extenso, de zero até vinte. \n",
    "# Seu programa deverá ler um número pelo teclado (entre 0 e 20) e mostrá-lo por extenso.\n",
    "\n",
    "# Criação da tupla com a contagem por extenso de zero até vinte\n",
    "contagem_por_extenso = (\n",
    "    'zero', 'um', 'dois', 'três', 'quatro', 'cinco', 'seis', 'sete', 'oito', 'nove', 'dez',\n",
    "    'onze', 'doze', 'treze', 'catorze', 'quinze', 'dezesseis', 'dezessete', 'dezoito', 'dezenove', 'vinte'\n",
    ")\n",
    "while True:\n",
    "    # Leitura do número pelo teclado\n",
    "    numero = int(input(\"Digite um número entre 0 e 20: \"))\n",
    "    # Verificação se o número está no intervalo desejado\n",
    "    if 0 <= numero <= 20:\n",
    "        break\n",
    "    print(\"Número inválido. Tente novamente.\")\n",
    "# Exibição do número por extenso\n",
    "print(f\"Você digitou o número {contagem_por_extenso[numero]}.\")"
   ]
  },
  {
   "cell_type": "code",
   "execution_count": 38,
   "metadata": {},
   "outputs": [
    {
     "name": "stdout",
     "output_type": "stream",
     "text": [
      "Os 5 primeiros times são: ('Flamengo', 'Palmeiras', 'Atlético-MG', 'Fortaleza', 'Corinthians')\n",
      "Os últimos 4 colocados são: ('Grêmio', 'Bahia', 'Sport', 'Chapecoense')\n",
      "Times em ordem alfabética: ['América-MG', 'Athletico-PR', 'Atlético-GO', 'Atlético-MG', 'Bahia', 'Bragantino', 'Ceará', 'Chapecoense', 'Corinthians', 'Cuiabá', 'Flamengo', 'Fluminense', 'Fortaleza', 'Grêmio', 'Internacional', 'Juventude', 'Palmeiras', 'Santos', 'Sport', 'São Paulo']\n",
      "A Chapecoense está na posição: 20\n"
     ]
    }
   ],
   "source": [
    "#Ex.073 Crie uma tupla preenchida com os 20 primeiros colocados da Tabela do Campeonato Brasileiro de Futebol, na ordem de colocação. Depois mostre:\n",
    "\"\"\"a) Os 5 primeiros times.\n",
    "b) Os últimos 4 colocados.\n",
    "c) Times em ordem alfabética.\n",
    "d) Em que posição está o time da Chapecoense.\"\"\"\n",
    "\n",
    "# Criação da tupla com os 20 primeiros colocados da Tabela do Campeonato Brasileiro de Futebol\n",
    "times_brasileirao = ('Flamengo', 'Palmeiras', 'Atlético-MG', 'Fortaleza', 'Corinthians', \n",
    "    'Bragantino', 'Fluminense', 'América-MG', 'Atlético-GO', 'Santos', \n",
    "    'Ceará', 'Internacional', 'São Paulo', 'Athletico-PR', 'Cuiabá', \n",
    "    'Juventude', 'Grêmio', 'Bahia', 'Sport', 'Chapecoense')\n",
    "\n",
    "# a) Os 5 primeiros times\n",
    "print(\"Os 5 primeiros times são:\", times_brasileirao[:5])\n",
    "\n",
    "# b) Os últimos 4 colocados\n",
    "print(\"Os últimos 4 colocados são:\", times_brasileirao[-4:])\n",
    "\n",
    "# c) Times em ordem alfabética\n",
    "print(\"Times em ordem alfabética:\", sorted(times_brasileirao))\n",
    "\n",
    "# d) Em que posição está o time da Chapecoense\n",
    "posicao_chapecoense = times_brasileirao.index('Chapecoense') + 1\n",
    "print(\"A Chapecoense está na posição:\", posicao_chapecoense)\n"
   ]
  },
  {
   "cell_type": "code",
   "execution_count": 4,
   "metadata": {},
   "outputs": [
    {
     "name": "stdout",
     "output_type": "stream",
     "text": [
      "Números gerados: (65, 46, 95, 92, 67)\n",
      "Menor valor: 46\n",
      "Maior valor: 95\n"
     ]
    }
   ],
   "source": [
    "\"\"\"Ex.074 Crie um programa que vai gerar cinco números aleatórios e colocar em uma tupla. \n",
    "Depois disso, mostre a listagem de números gerados e também indique o menor e o maior valor que estão na tupla.\"\"\"\n",
    "\n",
    "import random\n",
    "# Gerar cinco números aleatórios e colocá-los em uma tupla\n",
    "numeros = tuple(random.randint(1, 100) for _ in range(5))\n",
    "# Mostrar a listagem de números gerados\n",
    "print(\"Números gerados:\", numeros)\n",
    "# Encontrar o menor e o maior valor na tupla\n",
    "menor = min(numeros)\n",
    "maior = max(numeros)\n",
    "print(f\"Menor valor: {menor}\")\n",
    "print(f\"Maior valor: {maior}\")\n"
   ]
  },
  {
   "cell_type": "code",
   "execution_count": 5,
   "metadata": {},
   "outputs": [
    {
     "name": "stdout",
     "output_type": "stream",
     "text": [
      "A) O valor 9 apareceu 1 vezes.\n",
      "B) O primeiro valor 3 apareceu na posição -1.\n",
      "C) Os números pares foram: []\n"
     ]
    }
   ],
   "source": [
    "\"\"\"Ex.075 Desenvolva um programa que leia quatro valores pelo teclado e guarde-os em uma tupla. No final, mostre:\n",
    "A) Quantas vezes apareceu o valor 9.\n",
    "B) Em que posição foi digitado o primeiro valor 3.\n",
    "C) Quais foram os números pares.\"\"\"\n",
    "\n",
    "# Leitura dos quatro valores e armazenamento em uma tupla\n",
    "valores = (\n",
    "    int(input(\"Digite o primeiro valor: \")),\n",
    "    int(input(\"Digite o segundo valor: \")),\n",
    "    int(input(\"Digite o terceiro valor: \")),\n",
    "    int(input(\"Digite o quarto valor: \"))\n",
    ")\n",
    "\n",
    "# A) Quantas vezes apareceu o valor 9\n",
    "quantidade_nove = valores.count(9)\n",
    "\n",
    "# B) Em que posição foi digitado o primeiro valor 3\n",
    "# Adiciona 1 para converter de índice (base 0) para posição (base 1)\n",
    "posicao_primeiro_tres = valores.index(3) + 1 if 3 in valores else -1\n",
    "\n",
    "# C) Quais foram os números pares\n",
    "numeros_pares = [valor for valor in valores if valor % 2 == 0]\n",
    "\n",
    "# Resultados\n",
    "print(f\"A) O valor 9 apareceu {quantidade_nove} vezes.\")\n",
    "print(f\"B) O primeiro valor 3 apareceu na posição {posicao_primeiro_tres}.\")\n",
    "print(f\"C) Os números pares foram: {numeros_pares}\")\n"
   ]
  },
  {
   "cell_type": "code",
   "execution_count": 6,
   "metadata": {},
   "outputs": [
    {
     "name": "stdout",
     "output_type": "stream",
     "text": [
      "----------------------------------------\n",
      "           LISTAGEM DE PREÇOS           \n",
      "----------------------------------------\n",
      "Lápis                          R$    1.75\n",
      "Borracha                       R$    2.00\n",
      "Caderno                        R$   15.90\n",
      "Estojo                         R$   25.00\n",
      "Transferidor                   R$    4.20\n",
      "Compasso                       R$    9.99\n",
      "Mochila                        R$  120.32\n",
      "Canetas                        R$   22.30\n",
      "Livro                          R$   34.90\n",
      "----------------------------------------\n"
     ]
    }
   ],
   "source": [
    "#Ex.076 Crie um programa que tenha uma tupla única com nomes de produtos e seus respectivos preços, na sequência. No final, mostre uma listagem de preços,\n",
    "# organizando os dados em forma tabular.\n",
    "\n",
    "# Definindo a tupla com nomes de produtos e seus respectivos preços\n",
    "produtos = (\n",
    "    \"Lápis\", 1.75,\n",
    "    \"Borracha\", 2.00,\n",
    "    \"Caderno\", 15.90,\n",
    "    \"Estojo\", 25.00,\n",
    "    \"Transferidor\", 4.20,\n",
    "    \"Compasso\", 9.99,\n",
    "    \"Mochila\", 120.32,\n",
    "    \"Canetas\", 22.30,\n",
    "    \"Livro\", 34.90\n",
    ")\n",
    "\n",
    "# Cabeçalho\n",
    "print(\"-\" * 40)\n",
    "print(f\"{'LISTAGEM DE PREÇOS':^40}\")\n",
    "print(\"-\" * 40)\n",
    "\n",
    "# Exibição dos produtos e preços de forma tabular\n",
    "for i in range(0, len(produtos), 2):\n",
    "    produto = produtos[i]\n",
    "    preco = produtos[i + 1]\n",
    "    print(f\"{produto:<30} R$ {preco:>7.2f}\")\n",
    "\n",
    "print(\"-\" * 40)\n"
   ]
  },
  {
   "cell_type": "code",
   "execution_count": 7,
   "metadata": {},
   "outputs": [
    {
     "name": "stdout",
     "output_type": "stream",
     "text": [
      "Na palavra 'PYTHON' temos as vogais: o\n",
      "Na palavra 'PROGRAMACAO' temos as vogais: o, a, a, a, o\n",
      "Na palavra 'COMPUTADOR' temos as vogais: o, u, a, o\n",
      "Na palavra 'TECLADO' temos as vogais: e, a, o\n",
      "Na palavra 'MONITOR' temos as vogais: o, i, o\n",
      "Na palavra 'CURSO' temos as vogais: u, o\n",
      "Na palavra 'GRATIS' temos as vogais: a, i\n",
      "Na palavra 'ESTUDAR' temos as vogais: e, u, a\n",
      "Na palavra 'PRATICAR' temos as vogais: a, i, a\n",
      "Na palavra 'TRABALHAR' temos as vogais: a, a, a\n"
     ]
    }
   ],
   "source": [
    "#Ex.077 Crie um programa que tenha uma tupla com várias palavras (não usar acentos). Depois disso, você deve mostrar, para cada palavra, quais são as suas vogais.\n",
    "\n",
    "# Definindo a tupla com várias palavras\n",
    "palavras = (\"python\", \"programacao\", \"computador\", \"teclado\", \"monitor\", \"curso\", \"gratis\", \"estudar\", \"praticar\", \"trabalhar\")\n",
    "\n",
    "# Listagem de vogais para cada palavra\n",
    "for palavra in palavras:\n",
    "    vogais = [letra for letra in palavra if letra in \"aeiou\"]\n",
    "    print(f\"Na palavra '{palavra.upper()}' temos as vogais: {', '.join(vogais)}\")\n"
   ]
  }
 ],
 "metadata": {
  "kernelspec": {
   "display_name": "Python 3",
   "language": "python",
   "name": "python3"
  },
  "language_info": {
   "codemirror_mode": {
    "name": "ipython",
    "version": 3
   },
   "file_extension": ".py",
   "mimetype": "text/x-python",
   "name": "python",
   "nbconvert_exporter": "python",
   "pygments_lexer": "ipython3",
   "version": "3.12.4"
  }
 },
 "nbformat": 4,
 "nbformat_minor": 2
}
