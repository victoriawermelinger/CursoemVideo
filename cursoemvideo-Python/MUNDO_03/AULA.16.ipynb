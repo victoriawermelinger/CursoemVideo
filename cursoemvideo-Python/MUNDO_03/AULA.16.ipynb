{
 "cells": [
  {
   "cell_type": "markdown",
   "metadata": {},
   "source": [
    "Em Python, uma tupla é uma coleção ordenada e imutável de elementos. Tuplas são usadas para agrupar dados e podem conter elementos de tipos diferentes. Aqui estão alguns pontos importantes sobre tuplas em Python:\n",
    "\n",
    "### Criação de Tuplas\n",
    "- **Tupla Vazia:** \n",
    "  ```python\n",
    "  tupla_vazia = ()\n",
    "  ```\n",
    "- **Tupla com Elementos:**\n",
    "  ```python\n",
    "  tupla = (1, 2, 3)\n",
    "  tupla_mista = (1, \"hello\", 3.14, True)\n",
    "  ```\n",
    "\n",
    "### Acesso a Elementos\n",
    "Você pode acessar elementos de uma tupla usando índices, que começam em 0.\n",
    "\n",
    "```python\n",
    "tupla = (10, 20, 30, 40)\n",
    "print(tupla[1])  # Saída: 20\n",
    "```\n",
    "\n",
    "### Fatiamento\n",
    "Assim como listas, você pode fatiar tuplas para obter subtuplas.\n",
    "\n",
    "```python\n",
    "tupla = (10, 20, 30, 40, 50)\n",
    "print(tupla[1:4])  # Saída: (20, 30, 40)\n",
    "```\n",
    "\n",
    "### Imutabilidade\n",
    "Tuplas são imutáveis, o que significa que você não pode alterar, adicionar ou remover elementos após a criação.\n",
    "\n",
    "```python\n",
    "tupla = (1, 2, 3)\n",
    "# Isto causará um erro\n",
    "tupla[1] = 4\n",
    "```\n",
    "\n",
    "### Desempacotamento\n",
    "Você pode desempacotar os elementos de uma tupla em variáveis individuais.\n",
    "\n",
    "```python\n",
    "tupla = (1, 2, 3)\n",
    "a, b, c = tupla\n",
    "print(a)  # Saída: 1\n",
    "print(b)  # Saída: 2\n",
    "print(c)  # Saída: 3\n",
    "```\n",
    "\n",
    "### Métodos Úteis\n",
    "Tuplas possuem métodos embutidos como `count` e `index`.\n",
    "\n",
    "- **count:** Retorna o número de vezes que um valor aparece na tupla.\n",
    "  ```python\n",
    "  tupla = (1, 2, 2, 3, 4)\n",
    "  print(tupla.count(2))  # Saída: 2\n",
    "  ```\n",
    "\n",
    "- **index:** Retorna o índice da primeira ocorrência de um valor.\n",
    "  ```python\n",
    "  tupla = (1, 2, 3, 4)\n",
    "  print(tupla.index(3))  # Saída: 2\n",
    "  ```\n",
    "\n",
    "### Tuplas Aninhadas\n",
    "Tuplas podem conter outras tuplas como elementos.\n",
    "\n",
    "```python\n",
    "tupla_aninhada = (1, (2, 3), 4)\n",
    "print(tupla_aninhada[1])  # Saída: (2, 3)\n",
    "print(tupla_aninhada[1][0])  # Saída: 2\n",
    "```\n",
    "\n",
    "### Conversão de Lista para Tupla e Vice-Versa\n",
    "Você pode converter uma lista para uma tupla e vice-versa.\n",
    "\n",
    "```python\n",
    "lista = [1, 2, 3]\n",
    "tupla = tuple(lista)\n",
    "print(tupla)  # Saída: (1, 2, 3)\n",
    "\n",
    "lista_convertida = list(tupla)\n",
    "print(lista_convertida)  # Saída: [1, 2, 3]\n",
    "```\n",
    "\n",
    "### Exemplos de Uso de Tuplas\n",
    "Tuplas são úteis para agrupar dados relacionados. Um exemplo comum é retornar múltiplos valores de uma função.\n",
    "\n",
    "```python\n",
    "def coordenadas():\n",
    "    return (10, 20)\n",
    "\n",
    "x, y = coordenadas()\n",
    "print(x, y)  # Saída: 10 20\n",
    "```\n",
    "\n",
    "Tuplas são uma ferramenta poderosa e eficiente em Python, particularmente úteis quando você quer garantir que os dados permaneçam constantes ao longo da execução do programa."
   ]
  },
  {
   "cell_type": "code",
   "execution_count": 12,
   "metadata": {},
   "outputs": [
    {
     "name": "stdout",
     "output_type": "stream",
     "text": [
      "Suco\n",
      "Pizza\n",
      "('Suco', 'Pizza')\n",
      "('Hambúrguer', 'Suco')\n",
      "('Suco', 'Pizza', 'Pudim')\n"
     ]
    },
    {
     "data": {
      "text/plain": [
       "('Hambúrguer', 'Suco', 'Pizza', 'Pudim')"
      ]
     },
     "execution_count": 12,
     "metadata": {},
     "output_type": "execute_result"
    }
   ],
   "source": [
    "Lanche = ('Hambúrguer', 'Suco', 'Pizza', 'Pudim')\n",
    "print(Lanche[1])\n",
    "print(Lanche[-2])\n",
    "print(Lanche[1:3])\n",
    "print(Lanche[:2])\n",
    "print(Lanche[-3:])\n",
    "Lanche"
   ]
  },
  {
   "cell_type": "code",
   "execution_count": 13,
   "metadata": {},
   "outputs": [
    {
     "ename": "TypeError",
     "evalue": "'tuple' object does not support item assignment",
     "output_type": "error",
     "traceback": [
      "\u001b[1;31m---------------------------------------------------------------------------\u001b[0m",
      "\u001b[1;31mTypeError\u001b[0m                                 Traceback (most recent call last)",
      "Cell \u001b[1;32mIn[13], line 3\u001b[0m\n\u001b[0;32m      1\u001b[0m \u001b[38;5;66;03m# TUPLAS SÃO IMUTÁVEIS \u001b[39;00m\n\u001b[0;32m      2\u001b[0m Lanche \u001b[38;5;66;03m#criada acima\u001b[39;00m\n\u001b[1;32m----> 3\u001b[0m \u001b[43mLanche\u001b[49m\u001b[43m[\u001b[49m\u001b[38;5;241;43m1\u001b[39;49m\u001b[43m]\u001b[49m \u001b[38;5;241m=\u001b[39m \u001b[38;5;124m'\u001b[39m\u001b[38;5;124mRefregerante\u001b[39m\u001b[38;5;124m'\u001b[39m\n\u001b[0;32m      4\u001b[0m \u001b[38;5;28mprint\u001b[39m(Lanche[\u001b[38;5;241m1\u001b[39m])\n",
      "\u001b[1;31mTypeError\u001b[0m: 'tuple' object does not support item assignment"
     ]
    }
   ],
   "source": [
    "# TUPLAS SÃO IMUTÁVEIS \n",
    "Lanche #criada acima\n",
    "Lanche[1] = 'Refregerante'\n",
    "print(Lanche[1])"
   ]
  },
  {
   "cell_type": "code",
   "execution_count": 29,
   "metadata": {},
   "outputs": [
    {
     "name": "stdout",
     "output_type": "stream",
     "text": [
      "Eu vou comer Hambúrguer nessa ordem 0\n",
      "Eu vou comer Suco nessa ordem 1\n",
      "Eu vou comer Pizza nessa ordem 2\n",
      "Eu vou comer Pudim nessa ordem 3\n",
      "Eu vou comer Refregerante nessa ordem 4\n",
      "Comi pra Caramba!\n",
      "['Hambúrguer', 'Pizza', 'Pudim', 'Refregerante', 'Suco']\n"
     ]
    },
    {
     "data": {
      "text/plain": [
       "('Hambúrguer', 'Suco', 'Pizza', 'Pudim', 'Refregerante')"
      ]
     },
     "execution_count": 29,
     "metadata": {},
     "output_type": "execute_result"
    }
   ],
   "source": [
    "Lanche1 = ('Hambúrguer', 'Suco', 'Pizza', 'Pudim', 'Refregerante')\n",
    "\n",
    "#for cont in range (0, len(Lanche1)):\n",
    "#    print(Lanche1[cont])\n",
    "\n",
    "#for comida in Lanche1:\n",
    "#    print(f'Eu vou comer {comida} \\n'\n",
    "#    'Comi pra Caramba!')\n",
    "\n",
    "for pos, comida in enumerate(Lanche1):\n",
    "    print(f'Eu vou comer {comida} nessa ordem {pos}')\n",
    "print('Comi pra Caramba!')\n",
    "\n",
    "# reodernado \n",
    "print(sorted(Lanche1))\n",
    "Lanche1"
   ]
  },
  {
   "cell_type": "code",
   "execution_count": 34,
   "metadata": {},
   "outputs": [
    {
     "name": "stdout",
     "output_type": "stream",
     "text": [
      "(2, 5, 4, 5, 8, 1, 2)\n",
      "2\n",
      "4\n"
     ]
    }
   ],
   "source": [
    "a = (2,5,4)\n",
    "b = (5,8,1,2)\n",
    "c = a + b\n",
    "\n",
    "print(c)\n",
    "print(c.count(5))\n",
    "print(c.index(8))"
   ]
  },
  {
   "cell_type": "code",
   "execution_count": 36,
   "metadata": {},
   "outputs": [
    {
     "ename": "NameError",
     "evalue": "name 'pessoa' is not defined",
     "output_type": "error",
     "traceback": [
      "\u001b[1;31m---------------------------------------------------------------------------\u001b[0m",
      "\u001b[1;31mNameError\u001b[0m                                 Traceback (most recent call last)",
      "Cell \u001b[1;32mIn[36], line 6\u001b[0m\n\u001b[0;32m      2\u001b[0m pessoa \n\u001b[0;32m      4\u001b[0m \u001b[38;5;28;01mdel\u001b[39;00m(pessoa) \u001b[38;5;66;03m# deleta a tupla \u001b[39;00m\n\u001b[1;32m----> 6\u001b[0m \u001b[43mpessoa\u001b[49m\n",
      "\u001b[1;31mNameError\u001b[0m: name 'pessoa' is not defined"
     ]
    }
   ],
   "source": [
    "pessoa = ('Gustavo', 39, 'M', 99,88)\n",
    "pessoa \n",
    "\n",
    "del(pessoa) # deleta a tupla \n",
    "\n",
    "pessoa"
   ]
<<<<<<< HEAD
=======
  },
  {
   "cell_type": "code",
   "execution_count": 37,
   "metadata": {},
   "outputs": [
    {
     "name": "stdout",
     "output_type": "stream",
     "text": [
      "Você digitou o número quinze.\n"
     ]
    }
   ],
   "source": [
    "#Ex.072 Crie um programa que tenha uma dupla totalmente preenchida com uma contagem por extenso, de zero até vinte. \n",
    "# Seu programa deverá ler um número pelo teclado (entre 0 e 20) e mostrá-lo por extenso.\n",
    "\n",
    "# Criação da tupla com a contagem por extenso de zero até vinte\n",
    "contagem_por_extenso = (\n",
    "    'zero', 'um', 'dois', 'três', 'quatro', 'cinco', 'seis', 'sete', 'oito', 'nove', 'dez',\n",
    "    'onze', 'doze', 'treze', 'catorze', 'quinze', 'dezesseis', 'dezessete', 'dezoito', 'dezenove', 'vinte'\n",
    ")\n",
    "while True:\n",
    "    # Leitura do número pelo teclado\n",
    "    numero = int(input(\"Digite um número entre 0 e 20: \"))\n",
    "    # Verificação se o número está no intervalo desejado\n",
    "    if 0 <= numero <= 20:\n",
    "        break\n",
    "    print(\"Número inválido. Tente novamente.\")\n",
    "# Exibição do número por extenso\n",
    "print(f\"Você digitou o número {contagem_por_extenso[numero]}.\")"
   ]
  },
  {
   "cell_type": "code",
   "execution_count": 38,
   "metadata": {},
   "outputs": [
    {
     "name": "stdout",
     "output_type": "stream",
     "text": [
      "Os 5 primeiros times são: ('Flamengo', 'Palmeiras', 'Atlético-MG', 'Fortaleza', 'Corinthians')\n",
      "Os últimos 4 colocados são: ('Grêmio', 'Bahia', 'Sport', 'Chapecoense')\n",
      "Times em ordem alfabética: ['América-MG', 'Athletico-PR', 'Atlético-GO', 'Atlético-MG', 'Bahia', 'Bragantino', 'Ceará', 'Chapecoense', 'Corinthians', 'Cuiabá', 'Flamengo', 'Fluminense', 'Fortaleza', 'Grêmio', 'Internacional', 'Juventude', 'Palmeiras', 'Santos', 'Sport', 'São Paulo']\n",
      "A Chapecoense está na posição: 20\n"
     ]
    }
   ],
   "source": [
    "#Ex.073 Crie uma tupla preenchida com os 20 primeiros colocados da Tabela do Campeonato Brasileiro de Futebol, na ordem de colocação. Depois mostre:\n",
    "\"\"\"a) Os 5 primeiros times.\n",
    "b) Os últimos 4 colocados.\n",
    "c) Times em ordem alfabética.\n",
    "d) Em que posição está o time da Chapecoense.\"\"\"\n",
    "\n",
    "# Criação da tupla com os 20 primeiros colocados da Tabela do Campeonato Brasileiro de Futebol\n",
    "times_brasileirao = ('Flamengo', 'Palmeiras', 'Atlético-MG', 'Fortaleza', 'Corinthians', \n",
    "    'Bragantino', 'Fluminense', 'América-MG', 'Atlético-GO', 'Santos', \n",
    "    'Ceará', 'Internacional', 'São Paulo', 'Athletico-PR', 'Cuiabá', \n",
    "    'Juventude', 'Grêmio', 'Bahia', 'Sport', 'Chapecoense')\n",
    "\n",
    "# a) Os 5 primeiros times\n",
    "print(\"Os 5 primeiros times são:\", times_brasileirao[:5])\n",
    "\n",
    "# b) Os últimos 4 colocados\n",
    "print(\"Os últimos 4 colocados são:\", times_brasileirao[-4:])\n",
    "\n",
    "# c) Times em ordem alfabética\n",
    "print(\"Times em ordem alfabética:\", sorted(times_brasileirao))\n",
    "\n",
    "# d) Em que posição está o time da Chapecoense\n",
    "posicao_chapecoense = times_brasileirao.index('Chapecoense') + 1\n",
    "print(\"A Chapecoense está na posição:\", posicao_chapecoense)\n"
   ]
>>>>>>> conteudo
  }
 ],
 "metadata": {
  "kernelspec": {
   "display_name": "Python 3",
   "language": "python",
   "name": "python3"
  },
  "language_info": {
   "codemirror_mode": {
    "name": "ipython",
    "version": 3
   },
   "file_extension": ".py",
   "mimetype": "text/x-python",
   "name": "python",
   "nbconvert_exporter": "python",
   "pygments_lexer": "ipython3",
   "version": "3.12.4"
  }
 },
 "nbformat": 4,
 "nbformat_minor": 2
}
