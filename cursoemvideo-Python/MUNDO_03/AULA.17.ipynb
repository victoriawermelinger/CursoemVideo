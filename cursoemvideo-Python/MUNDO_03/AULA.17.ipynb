{
 "cells": [
  {
   "cell_type": "markdown",
   "metadata": {},
   "source": [
    "**Nessa aula, vamos aprender o que são LISTAS e como utilizar listas em Python. As listas são variáveis compostas que permitem armazenar vários valores em uma mesma estrutura, acessíveis por chaves individuais**\n",
    "\n",
    "Listas são uma estrutura de dados em Python que permitem armazenar múltiplos itens em uma única variável. Elas são ordenadas, mutáveis (ou seja, seus itens podem ser alterados) e permitem itens duplicados. As listas são definidas usando colchetes `[]`.\n",
    "\n",
    "### Criando uma Lista\n",
    "\n",
    "Você pode criar uma lista com elementos de qualquer tipo, incluindo outras listas:\n",
    "\n",
    "```python\n",
    "# Lista de números inteiros\n",
    "numeros = [1, 2, 3, 4, 5]\n",
    "\n",
    "# Lista de strings\n",
    "frutas = [\"maçã\", \"banana\", \"cereja\"]\n",
    "\n",
    "# Lista mista\n",
    "mista = [1, \"dois\", 3.0, [4, 5]]\n",
    "```\n",
    "\n",
    "### Acessando Itens da Lista\n",
    "\n",
    "Os itens da lista podem ser acessados por seus índices (começando do índice 0):\n",
    "\n",
    "```python\n",
    "print(numeros[0])  # Saída: 1\n",
    "print(frutas[1])   # Saída: banana\n",
    "print(mista[3])    # Saída: [4, 5]\n",
    "```\n",
    "\n",
    "### Modificando Itens da Lista\n",
    "\n",
    "Como as listas são mutáveis, você pode alterar seus itens:\n",
    "\n",
    "```python\n",
    "numeros[0] = 10\n",
    "print(numeros)  # Saída: [10, 2, 3, 4, 5]\n",
    "```\n",
    "\n",
    "### Adicionando Itens à Lista\n",
    "\n",
    "Você pode adicionar itens a uma lista usando métodos como `append()` e `insert()`:\n",
    "\n",
    "```python\n",
    "# Adiciona um item ao final da lista\n",
    "numeros.append(6)\n",
    "print(numeros)  # Saída: [10, 2, 3, 4, 5, 6]\n",
    "\n",
    "# Adiciona um item em uma posição específica\n",
    "numeros.insert(1, 15)\n",
    "print(numeros)  # Saída: [10, 15, 2, 3, 4, 5, 6]\n",
    "```\n",
    "\n",
    "### Removendo Itens da Lista\n",
    "\n",
    "Você pode remover itens de uma lista usando métodos como `remove()`, `pop()` e `del`:\n",
    "\n",
    "```python\n",
    "# Remove o primeiro item com o valor especificado\n",
    "numeros.remove(15)\n",
    "print(numeros)  # Saída: [10, 2, 3, 4, 5, 6]\n",
    "\n",
    "# Remove o item na posição especificada e retorna ele\n",
    "item_removido = numeros.pop(0)\n",
    "print(item_removido)  # Saída: 10\n",
    "print(numeros)        # Saída: [2, 3, 4, 5, 6]\n",
    "\n",
    "# Remove o item na posição especificada\n",
    "del numeros[0]\n",
    "print(numeros)  # Saída: [3, 4, 5, 6]\n",
    "```\n",
    "\n",
    "### Métodos Úteis para Listas\n",
    "\n",
    "- `len(lista)`: Retorna o comprimento da lista.\n",
    "- `lista.sort()`: Ordena a lista em ordem crescente.\n",
    "- `lista.reverse()`: Inverte a ordem dos itens na lista.\n",
    "- `lista.count(x)`: Retorna o número de vezes que `x` aparece na lista.\n",
    "- `lista.index(x)`: Retorna o índice do primeiro item cujo valor é `x`.\n",
    "\n",
    "### Exemplo Completo\n",
    "\n",
    "Aqui está um exemplo que demonstra a criação e manipulação de uma lista:\n",
    "\n",
    "```python\n",
    "# Criando uma lista de frutas\n",
    "frutas = [\"maçã\", \"banana\", \"cereja\", \"damasco\"]\n",
    "\n",
    "# Acessando itens\n",
    "print(f\"Primeira fruta: {frutas[0]}\")\n",
    "\n",
    "# Modificando um item\n",
    "frutas[1] = \"mirtilo\"\n",
    "print(f\"Lista modificada: {frutas}\")\n",
    "\n",
    "# Adicionando itens\n",
    "frutas.append(\"figo\")\n",
    "frutas.insert(2, \"kiwi\")\n",
    "print(f\"Lista após adições: {frutas}\")\n",
    "\n",
    "# Removendo itens\n",
    "frutas.remove(\"kiwi\")\n",
    "removido = frutas.pop(3)\n",
    "del frutas[0]\n",
    "print(f\"Lista após remoções: {frutas}\")\n",
    "print(f\"Item removido: {removido}\")\n",
    "\n",
    "# Métodos úteis\n",
    "print(f\"Número de frutas: {len(frutas)}\")\n",
    "frutas.sort()\n",
    "print(f\"Lista ordenada: {frutas}\")\n",
    "frutas.reverse()\n",
    "print(f\"Lista invertida: {frutas}\")\n",
    "print(f\"Contagem de cerejas: {frutas.count('cereja')}\")\n",
    "print(f\"Índice de damasco: {frutas.index('damasco')}\")\n",
    "```\n",
    "\n",
    "### Saída Esperada\n",
    "\n",
    "```\n",
    "Primeira fruta: maçã\n",
    "Lista modificada: ['maçã', 'mirtilo', 'cereja', 'damasco']\n",
    "Lista após adições: ['maçã', 'mirtilo', 'kiwi', 'cereja', 'damasco', 'figo']\n",
    "Lista após remoções: ['mirtilo', 'cereja', 'damasco', 'figo']\n",
    "Item removido: cereja\n",
    "Número de frutas: 4\n",
    "Lista ordenada: ['damasco', 'figo', 'mirtilo', 'cereja']\n",
    "Lista invertida: ['cereja', 'mirtilo', 'figo', 'damasco']\n",
    "Contagem de cerejas: 1\n",
    "Índice de damasco: 3\n",
    "```"
   ]
  },
  {
   "cell_type": "code",
   "execution_count": 3,
   "metadata": {},
   "outputs": [
    {
     "data": {
      "text/plain": [
       "[2, 5, 3, 1]"
      ]
     },
     "execution_count": 3,
     "metadata": {},
     "output_type": "execute_result"
    }
   ],
   "source": [
    "num = [2, 5, 9, 1]\n",
    "num[2] = 3 \n",
    "num"
   ]
  },
  {
   "cell_type": "code",
   "execution_count": 4,
   "metadata": {},
   "outputs": [
    {
     "data": {
      "text/plain": [
       "[2, 5, 9, 1, 7]"
      ]
     },
     "execution_count": 4,
     "metadata": {},
     "output_type": "execute_result"
    }
   ],
   "source": [
    "num = [2, 5, 9, 1]\n",
    "num.append(7)\n",
    "num"
   ]
  },
  {
   "cell_type": "code",
   "execution_count": 5,
   "metadata": {},
   "outputs": [
    {
     "data": {
      "text/plain": [
       "[1, 2, 5, 9]"
      ]
     },
     "execution_count": 5,
     "metadata": {},
     "output_type": "execute_result"
    }
   ],
   "source": [
    "num = [2, 5, 9, 1]\n",
    "num.sort()\n",
    "num"
   ]
  },
  {
   "cell_type": "code",
   "execution_count": 6,
   "metadata": {},
   "outputs": [
    {
     "data": {
      "text/plain": [
       "[9, 5, 2, 1]"
      ]
     },
     "execution_count": 6,
     "metadata": {},
     "output_type": "execute_result"
    }
   ],
   "source": [
    "num = [2, 5, 9, 1]\n",
    "num.sort(reverse=True)\n",
    "num"
   ]
  },
  {
   "cell_type": "code",
   "execution_count": 7,
   "metadata": {},
   "outputs": [
    {
     "data": {
      "text/plain": [
       "[2, 5, 2, 9, 1]"
      ]
     },
     "execution_count": 7,
     "metadata": {},
     "output_type": "execute_result"
    }
   ],
   "source": [
    "num = [2, 5, 9, 1]\n",
    "num.insert(2,2)\n",
    "num"
   ]
  },
  {
   "cell_type": "code",
   "execution_count": 9,
   "metadata": {},
   "outputs": [
    {
     "name": "stdout",
     "output_type": "stream",
     "text": [
      "[2, 9, 1]\n",
      "Essa lista tem 3 elementos.\n"
     ]
    }
   ],
   "source": [
    "num = [2, 5, 9, 1]\n",
    "if 5 in num:\n",
    "    num.remove(5)\n",
    "else:    \n",
    "    print('Não achei o número 5')\n",
    "print(num)\n",
    "print(f'Essa lista tem {len(num)} elementos.')"
   ]
  },
  {
   "cell_type": "code",
   "execution_count": 10,
   "metadata": {},
   "outputs": [
    {
     "name": "stdout",
     "output_type": "stream",
     "text": [
      "Na posição 0 encotrei o valor 5!\n",
      "Na posição 1 encotrei o valor 9!\n",
      "Na posição 2 encotrei o valor 4!\n",
      "Cheguei ao final da lista.\n"
     ]
    }
   ],
   "source": [
    "valores = []\n",
    "valores.append(5)\n",
    "valores.append(9)\n",
    "valores.append(4)\n",
    "\n",
    "for c, v in enumerate(valores):\n",
    "    print(f'Na posição {c} encotrei o valor {v}!')\n",
    "print('Cheguei ao final da lista.')"
   ]
  },
  {
   "cell_type": "code",
   "execution_count": 14,
   "metadata": {},
   "outputs": [
    {
     "name": "stdout",
     "output_type": "stream",
     "text": [
      "Na posição 0 encontrei o valor 1!\n",
      "Na posição 1 encontrei o valor 2!\n",
      "Na posição 2 encontrei o valor 3!\n",
      "Na posição 3 encontrei o valor 4!\n",
      "Na posição 4 encontrei o valor 5!\n",
      "Na posição 5 encontrei o valor 6!\n",
      "Na posição 6 encontrei o valor 7!\n",
      "Na posição 7 encontrei o valor 8!\n",
      "Na posição 8 encontrei o valor 9!\n",
      "Na posição 9 encontrei o valor 10!\n",
      "Na posição 10 encontrei o valor 11!\n",
      "Na posição 11 encontrei o valor 12!\n",
      "Na posição 12 encontrei o valor 13!\n",
      "Na posição 13 encontrei o valor 14!\n",
      "Cheguei ao final da lista.\n"
     ]
    }
   ],
   "source": [
    "# Criar uma lista vazia\n",
    "valores = []\n",
    "# Adicionar valores de 1 a 15 individualmente à lista\n",
    "valores.extend(range(1, 15))\n",
    "# Iterar sobre a lista e imprimir posição e valor\n",
    "for c, v in enumerate(valores):\n",
    "    print(f'Na posição {c} encontrei o valor {v}!')\n",
    "print('Cheguei ao final da lista.')\n"
   ]
  },
  {
   "cell_type": "code",
   "execution_count": 16,
   "metadata": {},
   "outputs": [
    {
     "name": "stdout",
     "output_type": "stream",
     "text": [
      "Na posição 0 encontrei o valor 5!\n",
      "Na posição 1 encontrei o valor 4!\n",
      "Na posição 2 encontrei o valor 7!\n",
      "Na posição 3 encontrei o valor 9!\n",
      "Na posição 4 encontrei o valor 8!\n",
      "Cheguei ao final da lista.\n"
     ]
    }
   ],
   "source": [
    "valores = list()\n",
    "for cont in range (0,5):\n",
    "    valores.append(int(input('Digite um valor: ')))\n",
    "for c, v in enumerate(valores):\n",
    "    print(f'Na posição {c} encontrei o valor {v}!')\n",
    "print('Cheguei ao final da lista.')"
   ]
  },
  {
   "cell_type": "code",
   "execution_count": 17,
   "metadata": {},
   "outputs": [
    {
     "name": "stdout",
     "output_type": "stream",
     "text": [
      "Lista A: [2, 3, 4, 7]\n",
      "Lista B: [2, 3, 8, 7]\n"
     ]
    }
   ],
   "source": [
    "a = [2, 3, 4, 7]\n",
    "b = a[:] #cria uma cópia da lista a\n",
    "b[2] = 8 \n",
    "print(f'Lista A: {a}')\n",
    "print(f'Lista B: {b}')"
   ]
  },
  {
   "cell_type": "code",
   "execution_count": 18,
   "metadata": {},
   "outputs": [
    {
     "name": "stdout",
     "output_type": "stream",
     "text": [
      "\n",
      "Você digitou os valores: [9, 2, 8, 7, 3]\n",
      "O maior valor digitado foi 9 na posição 0.\n",
      "O menor valor digitado foi 2 na posição 1.\n"
     ]
    }
   ],
   "source": [
    "#Ex.078 Faça um programa que leia 5 valores numéricos e guarde-os em uma lista. No final, mostre qual foi o maior e o menor valor digitado e as suas respectivas posições na lista.\n",
    "valores = []\n",
    "# Ler 5 valores numéricos e adicionar à lista\n",
    "for i in range(5):\n",
    "    num = int(input(f\"Digite o {i + 1}º valor: \"))\n",
    "    valores.append(num)\n",
    "# Encontrar o maior e o menor valor na lista\n",
    "maior_valor = max(valores)\n",
    "menor_valor = min(valores)\n",
    "# Encontrar as posições do maior e menor valor na lista\n",
    "pos_maior_valor = valores.index(maior_valor)\n",
    "pos_menor_valor = valores.index(menor_valor)\n",
    "# Mostrar os resultados\n",
    "print(f\"\\nVocê digitou os valores: {valores}\")\n",
    "print(f\"O maior valor digitado foi {maior_valor} na posição {pos_maior_valor}.\")\n",
    "print(f\"O menor valor digitado foi {menor_valor} na posição {pos_menor_valor}.\")\n"
   ]
  },
  {
   "cell_type": "code",
   "execution_count": 19,
   "metadata": {},
   "outputs": [
    {
     "name": "stdout",
     "output_type": "stream",
     "text": [
      "Valor 5 adicionado com sucesso!\n",
      "Valor 8 adicionado com sucesso!\n",
      "Valor 3 adicionado com sucesso!\n",
      "Valor 7 adicionado com sucesso!\n",
      "Valor 9 adicionado com sucesso!\n",
      "Valor 5 já existe na lista e não será adicionado.\n",
      "Valor 6 adicionado com sucesso!\n",
      "Valor 1 adicionado com sucesso!\n",
      "\n",
      "Você digitou os seguintes valores únicos em ordem crescente:\n",
      "[1, 3, 5, 6, 7, 8, 9]\n"
     ]
    }
   ],
   "source": [
    "\"\"\"Ex.079 Crie um programa onde o usuário possa digitar vários valores numéricos e cadastre-os em uma lista.\n",
    "Caso o número já exista lá dentro, ele não será adicionado. No final, serão exibidos todos os valores únicos digitados, em ordem crescente.\"\"\"\n",
    "# Criar uma lista vazia para armazenar os valores\n",
    "valores = []\n",
    "\n",
    "while True:\n",
    "    # Ler um valor numérico do usuário\n",
    "    num = int(input(\"Digite um valor (ou 0 para sair): \"))\n",
    "    \n",
    "    if num == 0:\n",
    "        break  # Sai do loop se o usuário digitar 0\n",
    "    \n",
    "    # Adicionar o valor à lista apenas se não estiver presente\n",
    "    if num not in valores:\n",
    "        valores.append(num)\n",
    "        print(f\"Valor {num} adicionado com sucesso!\")\n",
    "    else:\n",
    "        print(f\"Valor {num} já existe na lista e não será adicionado.\")\n",
    "\n",
    "# Ordenar a lista em ordem crescente\n",
    "valores.sort()\n",
    "\n",
    "# Mostrar os valores únicos em ordem crescente\n",
    "print(\"\\nVocê digitou os seguintes valores únicos em ordem crescente:\")\n",
    "print(valores)"
   ]
  }
 ],
 "metadata": {
  "kernelspec": {
   "display_name": "Python 3",
   "language": "python",
   "name": "python3"
  },
  "language_info": {
   "codemirror_mode": {
    "name": "ipython",
    "version": 3
   },
   "file_extension": ".py",
   "mimetype": "text/x-python",
   "name": "python",
   "nbconvert_exporter": "python",
   "pygments_lexer": "ipython3",
   "version": "3.12.4"
  }
 },
 "nbformat": 4,
 "nbformat_minor": 2
}
