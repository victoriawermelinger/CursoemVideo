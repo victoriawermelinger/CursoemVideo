{
 "cells": [
  {
   "cell_type": "code",
   "execution_count": 4,
   "metadata": {},
   "outputs": [
    {
     "name": "stdout",
     "output_type": "stream",
     "text": [
      "Olá, Mundo !!\n",
      "Olá, Mundo !!\n"
     ]
    }
   ],
   "source": [
    "#Ex.001\n",
    "# crie um programa que escreva \"olá, Mundo!!\" na tela. \n",
    "print('Olá, Mundo !!')\n",
    "#ou\n",
    "msg='Olá, Mundo !!'\n",
    "print(msg)"
   ]
  },
  {
   "cell_type": "code",
   "execution_count": 6,
   "metadata": {},
   "outputs": [
    {
     "name": "stdout",
     "output_type": "stream",
     "text": [
      "Olá Victoria  ! Seja bem vindo!\n",
      "É um prazer te conhecer, Victoria!\n"
     ]
    }
   ],
   "source": [
    "#Ex.002\n",
    "# Crie um script Python que leia o nome de uma pessoa e mostre uma mensagem de boas-vindas de acordo com o valor digitado.\n",
    "nome = input ('Qual é seu nome?')\n",
    "print('Olá',nome,'!','Seja bem vindo!')\n",
    "#ou\n",
    "nome=input('Digite seu nome: ')\n",
    "print('É um prazer te conhecer, {}!'.format(nome))"
   ]
  },
  {
   "cell_type": "code",
   "execution_count": 7,
   "metadata": {},
   "outputs": [
    {
     "name": "stdout",
     "output_type": "stream",
     "text": [
      "A soma é 64\n",
      "A soma é 64\n",
      "A soma entre 32 e 32 vale 64\n"
     ]
    }
   ],
   "source": [
    "# Ex.003\n",
    "# Crie um script em python que leia dois números e mostre a soma entre eles.\n",
    "n1 = input ('Primeiro número')\n",
    "n2 = input ('Segundo número')\n",
    "print ('A soma é',int(n1)+int(n2))\n",
    "#ou \n",
    "n1 = int(input ('Primeiro número'))\n",
    "n2 = int(input ('Segundo número'))\n",
    "s = n1 + n2\n",
    "print ('A soma é',s)\n",
    "#ou\n",
    "n1 = int(input ('Digite um valor: '))\n",
    "n2 = int(input ('Digite outro valor: '))\n",
    "s = n1 + n2\n",
    "#print ('A soma entre',n1, 'e', n2, 'vale', s)\n",
    "print('A soma entre {} e {} vale {}'.format(n1,n2,s))"
   ]
  },
  {
   "cell_type": "code",
   "execution_count": null,
   "metadata": {},
   "outputs": [],
   "source": [
    "#Ex.004 \n",
    "# Faça um programa que leia algo pelo teclado e mostre na tela o seu tipo primitivo e todos as informaçoes possiveis sobre ela.\n",
    "a = input('Digite algo: ')\n",
    "print('É do tipo primitivo', type(a))\n",
    "print('Possui espaços apenas espaços em branco?', a.isspace())\n",
    "print('Possui apenas números?', a.isnumeric())\n",
    "print('Possui apenas letras?', a.isalpha())\n",
    "print('Possui letras ou números?', a.isalnum())\n",
    "print('Possui números de 0 a 9?', a.isdecimal())\n",
    "print('Possui todas as letras em minúsculo?', a.islower())\n",
    "print('Possui todas as letras em maiúsculas?', a.isupper())\n",
    "print('Possui a primeira palavra maiúscula e o restante minúsculas?', a.istitle()) "
   ]
  },
  {
   "cell_type": "code",
   "execution_count": 4,
   "metadata": {},
   "outputs": [
    {
     "name": "stdout",
     "output_type": "stream",
     "text": [
      "Analisando o valor 32 o sucesso é 33 e o antecessor é 31\n",
      "Analisando o valor 32 o sucesso é 33 e o antecessor é 31\n"
     ]
    }
   ],
   "source": [
    "#Ex.005 \n",
    "# Faça um programa que leia um número interiro e motre na tela o seu sucessor e o seu antecessor. \n",
    "n1=int (input('Digite um numero:'))\n",
    "suc= n1+1 \n",
    "ant= n1-1 \n",
    "print('Analisando o valor {} o sucesso é {} e o antecessor é {}'.format(n1,suc,ant))\n",
    "\n",
    "#ou \n",
    "n1=int (input('Digite um numero:'))\n",
    "print('Analisando o valor {} o sucesso é {} e o antecessor é {}'.format(n1,(n1+1),(n1-1)))\n"
   ]
  },
  {
   "cell_type": "code",
   "execution_count": 13,
   "metadata": {},
   "outputs": [
    {
     "name": "stdout",
     "output_type": "stream",
     "text": [
      "O dobro de 18 é 36, \n",
      "o triplo é 54 e a raiz é 4.242640687119285\n",
      "O dobro de 18 é 36, \n",
      "o triplo é 54 e a raiz é 4.24\n"
     ]
    }
   ],
   "source": [
    "#Ex.006 \n",
    "# Crie um algoritimo que leia um número e mostre o seu dobro, triplo e raiz quadrada.\n",
    "n1= int(input('Digite um número:')) \n",
    "dob= n1*2 \n",
    "tri= n1*3 \n",
    "raiz= n1**(1/2)\n",
    "print(f'O dobro de {n1} é {dob}, \\no triplo é {tri} e a raiz é {raiz}')\n",
    "\n",
    "#ou\n",
    "n= int(input('Digite um número:')) \n",
    "print('O dobro de {} é {}, \\no triplo é {} e a raiz é {:.2f}'.format(n,(n*2),(n*3),(n**(1/2))))"
   ]
  },
  {
   "cell_type": "code",
   "execution_count": 19,
   "metadata": {},
   "outputs": [
    {
     "name": "stdout",
     "output_type": "stream",
     "text": [
      "A media do aluno no ano foi de 6.7!\n",
      "A media entre 8.5 e 4.9 do aluno no ano foi de 6.7!\n"
     ]
    }
   ],
   "source": [
    "#Ex.007 \n",
    "# Desenvolva um programa que leia as duas notas de um aluno, calcule e mostre a sua média.\n",
    "n1= float(input('Digite a nota do 1° semestre:'))\n",
    "n2= float(input('Digite a nota do 2° semestre:')) \n",
    "med= (n1+n2)/2\n",
    "print(f'A media do aluno no ano foi de {med}!')\n",
    "\n",
    "#ou\n",
    "n1= float(input('Digite a nota do 1° semestre:'))\n",
    "n2= float(input('Digite a nota do 2° semestre:')) \n",
    "med= (n1+n2)/2\n",
    "print('A media entre {:.1f} e {:.1f} do aluno no ano foi de {:.1f}!'.format(n1,n2,med))"
   ]
  },
  {
   "cell_type": "code",
   "execution_count": 23,
   "metadata": {},
   "outputs": [
    {
     "name": "stdout",
     "output_type": "stream",
     "text": [
      "2.5 em metros equivale a 250.0 centimetros e a 2500.0 milimetros!\n",
      "A medida de 2.5m corresponde a 250cm e 2500mm\n"
     ]
    }
   ],
   "source": [
    "#Ex.008\n",
    "# Escreva um programa que leia um valor em metros e o exiba convertido em centimetros e milimetros.\n",
    "n1= float(input('Digite uma medida em metros:')) \n",
    "cent= n1*100 \n",
    "mil= n1*1000\n",
    "print(f'{n1} em metros equivale a {cent} centimetros e a {mil} milimetros!')\n",
    "\n",
    "#ou \n",
    "print('A medida de {}m corresponde a {:.0f}cm e {:.0f}mm'.format(n1,cent,mil))"
   ]
  },
  {
   "cell_type": "code",
   "execution_count": 25,
   "metadata": {},
   "outputs": [
    {
     "name": "stdout",
     "output_type": "stream",
     "text": [
      "9 X 1= 9\n",
      "9 X 2= 18\n",
      "9 X 3= 27\n",
      "9 X 4= 36\n",
      "9 X 5= 45\n",
      "9 X 6= 54\n",
      "9 X 7= 63\n",
      "9 X 8= 72\n",
      "9 X 9= 81\n",
      "9 X 10= 90\n",
      "------------\n",
      "9 X  1 = 9\n",
      "9 X  2 = 18\n",
      "9 X  3 = 27\n",
      "9 X  4 = 36\n",
      "9 X  5 = 45\n",
      "9 X  6 = 54\n",
      "9 X  7 = 63\n",
      "9 X  8 = 72\n",
      "9 X  9 = 81\n",
      "9 X 10 = 90\n",
      "------------\n"
     ]
    }
   ],
   "source": [
    "#Ex.009\n",
    "# Faça um programa que leia um número interio e qualquer e mostre a sua tabuada na tela.\n",
    "n1= int(input('Digite um número para ver sua tabuada:')) \n",
    "x1= n1*1\n",
    "x2= n1*2 \n",
    "x3= n1*3\n",
    "x4= n1*4 \n",
    "x5= n1*5 \n",
    "x6= n1*6 \n",
    "x7= n1*7 \n",
    "x8= n1*8 \n",
    "x9= n1*9 \n",
    "x10= n1*10 \n",
    "print(f'{n1} X 1= {x1}') \n",
    "print(f'{n1} X 2= {x2}') \n",
    "print(f'{n1} X 3= {x3}') \n",
    "print(f'{n1} X 4= {x4}') \n",
    "print(f'{n1} X 5= {x5}') \n",
    "print(f'{n1} X 6= {x6}') \n",
    "print(f'{n1} X 7= {x7}') \n",
    "print(f'{n1} X 8= {x8}') \n",
    "print(f'{n1} X 9= {x9}') \n",
    "print(f'{n1} X 10= {x10}')\n",
    "\n",
    "#ou \n",
    "print('-' * 12)\n",
    "print('{} X {:2} = {}'. format(n1, 1 , n1*1)) \n",
    "print('{} X {:2} = {}'. format(n1, 2 , n1*2)) \n",
    "print('{} X {:2} = {}'. format(n1, 3 , n1*3)) \n",
    "print('{} X {:2} = {}'. format(n1, 4 , n1*4)) \n",
    "print('{} X {:2} = {}'. format(n1, 5 , n1*5)) \n",
    "print('{} X {:2} = {}'. format(n1, 6 , n1*6)) \n",
    "print('{} X {:2} = {}'. format(n1, 7 , n1*7)) \n",
    "print('{} X {:2} = {}'. format(n1, 8 , n1*8)) \n",
    "print('{} X {:2} = {}'. format(n1, 9 , n1*9)) \n",
    "print('{} X {:2} = {}'. format(n1, 10 , n1*10)) \n",
    "print('-' * 12) \n"
   ]
  },
  {
   "cell_type": "code",
   "execution_count": 30,
   "metadata": {},
   "outputs": [
    {
     "name": "stdout",
     "output_type": "stream",
     "text": [
      "Você tem 44.51376146788991 dolares!\n",
      "Com R$145.56 você pode comprar US$44.51\n"
     ]
    }
   ],
   "source": [
    "#Ex.010\n",
    "# Crie um programa que leia quanto dinheiro uma pessoa tem na carteira e mostre quantos Dólares ela pode comprar, CONSIDERANDO US$1,00 = R$3,27\n",
    "real= float(input('Quanto reais R$ tem em sua carteira:'))\n",
    "dol= real/3.27\n",
    "print(f'Você tem {dol} dolares!')\n",
    "\n",
    "#ou \n",
    "print('Com R${:.2f} você pode comprar US${:.2f}'.format(real, dol))"
   ]
  },
  {
   "cell_type": "code",
   "execution_count": 31,
   "metadata": {},
   "outputs": [
    {
     "name": "stdout",
     "output_type": "stream",
     "text": [
      "Com a area total de 6.0, necessita de 3.0 litros de tinta!\n"
     ]
    }
   ],
   "source": [
    "#Ex.011\n",
    "# Faça um programa que leia a largura e a altura de uma parede em metros, calcule a sua área e a quantidade de tinta necessária para pintá-la, sabendo que cada litro de tinta, pinta uma área de 2m².\n",
    "n1= float(input('Qual a largura da parede:'))\n",
    "n2= float(input('Qual a altura da parede:'))\n",
    "area= n1*n2\n",
    "tinta= area/2\n",
    "print(f'Com a area total de {area}, necessita de {tinta} litros de tinta!')"
   ]
  },
  {
   "cell_type": "code",
   "execution_count": 34,
   "metadata": {},
   "outputs": [
    {
     "name": "stdout",
     "output_type": "stream",
     "text": [
      "O valor do produto com desconto é de 95.0 reais!\n",
      "o produto que custava R$ 100.00, na promoção com desconto de 5% vai sair por R$ 95.00\n"
     ]
    }
   ],
   "source": [
    "#Ex.012\n",
    "# Faça um algoritimo que leia o preço de um produto e mostre seu novo preço, com 5% de desconto.\n",
    "n1=float(input('Qual o valor do produto:R$ '))\n",
    "liq= n1-(n1*0.05)\n",
    "print(f'O valor do produto com desconto é de {liq} reais!')\n",
    "\n",
    "#ou \n",
    "novo = n1 - (n1*5/100)\n",
    "print('o produto que custava R$ {:.2f}, na promoção com desconto de 5% vai sair por R$ {:.2f}'.format(n1,novo))"
   ]
  },
  {
   "cell_type": "code",
   "execution_count": 36,
   "metadata": {},
   "outputs": [
    {
     "name": "stdout",
     "output_type": "stream",
     "text": [
      "Seu novo salario é de R$1150.0!\n",
      "Um funcionário que ganhava R$1000.00, com 15% de aumento, passa a receber R$ 1150.00\n"
     ]
    }
   ],
   "source": [
    "#Ex.013\n",
    "# Faça um algoritimo que leia o salário de um funcionário e mostre seu novo salário com 15% de aumento. \n",
    "n1=float(input('Digite seu salario:R$'))\n",
    "aum= (n1*15)/100+n1\n",
    "print(f'Seu novo salario é de R${aum}!')\n",
    "\n",
    "#ou \n",
    "novo= n1 + (n1*15/100)\n",
    "print('Um funcionário que ganhava R${:.2f}, com 15% de aumento, passa a receber R$ {:.2f}'.format(n1,novo))"
   ]
  },
  {
   "cell_type": "code",
   "execution_count": 37,
   "metadata": {},
   "outputs": [
    {
     "name": "stdout",
     "output_type": "stream",
     "text": [
      "A temperatura de 40.0°C corresponde a 104.0°F\n"
     ]
    }
   ],
   "source": [
    "#Ex.014\n",
    "# Escreva um programa que converta uma temperatura digitada em grau Celsius (°C) para Fahrenheit (°F)\n",
    "c = float(input(' Informe a temperatura em Celsius(°C): '))\n",
    "f = ((9*c)/5)+32\n",
    "print('A temperatura de {}°C corresponde a {}°F'.format(c,f))"
   ]
  },
  {
   "cell_type": "code",
   "execution_count": 1,
   "metadata": {},
   "outputs": [
    {
     "name": "stdout",
     "output_type": "stream",
     "text": [
      "O total a pagar é de R$ 232.50\n"
     ]
    }
   ],
   "source": [
    "#Ex.015\n",
    "# Escreva um programa que pergunte a quantidade de Km percorridos por um carro alugado e a quantidade de dias pelos quais ele foi alugado. Calcule o preço a pagar, sabendo que o carro custa R$60 por dia e R$0,15 por Km rodado.\n",
    "dias = int(input('Quantos dias alugados? '))\n",
    "km = float(input('Quantos km rodados? '))\n",
    "pago = (dias * 60) + (km *0.15)\n",
    "print('O total a pagar é de R$ {:.2f}'.format(pago))"
   ]
  },
  {
   "cell_type": "code",
   "execution_count": 4,
   "metadata": {},
   "outputs": [
    {
     "name": "stdout",
     "output_type": "stream",
     "text": [
      "A parte inteira de 5.8785 é 5.\n",
      "A parte inteira de 487.87 é 487.\n",
      "A parte inteira de 31.081991 é 31.\n"
     ]
    }
   ],
   "source": [
    "#EX.016 \n",
    "#Crie um programa que leia um número REAL qualquer pelo teclado e mostre na tela a sua porção inteira \n",
    "    #exemplo: Digita um número: 6.127 O número inteiro 6.127 tem a parte inteira 6.\n",
    "\n",
    "import math\n",
    "num = float(input('Digite um número e descubra a sua parte inteira:'))\n",
    "print('A parte inteira de {} é {}.'.format(num, math.trunc(num)))\n",
    "\n",
    "#ou usando o from\n",
    "\n",
    "from math import trunc\n",
    "num1 = float(input('Digite um número e descubra a sua parte inteira:'))\n",
    "print('A parte inteira de {} é {}.'.format(num1, trunc(num1)))\n",
    "\n",
    "#ou \n",
    "num2 = float(input('Digite um número e descubra a sua parte inteira:'))\n",
    "print('A parte inteira de {} é {}.'.format(num2, int(num2)))"
   ]
  },
  {
   "cell_type": "code",
   "execution_count": 11,
   "metadata": {},
   "outputs": [
    {
     "name": "stdout",
     "output_type": "stream",
     "text": [
      "A hipotenusa vai medir 8.54\n",
      "A hipotenusa vai medir 8.54\n"
     ]
    }
   ],
   "source": [
    "#Ex.017\n",
    "# Faça um programa que leia o comprimento do cateto oposto e do cateto adjacente de um Triangulo retangulo, calcule e mostre o comprimento da hipotenusa.\n",
    "\n",
    "co = float(input('Comprimento do cateto oposto: '))\n",
    "ca = float(input('Comprimento do Cateto Adjacente: '))\n",
    "hi = (co**2 + ca**2) ** (1/2)\n",
    "print('A hipotenusa vai medir {:.2f}'.format(hi))\n",
    "\n",
    "#ou \n",
    "from math import hypot\n",
    "\"\"\"co = float(input('Comprimento do cateto oposto: '))\n",
    "ca = float(input('Comprimento do Cateto Adjacente: '))\"\"\"\n",
    "hi = hypot(co, ca)\n",
    "print('A hipotenusa vai medir {:.2f}'.format(hi))\n"
   ]
  },
  {
   "cell_type": "code",
   "execution_count": 15,
   "metadata": {},
   "outputs": [
    {
     "name": "stdout",
     "output_type": "stream",
     "text": [
      "O ângulo de 45.0 tem o SENO de 0.71\n",
      "O ângulo de 45.0 tem o cosseno de 0.71\n",
      "O ângulo de 45.0 tem a tangente de 1.00\n",
      "O ângulo de 45.0 tem o SENO de 0.71\n",
      "O ângulo de 45.0 tem o cosseno de 0.71\n",
      "O ângulo de 45.0 tem a tangente de 1.00\n"
     ]
    }
   ],
   "source": [
    "#Ex.018\n",
    "# Faça um programa que leia um ângulo qualquer e mostre na tela o valor do seno, cosseno e tangente desse ângulo.\n",
    "\n",
    "import math\n",
    "ângulo = float(input('Digite o ângulo que você deseja: '))\n",
    "seno = math.sin(math.radians(ângulo))\n",
    "print('O ângulo de {} tem o SENO de {:.2f}'.format(ângulo,seno))\n",
    "cosseno = math.cos(math.radians(ângulo))\n",
    "print('O ângulo de {} tem o cosseno de {:.2f}'.format(ângulo,cosseno))\n",
    "tangente = math.tan(math.radians(ângulo))\n",
    "print('O ângulo de {} tem a tangente de {:.2f}'.format(ângulo,tangente))\n",
    "\n",
    "#ou usando o from\n",
    "\n",
    "from math import radians, sin, cos, tan\n",
    "# ângulo = float(input('Digite o ângulo que você deseja: '))\n",
    "seno = sin(radians(ângulo))\n",
    "print('O ângulo de {} tem o SENO de {:.2f}'.format(ângulo,seno))\n",
    "cosseno = cos(radians(ângulo))\n",
    "print('O ângulo de {} tem o cosseno de {:.2f}'.format(ângulo,cosseno))\n",
    "tangente = tan(radians(ângulo))\n",
    "print('O ângulo de {} tem a tangente de {:.2f}'.format(ângulo,tangente))\n"
   ]
  },
  {
   "cell_type": "code",
   "execution_count": 20,
   "metadata": {},
   "outputs": [
    {
     "name": "stdout",
     "output_type": "stream",
     "text": [
      "O aluno escolhido foi ricardo\n",
      "O aluno escolhido foi ricardo\n"
     ]
    }
   ],
   "source": [
    "#Ex.019\n",
    "# Um professor quer sortear um dos seus quatro alunos para apagar o quadro. Faça um programa que ajude ele, lendo o nome dos alunos e escrevendo na tela o nome do escolhido.\n",
    "import random\n",
    "n1 = str(input('Primeiro Aluno: '))\n",
    "n2 = str(input('Segundo Aluno : '))\n",
    "n3 = str(input('Terceiro Aluno: '))\n",
    "n4 = str(input('Quarto Aluno: '))\n",
    "chamada = [n1, n2, n3, n4]\n",
    "escolhido = random.choice(chamada)\n",
    "print(f'O aluno escolhido foi {escolhido}') #mesmo print('O aluno escolhido foi {}' .format(escolhido))\n",
    "\n",
    "#ou usando o from \n",
    "\n",
    "from random import choice\n",
    "\n",
    "escolhido = choice(chamada)\n",
    "print(f'O aluno escolhido foi {escolhido}')"
   ]
  },
  {
   "cell_type": "code",
   "execution_count": 29,
   "metadata": {},
   "outputs": [
    {
     "name": "stdout",
     "output_type": "stream",
     "text": [
      "A ordem de apresentação é:\n",
      "1. Samara\n",
      "2. Fernanda\n",
      "3. Dalva\n",
      "4. Ricardo\n"
     ]
    }
   ],
   "source": [
    "#Ex.020\n",
    "#  O mesmo professor do desafio 19 quer sortear a ordem de apresentação de trabalhos dos alunos. Faça um programa que leia o nome dos quatro alunos e mostre a ordem sorteada.\n",
    "import random\n",
    "# Leitura dos nomes dos alunos\n",
    "n1 = input('Nome do primeiro aluno: ')\n",
    "n2 = input('Nome do segundo aluno: ')\n",
    "n3 = input('Nome do terceiro aluno: ')\n",
    "n4 = input('Nome do quarto aluno: ')\n",
    "# Colocando os nomes em uma lista\n",
    "todos = [n1, n2, n3, n4]\n",
    "# Embaralhando a lista\n",
    "random.shuffle(todos)\n",
    "# Mostrando a ordem de apresentação\n",
    "print('A ordem de apresentação é:')\n",
    "for i, aluno in enumerate(todos, start=1):\n",
    "    print(f\"{i}. {aluno}\")"
   ]
  },
  {
   "cell_type": "code",
   "execution_count": 35,
   "metadata": {},
   "outputs": [
    {
     "name": "stdout",
     "output_type": "stream",
     "text": [
      "pygame 2.5.2 (SDL 2.28.3, Python 3.12.3)\n",
      "Hello from the pygame community. https://www.pygame.org/contribute.html\n"
     ]
    }
   ],
   "source": [
    "#Ex.021\n",
    "# Faça um programa em Python que abra e reproduza o áudio de um arquivo MP3.\n",
    "    #! pip install pygame\n",
    "import pygame\n",
    "pygame.init()\n",
    "pygame.mixer.music.load(nomedoarquivomp3)\n",
    "pygame.mixer.music.play()\n",
    "pygame.event.wain()\n",
    "\n"
   ]
  },
  {
   "cell_type": "code",
   "execution_count": 39,
   "metadata": {},
   "outputs": [
    {
     "name": "stdout",
     "output_type": "stream",
     "text": [
      "Analisando seu nome \n",
      "Seu nome em maiuscula é VICTORIA SABBATINO WERMELINGER\n",
      "Seu nome em maiuscula é victoria sabbatino wermelinger\n",
      "Seu nome tem 28 letras\n",
      "Seu primeiro nome tem 8 letras\n",
      "seu primeiro nome é Victoria e ele tem 8 letras \n"
     ]
    }
   ],
   "source": [
    "#Ex.022 \n",
    "#Crie um programa que leia o nome completo de uma pessoa e mostre:\n",
    "\"\"\"O nome com todas as letras maiúsculas e minúsculas.\n",
    "    Quantas letras ao todo (sem considerar espaços).\n",
    "    Quantas letras tem o primeiro nome.\"\"\" \n",
    "\n",
    "Nome= str(input('Digite nome completo: ')).strip()\n",
    "print('Analisando seu nome ')\n",
    "print(f'Seu nome em maiuscula é {Nome.upper()}')\n",
    "print(f'Seu nome em maiuscula é {Nome.lower()}')\n",
    "print(f'Seu nome tem {len(Nome)-Nome.count(' ')} letras')\n",
    "print(f'Seu primeiro nome tem {Nome.find(' ')} letras')\n",
    "\n",
    "#ou para fazer o último\n",
    "separa = Nome.split()\n",
    "print(f'seu primeiro nome é {separa[0]} e ele tem {len(separa[0])} letras ')\n"
   ]
  },
  {
   "cell_type": "code",
   "execution_count": 40,
   "metadata": {},
   "outputs": [
    {
     "name": "stdout",
     "output_type": "stream",
     "text": [
      "Analisando o número 58452\n",
      "Unidade:2\n",
      "Dezena: 5\n",
      "Centena: 4\n",
      "Milhar: 8\n"
     ]
    }
   ],
   "source": [
    "#Ex.023 \n",
    "# Faça um programa que leia um número de 0 a 9999 e mostre na tela cada um dos dígitos separados.\n",
    "\n",
    "num = int(input('Informe um número: '))\n",
    "u = num // 1 % 10\n",
    "d = num // 10 % 10\n",
    "c = num // 100 % 10\n",
    "m = num // 1000 % 10\n",
    "print(f'Analisando o número {num}')\n",
    "print(f'Unidade:{u}')\n",
    "print(f'Dezena: {d}')\n",
    "print(f'Centena: {c}')\n",
    "print(f'Milhar: {m}')"
   ]
  },
  {
   "cell_type": "code",
   "execution_count": null,
   "metadata": {},
   "outputs": [],
   "source": [
    "#Ex.024 \n",
    "# Crie um programa que leia o nome de uma cidade diga se ela começa ou não com o nome “SANTO”.\n",
    "\n",
    "cid = str (input('Em que cidade você nasceu? ')).strip()\n",
    "print(cid[:5].upper()== 'SANTO')"
   ]
  },
  {
   "cell_type": "code",
   "execution_count": null,
   "metadata": {},
   "outputs": [],
   "source": [
    "#Ex.025 \n",
    "# Crie um programa que leia o nome de uma pessoa e diga se ela tem “SILVA” no nome.\n",
    "\n",
    "nome = str(input(\"NOME COMPLETO: \")).strip().upper()\n",
    "print(f'Seu nome tem \"Silva?\" {\"SILVA\" in nome}')"
   ]
  },
  {
   "cell_type": "code",
   "execution_count": 41,
   "metadata": {},
   "outputs": [
    {
     "name": "stdout",
     "output_type": "stream",
     "text": [
      "A letra A aparece 4 vezes na frase ARARA AZUL\n",
      "A primeira letra A apareceu na posição 1\n",
      "A última letra A apareceu na posição 7\n"
     ]
    }
   ],
   "source": [
    "#Ex.026 \n",
    "# Faça um programa que leia uma frase pelo teclado e mostre\n",
    "\"\"\"quantas vezes aparece a letra “A”, \n",
    "em que posição ela aparece a primeira vez,\n",
    "em que posição ela aparece a última vez.\"\"\"\n",
    "\n",
    "frase = str(input('Digite uma frase: ')).strip().upper()\n",
    "print(f'A letra A aparece {frase.count('A')} vezes na frase {frase}')\n",
    "print(f'A primeira letra A apareceu na posição {frase.find('A')+1}')\n",
    "print(f'A última letra A apareceu na posição {frase.rfind('A')+1}')"
   ]
  },
  {
   "cell_type": "code",
   "execution_count": 48,
   "metadata": {},
   "outputs": [
    {
     "name": "stdout",
     "output_type": "stream",
     "text": [
      "Muito prazer em te conhecer: \n",
      "Seu primeiro nome é VICTORIA\n",
      "Seu último nome é WERMELINGER\n"
     ]
    }
   ],
   "source": [
    "#Ex.027\n",
    "# Faça um programa que leia o nome completo de uma pessoa, mostrando em seguida o primeiro e o último nome separadamente.\n",
    "\n",
    "nome = str(input('Qual o seu nome Completo? ')).strip().upper().split()\n",
    "print(f'Muito prazer em te conhecer: ')\n",
    "print(f'Seu primeiro nome é {nome[0]}')\n",
    "print(f'Seu último nome é {nome[-1]}')"
   ]
  },
  {
   "cell_type": "code",
   "execution_count": 57,
   "metadata": {},
   "outputs": [
    {
     "name": "stdout",
     "output_type": "stream",
     "text": [
      "-=--=--=--=--=--=--=--=--=--=--=--=--=--=--=--=--=--=--=--=-\n",
      "Vou pensar em um número de 0 a 5... Tente adivinhar qual é o número!\n",
      "-=--=--=--=--=--=--=--=--=--=--=--=--=--=--=--=--=--=--=--=-\n",
      "PROCESSANDO...\n",
      "GANHEI!! Eu pensei no numero 3 e não no 4\n"
     ]
    }
   ],
   "source": [
    "#Ex.028 \n",
    "# Escreva um programa que faça o computador “pensar” em um número inteiro entre 0 e 5 e peça para o usuário tentar descobrir qual foi o número escolhido pelo computador. O programa deverá escrever na tela se o usuário venceu ou perdeu.\n",
    "\n",
    "from random import randint\n",
    "from time import sleep\n",
    "computador = randint(0, 5) #Faz o computador \"pensar\"\n",
    "print('-=-' * 20)\n",
    "print('Vou pensar em um número de 0 a 5... Tente adivinhar qual é o número!')\n",
    "print('-=-' * 20)\n",
    "jogador = int(input('Qual é o número eu pensei? ')) # Jogador tenta adivinhar\n",
    "print('PROCESSANDO...') \n",
    "sleep(2)\n",
    "if computador == jogador:\n",
    "    print('PARABÉNS! Você conseguiu me VENCER!')\n",
    "else:\n",
    "    print(f'GANHEI!! Eu pensei no numero {computador} e não no {jogador}')"
   ]
  },
  {
   "cell_type": "code",
   "execution_count": 120,
   "metadata": {},
   "outputs": [
    {
     "name": "stdout",
     "output_type": "stream",
     "text": [
      "A velocidade  do carro é de 16km/h\n",
      "Tenha um Bom Dia!, Dirija com segurança!\n"
     ]
    }
   ],
   "source": [
    "#Ex.029 \n",
    "# Escreva um programa que leia a velocidade de um carro. \n",
    "\"\"\"Se ele ultrapassar 80Km/h, mostre uma mensagem dizendo que ele foi multado.\n",
    " A multa vai custar R$7,00 por cada Km acima do limite.\"\"\"\n",
    "\n",
    "import random\n",
    "velocidade = random.randint(10,120)\n",
    "print(f'A velocidade  do carro é de {velocidade}km/h')\n",
    "\n",
    "if velocidade > 80:\n",
    "    print('Cidadão, seu carro ultrapassou os 80km/h, chegando a {}km/h, sua multa é R$ {:.2f}'.format(velocidade, (velocidade - 80)*7,00))\n",
    "else:\n",
    "    print('Tenha um Bom Dia!, Dirija com segurança!')"
   ]
  },
  {
   "cell_type": "code",
   "execution_count": 121,
   "metadata": {},
   "outputs": [
    {
     "name": "stdout",
     "output_type": "stream",
     "text": [
      "-=--=--=--=--=--=--=--=--=--=-\n",
      "O valor 31 é IMPAR!\n",
      "-=--=--=--=--=--=--=--=--=--=-\n",
      "-=--=--=--=--=--=--=--=--=--=-\n",
      "O valor 181 é IMPAR!\n",
      "-=--=--=--=--=--=--=--=--=--=-\n"
     ]
    }
   ],
   "source": [
    "#Ex.030 \n",
    "#Crie um programa que leia um número inteiro e mostre na tela se ele é PAR ou ÍMPAR.\n",
    "num = int(input('Digite um numero: '))\n",
    "print('-=-'*10)\n",
    "if num % 2 == 0:\n",
    "    print(f'O valor {num} é PAR!')\n",
    "else:\n",
    "    print(f'O valor {num} é IMPAR!')\n",
    "print('-=-'*10)\n",
    "\n",
    "#ou de forma automatica \n",
    "\n",
    "import random\n",
    "num = random.randint(0,1000)\n",
    "print('-=-'*10)\n",
    "if num % 2 == 0:\n",
    "    print(f'O valor {num} é PAR!')\n",
    "else:\n",
    "    print(f'O valor {num} é IMPAR!')\n",
    "print('-=-'*10)"
   ]
  },
  {
   "cell_type": "code",
   "execution_count": 147,
   "metadata": {},
   "outputs": [
    {
     "name": "stdout",
     "output_type": "stream",
     "text": [
      "------------------------------------------------------------\n",
      "Sua viagem é de 774km, o valor da passagem será de R$348.30\n",
      "------------------------------------------------------------\n",
      "------------------------------------------------------------\n",
      "O valor da passagem será de R$348.30\n"
     ]
    }
   ],
   "source": [
    "#Ex.031  Desenvolva um programa que pergunte a distância de uma viagem em Km. \n",
    "\"\"\"Calcule o preço da passagem, cobrando R$0,50 por Km para viagens de até 200Km e R$0,45 parta viagens mais longas.\"\"\"\n",
    "from random import randint\n",
    "distancia = random.randint(0,1000)\n",
    "print('---'*20)\n",
    "if distancia <= 200:\n",
    "  print('Sua viagem é de {}Km o valor da passagem será R${:.2f}'.format(distancia, distancia * 0.5))\n",
    "else:\n",
    "    print('Sua viagem é de {}km, o valor da passagem será de R${:.2f}'.format(distancia, distancia * 0.45))\n",
    "print('---'*20)\n",
    "\n",
    "#ou \n",
    "print('---'*20)\n",
    "preco = distancia * 0.50 if distancia <= 200 else distancia * 0.45\n",
    "print('O valor da passagem será de R${:.2f}'.format(preco))\n"
   ]
  },
  {
   "cell_type": "code",
   "execution_count": 158,
   "metadata": {},
   "outputs": [
    {
     "name": "stdout",
     "output_type": "stream",
     "text": [
      "Ano 2025 normal!\n",
      "Ano 2024 bissexto!\n"
     ]
    }
   ],
   "source": [
    "#Ex.032 \n",
    "# Faça um programa que leia um ano qualquer e mostre se ele é bissexto.\n",
    "ano = int(input(\"Digite um ano: \"))\n",
    "if (ano % 4 == 0 and ano % 100 != 0) or (ano % 400 == 0):\n",
    "  print(f\"Ano {ano} bissexto!\")\n",
    "else:\n",
    "  print(f'Ano {ano} normal!')  \n",
    "\n",
    "#ou \n",
    "\n",
    "from datetime import date\n",
    "ano = int(input(\"Digite um ano ou coloque 0 para analisar o ano atual: \"))\n",
    "if ano == 0:\n",
    "  ano = date.today().year\n",
    "if (ano % 4 == 0 and ano % 100 != 0) or (ano % 400 == 0):\n",
    "  print(f\"Ano {ano} bissexto!\")\n",
    "else:\n",
    "  print(f'Ano {ano} normal!')"
   ]
  },
  {
   "cell_type": "code",
   "execution_count": 167,
   "metadata": {},
   "outputs": [
    {
     "name": "stdout",
     "output_type": "stream",
     "text": [
      "Menor numero digitado, 1\n",
      "Maior numero digitado, 8\n"
     ]
    }
   ],
   "source": [
    "#Ex.033 \n",
    "# Faça um programa que leia três números e mostre qual é o maior e qual é o menor.\n",
    "\n",
    "n1 = int(input('Digite o primeiro numero:'))\n",
    "n2 = int(input('Digite o segundo numeoro:'))\n",
    "n3 = int(input('Digite o terceiro numero:'))\n",
    "#verificando quem é menor \n",
    "menor = n1\n",
    "if n2 < n1 and n2 < n3:\n",
    "    menor = n2\n",
    "if n3 < n1 and n3 < n2:\n",
    "    menor = n3\n",
    "print(f'Menor numero digitado, {menor}')\n",
    "#verificando quem é o maior \n",
    "maior = n1 \n",
    "if n2 > n1 and n3 > n2: \n",
    "    maior = n2 \n",
    "if n3 > n1 and n3 > n2:\n",
    "    maior = n3\n",
    "print(f'Maior numero digitado, {maior}')\n"
   ]
  },
  {
   "cell_type": "code",
   "execution_count": 169,
   "metadata": {},
   "outputs": [
    {
     "name": "stdout",
     "output_type": "stream",
     "text": [
      "O novo salario de Vic é de R$5500.0\n"
     ]
    }
   ],
   "source": [
    "#Ex.034 \n",
    "# Escreva um programa que pergunte o salário de um funcionário e calcule o valor do seu aumento. \n",
    "\"\"\"Para salários superiores a R$1250,00, \n",
    "calcule um aumento de 10%. Para os inferiores ou iguais, o aumento é de 15%.\"\"\"\n",
    "\n",
    "nome = str(input('Qual nome do funionario? ')).strip().capitalize()\n",
    "s = float(input(f'Qual salario de {nome} R$'))\n",
    "if s >= 1250:\n",
    "    ns = s + (10*s) / 100\n",
    "else:\n",
    "    ns = s + (15*s) / 100\n",
    "print(f'O novo salario de {nome} é de R${ns}')"
   ]
  },
  {
   "cell_type": "code",
   "execution_count": 170,
   "metadata": {},
   "outputs": [
    {
     "name": "stdout",
     "output_type": "stream",
     "text": [
      "Formam um triangulo\n"
     ]
    }
   ],
   "source": [
    "#Ex.035\n",
    "# Desenvolva um programa que leia o comprimento de três retas e diga ao usuário se elas podem ou não formar um triângulo.\n",
    "a = float(input('Digite a reta de um triângulo: '))\n",
    "b = float(input('Digite a reta de um triângulo: '))\n",
    "c = float(input('Digite a reta de um triângulo: '))\n",
    "\n",
    "if a + b > c and a + c > b and b + c > a:\n",
    "  print('Formam um triangulo')\n",
    "else:\n",
    "  print(\"Não formam um triangulo\")"
   ]
  },
  {
   "cell_type": "code",
   "execution_count": 9,
   "metadata": {},
   "outputs": [
    {
     "name": "stdout",
     "output_type": "stream",
     "text": [
      "-=-=-=-=-=-=-=-=-=-=-=-=-=-=-=-=-=-=-=-=-=-=-=-=-=-=-=-=-=-=\n",
      "Simule seu empréstimo bancário agora mesmo!\n",
      "-=-=-=-=-=-=-=-=-=-=-=-=-=-=-=-=-=-=-=-=-=-=-=-=-=-=-=-=-=-=\n",
      "Para pagar uma casa de R$ 250000.00 em 10 anos a prestação será de R$ 2083.33\n",
      "Emprestimo Não pode ser concedido, Lamento!\n"
     ]
    }
   ],
   "source": [
    "\"\"\"Ex.036 Escreva um programa para aprovar o empréstimo bancário para a compra de uma casa. \n",
    "Pergunte o valor da casa, o salário do comprador e em quantos anos ele vai pagar. \n",
    "A prestação mensal não pode exceder 30% do salário ou então o empréstimo será negado.\"\"\"\n",
    "#ilustração \n",
    "print('-=' * 30)\n",
    "print('Simule seu empréstimo bancário agora mesmo!')\n",
    "print('-=' * 30)\n",
    "\n",
    "valor_casa = float(input('Qual é o valor da casa que você deseja comprar?R$ '))\n",
    "salario = float(input('Qual é o seu salário?R$ '))\n",
    "tempo = int(input('Em quantos anos você deseja financiar? '))\n",
    "prestação = valor_casa / (tempo * 12)\n",
    "minimo = salario * 30/100\n",
    "print(f'Para pagar uma casa de R$ {valor_casa:.2f} em {tempo} anos ', end='')\n",
    "print(f'a prestação será de R$ {prestação :.2f}')\n",
    "\n",
    "if prestação <= minimo:\n",
    "    print('Emprestimo Concedido, PARABENS!')\n",
    "else:\n",
    "    print('Emprestimo Não pode ser concedido, Lamento!')\n",
    "\n"
   ]
  },
  {
   "cell_type": "code",
   "execution_count": 11,
   "metadata": {},
   "outputs": [
    {
     "name": "stdout",
     "output_type": "stream",
     "text": [
      "Escolha uma das bases para conversão:\n",
      "[ 1 ] converter para BINÁRIO\n",
      "[ 2 ] converter para OCTAL\n",
      "[ 3 ] converter para HEXADECIMAL\n",
      "O número 22 convertido em hexadecimal é 16\n"
     ]
    }
   ],
   "source": [
    "\"\"\"Ex.037 Escreva um programa em Python que leia um número inteiro qualquer e peça para o usuário escolher qual será a base de conversão:\n",
    " 1 para binário, 2 para octal e 3 para hexadecimal.\"\"\"\n",
    "\n",
    "num = int(input('Digite um número inteiro: '))\n",
    "print('''Escolha uma das bases para conversão:\n",
    "[ 1 ] converter para BINÁRIO\n",
    "[ 2 ] converter para OCTAL\n",
    "[ 3 ] converter para HEXADECIMAL''')\n",
    "opcao = int(input('Sua opção: '))\n",
    "\n",
    "if opcao == 1:\n",
    "    print(f'O número {num} convertido em binário é {bin(num)[2:]}')\n",
    "elif opcao == 2:\n",
    "    print(f'O número {num} convertido em octal é {oct(num)[2:]}')\n",
    "elif opcao == 3:\n",
    "    print(f'O número {num} convertido em hexadecimal é {hex(num)[2:]}')\n",
    "else: \n",
    "    print('Opção inválida. Tente novamente')"
   ]
  },
  {
   "cell_type": "code",
   "execution_count": null,
   "metadata": {},
   "outputs": [],
   "source": [
    "\"\"\"Ex.038 Escreva um programa que leia dois números inteiros e compare-os. mostrando na tela uma mensagem:\n",
    "– O primeiro valor é maior\n",
    "– O segundo valor é maior\n",
    "– Não existe valor maior, os dois são iguais\"\"\"\n",
    "\n",
    "from time import sleep\n",
    "num1 = int(input(\"Digite o primeiro número: \"))\n",
    "num2 = int(input(\"Digite o segundo número: \"))\n",
    "print(f'PROCESSANDO...')\n",
    "sleep(2)\n",
    "print(f'Você digitou primeiro {num1} e segundo {num2}')\n",
    "if num1 > num2:\n",
    "    print(\"O primeiro número é maior!\")\n",
    "elif num1 < num2:\n",
    "    print(\"O Segundo número é maior!\")\n",
    "else:\n",
    "    print(\"Não existe número maior, os dois são iguais\")"
   ]
  },
  {
   "cell_type": "code",
   "execution_count": 23,
   "metadata": {},
   "outputs": [
    {
     "name": "stdout",
     "output_type": "stream",
     "text": [
      "Quem nasceu em 2006 tem 18 anos em 2024\n",
      "Você tem que se alistar IMEDIATAMENTE! \n",
      "Você neste ano de 2024, completa 18\n"
     ]
    }
   ],
   "source": [
    "\"\"\"Ex.039 Faça um programa que leia o ano de nascimento de um jovem e informe, \n",
    "de acordo com a sua idade, se ele ainda vai se alistar ao serviço militar, \n",
    "se é a hora exata de se alistar ou se já passou do tempo do alistamento. \n",
    "Seu programa também deverá mostrar o tempo que falta ou que passou do prazo.\"\"\"\n",
    "\n",
    "from datetime import date\n",
    "atual = date.today().year\n",
    "nascimento = int(input('Qual é o ano do seu nascimento?: '))\n",
    "idade = (atual - nascimento)\n",
    "print(f'Quem nasceu em {nascimento} tem {idade} anos em {atual}')\n",
    "if idade < 18:\n",
    "    saldo = 18 - idade\n",
    "    print('Ainda não é o momento para você se alistar.')\n",
    "    print(f'O ano do seu alistamento será em {atual + saldo} daqui à {saldo} anos ')\n",
    "elif idade > 18:\n",
    "    saldo = idade - 18\n",
    "    print('Já passou do tempo para o alistamento.')\n",
    "    print(f'O seu alistamento, deveria ter sido no ano de {atual - saldo} deveria ter feito à {saldo} anos atrás  ')\n",
    "else:\n",
    "    print('Você tem que se alistar IMEDIATAMENTE! ')\n",
    "    print(f'Você neste ano de {atual}, completa {atual-nascimento}')"
   ]
  },
  {
   "cell_type": "code",
   "execution_count": 44,
   "metadata": {},
   "outputs": [
    {
     "name": "stdout",
     "output_type": "stream",
     "text": [
      "Victoria média foi de 8.5 e você foi aprovado!\n"
     ]
    }
   ],
   "source": [
    "\"\"\"Ex.040 Crie um programa que leia duas notas de um aluno e calcule sua média, mostrando uma mensagem no final, de acordo com a média atingida:\n",
    "– Média abaixo de 5.0: REPROVADO\n",
    "– Média entre 5.0 e 6.9: RECUPERAÇÃO\n",
    "– Média 7.0 ou superior: APROVADO\"\"\"\n",
    "\n",
    "aluno = str(input('Digite o nome da Aluna: ')).strip()\n",
    "n1 = float(input('Digite a primeira nota: '))\n",
    "n2 = float(input('Digite a segunda nota: '))\n",
    "\n",
    "media = (n1 + n2) / 2\n",
    "\n",
    "if media >= 7.0:\n",
    "    print(f'{aluno} média foi de {media:.1f} e você foi aprovado!')\n",
    "elif 5.0 <= media < 7.0:\n",
    "    print(f'{aluno} média foi de {media:.1f} e está de recuperação!')\n",
    "else:\n",
    "    print(f'{aluno} média foi de {media:.1f} e você foi reprovado!')"
   ]
  },
  {
   "cell_type": "code",
   "execution_count": 54,
   "metadata": {},
   "outputs": [
    {
     "name": "stdout",
     "output_type": "stream",
     "text": [
      "O Atleta tem: 33 \n",
      "Classificação: MASTER\n",
      "\u001b[1;32mCalculando Categoria... Aguarde..\u001b[m\n",
      "Você tem 33 anos, Sua categoria é.\n",
      "\u001b[1;30;41mMASTER \u001b[m\n"
     ]
    }
   ],
   "source": [
    "\"\"\"Ex.041 A Confederação Nacional de Natação precisa de um programa que leia o ano de nascimento de um atleta e mostre sua categoria, \n",
    "de acordo com a idade:\n",
    "– Até 9 anos: MIRIM\n",
    "– Até 14 anos: INFANTIL\n",
    "– Até 19 anos: JÚNIOR\n",
    "– Até 25 anos: SÊNIOR\n",
    "– Acima de 25 anos: MASTER\"\"\"\n",
    "ano = int(input('Ano de nascimento: '))\n",
    "data = date.today().year\n",
    "idade = data - ano\n",
    "\n",
    "if idade <= 9:\n",
    "    print(f'O Atleta tem: {idade} \\nClassificação: MIRIM')\n",
    "elif idade <= 14 and idade > 9:\n",
    "    print(f'O Atleta tem: {idade} \\nClassificação: INFANTIL')\n",
    "elif idade <= 19 and idade > 14:\n",
    "    print(f'O Atleta tem: {idade} \\nClassificação: JUNIOR')\n",
    "elif idade <= 25 and idade > 19:\n",
    "    print(f'O Atleta tem: {idade} \\nClassificação: SENIOR')\n",
    "elif idade > 25:\n",
    "    print(f'O Atleta tem: {idade} \\nClassificação: MASTER')\n",
    "\n",
    "#ou \n",
    "\n",
    "from time import sleep #tempo de resposta\n",
    "from datetime import date #data\n",
    "dtn = int(input('Qual ano de nascimento do atleta? '))\n",
    "print('\\033[1;32mCalculando Categoria... Aguarde..\\033[m')\n",
    "sleep(1.5)\n",
    "dta = date.today().year #Data atual\n",
    "idd = dta - dtn #idade\n",
    "print(f'Você tem {idd} anos, Sua categoria é.') #Ano do atleta\n",
    "cg = '' #n aprendi ainda como corrigir isso\n",
    "a = ''\n",
    "if idd <= 9:\n",
    "   a = '\\033[1;30;107mmirim'\n",
    "elif idd <= 14:\n",
    "    a = '\\033[1;30;47mInfantil'   \n",
    "elif idd <= 19:\n",
    "    a = '\\033[1;30;44mJunor'\n",
    "elif idd <= 25:\n",
    "    a = '\\033[1;97;40mSenior'\n",
    "else:\n",
    "    a = '\\033[1;30;41mMASTER'\n",
    "print(f'{a} \\033[m')\n"
   ]
  },
  {
   "cell_type": "code",
   "execution_count": 14,
   "metadata": {},
   "outputs": [
    {
     "name": "stdout",
     "output_type": "stream",
     "text": [
      "======================================================================\n",
      " Com as retas 2.0, 5.0 e 4.0 é possivel formar um triangulo\n",
      " O Triangulo formado por tais retas é o Escaleno\n",
      "======================================================================\n",
      "Os segmentos acima PODEM FORMAR triângulo! ESCALENO\n"
     ]
    }
   ],
   "source": [
    "\"\"\"Ex.042 Refaça o DESAFIO 35 dos triângulos, acrescentando o recurso de mostrar que tipo de triângulo será formado:\n",
    "– EQUILÁTERO: todos os lados iguais\n",
    "– ISÓSCELES: dois lados iguais, um diferente\n",
    "– ESCALENO: todos os lados diferentes \"\"\"\n",
    "\n",
    "a = float(input(' Digite o primeiro lado: '))\n",
    "b = float(input(' Digite o segundo lado: '))\n",
    "c = float(input(' Digite o terceiro lado: '))\n",
    "print('=' * 70)\n",
    "if a < b + c and b < a + c and c < a + b:\n",
    "\tprint(' Com as retas {}, {} e {} é possivel formar um triangulo'.format(a, b, c))\n",
    "\tif a == b and a == c:\n",
    "\t\tprint(' O Triangulo formado por tais retas é o equilatero')\n",
    "\telif a == b or a == c or b == c:\n",
    "\t\tprint(' O Triangulo formado por tais retas é o Isóceles')\n",
    "\telif a != b and a != c:\n",
    "\t\tprint(' O Triangulo formado por tais retas é o Escaleno')\n",
    "else:\n",
    "\tprint(' Com as Retas {}, {} e {} não é possivel formar um triangulo'.format(a, b, c))\n",
    "print('=' * 70)\n",
    "\n",
    "#ou \n",
    "#mantei o a b c \n",
    "if a < b + c and b < a + c and c < a + b: # para formar um triângulo\n",
    "\tprint('Os segmentos acima PODEM FORMAR triângulo! ', end= '')\n",
    "\tif a == b == c:\n",
    "\t\tprint('EQUILATERO')\n",
    "\telif a != b != c != a:\n",
    "\t\tprint('ESCALENO')\n",
    "\telse:\n",
    "\t\tprint('ISÓSCELE')\n",
    "else:\n",
    "\tprint('Os segmentos acima NÃO PODEM FORMAR triângulo')\n"
   ]
  },
  {
   "cell_type": "code",
   "execution_count": 23,
   "metadata": {},
   "outputs": [
    {
     "name": "stdout",
     "output_type": "stream",
     "text": [
      "O IMC dessa pessoa 85Kg e de 1.7 altura Sobrepeso Imc: 29.76\n"
     ]
    }
   ],
   "source": [
    "\"\"\"Ex.043 Desenvolva uma lógica que eia o peso e a altura de uma pessoa, calcule seu Índice de Massa Corporal (IMC) e mostre seu status, de acordo com a tabela abaixo:\n",
    "– IMC abaixo de 18,5: Abaixo do Peso\n",
    "– Entre 18,5 e 25: Peso Ideal\n",
    "– 25 até 30: Sobrepeso\n",
    "– 30 até 40: Obesidade\n",
    "– Acima de 40: Obesidade Mórbida \"\"\"\n",
    "\n",
    "peso = float(input(' Digite seu peso: ')) \n",
    "altura = float(input(' Digite sua altura: '))\n",
    "imc = peso / (altura ** 2)\n",
    "print(f'O IMC dessa pessoa {peso:.0f}Kg e de {altura:.1f} altura', end='')\n",
    "if imc < 18.5:\n",
    "\tprint(f' Abaixo do Peso Imc: {imc:.2f}')\n",
    "elif imc >= 18.5 and imc <= 25:\n",
    "\tprint(f' Peso Ideal Imc: {imc:.2f}')\n",
    "elif imc > 25 and imc <= 30:\n",
    "\tprint(f' Sobrepeso Imc: {imc:.2f}')\n",
    "elif imc > 30 and imc <= 40:\n",
    "\tprint(f' Obesidade Imc: {imc:.2f}')\n",
    "else:\n",
    "\tprint(f' Obesidade Morbida Imc: {imc:.2f}')\n"
   ]
  },
  {
   "cell_type": "code",
   "execution_count": 40,
   "metadata": {},
   "outputs": [
    {
     "name": "stdout",
     "output_type": "stream",
     "text": [
      "Formas de Pagamento\n",
      "[ 1 ] à vista em dinheiro/cheque\n",
      "[ 2 ] à vista em cartão\n",
      "[ 3 ] 2x no cartão\n",
      "[ 4 ] 3x ou mais no cartão\n",
      "______________________________\n",
      "O total será de R$475.00 .\n",
      "=========== LOJAS GUANABARA ============\n",
      "Formas de Pagamento\n",
      "[ 1 ] à vista em dinheiro/cheque\n",
      "[ 2 ] à vista em cartão\n",
      "[ 3 ] 2x no cartão\n",
      "[ 4 ] 3x ou mais no cartão\n",
      "______________________________\n",
      "O total será de R$475.00.\n"
     ]
    }
   ],
   "source": [
    "\"\"\"Ex.044 Elabore um programa que calcule o valor a ser pago por um produto, considerando o seu preço normal e condição de pagamento:\n",
    "– à vista dinheiro/cheque: 10% de desconto\n",
    "– à vista no cartão: 5% de desconto\n",
    "– em até 2x no cartão: preço formal \n",
    "– 3x ou mais no cartão: 20% de juros\"\"\"\n",
    "\n",
    "preço = float(input('Preço das compras: R$ '))\n",
    "print('''Formas de Pagamento\n",
    "[ 1 ] à vista em dinheiro/cheque\n",
    "[ 2 ] à vista em cartão\n",
    "[ 3 ] 2x no cartão\n",
    "[ 4 ] 3x ou mais no cartão''')\n",
    "print('___' * 10)\n",
    "opção = int(input('Qual a opção de pagamento? '))\n",
    "if opção == 1:\n",
    "    pagar = preço - (preço * 10 / 100)\n",
    "    print(f'O total será de R${pagar:.2f}.')\n",
    "elif opção == 2:\n",
    "    pagar = preço - (preço * 5 / 100)\n",
    "    print(f'O total será de R${pagar:.2f} .')\n",
    "elif opção == 3:\n",
    "    pagar = preço\n",
    "    print('Sua compra será parcelada em 2x de R${:.2f}, em total de R${:.2f}'.format((pagar / 2), pagar))\n",
    "elif opção == 4:\n",
    "    pagar = preço + (preço * 20/100)\n",
    "    parc = int(input('Quantas parcelas? '))\n",
    "    parcelas = pagar / parc\n",
    "    print('Sua compra será parcelada em {}x de R${:.2f}, em total de R${:.2f} devido aos juros.'.format(parc, parcelas, pagar))\n",
    "else:\n",
    "    print('Opção inválida, tente novamente')\n",
    "\n",
    "#OU\n",
    "\n",
    "print('{:=^40}'.format(' LOJAS GUANABARA '))\n",
    "preço = float(input('Preço das compras: R$ '))\n",
    "print('''Formas de Pagamento\n",
    "[ 1 ] à vista em dinheiro/cheque\n",
    "[ 2 ] à vista em cartão\n",
    "[ 3 ] 2x no cartão\n",
    "[ 4 ] 3x ou mais no cartão''')\n",
    "print('___' * 10)\n",
    "opção = int(input('Qual a opção de pagamento? '))\n",
    "if opção == 1:\n",
    "    pagar = preço - (preço * 10 / 100)\n",
    "    print('O total será de R${:.2f}.'.format(pagar))\n",
    "elif opção == 2:\n",
    "    pagar = preço - (preço * 5 / 100)\n",
    "    print('O total será de R${:.2f}.'.format(pagar))\n",
    "elif opção == 3:\n",
    "    pagar = preço\n",
    "    parcela = preço / 2\n",
    "    print('Sua compra será parcelada em 2x de R${:.2f}, em total de R${:.2f}'.format((parcela), pagar))\n",
    "elif opção == 4:\n",
    "    pagar = preço + (preço * 20/100)\n",
    "    parc = int(input('Quantas parcelas? '))\n",
    "    parcelas = pagar / parc\n",
    "    print('Sua compra será parcelada em {}x de R${:.2f}, em total de R${:.2f} devido aos juros.'.format(parc, parcelas, pagar))\n",
    "else:\n",
    "    print('Opção inválida, tente novamente')\n"
   ]
  },
  {
   "cell_type": "code",
   "execution_count": 85,
   "metadata": {},
   "outputs": [
    {
     "name": "stdout",
     "output_type": "stream",
     "text": [
      "VAMOS JOGAR PEDRA, PAPEL E TESOURA!\n",
      "Considere:\n",
      "       [1] PEDRA\n",
      "       [2] PAPEL\n",
      "       [3]'TESOURA\n",
      "3\n",
      "VOCÊ PERDEU!\n",
      "VAMOS JOGAR PEDRA, PAPEL E TESOURA!\n",
      "Considere:\n",
      "       [0] PEDRA\n",
      "       [1] PAPEL\n",
      "       [2] TESOURA\n",
      "JO\n",
      "KEN\n",
      "PO!!!\n",
      "-=--=--=--=--=--=--=--=--=--=--=-\n",
      "Computador jogou PEDRA\n",
      "Jogador jogou TESOURA\n",
      "-=--=--=--=--=--=--=--=--=--=--=-\n",
      "COMPUTADOR VENCE\n"
     ]
    }
   ],
   "source": [
    "#Ex.045 Crie um programa que faça o computador jogar Jokenpô com você.\n",
    "\n",
    "import random\n",
    "\n",
    "print (\"VAMOS JOGAR PEDRA, PAPEL E TESOURA!\")\n",
    "print ('''Considere:\n",
    "       [1] PEDRA\n",
    "       [2] PAPEL\n",
    "       [3]'TESOURA''')\n",
    "a = int(input('''Considere:\n",
    "       [1] PEDRA\n",
    "       [2] PAPEL\n",
    "       [3]'TESOURA\n",
    "       Agora, digite sua escolha: '''))\n",
    "b = random.randint(1,3)\n",
    "print (b)\n",
    "if a == b:\n",
    "    print (\"EMPATE\")\n",
    "elif (a == 1 and b == 2) or (a == 2 and b == 3) or (a == 3 and b == 1):\n",
    "    print (\"VOCÊ PERDEU!\")\n",
    "else:\n",
    "    print (\"VOCÊ GANHOU\")\n",
    "\n",
    "#ou\n",
    "from random import randint\n",
    "from time import sleep\n",
    "\n",
    "# Definindo os itens\n",
    "itens = ('PEDRA', 'PAPEL', 'TESOURA')\n",
    "\n",
    "# Computador escolhe aleatoriamente\n",
    "computador = randint(0, 2)\n",
    "\n",
    "print(\"VAMOS JOGAR PEDRA, PAPEL E TESOURA!\")\n",
    "print('''Considere:\n",
    "       [0] PEDRA\n",
    "       [1] PAPEL\n",
    "       [2] TESOURA''')\n",
    "\n",
    "# Jogador faz a escolha\n",
    "try:\n",
    "    jogador = int(input('''Considere:\n",
    "       [0] PEDRA\n",
    "       [1] PAPEL\n",
    "       [2] TESOURA\n",
    "       Agora, digite sua escolha: '''))\n",
    "\n",
    "    # Verificando se a escolha do jogador é válida\n",
    "    if jogador < 0 or jogador > 2:\n",
    "        print(\"Escolha inválida! Por favor, escolha entre 0, 1 e 2.\")\n",
    "    else:\n",
    "        print('JO')\n",
    "        sleep(1)\n",
    "        print('KEN')\n",
    "        sleep(1)\n",
    "        print('PO!!!')\n",
    "    \n",
    "        print('-=-' * 11)\n",
    "        print(f'Computador jogou {itens[computador]}')\n",
    "        print(f'Jogador jogou {itens[jogador]}')\n",
    "        print('-=-' * 11)\n",
    "\n",
    "        # Determinando o vencedor\n",
    "        if computador == 0:  # Computador jogou PEDRA\n",
    "            if jogador == 0:\n",
    "                print('EMPATE')\n",
    "            elif jogador == 1:\n",
    "                print('JOGADOR VENCE')\n",
    "            elif jogador == 2: \n",
    "                print('COMPUTADOR VENCE')\n",
    "        elif computador == 1:  # Computador jogou PAPEL\n",
    "            if jogador == 0: \n",
    "                print('COMPUTADOR VENCE')\n",
    "            elif jogador == 1:\n",
    "                print('EMPATE')\n",
    "            elif jogador == 2:\n",
    "                print('JOGADOR VENCE')\n",
    "        elif computador == 2:  # Computador jogou TESOURA\n",
    "            if jogador == 0:\n",
    "                print('JOGADOR VENCE')\n",
    "            elif jogador == 1:\n",
    "                print('COMPUTADOR VENCE')\n",
    "            elif jogador == 2: \n",
    "                print('EMPATE')\n",
    "except ValueError:\n",
    "    print(\"Entrada inválida! Por favor, insira um número entre 0 e 2.\")\n",
    "\n"
   ]
  },
  {
   "cell_type": "code",
   "execution_count": null,
   "metadata": {},
   "outputs": [],
   "source": [
    "#Ex.046 Faça um programa que mostre na tela uma contagem regressiva para o estouro de fogos de artifício, indo de 10 até 0, com uma pausa de 1 segundo entre eles.\n",
    "from time import sleep\n",
    "for cont in range(11,-1,-1):\n",
    "       print(cont)\n",
    "       sleep(0.5)\n",
    "print('BUM ! BUM ! POOOOWWW!')"
   ]
  },
  {
   "cell_type": "code",
   "execution_count": 93,
   "metadata": {},
   "outputs": [
    {
     "name": "stdout",
     "output_type": "stream",
     "text": [
      "2 - 4 - 6 - 8 - 10 - 12 - 14 - 16 - 18 - 20 - 22 - 24 - 26 - 28 - 30 - 32 - 34 - 36 - 38 - 40 - 42 - 44 - 46 - 48 - 50 -  FIM\n",
      ".|.|2.|.|4.|.|6.|.|8.|.|10.|.|12.|.|14.|.|16.|.|18.|.|20.|.|22.|.|24.|.|26.|.|28.|.|30.|.|32.|.|34.|.|36.|.|38.|.|40.|.|42.|.|44.|.|46.|.|48.|.|50 Acabou\n"
     ]
    }
   ],
   "source": [
    "#Ex.047 Crie um programa que mostre na tela todos os números pares que estão no intervalo entre 1 e 50. \n",
    "\n",
    "for cont in range(2,51,2):\n",
    "    print(cont, end=' - ')\n",
    "print(\" FIM\")\n",
    "\n",
    "#ou\n",
    "\n",
    "for n in range(1,51):\n",
    "    print('.', end='|')\n",
    "    if n % 2 == 0:\n",
    "        print(n,end='')\n",
    "print(' Acabou')"
   ]
  },
  {
   "cell_type": "code",
   "execution_count": 99,
   "metadata": {},
   "outputs": [
    {
     "name": "stdout",
     "output_type": "stream",
     "text": [
      "a soma dos 83 valores múltiplos de três e ímpares entre 1 e 500 é 20667\n",
      "A soma de todos os 83 valores solicitados é 20667\n"
     ]
    }
   ],
   "source": [
    "#Ex.048 Faça um programa que calcule a soma entre todos os números que são múltiplos de três e que se encontram no intervalo de 1 até 500.\n",
    "t = 0\n",
    "tv = 0\n",
    "for i in range(3, 501, 6):\n",
    "    t += i\n",
    "    tv += 1\n",
    "print(f'a soma dos {tv} valores múltiplos de três e ímpares entre 1 e 500 é {t}')\n",
    "\n",
    "#OU\n",
    "soma = 0\n",
    "cont = 0\n",
    "for c in range(1,501,2):\n",
    "    if c % 3 == 0:\n",
    "        cont = cont + 1  # soma + = c\n",
    "        soma  = soma + c # cont += 1\n",
    "print(f'A soma de todos os {cont} valores solicitados é {soma}')"
   ]
  },
  {
   "cell_type": "code",
   "execution_count": 100,
   "metadata": {},
   "outputs": [
    {
     "name": "stdout",
     "output_type": "stream",
     "text": [
      "Multiplicação: \n",
      "8 x 1 = 8\n",
      "8 x 2 = 16\n",
      "8 x 3 = 24\n",
      "8 x 4 = 32\n",
      "8 x 5 = 40\n",
      "8 x 6 = 48\n",
      "8 x 7 = 56\n",
      "8 x 8 = 64\n",
      "8 x 9 = 72\n",
      "8 x 10 = 80\n"
     ]
    }
   ],
   "source": [
    "#Ex.049 Refaça o DESAFIO 9, mostrando a tabuada de um número que o usuário escolher, só que agora utilizando um laço for.\n",
    "\n",
    "n = int (input(\"digite um número que deseja saber a tabuada: \"))\n",
    "print(\"Multiplicação: \")\n",
    "for c in range (1,11):\n",
    "  print (f\"{n} x {c} = {n*c}\")"
   ]
  },
  {
   "cell_type": "code",
   "execution_count": 112,
   "metadata": {},
   "outputs": [
    {
     "name": "stdout",
     "output_type": "stream",
     "text": [
      "A soma dos números pares é 2\n",
      "Você informou 1 números pares e a soma foi 2\n"
     ]
    }
   ],
   "source": [
    "#Ex.050 Desenvolva um programa que leia seis números inteiros e mostre a soma apenas daqueles que forem pares. Se o valor digitado for ímpar, desconsidere-o.\n",
    "\n",
    "s = 0\n",
    "for n in range(1,7):\n",
    "    num = int(input(f'Digite o {n}° número: '))\n",
    "    if num % 2 == 0:\n",
    "        s = s + num\n",
    "print(f'A soma dos números pares é {s}')\n",
    "\n",
    "#ou \n",
    "\n",
    "soma = 0\n",
    "cont = 0\n",
    "for c in range(1, 7):\n",
    "    num1 = int(input(f'Digite o {c}° número: '))\n",
    "    if num1 % 2 == 0:\n",
    "        soma += num1\n",
    "        cont += 1\n",
    "print(f'Você informou {cont} números pares e a soma foi {soma}')"
   ]
  },
  {
   "cell_type": "code",
   "execution_count": 129,
   "metadata": {},
   "outputs": [
    {
     "name": "stdout",
     "output_type": "stream",
     "text": [
      "Termo PA 25 em razão 5\n",
      "25 -> 30 -> 35 -> 40 -> 45 -> 50 -> 55 -> 60 -> 65 -> 70 ->  ACABOU\n"
     ]
    }
   ],
   "source": [
    "#Ex.051 Desenvolva um programa que leia o primeiro termo e a razão de uma PA. No final, mostre os 10 primeiros termos dessa progressão.\n",
    "\n",
    "primeiro = int(input('Informe o primeiro termo da PA: '))\n",
    "razao = int(input('Digite a razão: '))\n",
    "décimo = primeiro + (10 - 1) * razao\n",
    "print(f'Termo PA {primeiro} em razão {razao}')\n",
    "for c in range(primeiro, décimo + razao, razao):\n",
    "        print(f'{c}', end=' -> ')\n",
    "print(' ACABOU')\n",
    "\n"
   ]
  },
  {
   "cell_type": "code",
   "execution_count": 1,
   "metadata": {},
   "outputs": [
    {
     "name": "stdout",
     "output_type": "stream",
     "text": [
      "\u001b[1;36m1 \u001b[31m2 \u001b[31m3 \u001b[31m4 \u001b[31m5 \u001b[31m6 \u001b[31m7 \u001b[31m8 \u001b[31m9 \u001b[31m10 \u001b[31m11 \u001b[31m12 \u001b[1;36m13 \n",
      "\u001b[mO nº 13 foi divisível 2 vezes\n",
      "Logo nº 13 É PRIMO.\n"
     ]
    }
   ],
   "source": [
    "#Ex.052 Faça um programa que leia um número inteiro e diga se ele é ou não um número primo. \n",
    "\n",
    "n = int (input(\"Digite um número: \"))\n",
    "tot = 0\n",
    "for c in range(1, n+1):\n",
    "  if n % c== 0:\n",
    "    print(\"\\033[1;36m\", end =\"\")\n",
    "    tot += 1\n",
    "  else:\n",
    "    print(\"\\033[31m\", end =\"\")\n",
    "  print(f\"{c}\", end = \" \")\n",
    "print(f\"\\n\\033[mO nº {n} foi divisível {tot} vezes\")\n",
    "if tot == 2:\n",
    "  print(f\"Logo nº {n} É PRIMO.\")\n",
    "else:\n",
    "  print(f\"Logo nº {n} NÃO É PRIMO.\")"
   ]
  },
  {
   "cell_type": "code",
   "execution_count": 10,
   "metadata": {},
   "outputs": [
    {
     "name": "stdout",
     "output_type": "stream",
     "text": [
      "A frase digitada atorredaderrota é um palimedro pois de tras para fente fica atorredaderrota\n",
      "O inverso de GUSTAVOGUANABARA é ARABANAUGOVATSUG\n",
      "A frase digitada não é um palídromo!\n"
     ]
    }
   ],
   "source": [
    "\"\"\"Ex.053: Crie um programa que leia uma frase qualquer e diga se ela é um palíndromo, desconsiderando os espaços. \n",
    "Exemplos de palíndromos:\n",
    "APOS A SOPA, A SACADA DA CASA, A TORRE DA DERROTA, O LOBO AMA O BOLO, ANOTARAM A DATA DA MARATONA.\"\"\"\n",
    "\n",
    "frase = input('DIGITE UMA FRASE:').lower().replace(' ', '').strip()\n",
    "caracteres = (frase[::-1])\n",
    "if frase == caracteres:\n",
    "    print(f'A frase digitada {frase} é um palimedro pois de tras para fente fica {caracteres}')\n",
    "else:\n",
    "    print(f'A frase digitada {frase} não é um palimedro pois de tras para fente fica {caracteres}')\n",
    "\n",
    "#ou \n",
    "\n",
    "Frase1 = input('Digite uma frase: ').strip().upper()\n",
    "palavras = Frase1.split()\n",
    "junto =  ''.join(palavras)\n",
    "inverso = junto[::-1]\n",
    "\"\"\"inverso = ''\n",
    "for letra in range (len(junto)-1,-1,-1):\n",
    "    inverso += junto[letra]\"\"\"\n",
    "print(f'O inverso de {junto} é {inverso}')\n",
    "if inverso == junto:\n",
    "    print('temos um palíndromo!')\n",
    "else:\n",
    "    print('A frase digitada não é um palídromo!')\n"
   ]
  },
  {
   "cell_type": "code",
   "execution_count": 15,
   "metadata": {},
   "outputs": [
    {
     "name": "stdout",
     "output_type": "stream",
     "text": [
      "---------------------------------------------\n",
      "Ao todo temos um total de 3 velinhos.\n",
      "E temos um total de 4 jovens de menor!\n",
      "---------------------------------------------\n"
     ]
    }
   ],
   "source": [
    "\"\"\"Ex.054: Crie um programa que leia o ano de nascimento de sete pessoas. \n",
    "No final, mostre quantas pessoas ainda não atingiram a maioridade e quantas já são maiores.\"\"\"\n",
    "\n",
    "from datetime import date\n",
    "idade = 0\n",
    "qmaior = 0\n",
    "qmenor = 0\n",
    "for c in range(1, 8):\n",
    "    asc = int(input(f'Digite o ano de nascimento da {c}ª pessoa:'))\n",
    "    idade = date.today().year - asc\n",
    "    if idade <= 18:\n",
    "        qmenor += 1\n",
    "    elif idade >= 18:\n",
    "        qmaior += 1\n",
    "print('-'*45)\n",
    "print(f'Ao todo temos um total de {qmaior} velinhos.\\n'\n",
    "      f'E temos um total de {qmenor} jovens de menor!')\n",
    "print('-'*45)\n",
    "\n",
    "#ou \n",
    "atual = date.today().year\n",
    "totmaior = 0\n",
    "totmenor = 0\n",
    "for pessoas in range(1,8):\n",
    "    nasc = int(input(f'Em que ano a {pessoas} pessoa nasceu? '))\n",
    "    idade = atual - nasc\n",
    "    if idade >= 21:\n",
    "        totmaior += 1\n",
    "    else: \n",
    "        totmenor += 1\n",
    "print(f'total de pessoas mairores de idade {totmaior}\\n'\n",
    "      f'Total de pessoas menores de idade {totmenor}')"
   ]
  },
  {
   "cell_type": "code",
   "execution_count": 21,
   "metadata": {},
   "outputs": [
    {
     "name": "stdout",
     "output_type": "stream",
     "text": [
      "O menor peso equivale a 26 kg\n",
      "O maior peso equivale a 95 kg\n"
     ]
    }
   ],
   "source": [
    "#Ex.055 Faça um programa que leia o peso de cinco pessoas. No final, mostre qual foi o maior e o menor peso lidos.\n",
    "pesos = []\n",
    "for x in range (1,6):\n",
    "    pergunta = eval(input('Digite o peso da {}ª pessoa! \\n'.format(x)))\n",
    "    pesos.append(pergunta)\n",
    "print (\"O menor peso equivale a {} kg\".format(min(pesos)))\n",
    "print (\"O maior peso equivale a {} kg\".format(max(pesos)))"
   ]
  },
  {
   "cell_type": "code",
   "execution_count": 26,
   "metadata": {},
   "outputs": [
    {
     "name": "stdout",
     "output_type": "stream",
     "text": [
      "nome: Victoria\n",
      " idade: 32 \n",
      " sexo: f  \n",
      "nome: ricardo \n",
      " idade: 63 \n",
      " sexo: m  \n",
      "nome: octavio \n",
      " idade: 38 \n",
      " sexo: m  \n",
      "nome: samara \n",
      " idade: 15 \n",
      " sexo: f  \n",
      "A media de idade do grupo é de 37.0\n",
      "O homem mais velho tem 0 anos e se chama \n",
      "Ao todo são 0 mulheres com menos de 20 anos\n"
     ]
    }
   ],
   "source": [
    "\"\"\"Ex.056 Desenvolva um programa que leia o nome, idade e sexo de 4 pessoas. \n",
    "No final do programa, mostre:\n",
    "a média de idade do grupo, qual é o nome do homem mais velho e quantas mulheres têm menos de 20 anos.\"\"\"\n",
    "\n",
    "mdade = 0 \n",
    "maisvelho = 0\n",
    "menvin = 0  #mulher menor de vinte(20)\n",
    "nmaisvelho = ''   #nome do mais velho\n",
    "for p in range(1, 5):\n",
    "    nome = str(input('Nome: ')).strip()\n",
    "    idade = int(input('Idade: '))\n",
    "    sexo = str(input('Sexo [M/F]: ')).strip()\n",
    "    print(f'nome: {nome}\\n idade: {idade} \\n sexo: {sexo}  ')\n",
    "    if sexo == 'M' and idade > maisvelho:\n",
    "        maisvelho = idade\n",
    "        nmaisvelho = nome\n",
    "    if sexo == 'F' and idade < 20:\n",
    "        menvin += 1\n",
    "mdade = mdade/4    #média da idade\n",
    "print('A media de idade do grupo é de {:.1f}'.format(mdade))\n",
    "print('O homem mais velho tem {} anos e se chama {}'.format(maisvelho, nmaisvelho))\n",
    "print('Ao todo são {} mulheres com menos de 20 anos'.format(menvin))\n",
    "\n",
    "#ou \n",
    "somaidade = 0\n",
    "médiaidade = 0\n",
    "maioridadehomem = 0\n",
    "nomevelho = 0\n",
    "totmulher20 = 0 \n",
    "for p in range(1,5):\n",
    "    print(f'---- {p} PESSOA ----')\n",
    "    nome = str(input('Nome: ')).strip()\n",
    "    idade = int(input('Idade: '))\n",
    "    sexo = str(input('Sexo [M/F]: ')).strip()\n",
    "    somaidade += idade\n",
    "    print(f'nome: {nome}\\n idade: {idade} \\n sexo: {sexo}')\n",
    "    if p == 1 and sexo in 'Mn':\n",
    "        maioridadehomem = idade\n",
    "        nomevelho = nome\n",
    "    if sexo in 'Mm' and idade > maioridadehomem:\n",
    "        maioridadehomem = idade\n",
    "        nomevelho = nome \n",
    "    if sexo in 'Ff' and idade < 20:\n",
    "        totmulher20 += 1\n",
    "médiaidade = somaidade / 4\n",
    "print(f'A media de idade do grupo é de {médiaidade:.1f}')\n",
    "print(f'O homem mais velho tem {maioridadehomem} anos e se chama {nomevelho}')\n",
    "print(f'Ao todo são {totmulher20} mulheres com menos de 20 anos')"
   ]
  },
  {
   "cell_type": "code",
   "execution_count": 8,
   "metadata": {},
   "outputs": [
    {
     "name": "stdout",
     "output_type": "stream",
     "text": [
      "Invalido, informe novamente!\n",
      "Seu sexo é Masculino!\n"
     ]
    }
   ],
   "source": [
    "#Ex.057 Faça um programa que leia o sexo de uma pessoa, mas só aceite os valores ‘M’ ou ‘F’.\n",
    "#Caso esteja errado, peça a digitação novamente até ter um valor correto.\n",
    "\n",
    "r = ''\n",
    "while r != 'M' and r != 'F':\n",
    "    r = input('Qual o seu SEXO? [M/F]: ').upper()\n",
    "    if r == 'M':\n",
    "        print('Seu sexo é Masculino!')\n",
    "    elif r == 'F':\n",
    "        print('Seu sexo é Feminino!')\n",
    "    else:\n",
    "        print('Invalido, informe novamente!')\n",
    "\n",
    "#ou \n",
    "sexo = input(\"Informe sexo: [M/F]\").strip().upper()[0]\n",
    "while sexo not in \"MmFf\":\n",
    "    sexo = input('Dados inválidos. Por favor, informe seu sexo: ').strip().upper()[0]\n",
    "print(f'Sexo {sexo} registrado com sucesso')\n"
   ]
  },
  {
   "cell_type": "code",
   "execution_count": 12,
   "metadata": {},
   "outputs": [
    {
     "name": "stdout",
     "output_type": "stream",
     "text": [
      "-=--=--=--=--=--=--=--=--=--=--=--=--=--=--=--=--=--=--=--=-\n",
      "Vou pensar em um número de 0 a 10 \n",
      "TENTE ADIVINHAR\n",
      "PENSANDO...\n",
      "Você errou tente mais uma vez:\n",
      "Você errou tente mais uma vez:\n",
      "Você errou tente mais uma vez:\n",
      "Você errou tente mais uma vez:\n",
      "Você errou tente mais uma vez:\n",
      "Você errou tente mais uma vez:\n",
      "Você errou tente mais uma vez:\n",
      "Você errou tente mais uma vez:\n",
      "Você errou tente mais uma vez:\n",
      "Você errou tente mais uma vez:\n",
      "\u001b[34mParabéns eu pensei no número 6\u001b[m.\n",
      "Você acertou na \u001b[34m10°\u001b[m vez\n",
      "Sou seu computador... Acabei de pensar em um número entre 0 e 10.\n",
      " Será que você consegue advinhar qual foi? \n",
      "Menos... Tente mais uma vez\n",
      "Menos... Tente mais uma vez\n",
      "Menos... Tente mais uma vez\n",
      "Menos... Tente mais uma vez\n",
      "Menos... Tente mais uma vez\n",
      "Menos... Tente mais uma vez\n",
      "Menos... Tente mais uma vez\n",
      "Acertou, meus PARABÉNS. Foram precisos 8 palpites\n"
     ]
    }
   ],
   "source": [
    "#Ex.058 Melhore o jogo do DESAFIO 28 onde o computador vai “pensar” em um número entre 0 e 10. \n",
    "#Só que agora o jogador vai tentar adivinhar até acertar, mostrando no final quantos palpites foram necessários para vencer.\n",
    "\n",
    "from random import randint\n",
    "from time import sleep\n",
    "computador = randint(0, 10)\n",
    "print('-=-' * 20)\n",
    "print('Vou pensar em um número de 0 a 10 \\nTENTE ADIVINHAR')\n",
    "modo = input('Você quer jogar no modo facil ou dificil?[F/D]').lower()\n",
    "print('PENSANDO...')\n",
    "sleep(1)\n",
    "jogador = 11\n",
    "contador = 0\n",
    "while jogador != computador:\n",
    "    jogador = int(input('Em que número eu pensei?'))\n",
    "    contador += 1\n",
    "    if modo == 'f':\n",
    "        if jogador > computador:\n",
    "            print('Menor...Tente outra vez:')\n",
    "        if jogador < computador:\n",
    "            print('Maior...Tente outra vez:')\n",
    "    else:\n",
    "        print('Você errou tente mais uma vez:')\n",
    "print(f'\\33[34mParabéns eu pensei no número {computador}\\33[m.')\n",
    "print(f'Você acertou na \\33[34m{contador}°\\33[m vez')\n",
    "\n",
    "#ou\n",
    "\n",
    "from random import randint\n",
    "computador = randint(0,10)\n",
    "print('Sou seu computador... Acabei de pensar em um número entre 0 e 10.\\n '\n",
    "      'Será que você consegue advinhar qual foi? ')\n",
    "acertou = False\n",
    "palpites = 0\n",
    "while not acertou:\n",
    "    jogador = int(input('Qual é seu palpite?'))\n",
    "    palpites += 1\n",
    "    if jogador == computador:\n",
    "        acertou = True\n",
    "    else: \n",
    "        if jogador < computador:\n",
    "            print('Mais... Tente mais uma vez')\n",
    "        elif jogador > computador:\n",
    "            print('Menos... Tente mais uma vez')\n",
    "print(f'Acertou, meus PARABÉNS. Foram precisos {palpites} palpites')\n"
   ]
  },
  {
   "cell_type": "code",
   "execution_count": 3,
   "metadata": {},
   "outputs": [
    {
     "name": "stdout",
     "output_type": "stream",
     "text": [
      "  [ 1 ] SOMAR\n",
      "  [ 2 ] MULTIPLICAR\n",
      "  [ 3 ] MAIOR\n",
      "  [ 4 ] NOVOS NÚMEROS\n",
      "  [ 5 ] SAIR DO PROGRAMA\n",
      "31 x 23 = 713\n",
      "  [ 1 ] SOMAR\n",
      "  [ 2 ] MULTIPLICAR\n",
      "  [ 3 ] MAIOR\n",
      "  [ 4 ] NOVOS NÚMEROS\n",
      "  [ 5 ] SAIR DO PROGRAMA\n",
      "31 + 23 = 54\n",
      "  [ 1 ] SOMAR\n",
      "  [ 2 ] MULTIPLICAR\n",
      "  [ 3 ] MAIOR\n",
      "  [ 4 ] NOVOS NÚMEROS\n",
      "  [ 5 ] SAIR DO PROGRAMA\n",
      "Finalizando...\n",
      "PROGRAMA ENCERRADO.\n"
     ]
    }
   ],
   "source": [
    "\"\"\"Ex.059 Crie um programa que leia dois valores e mostre um menu na tela:\n",
    "[ 1 ] somar\n",
    "[ 2 ] multiplicar\n",
    "[ 3 ] maior\n",
    "[ 4 ] novos números\n",
    "[ 5 ] sair do programa\n",
    "Seu programa deverá realizar a operação solicitada em cada caso.\"\"\"\n",
    "\n",
    "from time import sleep\n",
    "n1 = int (input(\"Primeiro valor: \"))\n",
    "n2 = int(input(\"Segundo valor: \"))\n",
    "while True:\n",
    "  print('''  [ 1 ] SOMAR\n",
    "  [ 2 ] MULTIPLICAR\n",
    "  [ 3 ] MAIOR\n",
    "  [ 4 ] NOVOS NÚMEROS\n",
    "  [ 5 ] SAIR DO PROGRAMA''')\n",
    "  op=int(input(\">>>>>>> Qual sua opção? <<<<<<< \"))\n",
    "  if op == 1:\n",
    "    print(f\"{n1} + {n2} = {n1+n2}\")\n",
    "  elif op==2:\n",
    "    print(f\"{n1} x {n2} = {n1*n2}\")\n",
    "  elif op==3:\n",
    "    if n1>n2:\n",
    "      print(f\"{n1} é maior que {n2}.\")\n",
    "    elif n2>n1:\n",
    "      print(f\"{n2} é maior que {n1}\")\n",
    "    else:\n",
    "      print(\"Ambos os números são iguais.\")\n",
    "  elif op==4:\n",
    "    n1 = int (input(\"Primeiro valor: \"))\n",
    "    n2 = int(input(\"Segundo valor: \"))\n",
    "  elif op==5:\n",
    "    break\n",
    "  else:\n",
    "    print(\"Opão inválida. Tente novamente.\")\n",
    "    print('=-='*10)\n",
    "print(\"Finalizando...\")\n",
    "sleep(1)\n",
    "print(\"PROGRAMA ENCERRADO.\")"
   ]
  },
  {
   "cell_type": "code",
   "execution_count": 14,
   "metadata": {},
   "outputs": [
    {
     "name": "stdout",
     "output_type": "stream",
     "text": [
      "5 ! = 5 x 4 x 3 x 2 x 1 = 120\n",
      " O fatorial de 6 é 720\n",
      "Calculando 7! = 7 X 6 X 5 X 4 X 3 X 2 X 1 = 5040\n"
     ]
    }
   ],
   "source": [
    "#Ex.060 Faça um programa que leia um número qualquer e mostre o seu fatorial. Exemplo: 5! = 5 x 4 x 3 x 2 x 1 = 120\n",
    "\n",
    "from math import factorial\n",
    "n = int(input('Insira um valor para saber o seu fatorial:'))\n",
    "c = n\n",
    "print(n,'!', end=\" = \")\n",
    "for c in range(n+1,1,-1):\n",
    "    c -= 1\n",
    "    print(c, end='')\n",
    "    print(' x ' if c>1 else ' = ', end='')\n",
    "print(factorial(n),end='')\n",
    "\n",
    "#ou \n",
    "from math import factorial\n",
    "n1 = int(input('Digite um número para calcular seu fatorial:'))\n",
    "f = factorial(n1)\n",
    "print(f'\\n O fatorial de {n1} é {f}')\n",
    "\n",
    "#ou\n",
    "from math import factorial\n",
    "num = int(input('Digite um número para calcular seu Fatorial: '))\n",
    "c1 = num\n",
    "f = 1 \n",
    "print(f'Calculando {num}! = ', end='')\n",
    "while c1 > 0:\n",
    "    print(f'{c1}', end='')\n",
    "    print(' X ' if c1 > 1 else ' = ', end='')\n",
    "    f *= c1  \n",
    "    c1 -= 1\n",
    "print(f'{f}')\n",
    "\n",
    "\n"
   ]
  },
  {
   "cell_type": "code",
   "execution_count": 6,
   "metadata": {},
   "outputs": [
    {
     "name": "stdout",
     "output_type": "stream",
     "text": [
      "Gerador de PA\n",
      "----------------------------------------\n",
      "150 ->155 ->160 ->165 ->170 ->175 ->180 ->185 ->190 ->195 ->FIM\n",
      "Gerador de PA\n",
      "----------------------------------------\n",
      "120 ->122 ->124 ->126 ->128 ->130 ->132 ->134 ->136 ->138 ->140 ->FIM\n"
     ]
    }
   ],
   "source": [
    "#Ex.061 Refaça o DESAFIO 51,\n",
    "#lendo o primeiro termo e a razão de uma PA, mostrando os 10 primeiros termos da progressão usando a estrutura while.\n",
    "print(\"\"\"Gerador de PA\"\"\")\n",
    "print('----' *10)\n",
    "termo= int(input(\"Primeiro termo: \"))\n",
    "razao = int(input(\"Razão da PA: \"))\n",
    "incremento = 10\n",
    "contagem = 0\n",
    "while contagem < incremento:\n",
    "    print(\"{} ->\".format(termo), end=\"\")\n",
    "    termo += razao\n",
    "    contagem += 1\n",
    "print(\"FIM\")\n",
    "\n",
    "#ou\n",
    "\n",
    "print(\"\"\"Gerador de PA\"\"\")\n",
    "print('----' *10)\n",
    "primeiro= int(input(\"Primeiro termo: \"))\n",
    "razao1 = int(input(\"Razão da PA: \"))\n",
    "termo = primeiro\n",
    "cont = 0\n",
    "while cont <= 10:\n",
    "    print(f'{termo} ->', end='')\n",
    "    termo += razao1\n",
    "    cont += 1\n",
    "print('FIM')\n"
   ]
  },
  {
   "cell_type": "code",
   "execution_count": 6,
   "metadata": {},
   "outputs": [
    {
     "name": "stdout",
     "output_type": "stream",
     "text": [
      "Gerador de PA\n",
      "----------------------------------------\n",
      "120 -> 125 -> 130 -> 135 -> 140 -> 145 -> 150 -> 155 -> 160 -> 165 -> PAUSA\n",
      "170 -> 175 -> 180 -> 185 -> 190 -> 195 -> 200 -> 205 -> 210 -> 215 -> PAUSA\n",
      "220 -> 225 -> 230 -> 235 -> 240 -> PAUSA\n",
      "Progresão finalizada com 25 termos mostrados\n"
     ]
    }
   ],
   "source": [
    "#Ex.062 Melhore o DESAFIO 61, \n",
    "#perguntando para o usuário se ele quer mostrar mais alguns termos. O programa encerrará quando ele disser que quer mostrar 0 termos.\n",
    "\n",
    "print(\"Gerador de PA\")\n",
    "print('----' * 10)\n",
    "primeiro = int(input(\"Primeiro termo: \"))\n",
    "razao1 = int(input(\"Razão da PA: \"))\n",
    "termo = primeiro\n",
    "cont = 1  # O contador deve começar em 1\n",
    "total = 0\n",
    "mais = 10\n",
    "\n",
    "while mais != 0:\n",
    "    total += mais\n",
    "    while cont <= total:\n",
    "        print(f'{termo} -> ', end='')\n",
    "        termo += razao1\n",
    "        cont += 1\n",
    "    print('PAUSA')\n",
    "    mais = int(input('Quantos termos você quer mostrar a mais? '))\n",
    "\n",
    "print(f'Progresão finalizada com {total} termos mostrados')\n"
   ]
  },
  {
   "cell_type": "code",
   "execution_count": 4,
   "metadata": {},
   "outputs": [
    {
     "name": "stdout",
     "output_type": "stream",
     "text": [
      "----------------------\n",
      " SEQUÊNCIA DE FIBONACCI \n",
      "----------------------\n",
      "0 -> 1 -> 1 -> 2 -> 3 -> 5 -> 8 -> 13 -> 21 -> 34 -> Fim\n",
      "------------------------------\n",
      "SEQUÊNCIA DE FIBONACCI\n",
      "------------------------------\n",
      "------------------------------\n",
      "0 -> 1 -> 1 -> 2 -> 3 -> 5 -> 8 -> 13 -> 21 -> 34 -> FIM\n",
      "------------------------------\n"
     ]
    }
   ],
   "source": [
    "#Ex.063 Escreva um programa que leia um número N inteiro qualquer e mostre na tela os N primeiros elementos de uma Sequência de Fibonacci. Exemplo:\n",
    "# 0 – 1 – 1 – 2 – 3 – 5 – 8\n",
    "\n",
    "print('-' * 22)\n",
    "print(' SEQUÊNCIA DE FIBONACCI ')\n",
    "print('-' * 22)\n",
    "n1 = 0\n",
    "n2 = 1\n",
    "n3 = 0\n",
    "termos = int(input('Quantos termos você quer mostrar? '))\n",
    "cont = 0\n",
    "while cont < termos:\n",
    "    print(n1, end=' -> ')\n",
    "    n3 = n1 + n2     \n",
    "    n1 = n2\n",
    "    n2 = n3\n",
    "    cont += 1\n",
    "print('Fim')\n",
    "\n",
    "#ou \n",
    "\n",
    "print('-'*30)\n",
    "print('SEQUÊNCIA DE FIBONACCI')\n",
    "print('-'*30)\n",
    "n = int(input('Quantos termos você quer mostrar? '))\n",
    "t1 = 0\n",
    "t2 = 1\n",
    "print('-'*30)\n",
    "print(f'{t1} -> {t2}', end='')\n",
    "cont = 3 \n",
    "while cont <= n: \n",
    "    t3 = t1 + t2\n",
    "    print(f' -> {t3}', end='')\n",
    "    t1 = t2\n",
    "    t2 = t3\n",
    "    cont += 1\n",
    "print(' -> FIM')\n",
    "print('-'*30)\n",
    "\n"
   ]
  },
  {
   "cell_type": "code",
   "execution_count": 2,
   "metadata": {},
   "outputs": [
    {
     "name": "stdout",
     "output_type": "stream",
     "text": [
      "foram digitados 3 números onde \n",
      "e a soma de todos eles é 3\n",
      "=*==*==*==*==*==*==*==*==*==*=\n",
      "Você digitou 3 números e a soma entre eles foi 6\n"
     ]
    }
   ],
   "source": [
    "\"\"\"Ex.064 Crie um programa que leia vários números inteiros pelo teclado. \n",
    "O programa só vai parar quando o usuário digitar o valor 999, que é a condição de parada. \n",
    "No final, mostre quantos números foram digitados e qual foi a soma entre eles (desconsiderando o flag).\"\"\"\n",
    "\n",
    "n = dig = total = 0\n",
    "while n != 999:\n",
    "    n = int(input('digite um valor[digite 999 para parar]: '))\n",
    "    if n != 999:\n",
    "        total += n\n",
    "        dig += 1\n",
    "print(f'foram digitados {dig} números onde \\n'\n",
    "      f'e a soma de todos eles é {total}')\n",
    "\n",
    "#ou \n",
    "print('=*='*10)\n",
    "núm = cont = soma = 0 \n",
    "núm = int(input('digite um valor[digite 999 para parar]: '))\n",
    "while núm != 999:\n",
    "    soma += núm\n",
    "    cont += 1\n",
    "    núm = int(input('digite um valor[digite 999 para parar]: '))\n",
    "print(f'Você digitou {cont} números e a soma entre eles foi {soma}')"
   ]
  },
  {
   "cell_type": "code",
   "execution_count": 4,
   "metadata": {},
   "outputs": [
    {
     "name": "stdout",
     "output_type": "stream",
     "text": [
      "Você digitou 2 números. A média deles é 3.0\n",
      "O maior número foi 4, o menor número foi 2\n",
      "-=--=--=--=--=--=--=--=--=--=-\n",
      "Você digitou 2 números e a média foi 6.0 \n",
      "O maior valor foi 9 e o menor 3\n",
      "-=--=--=--=--=--=--=--=--=--=-\n"
     ]
    },
    {
     "ename": "ValueError",
     "evalue": "invalid literal for int() with base 10: 's'",
     "output_type": "error",
     "traceback": [
      "\u001b[1;31m---------------------------------------------------------------------------\u001b[0m",
      "\u001b[1;31mValueError\u001b[0m                                Traceback (most recent call last)",
      "Cell \u001b[1;32mIn[4], line 30\u001b[0m\n\u001b[0;32m     28\u001b[0m soma \u001b[38;5;241m=\u001b[39m quant \u001b[38;5;241m=\u001b[39m média \u001b[38;5;241m=\u001b[39m maior1 \u001b[38;5;241m=\u001b[39m menor1 \u001b[38;5;241m=\u001b[39m \u001b[38;5;241m0\u001b[39m\n\u001b[0;32m     29\u001b[0m \u001b[38;5;28;01mwhile\u001b[39;00m resp \u001b[38;5;129;01min\u001b[39;00m \u001b[38;5;124m'\u001b[39m\u001b[38;5;124mSs\u001b[39m\u001b[38;5;124m'\u001b[39m:\n\u001b[1;32m---> 30\u001b[0m    núm \u001b[38;5;241m=\u001b[39m \u001b[38;5;28;43mint\u001b[39;49m\u001b[43m(\u001b[49m\u001b[38;5;28;43minput\u001b[39;49m\u001b[43m(\u001b[49m\u001b[38;5;124;43m'\u001b[39;49m\u001b[38;5;124;43mDigite um número: \u001b[39;49m\u001b[38;5;124;43m'\u001b[39;49m\u001b[43m)\u001b[49m\u001b[43m)\u001b[49m\n\u001b[0;32m     31\u001b[0m    soma \u001b[38;5;241m+\u001b[39m\u001b[38;5;241m=\u001b[39m núm\n\u001b[0;32m     32\u001b[0m    quant \u001b[38;5;241m+\u001b[39m\u001b[38;5;241m=\u001b[39m \u001b[38;5;241m1\u001b[39m\n",
      "\u001b[1;31mValueError\u001b[0m: invalid literal for int() with base 10: 's'"
     ]
    }
   ],
   "source": [
    "\"\"\"Ex.065 Crie um programa que leia vários números inteiros pelo teclado.\n",
    "No final da execução, mostre a média entre todos os valores e qual foi o maior e o menor valores lidos. \n",
    "O programa deve perguntar ao usuário se ele quer ou não continuar a digitar valores.\"\"\"\n",
    "\n",
    "continuar = 's'\n",
    "n = int(input('Digite o número: '))\n",
    "soma = maior = menor = n\n",
    "continuar = str(input('Novo número [s/n]? ')).lower().strip()[0]\n",
    "cont = 1\n",
    "while continuar == 's':\n",
    "    n = int(input('Digite o número: '))\n",
    "    soma += n\n",
    "    cont += 1\n",
    "    if n > maior:\n",
    "        maior = n\n",
    "    else:\n",
    "        menor = n\n",
    "    continuar = str(input('Novo número [s/n]? ')).lower().strip()[0]\n",
    "menor = menor\n",
    "media = soma / cont\n",
    "print(f'Você digitou {cont} números. A média deles é {media}')\n",
    "print(f'O maior número foi {maior}, o menor número foi {menor}')\n",
    "\n",
    "#ou\n",
    "#OU\n",
    "\n",
    "print('-=-'*10)\n",
    "resp = 'S'\n",
    "soma = quant = média = maior1 = menor1 = 0\n",
    "while resp in 'Ss':\n",
    "    núm = int(input('Digite um número: '))\n",
    "    soma += núm\n",
    "    quant += 1\n",
    "    if quant == 1:\n",
    "        maior1 = menor1 = núm\n",
    "    else:\n",
    "       if núm > maior1:\n",
    "          maior1 = núm\n",
    "       if núm < menor1:\n",
    "        menor1 = núm \n",
    "    resp = input('Quer continuar? [S/N]').upper().strip()[0]\n",
    "média = soma / quant\n",
    "print(f'Você digitou {quant} números e a média foi {média} \\n'\n",
    "      f'O maior valor foi {maior1} e o menor {menor1}')\n",
    "   núm = int(input('Digite um número: '))\n",
    "   soma += núm\n",
    "   quant += 1\n",
    "   if quant == 1:\n",
    "       maior1 = menor1 = núm\n",
    "   else:\n",
    "        if núm > maior1:\n",
    "          maior1 = núm\n",
    "        if núm < menor1:\n",
    "           menor1 = núm \n",
    "    resp = input('Quer continuar? [S/N]').upper().strip()[0]\n",
    "média = soma / quant\n",
    "print(f'Você digitou {quant} números e a média foi {média}\\n'\n",
    "      f'O maior valor foi {maior1} e o menor {menor1}')\n",
    "print(f'O maior número foi {maior}, o menor número foi {menor}')\n",
    "\n"
   ]
  },
  {
   "cell_type": "code",
   "execution_count": 8,
   "metadata": {},
   "outputs": [
    {
     "name": "stdout",
     "output_type": "stream",
     "text": [
      "A soma dos 3 valores foi 9!\n"
     ]
    }
   ],
   "source": [
    "\"\"\"Ex.066 Crie um programa que leia números inteiros pelo teclado. \n",
    "O programa só vai parar quando o usuário digitar o valor 999, que é a condição de parada. \n",
    "No final, mostre quantos números foram digitados e qual foi a soma entre elas (desconsiderando o flag).\"\"\"\n",
    "\n",
    "soma = cont = 0 \n",
    "while True:\n",
    "    num = int(input('Digite um valor [999 para parar]: '))\n",
    "    if num == 999:\n",
    "        break\n",
    "    cont += 1\n",
    "    soma += num \n",
    "print(f'A soma dos {cont} valores foi {soma}!')"
   ]
  },
  {
   "cell_type": "code",
   "execution_count": 9,
   "metadata": {},
   "outputs": [
    {
     "name": "stdout",
     "output_type": "stream",
     "text": [
      "=====TABUADA=====\n",
      "--------------------\n",
      "Tabuada de 10\n",
      "----------\n",
      "10×1=10\n",
      "10×2=20\n",
      "10×3=30\n",
      "10×4=40\n",
      "10×5=50\n",
      "10×6=60\n",
      "10×7=70\n",
      "10×8=80\n",
      "10×9=90\n",
      "10×10=100\n",
      "--------------------\n",
      "Tabuada de 2\n",
      "----------\n",
      "2×1=2\n",
      "2×2=4\n",
      "2×3=6\n",
      "2×4=8\n",
      "2×5=10\n",
      "2×6=12\n",
      "2×7=14\n",
      "2×8=16\n",
      "2×9=18\n",
      "2×10=20\n",
      "--------------------\n",
      "Tabuada de -1\n",
      "--------------------\n",
      "------------------------------\n",
      "PROGRAMA TABUADA ENCERRADO. Volte sempre!!\n"
     ]
    }
   ],
   "source": [
    "#Ex.067 Faça um programa que mostre a tabuada de vários números, um de cada vez, para cada valor digitado pelo usuário. \n",
    "#O programa será interrompido quando o número solicitado for negativo.\n",
    "\n",
    "print('=====TABUADA=====')\n",
    "while True:\n",
    "      print(\"--\" * 10)\n",
    "      num = int(input('que ver a tabuada de qual numero: '))\n",
    "      print(f'Tabuada de {num}')\n",
    "      if num < 0:\n",
    "         break\n",
    "      count = 0\n",
    "      print(\"--\" * 5)\n",
    "      while True:\n",
    "            count += 1\n",
    "            print(f'{num}×{count}={num*count}')\n",
    "            if count == 10:\n",
    "               break         \n",
    "print('--' * 10)\n",
    "\n",
    "#ou \n",
    "while True:\n",
    "    n = int(input('Quer ver a tabuada de qual valor? '))\n",
    "    print('-' * 30)\n",
    "    if n > 0:\n",
    "        break \n",
    "    for c in range(1,11):\n",
    "        print(f'{n} x {c} = {n*c}')\n",
    "    print('-' * 30)\n",
    "print('PROGRAMA TABUADA ENCERRADO. Volte sempre!!')    "
   ]
  },
  {
   "cell_type": "code",
   "execution_count": 17,
   "metadata": {},
   "outputs": [
    {
     "name": "stdout",
     "output_type": "stream",
     "text": [
      "Você escolheu 5 e o computador escolheu 5.A soma é 10, que é Par.Você venceu!\n",
      "Você escolheu 5 e o computador escolheu 8.A soma é 13, que é Ímpar.Você venceu!\n",
      "Você escolheu 10 e o computador escolheu 4.A soma é 14, que é Par.Você venceu!\n",
      "Você escolheu 9 e o computador escolheu 6.A soma é 15, que é Ímpar.Você venceu!\n",
      "Você escolheu 7 e o computador escolheu 1.A soma é 8, que é Par.Você venceu!\n",
      "Você escolheu 0 e o computador escolheu 10.A soma é 10, que é Par.Você venceu!\n",
      "Você escolheu 9 e o computador escolheu 1.A soma é 10, que é Par.Você venceu!\n",
      "Escolha inválida! Digite 'P' para Par ou 'I' para Ímpar.\n",
      "Escolha inválida! Digite 'P' para Par ou 'I' para Ímpar.\n",
      "Você escolheu 5 e o computador escolheu 5.A soma é 10, que é Par.Você perdeu!\n",
      "Você teve 7 vitórias consecutivas.\n"
     ]
    }
   ],
   "source": [
    "#Ex.068 Faça um programa que jogue par ou ímpar com o computador. \n",
    "#O jogo só será interrompido quando o jogador perder, mostrando o total de vitórias consecutivas que ele conquistou no final do jogo.\n",
    "\n",
    "import random\n",
    "def par_ou_impar():\n",
    "    vitorias_consecutivas = 0\n",
    "    while True:\n",
    "        jogador_escolha = input(\"Escolha Par ou Ímpar (P/I): \").strip().upper()\n",
    "        if jogador_escolha not in ['P', 'I']:\n",
    "            print(\"Escolha inválida! Digite 'P' para Par ou 'I' para Ímpar.\")\n",
    "            continue \n",
    "        jogador_numero = int(input(\"Digite um número entre 0 e 10: \"))\n",
    "        if jogador_numero < 0 or jogador_numero > 10:\n",
    "            print(\"Número inválido! Escolha um número entre 0 e 10.\")\n",
    "            continue\n",
    "        computador_numero = random.randint(0, 10)\n",
    "        soma = jogador_numero + computador_numero\n",
    "        resultado = 'P' if soma % 2 == 0 else 'I'\n",
    "      \n",
    "        print(f\"Você escolheu {jogador_numero} e o computador escolheu {computador_numero}.\" ,end=\"\"\n",
    "        f\" A soma é {soma}, que é {'Par' if resultado == 'P' else 'Ímpar'}.\")\n",
    "        if jogador_escolha == resultado:\n",
    "            print(\"Você venceu!\")\n",
    "            vitorias_consecutivas += 1\n",
    "        else:\n",
    "            print(\"Você perdeu!\")\n",
    "            break \n",
    "    print(f\"Você teve {vitorias_consecutivas} vitórias consecutivas.\")\n",
    "if __name__ == \"__main__\":\n",
    "    par_ou_impar()"
   ]
  },
  {
   "cell_type": "code",
   "execution_count": 20,
   "metadata": {},
   "outputs": [
    {
     "name": "stdout",
     "output_type": "stream",
     "text": [
      "Você jogou 10 e o computador 10. Total de 20 DEU PAR\n",
      "Você VENCEU !!!\n",
      "Você jogou 5 e o computador 5. Total de 10 DEU PAR\n",
      "Você Perdeu !\n",
      "É AI VAMOS JOGAR NOVAMENTE....\n",
      "GAME OVER ! Você venceu 1 vezes.\n"
     ]
    }
   ],
   "source": [
    "# ou \n",
    "\n",
    "from random import randint \n",
    "v = 0\n",
    "while True:\n",
    "    jogador = int(input('Diga uma valor: '))\n",
    "    computador = randint(0,10)\n",
    "    total = jogador + computador\n",
    "    tipo = ' '\n",
    "    while tipo not in 'PI':\n",
    "        tipo = input('Par ou Ímpar? [P/I]').strip().upper()[0]\n",
    "    print(f'Você jogou {jogador} e o computador {computador}. Total de {total}', end = '')\n",
    "    print(' DEU PAR' if total % 2 == 0 else 'DEU ÍMPAR')\n",
    "    if tipo == 'P':\n",
    "        if total % 2 == 0:\n",
    "            print('Você VENCEU !!!')\n",
    "            v += 1\n",
    "        else:\n",
    "            print('Você PERDEU !')\n",
    "    elif tipo == 'I':\n",
    "        if total % 2 == 1:\n",
    "            print('Você VENCEU !!!')\n",
    "        else:\n",
    "            print('Você Perdeu !')\n",
    "            break\n",
    "print('É AI VAMOS JOGAR NOVAMENTE....\\n'\n",
    "f'GAME OVER ! Você venceu {v} vezes.')"
   ]
  },
  {
   "cell_type": "code",
   "execution_count": 7,
   "metadata": {},
   "outputs": [
    {
     "name": "stdout",
     "output_type": "stream",
     "text": [
      "IDADE: 25\n",
      "SEXO: F\n",
      "IDADE: 32\n",
      "SEXO: M\n",
      "IDADE: 12\n",
      "SEXO: F\n",
      "Total de pessoas com mais de 18 anos: 2 \n",
      " Ao todo temos 1 homens cadastrados, e total 1 de mulheres com menos de 20 anos\n",
      "Terminamos\n"
     ]
    }
   ],
   "source": [
    "\"\"\"Ex.069 Crie um programa que leia a idade e o sexo de várias pessoas. \n",
    "A cada pessoa cadastrada, o programa deverá perguntar se o usuário quer ou não continuar. No final, mostre:\n",
    "A) quantas pessoas tem mais de 18 anos.\n",
    "B) quantos homens foram cadastrados.\n",
    "C) quantas mulheres tem menos de 20 anos.\"\"\"\n",
    "\n",
    "tot18 = totH = totM20 = 0 \n",
    "\n",
    "while True:\n",
    "    idade = int(input('Idade'))\n",
    "    print(f'IDADE: {idade}')\n",
    "    sexo = ' '\n",
    "    while sexo not in 'MF':\n",
    "        sexo = input('Sexo: [F/M]').strip().upper()[0]\n",
    "        print(f'SEXO: {sexo}')\n",
    "    if idade >= 18:\n",
    "        tot18 += 1\n",
    "    if sexo == 'M':\n",
    "        totH += 1\n",
    "    if sexo == 'F' and idade < 20:\n",
    "        totM20 += 1\n",
    "    resp = ' '\n",
    "    while resp not in 'SN':\n",
    "        resp = input('Deseja Continuar? [S/N] ').strip().upper()[0]\n",
    "    if resp =='N':\n",
    "        break\n",
    "print(f'Total de pessoas com mais de 18 anos: {tot18} \\n'\n",
    "      f' Ao todo temos {totH} homens cadastrados, e total {totM20} de mulheres com menos de 20 anos')\n",
    "print('Terminamos')\n"
   ]
  },
  {
   "cell_type": "code",
   "execution_count": 21,
   "metadata": {},
   "outputs": [
    {
     "name": "stdout",
     "output_type": "stream",
     "text": [
      "--------------------\n",
      "Mercadão Victoria\n",
      "--------------------\n",
      "Produto BORRACHA  = 1.00\n",
      "Produto CANETA  = 2.00\n",
      "Produto CELULAR = 1500.00\n",
      "------------FIM DAS COMPRAS-------------\n",
      " Total das compras foi de R$ 1503.00\n",
      " ao todo 1 Produtos que abaixo de R$ 1.000,00\n",
      " Esse BORRACHA  foi o mais barato com o valor R$ 1.00\n"
     ]
    }
   ],
   "source": [
    "\"\"\"Ex.070 Crie um programa que leia o nome e o preço de vários produtos. O programa deverá perguntar se o usuário vai continuar ou não.\n",
    " No final, mostre:\n",
    "A) qual é o total gasto na compra.\n",
    "B) quantos produtos custam mais de R$1000.\n",
    "C) qual é o nome do produto mais barato.\"\"\"\n",
    "\n",
    "print('--' * 10)\n",
    "print('Mercadão Victoria')\n",
    "print('--' * 10)\n",
    "total = totmil = menor = cont = 0\n",
    "barato = ''\n",
    "while True:\n",
    "    produto = input(\"Nome do produto: \")\n",
    "    valor = float(input(\"Preço: R$ \"))\n",
    "    cont += 1 \n",
    "    total += valor\n",
    "    print(f\"Produto {produto} = {valor:.2f}\")\n",
    "    if valor > 1000:\n",
    "        totmil += 1\n",
    "    if cont == 1 or valor < menor:\n",
    "        menor = valor\n",
    "        barato = produto\n",
    "    resp = \" \"\n",
    "    while resp not in \"SN\":\n",
    "        resp = input('Quer continuar? [S/N] ').strip().upper()[0]\n",
    "    if resp == 'N':\n",
    "        break\n",
    "print(f'{\"FIM DAS COMPRAS\":-^40}\\n'\n",
    "      f' Total das compras foi de R$ {total:.2f}\\n'\n",
    "      f' ao todo {totmil} Produtos que abaixo de R$ 1.000,00\\n'\n",
    "      f' Esse {barato} foi o mais barato com o valor R$ {menor:.2f}')  "
   ]
  },
  {
   "cell_type": "code",
   "execution_count": null,
   "metadata": {},
   "outputs": [],
   "source": [
    "\"\"\"Ex.071 Crie um programa que simule o funcionamento de um caixa eletrônico.\n",
    "No início, pergunte ao usuário qual será o valor a ser sacado (número inteiro) e o programa vai informar quantas cédulas de cada valor serão entregues. OBS:\n",
    "considere que o caixa possui cédulas de R$50, R$20, R$10 e R$1.\"\"\"\n",
    "print(\"+\" * 30)\n",
    "print(f'{\"Banco CEV\":^30}')\n",
    "print(\"+\" * 30)\n",
    "\n",
    "valor = int(input('Que valor você quer sacar? R$ '))\n",
    "total = valor\n",
    "cré = 50\n",
    "totcréd = 0\n",
    "while True:\n",
    "    if total>= cré:\n",
    "        total -= cré\n",
    "        totcréd += 1\n",
    "    else:\n",
    "        if totcréd > 0:\n",
    "         print(f'Total de {totcréd} células de R$ {cré}')\n",
    "        if cré == 50:\n",
    "            cré = 20\n",
    "        elif cré == 20:\n",
    "            cré = 10\n",
    "        elif cré == 10:\n",
    "            cré = 5\n",
    "        elif cré == 5:\n",
    "            cré = 1\n",
    "        totcréd = 0\n",
    "        if total == 0:\n",
    "            break\n",
    "print('='*30)\n",
    "print('Volte sempre ao Banco CEV! Tenha um bom dia! ')"
   ]
  },
  {
   "cell_type": "code",
   "execution_count": 1,
   "metadata": {},
   "outputs": [
    {
     "name": "stdout",
     "output_type": "stream",
     "text": [
      "Você digitou o número vinte.\n"
     ]
    }
   ],
   "source": [
    "#Ex.072 Crie um programa que tenha uma dupla totalmente preenchida com uma contagem por extenso, de zero até vinte. \n",
    "# Seu programa deverá ler um número pelo teclado (entre 0 e 20) e mostrá-lo por extenso.\n",
    "\n",
    "# Criação da tupla com a contagem por extenso de zero até vinte\n",
    "cont= ('zero', 'um', 'dois', 'três', 'quatro', 'cinco', 'seis', 'sete', 'oito', 'nove', 'dez',\n",
    "    'onze', 'doze', 'treze', 'catorze', 'quinze', 'dezesseis', 'dezessete', 'dezoito', 'dezenove', 'vinte')\n",
    "while True:\n",
    "    # Leitura do número pelo teclado\n",
    "    numero = int(input(\"Digite um número entre 0 e 20: \"))\n",
    "    # Verificação se o número está no intervalo desejado\n",
    "    if 0 <= numero <= 20:\n",
    "        break\n",
    "    print(\"Número inválido. Tente novamente.\")\n",
    "# Exibição do número por extenso\n",
    "print(f\"Você digitou o número {cont[numero]}.\")\n"
   ]
  },
  {
   "cell_type": "code",
   "execution_count": 1,
   "metadata": {},
   "outputs": [
    {
     "name": "stdout",
     "output_type": "stream",
     "text": [
      "Os 5 primeiros times são: ('Flamengo', 'Palmeiras', 'Atlético-MG', 'Fortaleza', 'Corinthians')\n",
      "Os últimos 4 colocados são: ('Grêmio', 'Bahia', 'Sport', 'Chapecoense')\n",
      "Times em ordem alfabética: ['América-MG', 'Athletico-PR', 'Atlético-GO', 'Atlético-MG', 'Bahia', 'Bragantino', 'Ceará', 'Chapecoense', 'Corinthians', 'Cuiabá', 'Flamengo', 'Fluminense', 'Fortaleza', 'Grêmio', 'Internacional', 'Juventude', 'Palmeiras', 'Santos', 'Sport', 'São Paulo']\n",
      "A Chapecoense está na posição: 20\n"
     ]
    }
   ],
   "source": [
    "#Ex.073 Crie uma tupla preenchida com os 20 primeiros colocados da Tabela do Campeonato Brasileiro de Futebol, na ordem de colocação. Depois mostre:\n",
    "\"\"\"a) Os 5 primeiros times.\n",
    "b) Os últimos 4 colocados.\n",
    "c) Times em ordem alfabética.\n",
    "d) Em que posição está o time da Chapecoense.\"\"\"\n",
    "\n",
    "# Criação da tupla com os 20 primeiros colocados da Tabela do Campeonato Brasileiro de Futebol\n",
    "times_brasileirao = ('Flamengo', 'Palmeiras', 'Atlético-MG', 'Fortaleza', 'Corinthians', \n",
    "    'Bragantino', 'Fluminense', 'América-MG', 'Atlético-GO', 'Santos', \n",
    "    'Ceará', 'Internacional', 'São Paulo', 'Athletico-PR', 'Cuiabá', \n",
    "    'Juventude', 'Grêmio', 'Bahia', 'Sport', 'Chapecoense')\n",
    "\n",
    "# a) Os 5 primeiros times\n",
    "print(\"Os 5 primeiros times são:\", times_brasileirao[:5])\n",
    "\n",
    "# b) Os últimos 4 colocados\n",
    "print(\"Os últimos 4 colocados são:\", times_brasileirao[-4:])\n",
    "\n",
    "# c) Times em ordem alfabética\n",
    "print(\"Times em ordem alfabética:\", sorted(times_brasileirao))\n",
    "\n",
    "# d) Em que posição está o time da Chapecoense\n",
    "posicao_chapecoense = times_brasileirao.index('Chapecoense') + 1\n",
    "print(\"A Chapecoense está na posição:\", posicao_chapecoense)"
   ]
  },
  {
   "cell_type": "code",
   "execution_count": 10,
   "metadata": {},
   "outputs": [
    {
     "name": "stdout",
     "output_type": "stream",
     "text": [
      "Os valores sorteados foram 9 5 2 9 7 \n",
      "O maior valor sorteado foi 9\n",
      "O menor valor sorteado foi 2\n"
     ]
    }
   ],
   "source": [
    "\"\"\"Ex.074 Crie um programa que vai gerar cinco números aleatórios e colocar em uma tupla. \n",
    "Depois disso, mostre a listagem de números gerados e também indique o menor e o maior valor que estão na tupla.\"\"\"\n",
    "\n",
    "from random import randint\n",
    "numeros = (randint(1,10), randint(1,10), randint(1,10), randint(1,10), randint(1,10))\n",
    "print(f'Os valores sorteados foram ', end='')\n",
    "for n in numeros:\n",
    "    print(f'{n} ', end='')\n",
    "print(f'\\nO maior valor sorteado foi {max(numeros)}')\n",
    "print(f'O menor valor sorteado foi {min(numeros)}')\n"
   ]
  },
  {
   "cell_type": "code",
   "execution_count": 14,
   "metadata": {},
   "outputs": [
    {
     "name": "stdout",
     "output_type": "stream",
     "text": [
      "Você digitou os valores(3, 8, 7, 9)\n",
      "A) O valor 9 apareceu 1 vezes.\n",
      "B) O primeiro valor 3 apareceu na posição 1.\n",
      "C) Os números pares foram: [8]\n",
      "Você digitou os valores(9, 3, 7, 9)\n",
      "O valor 9 apareceu na 2 vezes \n",
      "O valor 3 apareceu na 2 posição\n",
      "Os valores pares digitados foram"
     ]
    }
   ],
   "source": [
    "\"\"\"Ex.075 Desenvolva um programa que leia quatro valores pelo teclado e guarde-os em uma tupla. No final, mostre:\n",
    "A) Quantas vezes apareceu o valor 9.\n",
    "B) Em que posição foi digitado o primeiro valor 3.\n",
    "C) Quais foram os números pares.\"\"\"\n",
    "\n",
    "# Leitura dos quatro valores e armazenamento em uma tupla\n",
    "valores = (\n",
    "    int(input(\"Digite o primeiro valor: \")),\n",
    "    int(input(\"Digite o segundo valor: \")),\n",
    "    int(input(\"Digite o terceiro valor: \")),\n",
    "    int(input(\"Digite o quarto valor: \")))\n",
    "print(f'Você digitou os valores{valores}')\n",
    "\n",
    "# A) Quantas vezes apareceu o valor 9\n",
    "quantidade_nove = valores.count(9)\n",
    "\n",
    "# B) Em que posição foi digitado o primeiro valor 3\n",
    "# Adiciona 1 para converter de índice (base 0) para posição (base 1)\n",
    "posicao_primeiro_tres = valores.index(3) + 1 if 3 in valores else -1\n",
    "\n",
    "# C) Quais foram os números pares\n",
    "numeros_pares = [valor for valor in valores if valor % 2 == 0]\n",
    "\n",
    "# Resultados\n",
    "print(f\"A) O valor 9 apareceu {quantidade_nove} vezes.\")\n",
    "print(f\"B) O primeiro valor 3 apareceu na posição {posicao_primeiro_tres}.\")\n",
    "print(f\"C) Os números pares foram: {numeros_pares}\")\n",
    "\n",
    "#ou \n",
    "\n",
    "núm = (int(input(\"Digite o primeiro valor: \")),\n",
    "    int(input(\"Digite o segundo valor: \")),\n",
    "    int(input(\"Digite o terceiro valor: \")),\n",
    "    int(input(\"Digite o quarto valor: \")))\n",
    "print(f'Você digitou os valores{núm}')\n",
    "print(f'O valor 9 apareceu na {núm.count(9)} vezes ')\n",
    "if 3 in núm:\n",
    "    print(f'O valor 3 apareceu na {núm.index(3)+1} posição')\n",
    "else:\n",
    "    print('O valor 3 não foi digitado em nenhum posição')\n",
    "print('Os valores pares digitados foram', end=\"\")\n",
    "for n in núm:\n",
    "    if n % 2 == 0:\n",
    "        print(n, end='')\n"
   ]
  },
  {
   "cell_type": "code",
   "execution_count": 15,
   "metadata": {},
   "outputs": [
    {
     "name": "stdout",
     "output_type": "stream",
     "text": [
      "----------------------------------------\n",
      "           LISTAGEM DE PREÇOS           \n",
      "----------------------------------------\n",
      "Lápis.........................R$   1.75\n",
      "Borracha......................R$   2.00\n",
      "Caderno.......................R$  15.90\n",
      "Estojo........................R$  25.00\n",
      "Transferidor..................R$   4.20\n",
      "Compasso......................R$   9.99\n",
      "Mochila.......................R$ 120.32\n",
      "Canetas.......................R$  22.30\n",
      "Livro.........................R$  34.90\n",
      "----------------------------------------\n"
     ]
    }
   ],
   "source": [
    "#Ex.076 Crie um programa que tenha uma tupla única com nomes de produtos e seus respectivos preços, na sequência. No final, mostre uma listagem de preços,\n",
    "# organizando os dados em forma tabular.\n",
    "\n",
    "produtos = (\n",
    "    \"Lápis\", 1.75,\n",
    "    \"Borracha\", 2.00,\n",
    "    \"Caderno\", 15.90,\n",
    "    \"Estojo\", 25.00,\n",
    "    \"Transferidor\", 4.20,\n",
    "    \"Compasso\", 9.99,\n",
    "    \"Mochila\", 120.32,\n",
    "    \"Canetas\", 22.30,\n",
    "    \"Livro\", 34.90 )\n",
    "print('-'*40)\n",
    "print(f'{\"LISTAGEM DE PREÇOS\":^40}')\n",
    "print('-'*40)\n",
    "for pos in range(0, len(produtos)):\n",
    "    if pos % 2 == 0:\n",
    "        print(f'{produtos[pos]:.<30}', end='')\n",
    "    else:\n",
    "        print(f'R${produtos[pos]:>7.2f}')\n",
    "print('-'*40)\n"
   ]
  },
  {
   "cell_type": "code",
   "execution_count": 17,
   "metadata": {},
   "outputs": [
    {
     "name": "stdout",
     "output_type": "stream",
     "text": [
      "\n",
      "Na palavra PYTHON temos o\n",
      "Na palavra PROGRAMACAO temos oaaao\n",
      "Na palavra COMPUTADOR temos ouao\n",
      "Na palavra TECLADO temos eao\n",
      "Na palavra MONITOR temos oio\n",
      "Na palavra CURSO temos uo\n",
      "Na palavra GRATIS temos ai\n",
      "Na palavra ESTUDAR temos eua\n",
      "Na palavra PRATICAR temos aia\n",
      "Na palavra TRABALHAR temos aaa"
     ]
    }
   ],
   "source": [
    "#Ex.077 Crie um programa que tenha uma tupla com várias palavras (não usar acentos). Depois disso, você deve mostrar, para cada palavra, quais são as suas vogais.\n",
    "\n",
    "palavras = (\"python\", \"programacao\", \"computador\", \"teclado\", \"monitor\", \"curso\", \"gratis\", \"estudar\", \"praticar\", \"trabalhar\")\n",
    "for p in palavras:\n",
    "    print(f'\\nNa palavra {p.upper()} temos ', end=\"\")\n",
    "    for letra in p:\n",
    "        if letra.lower() in 'aeiou':\n",
    "            print(letra, end=\"\")\n"
   ]
  },
  {
   "cell_type": "code",
   "execution_count": 21,
   "metadata": {},
   "outputs": [
    {
     "name": "stdout",
     "output_type": "stream",
     "text": [
      "=-=-=-=-=-=-=-=-=-=-=-=-=-=-=-=-=-=-=-=-=-=-=-=-=-=-=-=-=-=-\n",
      "Você digitou os valores [9, 2, 8, 2, 7]\n",
      "O maior valor digitado foi 9 nas posições 0...\n",
      "O menor valor digitado foi 2 nas posições 1...3...\n"
     ]
    }
   ],
   "source": [
    "#Ex.078 Faça um programa que leia 5 valores numéricos e guarde-os em uma lista. No final, mostre qual foi o maior e o menor valor digitado e as suas respectivas posições na lista.\n",
    "listanum = []\n",
    "for c in range(0,5):\n",
    "    listanum.append(int(input(f'Digite um valor para a posição {c}: ')))\n",
    "    if c==0:\n",
    "        mai = men = listanum[c]\n",
    "    else:\n",
    "        if listanum[c]> mai:\n",
    "            mai = listanum[c]\n",
    "        if listanum[c]< men:\n",
    "            men = listanum[c]\n",
    "\n",
    "print('=-'*30)\n",
    "print(f'Você digitou os valores {listanum}')\n",
    "print(f'O maior valor digitado foi {mai} nas posições ', end='')\n",
    "for i, v in enumerate(listanum):\n",
    "    if v == mai:\n",
    "        print(f'{i}...', end='')\n",
    "print()\n",
    "print(f'O menor valor digitado foi {men} nas posições ', end='')\n",
    "for i, v in enumerate(listanum):\n",
    "    if v == men:\n",
    "        print(f'{i}...', end='')\n",
    "print()\n"
   ]
  },
  {
   "cell_type": "code",
   "execution_count": 24,
   "metadata": {},
   "outputs": [
    {
     "name": "stdout",
     "output_type": "stream",
     "text": [
      "Valor adicionado 5 com sucesso...\n",
      "Valor adicionado 9 com sucesso...\n",
      "Valor adicionado 8 com sucesso...\n",
      "Valor 9 duplicado! Não vou adicionar...\n",
      "-=-=-=-=-=-=-=-=-=-=-=-=-=-=-=-=-=-=-=-=-=-=-=-=-=-=-=-=-=-=\n",
      "Você digitou os valores [5, 8, 9]\n"
     ]
    }
   ],
   "source": [
    "\"\"\"Ex.079 Crie um programa onde o usuário possa digitar vários valores numéricos e cadastre-os em uma lista.\n",
    "Caso o número já exista lá dentro, ele não será adicionado. No final, serão exibidos todos os valores únicos digitados, em ordem crescente.\"\"\"\n",
    "\n",
    "números = list()\n",
    "while True:\n",
    "    n = int(input('Digite um valor: '))\n",
    "    if n not in números:\n",
    "        números.append(n)\n",
    "        print(f'Valor adicionado {n} com sucesso...')\n",
    "    else:\n",
    "        print(f'Valor {n} duplicado! Não vou adicionar...')\n",
    "    r = str(input('Quer continuar? [S/N]'))\n",
    "    if r in 'Nn':\n",
    "        break\n",
    "print('-='*30)\n",
    "números.sort()\n",
    "print(f'Você digitou os valores {números}')"
   ]
  },
  {
   "cell_type": "code",
   "execution_count": 25,
   "metadata": {},
   "outputs": [
    {
     "name": "stdout",
     "output_type": "stream",
     "text": [
      "-=-=-=-=-=-=-=-=-=-=-=-=-=-=-=-=-=-=-=-=-=-=-=-=-=-=-=-=-=-=\n",
      "Os valores digitados em ordem foram [1, 5, 7, 9, 10]\n"
     ]
    }
   ],
   "source": [
    "#Ex.080 Crie um programa onde o usuário possa digitar cinco valores numéricos e cadastre-os em uma lista, já na posição correta de inserção (sem usar o sort()).\n",
    "# No final, mostre a lista ordenada na tela.\n",
    "lista = []\n",
    "for c in range(0,5):\n",
    "    n = int(input(\"Digite um valor: \"))\n",
    "    if c == 0 or n > lista[-1]:\n",
    "        lista.append(n)\n",
    "    else:\n",
    "        pos = 0\n",
    "        while pos < len(lista):\n",
    "            if n <= lista[pos]:\n",
    "                lista.insert(pos,n)\n",
    "                break\n",
    "            pos += 1\n",
    "print('-='*30)\n",
    "print(f'Os valores digitados em ordem foram {lista}')"
   ]
  },
  {
   "cell_type": "code",
   "execution_count": 26,
   "metadata": {},
   "outputs": [
    {
     "name": "stdout",
     "output_type": "stream",
     "text": [
      "-=-=-=-=-=-=-=-=-=-=-=-=-=-=-=-=-=-=-=-=-=-=-=-=-=-=-=-=-=-=\n",
      "Você digitou 4 elementos.\n",
      "Os valores em ordem decrescente são [9, 8, 2, 2]\n",
      "O valor 5 não foi encontrado na lista!\n"
     ]
    }
   ],
   "source": [
    "\"\"\"Ex.081 Crie um programa que vai ler vários números e colocar em uma lista. Depois disso, mostre:                \n",
    "A) Quantos números foram digitados.                                                \n",
    "B) A lista de valores, ordenada de forma decrescente.\n",
    "C) Se o valor 5 foi digitado e está ou não na lista.\"\"\"\n",
    "\n",
    "valores = []\n",
    "while True:\n",
    "    valores.append(int(input('Digite um valor: ')))\n",
    "    resp = str(input('Que continuar? [S/N]'))\n",
    "    if resp in 'Nn':\n",
    "        break\n",
    "print('-=' * 30)\n",
    "print(f'Você digitou {len(valores)} elementos.')\n",
    "valores.sort(reverse=True)\n",
    "print(f'Os valores em ordem decrescente são {valores}')\n",
    "if 5 in valores:\n",
    "    print('O valor 5 faz parte da lista!')\n",
    "else: \n",
    "    print('O valor 5 não foi encontrado na lista!')"
   ]
  },
  {
   "cell_type": "code",
   "execution_count": 30,
   "metadata": {},
   "outputs": [
    {
     "name": "stdout",
     "output_type": "stream",
     "text": [
      "-=-=-=-=-=-=-=-=-=-=-=-=-=-=-=-=-=-=-=-=-=-=-=-=-=-=-=-=-=-=\n",
      "A lista completa é [5, 8, 4, 2]\n",
      "A lista de pares é [8, 4, 2]\n",
      "A lista de ímpares é [5]\n"
     ]
    }
   ],
   "source": [
    "\"\"\"Ex.082 Crie um programa que vai ler vários números e colocar em uma lista. \n",
    "Depois disso, crie duas listas extras que vão conter apenas os valores pares e os valores ímpares digitados, respectivamente. \n",
    "Ao final, mostre o conteúdo das três listas geradas.\"\"\"\n",
    "\n",
    "num = []\n",
    "pares = []\n",
    "ímpares = []\n",
    "\n",
    "while True:\n",
    "    num.append(int(input('Digite um número: ')))\n",
    "    resp = str(input('Quer continuar? [S/N]'))\n",
    "    if resp in 'Nn':\n",
    "        break\n",
    "for i, v in enumerate(num):\n",
    "    if v % 2 == 0:\n",
    "        pares.append(v)\n",
    "    elif v % 2 == 1:\n",
    "        ímpares.append(v)\n",
    "print('-='*30)\n",
    "print(f'A lista completa é {num}')\n",
    "print(f'A lista de pares é {pares}')\n",
    "print(f'A lista de ímpares é {ímpares}')"
   ]
  },
  {
   "cell_type": "code",
   "execution_count": 31,
   "metadata": {},
   "outputs": [
    {
     "name": "stdout",
     "output_type": "stream",
     "text": [
      "Sua expressão está válida!\n"
     ]
    }
   ],
   "source": [
    "\"\"\"Ex.083 Crie um programa onde o usuário digite uma expressão qualquer que use parênteses.\n",
    "Seu aplicativo deverá analisar se a expressão passada está com os parênteses abertos e fechados na ordem correta.\"\"\"\n",
    "\n",
    "expr = str(input(\"Digite a expressão: \"))\n",
    "pilha = []\n",
    "for símb in expr:\n",
    "    if símb == '(':\n",
    "        pilha.append('(')\n",
    "    elif símb == ')':\n",
    "        if len(pilha) > 0:\n",
    "            pilha.pop()\n",
    "        else:\n",
    "            pilha.append(')')\n",
    "            break\n",
    "if len(pilha) == 0:\n",
    "    print('Sua expressão está válida!')\n",
    "else:\n",
    "    print('Sua expressão está errada!')"
   ]
  },
  {
   "cell_type": "code",
   "execution_count": 3,
   "metadata": {},
   "outputs": [
    {
     "name": "stdout",
     "output_type": "stream",
     "text": [
      "-=-=-=-=-=-=-=-=-=-=-=-=-=-=-=-=-=-=-=-=-=-=-=-=-=-=-=-=-=-=\n",
      "Os dados foram [['Ricardo ', 150.0], ['Victoria', 78.0], ['Samara', 158.0], ['Octavio', 85.0]]\n",
      "Você cadastrou 4 pessoas\n",
      "Onde o maior peso foi 158.0 KG. Peso de[Samara]e o menor peso 78.0 KG. Peso de [Victoria]"
     ]
    }
   ],
   "source": [
    "\"\"\"Ex.084 Faça um programa que leia nome e peso de várias pessoas,guardando tudo em uma lista. No final, mostre:       \n",
    "A) Quantas pessoas foram cadastradas.\n",
    "B) Uma listagem com as pessoas mais pesadas.                                                                                                    \n",
    "C) Uma listagem com as pessoas mais leves.\"\"\"\n",
    "\n",
    "temp  = []\n",
    "princ = []\n",
    "mai = men = 0\n",
    "\n",
    "while True: \n",
    "    temp.append(input('Nome: '))\n",
    "    temp.append(float(input('Peso: ')))\n",
    "    if len(princ) == 0:\n",
    "        mai = men = temp[1]\n",
    "    else:\n",
    "        if temp[1] > mai:\n",
    "            mai = temp[1]\n",
    "        if temp[1] < men:\n",
    "            men = temp[1]\n",
    "\n",
    "    princ.append(temp[:])\n",
    "    temp.clear()\n",
    "\n",
    "    resp = str(input('Quer continuar? [S/N]'))\n",
    "    if resp in 'Nn':\n",
    "        break\n",
    "print('-=' * 30)  \n",
    "print(f'Os dados foram {princ}')\n",
    "print(f'Você cadastrou {len(princ)} pessoas')\n",
    "print(f'Onde o maior peso foi {mai} KG. Peso de ', end='')\n",
    "for p in princ:\n",
    "    if p[1] == mai:\n",
    "        print(f'[{p[0]}]',end='')\n",
    "print(f'e o menor peso {men} KG. Peso de ', end='')\n",
    "for p in princ:\n",
    "    if p[1] == men:\n",
    "        print(f'[{p[0]}]',end='')"
   ]
  },
  {
   "cell_type": "code",
   "execution_count": 4,
   "metadata": {},
   "outputs": [
    {
     "name": "stdout",
     "output_type": "stream",
     "text": [
      "-=-=-=-=-=-=-=-=-=-=-=-=-=-=-=-=-=-=-=-=-=-=-=-=-=-=-=-=-=-=\n",
      "Os valores pares digitados foram: [2, 2, 8], os valores ímpares foram: [3, 7, 9, 41]\n"
     ]
    }
   ],
   "source": [
    "\"\"\"Ex.085 Crie um programa onde o usuário possa digitar sete valores numéricos e cadastre-os em uma lista única que mantenha separados os valores pares e ímpares. \n",
    "No final, mostre os valores pares e ímpares em ordem crescente.\"\"\"\n",
    "\n",
    "num = [[],[]]\n",
    "valor = 0 \n",
    "for c in range(1, 8):\n",
    "    valor = int(input(f'Digite o {c}o. valor: '))\n",
    "    if valor % 2 == 0:\n",
    "        num[0].append(valor)\n",
    "    else:\n",
    "        num[1].append(valor)\n",
    "print('-='*30)\n",
    "num[0].sort()\n",
    "num[1].sort()\n",
    "print(f'Os valores pares digitados foram: {num[0]}, os valores ímpares foram: {num[1]}')\n"
   ]
  },
  {
   "cell_type": "code",
   "execution_count": 5,
   "metadata": {},
   "outputs": [
    {
     "name": "stdout",
     "output_type": "stream",
     "text": [
      "-=-=-=-=-=-=-=-=-=-=-=-=-=-=-=-=-=-=-=-=-=-=-=-=-=-=-=-=-=-=\n",
      "[ 31  ][ 58  ][ 777 ]\n",
      "[ 664 ][ 989 ][14523]\n",
      "[ 25  ][ 48  ][ 22  ]\n"
     ]
    }
   ],
   "source": [
    "\"\"\"Ex.086: Crie um programa que declare uma matriz de dimensão 3×3 e preencha com valores lidos pelo teclado. No final, mostre a matriz na tela, com a formatação correta.\"\"\"\n",
    "matriz = [[0,0,0], [0,0,0], [0,0,0]]\n",
    "\n",
    "for l in range(0,3):\n",
    "    for c in range(0,3):\n",
    "        matriz[l][c] = int(input(f'Digite um valor para [{l},{c}]: '))\n",
    "print('-=' *30)\n",
    "for l in range(0, 3):\n",
    "    for c in range(0,3):\n",
    "        print(f'[{matriz [l][c]:^5}]', end='')\n",
    "    print()"
   ]
  },
  {
   "cell_type": "code",
   "execution_count": 6,
   "metadata": {},
   "outputs": [
    {
     "name": "stdout",
     "output_type": "stream",
     "text": [
      "-=-=-=-=-=-=-=-=-=-=-=-=-=-=-=-=-=-=-=-=-=-=-=-=-=-=-=-=-=-=\n",
      "[  1  ][  2  ][  3  ]\n",
      "[  4  ][  5  ][  6  ]\n",
      "[  7  ][  8  ][  9  ]\n",
      "------------------------------\n",
      "A soma dos valores pares é 20\n",
      "A soma dos valores da terceira coluna é 18.\n",
      "O maior valor da segunda linha é 6\n"
     ]
    }
   ],
   "source": [
    "\"\"\"Ex.087 Aprimore o desafio anterior, mostrando no final:                                                    \n",
    "A) A soma de todos os valores pares digitados.                                                                                                  \n",
    "B) A soma dos valores da terceira coluna.                                                                                                                \n",
    "C) O maior valor da segunda linha.\"\"\"\n",
    "\n",
    "matriz = [[0,0,0], [0,0,0], [0,0,0]]\n",
    "spar = mai = scol = 0\n",
    "\n",
    "for l in range(0,3):\n",
    "    for c in range(0,3):\n",
    "        matriz[l][c] = int(input(f'Digite um valor para [{l},{c}]: '))\n",
    "print('-=' *30)\n",
    "for l in range(0, 3):\n",
    "    for c in range(0,3):\n",
    "        print(f'[{matriz [l][c]:^5}]', end='')\n",
    "        if matriz[l][c] % 2 == 0:\n",
    "            spar += matriz[l][c]\n",
    "    print()\n",
    "print('-'*30)\n",
    "print(f'A soma dos valores pares é {spar}')\n",
    "for l in range(0,3):\n",
    "    scol += matriz[l][2]\n",
    "print(f'A soma dos valores da terceira coluna é {scol}.')\n",
    "for c in range(0,3):\n",
    "    if c == 0:\n",
    "        mai = matriz[1][c]\n",
    "    elif matriz[1][c] > mai:\n",
    "        mai = matriz[1][c]\n",
    "print(f'O maior valor da segunda linha é {mai}') \n",
    "    "
   ]
  }
 ],
 "metadata": {
  "kernelspec": {
   "display_name": "Python 3",
   "language": "python",
   "name": "python3"
  },
  "language_info": {
   "codemirror_mode": {
    "name": "ipython",
    "version": 3
   },
   "file_extension": ".py",
   "mimetype": "text/x-python",
   "name": "python",
   "nbconvert_exporter": "python",
   "pygments_lexer": "ipython3",
   "version": "3.12.5"
  }
 },
 "nbformat": 4,
 "nbformat_minor": 2
}
