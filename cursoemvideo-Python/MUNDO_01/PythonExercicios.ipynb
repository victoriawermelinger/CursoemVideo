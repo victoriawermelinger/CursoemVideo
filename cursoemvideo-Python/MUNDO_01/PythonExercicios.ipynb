{
 "cells": [
  {
   "cell_type": "code",
   "execution_count": 4,
   "metadata": {},
   "outputs": [
    {
     "name": "stdout",
     "output_type": "stream",
     "text": [
      "Olá, Mundo !!\n",
      "Olá, Mundo !!\n"
     ]
    }
   ],
   "source": [
    "#Ex.001\n",
    "# crie um programa que escreva \"olá, Mundo!!\" na tela. \n",
    "print('Olá, Mundo !!')\n",
    "#ou\n",
    "msg='Olá, Mundo !!'\n",
    "print(msg)"
   ]
  },
  {
   "cell_type": "code",
   "execution_count": 6,
   "metadata": {},
   "outputs": [
    {
     "name": "stdout",
     "output_type": "stream",
     "text": [
      "Olá Victoria  ! Seja bem vindo!\n",
      "É um prazer te conhecer, Victoria!\n"
     ]
    }
   ],
   "source": [
    "#Ex.002\n",
    "# Crie um script Python que leia o nome de uma pessoa e mostre uma mensagem de boas-vindas de acordo com o valor digitado.\n",
    "nome = input ('Qual é seu nome?')\n",
    "print('Olá',nome,'!','Seja bem vindo!')\n",
    "#ou\n",
    "nome=input('Digite seu nome: ')\n",
    "print('É um prazer te conhecer, {}!'.format(nome))"
   ]
  },
  {
   "cell_type": "code",
   "execution_count": 7,
   "metadata": {},
   "outputs": [
    {
     "name": "stdout",
     "output_type": "stream",
     "text": [
      "A soma é 64\n",
      "A soma é 64\n",
      "A soma entre 32 e 32 vale 64\n"
     ]
    }
   ],
   "source": [
    "# Ex.003\n",
    "# Crie um script em python que leia dois números e mostre a soma entre eles.\n",
    "n1 = input ('Primeiro número')\n",
    "n2 = input ('Segundo número')\n",
    "print ('A soma é',int(n1)+int(n2))\n",
    "#ou \n",
    "n1 = int(input ('Primeiro número'))\n",
    "n2 = int(input ('Segundo número'))\n",
    "s = n1 + n2\n",
    "print ('A soma é',s)\n",
    "#ou\n",
    "n1 = int(input ('Digite um valor: '))\n",
    "n2 = int(input ('Digite outro valor: '))\n",
    "s = n1 + n2\n",
    "#print ('A soma entre',n1, 'e', n2, 'vale', s)\n",
    "print('A soma entre {} e {} vale {}'.format(n1,n2,s))"
   ]
  },
  {
   "cell_type": "code",
   "execution_count": null,
   "metadata": {},
   "outputs": [],
   "source": [
    "#Ex.004 \n",
    "# Faça um programa que leia algo pelo teclado e mostre na tela o seu tipo primitivo e todos as informaçoes possiveis sobre ela.\n",
    "a = input('Digite algo: ')\n",
    "print('É do tipo primitivo', type(a))\n",
    "print('Possui espaços apenas espaços em branco?', a.isspace())\n",
    "print('Possui apenas números?', a.isnumeric())\n",
    "print('Possui apenas letras?', a.isalpha())\n",
    "print('Possui letras ou números?', a.isalnum())\n",
    "print('Possui números de 0 a 9?', a.isdecimal())\n",
    "print('Possui todas as letras em minúsculo?', a.islower())\n",
    "print('Possui todas as letras em maiúsculas?', a.isupper())\n",
    "print('Possui a primeira palavra maiúscula e o restante minúsculas?', a.istitle()) "
   ]
  },
  {
   "cell_type": "code",
   "execution_count": 4,
   "metadata": {},
   "outputs": [
    {
     "name": "stdout",
     "output_type": "stream",
     "text": [
      "Analisando o valor 32 o sucesso é 33 e o antecessor é 31\n",
      "Analisando o valor 32 o sucesso é 33 e o antecessor é 31\n"
     ]
    }
   ],
   "source": [
    "#Ex.005 \n",
    "# Faça um programa que leia um número interiro e motre na tela o seu sucessor e o seu antecessor. \n",
    "n1=int (input('Digite um numero:'))\n",
    "suc= n1+1 \n",
    "ant= n1-1 \n",
    "print('Analisando o valor {} o sucesso é {} e o antecessor é {}'.format(n1,suc,ant))\n",
    "\n",
    "#ou \n",
    "n1=int (input('Digite um numero:'))\n",
    "print('Analisando o valor {} o sucesso é {} e o antecessor é {}'.format(n1,(n1+1),(n1-1)))\n"
   ]
  },
  {
   "cell_type": "code",
   "execution_count": 13,
   "metadata": {},
   "outputs": [
    {
     "name": "stdout",
     "output_type": "stream",
     "text": [
      "O dobro de 18 é 36, \n",
      "o triplo é 54 e a raiz é 4.242640687119285\n",
      "O dobro de 18 é 36, \n",
      "o triplo é 54 e a raiz é 4.24\n"
     ]
    }
   ],
   "source": [
    "#Ex.006 \n",
    "# Crie um algoritimo que leia um número e mostre o seu dobro, triplo e raiz quadrada.\n",
    "n1= int(input('Digite um número:')) \n",
    "dob= n1*2 \n",
    "tri= n1*3 \n",
    "raiz= n1**(1/2)\n",
    "print(f'O dobro de {n1} é {dob}, \\no triplo é {tri} e a raiz é {raiz}')\n",
    "\n",
    "#ou\n",
    "n= int(input('Digite um número:')) \n",
    "print('O dobro de {} é {}, \\no triplo é {} e a raiz é {:.2f}'.format(n,(n*2),(n*3),(n**(1/2))))"
   ]
  },
  {
   "cell_type": "code",
   "execution_count": 19,
   "metadata": {},
   "outputs": [
    {
     "name": "stdout",
     "output_type": "stream",
     "text": [
      "A media do aluno no ano foi de 6.7!\n",
      "A media entre 8.5 e 4.9 do aluno no ano foi de 6.7!\n"
     ]
    }
   ],
   "source": [
    "#Ex.007 \n",
    "# Desenvolva um programa que leia as duas notas de um aluno, calcule e mostre a sua média.\n",
    "n1= float(input('Digite a nota do 1° semestre:'))\n",
    "n2= float(input('Digite a nota do 2° semestre:')) \n",
    "med= (n1+n2)/2\n",
    "print(f'A media do aluno no ano foi de {med}!')\n",
    "\n",
    "#ou\n",
    "n1= float(input('Digite a nota do 1° semestre:'))\n",
    "n2= float(input('Digite a nota do 2° semestre:')) \n",
    "med= (n1+n2)/2\n",
    "print('A media entre {:.1f} e {:.1f} do aluno no ano foi de {:.1f}!'.format(n1,n2,med))"
   ]
  },
  {
   "cell_type": "code",
   "execution_count": 23,
   "metadata": {},
   "outputs": [
    {
     "name": "stdout",
     "output_type": "stream",
     "text": [
      "2.5 em metros equivale a 250.0 centimetros e a 2500.0 milimetros!\n",
      "A medida de 2.5m corresponde a 250cm e 2500mm\n"
     ]
    }
   ],
   "source": [
    "#Ex.008\n",
    "# Escreva um programa que leia um valor em metros e o exiba convertido em centimetros e milimetros.\n",
    "n1= float(input('Digite uma medida em metros:')) \n",
    "cent= n1*100 \n",
    "mil= n1*1000\n",
    "print(f'{n1} em metros equivale a {cent} centimetros e a {mil} milimetros!')\n",
    "\n",
    "#ou \n",
    "print('A medida de {}m corresponde a {:.0f}cm e {:.0f}mm'.format(n1,cent,mil))"
   ]
  },
  {
   "cell_type": "code",
   "execution_count": 25,
   "metadata": {},
   "outputs": [
    {
     "name": "stdout",
     "output_type": "stream",
     "text": [
      "9 X 1= 9\n",
      "9 X 2= 18\n",
      "9 X 3= 27\n",
      "9 X 4= 36\n",
      "9 X 5= 45\n",
      "9 X 6= 54\n",
      "9 X 7= 63\n",
      "9 X 8= 72\n",
      "9 X 9= 81\n",
      "9 X 10= 90\n",
      "------------\n",
      "9 X  1 = 9\n",
      "9 X  2 = 18\n",
      "9 X  3 = 27\n",
      "9 X  4 = 36\n",
      "9 X  5 = 45\n",
      "9 X  6 = 54\n",
      "9 X  7 = 63\n",
      "9 X  8 = 72\n",
      "9 X  9 = 81\n",
      "9 X 10 = 90\n",
      "------------\n"
     ]
    }
   ],
   "source": [
    "#Ex.009\n",
    "# Faça um programa que leia um número interio e qualquer e mostre a sua tabuada na tela.\n",
    "n1= int(input('Digite um número para ver sua tabuada:')) \n",
    "x1= n1*1\n",
    "x2= n1*2 \n",
    "x3= n1*3\n",
    "x4= n1*4 \n",
    "x5= n1*5 \n",
    "x6= n1*6 \n",
    "x7= n1*7 \n",
    "x8= n1*8 \n",
    "x9= n1*9 \n",
    "x10= n1*10 \n",
    "print(f'{n1} X 1= {x1}') \n",
    "print(f'{n1} X 2= {x2}') \n",
    "print(f'{n1} X 3= {x3}') \n",
    "print(f'{n1} X 4= {x4}') \n",
    "print(f'{n1} X 5= {x5}') \n",
    "print(f'{n1} X 6= {x6}') \n",
    "print(f'{n1} X 7= {x7}') \n",
    "print(f'{n1} X 8= {x8}') \n",
    "print(f'{n1} X 9= {x9}') \n",
    "print(f'{n1} X 10= {x10}')\n",
    "\n",
    "#ou \n",
    "print('-' * 12)\n",
    "print('{} X {:2} = {}'. format(n1, 1 , n1*1)) \n",
    "print('{} X {:2} = {}'. format(n1, 2 , n1*2)) \n",
    "print('{} X {:2} = {}'. format(n1, 3 , n1*3)) \n",
    "print('{} X {:2} = {}'. format(n1, 4 , n1*4)) \n",
    "print('{} X {:2} = {}'. format(n1, 5 , n1*5)) \n",
    "print('{} X {:2} = {}'. format(n1, 6 , n1*6)) \n",
    "print('{} X {:2} = {}'. format(n1, 7 , n1*7)) \n",
    "print('{} X {:2} = {}'. format(n1, 8 , n1*8)) \n",
    "print('{} X {:2} = {}'. format(n1, 9 , n1*9)) \n",
    "print('{} X {:2} = {}'. format(n1, 10 , n1*10)) \n",
    "print('-' * 12) \n"
   ]
  },
  {
   "cell_type": "code",
   "execution_count": 30,
   "metadata": {},
   "outputs": [
    {
     "name": "stdout",
     "output_type": "stream",
     "text": [
      "Você tem 44.51376146788991 dolares!\n",
      "Com R$145.56 você pode comprar US$44.51\n"
     ]
    }
   ],
   "source": [
    "#Ex.010\n",
    "# Crie um programa que leia quanto dinheiro uma pessoa tem na carteira e mostre quantos Dólares ela pode comprar, CONSIDERANDO US$1,00 = R$3,27\n",
    "real= float(input('Quanto reais R$ tem em sua carteira:'))\n",
    "dol= real/3.27\n",
    "print(f'Você tem {dol} dolares!')\n",
    "\n",
    "#ou \n",
    "print('Com R${:.2f} você pode comprar US${:.2f}'.format(real, dol))"
   ]
  },
  {
   "cell_type": "code",
   "execution_count": 31,
   "metadata": {},
   "outputs": [
    {
     "name": "stdout",
     "output_type": "stream",
     "text": [
      "Com a area total de 6.0, necessita de 3.0 litros de tinta!\n"
     ]
    }
   ],
   "source": [
    "#Ex.011\n",
    "# Faça um programa que leia a largura e a altura de uma parede em metros, calcule a sua área e a quantidade de tinta necessária para pintá-la, sabendo que cada litro de tinta, pinta uma área de 2m².\n",
    "n1= float(input('Qual a largura da parede:'))\n",
    "n2= float(input('Qual a altura da parede:'))\n",
    "area= n1*n2\n",
    "tinta= area/2\n",
    "print(f'Com a area total de {area}, necessita de {tinta} litros de tinta!')"
   ]
  },
  {
   "cell_type": "code",
   "execution_count": 34,
   "metadata": {},
   "outputs": [
    {
     "name": "stdout",
     "output_type": "stream",
     "text": [
      "O valor do produto com desconto é de 95.0 reais!\n",
      "o produto que custava R$ 100.00, na promoção com desconto de 5% vai sair por R$ 95.00\n"
     ]
    }
   ],
   "source": [
    "#Ex.012\n",
    "# Faça um algoritimo que leia o preço de um produto e mostre seu novo preço, com 5% de desconto.\n",
    "n1=float(input('Qual o valor do produto:R$ '))\n",
    "liq= n1-(n1*0.05)\n",
    "print(f'O valor do produto com desconto é de {liq} reais!')\n",
    "\n",
    "#ou \n",
    "novo = n1 - (n1*5/100)\n",
    "print('o produto que custava R$ {:.2f}, na promoção com desconto de 5% vai sair por R$ {:.2f}'.format(n1,novo))"
   ]
  },
  {
   "cell_type": "code",
   "execution_count": 36,
   "metadata": {},
   "outputs": [
    {
     "name": "stdout",
     "output_type": "stream",
     "text": [
      "Seu novo salario é de R$1150.0!\n",
      "Um funcionário que ganhava R$1000.00, com 15% de aumento, passa a receber R$ 1150.00\n"
     ]
    }
   ],
   "source": [
    "#Ex.013\n",
    "# Faça um algoritimo que leia o salário de um funcionário e mostre seu novo salário com 15% de aumento. \n",
    "n1=float(input('Digite seu salario:R$'))\n",
    "aum= (n1*15)/100+n1\n",
    "print(f'Seu novo salario é de R${aum}!')\n",
    "\n",
    "#ou \n",
    "novo= n1 + (n1*15/100)\n",
    "print('Um funcionário que ganhava R${:.2f}, com 15% de aumento, passa a receber R$ {:.2f}'.format(n1,novo))"
   ]
  },
  {
   "cell_type": "code",
   "execution_count": 37,
   "metadata": {},
   "outputs": [
    {
     "name": "stdout",
     "output_type": "stream",
     "text": [
      "A temperatura de 40.0°C corresponde a 104.0°F\n"
     ]
    }
   ],
   "source": [
    "#Ex.014\n",
    "# Escreva um programa que converta uma temperatura digitada em grau Celsius (°C) para Fahrenheit (°F)\n",
    "c = float(input(' Informe a temperatura em Celsius(°C): '))\n",
    "f = ((9*c)/5)+32\n",
    "print('A temperatura de {}°C corresponde a {}°F'.format(c,f))"
   ]
  },
  {
   "cell_type": "code",
   "execution_count": 1,
   "metadata": {},
   "outputs": [
    {
     "name": "stdout",
     "output_type": "stream",
     "text": [
      "O total a pagar é de R$ 232.50\n"
     ]
    }
   ],
   "source": [
    "#Ex.015\n",
    "# Escreva um programa que pergunte a quantidade de Km percorridos por um carro alugado e a quantidade de dias pelos quais ele foi alugado. Calcule o preço a pagar, sabendo que o carro custa R$60 por dia e R$0,15 por Km rodado.\n",
    "dias = int(input('Quantos dias alugados? '))\n",
    "km = float(input('Quantos km rodados? '))\n",
    "pago = (dias * 60) + (km *0.15)\n",
    "print('O total a pagar é de R$ {:.2f}'.format(pago))"
   ]
  },
  {
   "cell_type": "code",
   "execution_count": 4,
   "metadata": {},
   "outputs": [
    {
     "name": "stdout",
     "output_type": "stream",
     "text": [
      "A parte inteira de 5.8785 é 5.\n",
      "A parte inteira de 487.87 é 487.\n",
      "A parte inteira de 31.081991 é 31.\n"
     ]
    }
   ],
   "source": [
    "#EX.016 \n",
    "#Crie um programa que leia um número REAL qualquer pelo teclado e mostre na tela a sua porção inteira \n",
    "    #exemplo: Digita um número: 6.127 O número inteiro 6.127 tem a parte inteira 6.\n",
    "\n",
    "import math\n",
    "num = float(input('Digite um número e descubra a sua parte inteira:'))\n",
    "print('A parte inteira de {} é {}.'.format(num, math.trunc(num)))\n",
    "\n",
    "#ou usando o from\n",
    "\n",
    "from math import trunc\n",
    "num1 = float(input('Digite um número e descubra a sua parte inteira:'))\n",
    "print('A parte inteira de {} é {}.'.format(num1, trunc(num1)))\n",
    "\n",
    "#ou \n",
    "num2 = float(input('Digite um número e descubra a sua parte inteira:'))\n",
    "print('A parte inteira de {} é {}.'.format(num2, int(num2)))"
   ]
  },
  {
   "cell_type": "code",
   "execution_count": 11,
   "metadata": {},
   "outputs": [
    {
     "name": "stdout",
     "output_type": "stream",
     "text": [
      "A hipotenusa vai medir 8.54\n",
      "A hipotenusa vai medir 8.54\n"
     ]
    }
   ],
   "source": [
    "#Ex.017\n",
    "# Faça um programa que leia o comprimento do cateto oposto e do cateto adjacente de um Triangulo retangulo, calcule e mostre o comprimento da hipotenusa.\n",
    "\n",
    "co = float(input('Comprimento do cateto oposto: '))\n",
    "ca = float(input('Comprimento do Cateto Adjacente: '))\n",
    "hi = (co**2 + ca**2) ** (1/2)\n",
    "print('A hipotenusa vai medir {:.2f}'.format(hi))\n",
    "\n",
    "#ou \n",
    "from math import hypot\n",
    "\"\"\"co = float(input('Comprimento do cateto oposto: '))\n",
    "ca = float(input('Comprimento do Cateto Adjacente: '))\"\"\"\n",
    "hi = hypot(co, ca)\n",
    "print('A hipotenusa vai medir {:.2f}'.format(hi))\n"
   ]
  },
  {
   "cell_type": "code",
   "execution_count": 15,
   "metadata": {},
   "outputs": [
    {
     "name": "stdout",
     "output_type": "stream",
     "text": [
      "O ângulo de 45.0 tem o SENO de 0.71\n",
      "O ângulo de 45.0 tem o cosseno de 0.71\n",
      "O ângulo de 45.0 tem a tangente de 1.00\n",
      "O ângulo de 45.0 tem o SENO de 0.71\n",
      "O ângulo de 45.0 tem o cosseno de 0.71\n",
      "O ângulo de 45.0 tem a tangente de 1.00\n"
     ]
    }
   ],
   "source": [
    "#Ex.018\n",
    "# Faça um programa que leia um ângulo qualquer e mostre na tela o valor do seno, cosseno e tangente desse ângulo.\n",
    "\n",
    "import math\n",
    "ângulo = float(input('Digite o ângulo que você deseja: '))\n",
    "seno = math.sin(math.radians(ângulo))\n",
    "print('O ângulo de {} tem o SENO de {:.2f}'.format(ângulo,seno))\n",
    "cosseno = math.cos(math.radians(ângulo))\n",
    "print('O ângulo de {} tem o cosseno de {:.2f}'.format(ângulo,cosseno))\n",
    "tangente = math.tan(math.radians(ângulo))\n",
    "print('O ângulo de {} tem a tangente de {:.2f}'.format(ângulo,tangente))\n",
    "\n",
    "#ou usando o from\n",
    "\n",
    "from math import radians, sin, cos, tan\n",
    "# ângulo = float(input('Digite o ângulo que você deseja: '))\n",
    "seno = sin(radians(ângulo))\n",
    "print('O ângulo de {} tem o SENO de {:.2f}'.format(ângulo,seno))\n",
    "cosseno = cos(radians(ângulo))\n",
    "print('O ângulo de {} tem o cosseno de {:.2f}'.format(ângulo,cosseno))\n",
    "tangente = tan(radians(ângulo))\n",
    "print('O ângulo de {} tem a tangente de {:.2f}'.format(ângulo,tangente))\n"
   ]
  },
  {
   "cell_type": "code",
   "execution_count": 20,
   "metadata": {},
   "outputs": [
    {
     "name": "stdout",
     "output_type": "stream",
     "text": [
      "O aluno escolhido foi ricardo\n",
      "O aluno escolhido foi ricardo\n"
     ]
    }
   ],
   "source": [
    "#Ex.019\n",
    "# Um professor quer sortear um dos seus quatro alunos para apagar o quadro. Faça um programa que ajude ele, lendo o nome dos alunos e escrevendo na tela o nome do escolhido.\n",
    "import random\n",
    "n1 = str(input('Primeiro Aluno: '))\n",
    "n2 = str(input('Segundo Aluno : '))\n",
    "n3 = str(input('Terceiro Aluno: '))\n",
    "n4 = str(input('Quarto Aluno: '))\n",
    "chamada = [n1, n2, n3, n4]\n",
    "escolhido = random.choice(chamada)\n",
    "print(f'O aluno escolhido foi {escolhido}') #mesmo print('O aluno escolhido foi {}' .format(escolhido))\n",
    "\n",
    "#ou usando o from \n",
    "\n",
    "from random import choice\n",
    "\n",
    "escolhido = choice(chamada)\n",
    "print(f'O aluno escolhido foi {escolhido}')"
   ]
  },
  {
   "cell_type": "code",
   "execution_count": 29,
   "metadata": {},
   "outputs": [
    {
     "name": "stdout",
     "output_type": "stream",
     "text": [
      "A ordem de apresentação é:\n",
      "1. Samara\n",
      "2. Fernanda\n",
      "3. Dalva\n",
      "4. Ricardo\n"
     ]
    }
   ],
   "source": [
    "#Ex.020\n",
    "#  O mesmo professor do desafio 19 quer sortear a ordem de apresentação de trabalhos dos alunos. Faça um programa que leia o nome dos quatro alunos e mostre a ordem sorteada.\n",
    "import random\n",
    "# Leitura dos nomes dos alunos\n",
    "n1 = input('Nome do primeiro aluno: ')\n",
    "n2 = input('Nome do segundo aluno: ')\n",
    "n3 = input('Nome do terceiro aluno: ')\n",
    "n4 = input('Nome do quarto aluno: ')\n",
    "# Colocando os nomes em uma lista\n",
    "todos = [n1, n2, n3, n4]\n",
    "# Embaralhando a lista\n",
    "random.shuffle(todos)\n",
    "# Mostrando a ordem de apresentação\n",
    "print('A ordem de apresentação é:')\n",
    "for i, aluno in enumerate(todos, start=1):\n",
    "    print(f\"{i}. {aluno}\")"
   ]
  },
  {
   "cell_type": "code",
   "execution_count": 35,
   "metadata": {},
   "outputs": [
    {
     "name": "stdout",
     "output_type": "stream",
     "text": [
      "pygame 2.5.2 (SDL 2.28.3, Python 3.12.3)\n",
      "Hello from the pygame community. https://www.pygame.org/contribute.html\n"
     ]
    }
   ],
   "source": [
    "#Ex.021\n",
    "# Faça um programa em Python que abra e reproduza o áudio de um arquivo MP3.\n",
    "    #! pip install pygame\n",
    "import pygame\n",
    "pygame.init()\n",
    "pygame.mixer.music.load(nomedoarquivomp3)\n",
    "pygame.mixer.music.play()\n",
    "pygame.event.wain()\n",
    "\n"
   ]
  },
  {
   "cell_type": "code",
   "execution_count": 39,
   "metadata": {},
   "outputs": [
    {
     "name": "stdout",
     "output_type": "stream",
     "text": [
      "Analisando seu nome \n",
      "Seu nome em maiuscula é VICTORIA SABBATINO WERMELINGER\n",
      "Seu nome em maiuscula é victoria sabbatino wermelinger\n",
      "Seu nome tem 28 letras\n",
      "Seu primeiro nome tem 8 letras\n",
      "seu primeiro nome é Victoria e ele tem 8 letras \n"
     ]
    }
   ],
   "source": [
    "#Ex.022 \n",
    "#Crie um programa que leia o nome completo de uma pessoa e mostre:\n",
    "\"\"\"O nome com todas as letras maiúsculas e minúsculas.\n",
    "    Quantas letras ao todo (sem considerar espaços).\n",
    "    Quantas letras tem o primeiro nome.\"\"\" \n",
    "\n",
    "Nome= str(input('Digite nome completo: ')).strip()\n",
    "print('Analisando seu nome ')\n",
    "print(f'Seu nome em maiuscula é {Nome.upper()}')\n",
    "print(f'Seu nome em maiuscula é {Nome.lower()}')\n",
    "print(f'Seu nome tem {len(Nome)-Nome.count(' ')} letras')\n",
    "print(f'Seu primeiro nome tem {Nome.find(' ')} letras')\n",
    "\n",
    "#ou para fazer o último\n",
    "separa = Nome.split()\n",
    "print(f'seu primeiro nome é {separa[0]} e ele tem {len(separa[0])} letras ')\n"
   ]
  },
  {
   "cell_type": "code",
   "execution_count": 40,
   "metadata": {},
   "outputs": [
    {
     "name": "stdout",
     "output_type": "stream",
     "text": [
      "Analisando o número 58452\n",
      "Unidade:2\n",
      "Dezena: 5\n",
      "Centena: 4\n",
      "Milhar: 8\n"
     ]
    }
   ],
   "source": [
    "#Ex.023 \n",
    "# Faça um programa que leia um número de 0 a 9999 e mostre na tela cada um dos dígitos separados.\n",
    "\n",
    "num = int(input('Informe um número: '))\n",
    "u = num // 1 % 10\n",
    "d = num // 10 % 10\n",
    "c = num // 100 % 10\n",
    "m = num // 1000 % 10\n",
    "print(f'Analisando o número {num}')\n",
    "print(f'Unidade:{u}')\n",
    "print(f'Dezena: {d}')\n",
    "print(f'Centena: {c}')\n",
    "print(f'Milhar: {m}')"
   ]
  },
  {
   "cell_type": "code",
   "execution_count": null,
   "metadata": {},
   "outputs": [],
   "source": [
    "#Ex.024 \n",
    "# Crie um programa que leia o nome de uma cidade diga se ela começa ou não com o nome “SANTO”.\n",
    "\n",
    "cid = str (input('Em que cidade você nasceu? ')).strip()\n",
    "print(cid[:5].upper()== 'SANTO')"
   ]
  },
  {
   "cell_type": "code",
   "execution_count": null,
   "metadata": {},
   "outputs": [],
   "source": [
    "#Ex.025 \n",
    "# Crie um programa que leia o nome de uma pessoa e diga se ela tem “SILVA” no nome.\n",
    "\n",
    "nome = str(input(\"NOME COMPLETO: \")).strip().upper()\n",
    "print(f'Seu nome tem \"Silva?\" {\"SILVA\" in nome}')"
   ]
  },
  {
   "cell_type": "code",
   "execution_count": 41,
   "metadata": {},
   "outputs": [
    {
     "name": "stdout",
     "output_type": "stream",
     "text": [
      "A letra A aparece 4 vezes na frase ARARA AZUL\n",
      "A primeira letra A apareceu na posição 1\n",
      "A última letra A apareceu na posição 7\n"
     ]
    }
   ],
   "source": [
    "#Ex.026 \n",
    "# Faça um programa que leia uma frase pelo teclado e mostre\n",
    "\"\"\"quantas vezes aparece a letra “A”, \n",
    "em que posição ela aparece a primeira vez,\n",
    "em que posição ela aparece a última vez.\"\"\"\n",
    "\n",
    "frase = str(input('Digite uma frase: ')).strip().upper()\n",
    "print(f'A letra A aparece {frase.count('A')} vezes na frase {frase}')\n",
    "print(f'A primeira letra A apareceu na posição {frase.find('A')+1}')\n",
    "print(f'A última letra A apareceu na posição {frase.rfind('A')+1}')"
   ]
  },
  {
   "cell_type": "code",
   "execution_count": 48,
   "metadata": {},
   "outputs": [
    {
     "name": "stdout",
     "output_type": "stream",
     "text": [
      "Muito prazer em te conhecer: \n",
      "Seu primeiro nome é VICTORIA\n",
      "Seu último nome é WERMELINGER\n"
     ]
    }
   ],
   "source": [
    "#Ex.027\n",
    "# Faça um programa que leia o nome completo de uma pessoa, mostrando em seguida o primeiro e o último nome separadamente.\n",
    "\n",
    "nome = str(input('Qual o seu nome Completo? ')).strip().upper().split()\n",
    "print(f'Muito prazer em te conhecer: ')\n",
    "print(f'Seu primeiro nome é {nome[0]}')\n",
    "print(f'Seu último nome é {nome[-1]}')"
   ]
  },
  {
   "cell_type": "code",
   "execution_count": 57,
   "metadata": {},
   "outputs": [
    {
     "name": "stdout",
     "output_type": "stream",
     "text": [
      "-=--=--=--=--=--=--=--=--=--=--=--=--=--=--=--=--=--=--=--=-\n",
      "Vou pensar em um número de 0 a 5... Tente adivinhar qual é o número!\n",
      "-=--=--=--=--=--=--=--=--=--=--=--=--=--=--=--=--=--=--=--=-\n",
      "PROCESSANDO...\n",
      "GANHEI!! Eu pensei no numero 3 e não no 4\n"
     ]
    }
   ],
   "source": [
    "#Ex.028 \n",
    "# Escreva um programa que faça o computador “pensar” em um número inteiro entre 0 e 5 e peça para o usuário tentar descobrir qual foi o número escolhido pelo computador. O programa deverá escrever na tela se o usuário venceu ou perdeu.\n",
    "\n",
    "from random import randint\n",
    "from time import sleep\n",
    "computador = randint(0, 5) #Faz o computador \"pensar\"\n",
    "print('-=-' * 20)\n",
    "print('Vou pensar em um número de 0 a 5... Tente adivinhar qual é o número!')\n",
    "print('-=-' * 20)\n",
    "jogador = int(input('Qual é o número eu pensei? ')) # Jogador tenta adivinhar\n",
    "print('PROCESSANDO...') \n",
    "sleep(2)\n",
    "if computador == jogador:\n",
    "    print('PARABÉNS! Você conseguiu me VENCER!')\n",
    "else:\n",
    "    print(f'GANHEI!! Eu pensei no numero {computador} e não no {jogador}')"
   ]
  },
  {
   "cell_type": "code",
   "execution_count": 120,
   "metadata": {},
   "outputs": [
    {
     "name": "stdout",
     "output_type": "stream",
     "text": [
      "A velocidade  do carro é de 16km/h\n",
      "Tenha um Bom Dia!, Dirija com segurança!\n"
     ]
    }
   ],
   "source": [
    "#Ex.029 \n",
    "# Escreva um programa que leia a velocidade de um carro. \n",
    "\"\"\"Se ele ultrapassar 80Km/h, mostre uma mensagem dizendo que ele foi multado.\n",
    " A multa vai custar R$7,00 por cada Km acima do limite.\"\"\"\n",
    "\n",
    "import random\n",
    "velocidade = random.randint(10,120)\n",
    "print(f'A velocidade  do carro é de {velocidade}km/h')\n",
    "\n",
    "if velocidade > 80:\n",
    "    print('Cidadão, seu carro ultrapassou os 80km/h, chegando a {}km/h, sua multa é R$ {:.2f}'.format(velocidade, (velocidade - 80)*7,00))\n",
    "else:\n",
    "    print('Tenha um Bom Dia!, Dirija com segurança!')"
   ]
  },
  {
   "cell_type": "code",
   "execution_count": 121,
   "metadata": {},
   "outputs": [
    {
     "name": "stdout",
     "output_type": "stream",
     "text": [
      "-=--=--=--=--=--=--=--=--=--=-\n",
      "O valor 31 é IMPAR!\n",
      "-=--=--=--=--=--=--=--=--=--=-\n",
      "-=--=--=--=--=--=--=--=--=--=-\n",
      "O valor 181 é IMPAR!\n",
      "-=--=--=--=--=--=--=--=--=--=-\n"
     ]
    }
   ],
   "source": [
    "#Ex.030 \n",
    "#Crie um programa que leia um número inteiro e mostre na tela se ele é PAR ou ÍMPAR.\n",
    "num = int(input('Digite um numero: '))\n",
    "print('-=-'*10)\n",
    "if num % 2 == 0:\n",
    "    print(f'O valor {num} é PAR!')\n",
    "else:\n",
    "    print(f'O valor {num} é IMPAR!')\n",
    "print('-=-'*10)\n",
    "\n",
    "#ou de forma automatica \n",
    "\n",
    "import random\n",
    "num = random.randint(0,1000)\n",
    "print('-=-'*10)\n",
    "if num % 2 == 0:\n",
    "    print(f'O valor {num} é PAR!')\n",
    "else:\n",
    "    print(f'O valor {num} é IMPAR!')\n",
    "print('-=-'*10)"
   ]
  },
  {
   "cell_type": "code",
   "execution_count": 147,
   "metadata": {},
   "outputs": [
    {
     "name": "stdout",
     "output_type": "stream",
     "text": [
      "------------------------------------------------------------\n",
      "Sua viagem é de 774km, o valor da passagem será de R$348.30\n",
      "------------------------------------------------------------\n",
      "------------------------------------------------------------\n",
      "O valor da passagem será de R$348.30\n"
     ]
    }
   ],
   "source": [
    "#Ex.031  Desenvolva um programa que pergunte a distância de uma viagem em Km. \n",
    "\"\"\"Calcule o preço da passagem, cobrando R$0,50 por Km para viagens de até 200Km e R$0,45 parta viagens mais longas.\"\"\"\n",
    "from random import randint\n",
    "distancia = random.randint(0,1000)\n",
    "print('---'*20)\n",
    "if distancia <= 200:\n",
    "  print('Sua viagem é de {}Km o valor da passagem será R${:.2f}'.format(distancia, distancia * 0.5))\n",
    "else:\n",
    "    print('Sua viagem é de {}km, o valor da passagem será de R${:.2f}'.format(distancia, distancia * 0.45))\n",
    "print('---'*20)\n",
    "\n",
    "#ou \n",
    "print('---'*20)\n",
    "preco = distancia * 0.50 if distancia <= 200 else distancia * 0.45\n",
    "print('O valor da passagem será de R${:.2f}'.format(preco))\n"
   ]
  },
  {
   "cell_type": "code",
   "execution_count": 158,
   "metadata": {},
   "outputs": [
    {
     "name": "stdout",
     "output_type": "stream",
     "text": [
      "Ano 2025 normal!\n",
      "Ano 2024 bissexto!\n"
     ]
    }
   ],
   "source": [
    "#Ex.032 \n",
    "# Faça um programa que leia um ano qualquer e mostre se ele é bissexto.\n",
    "ano = int(input(\"Digite um ano: \"))\n",
    "if (ano % 4 == 0 and ano % 100 != 0) or (ano % 400 == 0):\n",
    "  print(f\"Ano {ano} bissexto!\")\n",
    "else:\n",
    "  print(f'Ano {ano} normal!')  \n",
    "\n",
    "#ou \n",
    "\n",
    "from datetime import date\n",
    "ano = int(input(\"Digite um ano ou coloque 0 para analisar o ano atual: \"))\n",
    "if ano == 0:\n",
    "  ano = date.today().year\n",
    "if (ano % 4 == 0 and ano % 100 != 0) or (ano % 400 == 0):\n",
    "  print(f\"Ano {ano} bissexto!\")\n",
    "else:\n",
    "  print(f'Ano {ano} normal!')"
   ]
  },
  {
   "cell_type": "code",
   "execution_count": 167,
   "metadata": {},
   "outputs": [
    {
     "name": "stdout",
     "output_type": "stream",
     "text": [
      "Menor numero digitado, 1\n",
      "Maior numero digitado, 8\n"
     ]
    }
   ],
   "source": [
    "#Ex.033 \n",
    "# Faça um programa que leia três números e mostre qual é o maior e qual é o menor.\n",
    "\n",
    "n1 = int(input('Digite o primeiro numero:'))\n",
    "n2 = int(input('Digite o segundo numeoro:'))\n",
    "n3 = int(input('Digite o terceiro numero:'))\n",
    "#verificando quem é menor \n",
    "menor = n1\n",
    "if n2 < n1 and n2 < n3:\n",
    "    menor = n2\n",
    "if n3 < n1 and n3 < n2:\n",
    "    menor = n3\n",
    "print(f'Menor numero digitado, {menor}')\n",
    "#verificando quem é o maior \n",
    "maior = n1 \n",
    "if n2 > n1 and n3 > n2: \n",
    "    maior = n2 \n",
    "if n3 > n1 and n3 > n2:\n",
    "    maior = n3\n",
    "print(f'Maior numero digitado, {maior}')\n"
   ]
  },
  {
   "cell_type": "code",
   "execution_count": 169,
   "metadata": {},
   "outputs": [
    {
     "name": "stdout",
     "output_type": "stream",
     "text": [
      "O novo salario de Vic é de R$5500.0\n"
     ]
    }
   ],
   "source": [
    "#Ex.034 \n",
    "# Escreva um programa que pergunte o salário de um funcionário e calcule o valor do seu aumento. \n",
    "\"\"\"Para salários superiores a R$1250,00, \n",
    "calcule um aumento de 10%. Para os inferiores ou iguais, o aumento é de 15%.\"\"\"\n",
    "\n",
    "nome = str(input('Qual nome do funionario? ')).strip().capitalize()\n",
    "s = float(input(f'Qual salario de {nome} R$'))\n",
    "if s >= 1250:\n",
    "    ns = s + (10*s) / 100\n",
    "else:\n",
    "    ns = s + (15*s) / 100\n",
    "print(f'O novo salario de {nome} é de R${ns}')"
   ]
  },
  {
   "cell_type": "code",
   "execution_count": 170,
   "metadata": {},
   "outputs": [
    {
     "name": "stdout",
     "output_type": "stream",
     "text": [
      "Formam um triangulo\n"
     ]
    }
   ],
   "source": [
    "#Ex.035\n",
    "# Desenvolva um programa que leia o comprimento de três retas e diga ao usuário se elas podem ou não formar um triângulo.\n",
    "a = float(input('Digite a reta de um triângulo: '))\n",
    "b = float(input('Digite a reta de um triângulo: '))\n",
    "c = float(input('Digite a reta de um triângulo: '))\n",
    "\n",
    "if a + b > c and a + c > b and b + c > a:\n",
    "  print('Formam um triangulo')\n",
    "else:\n",
    "  print(\"Não formam um triangulo\")"
   ]
  },
  {
   "cell_type": "code",
   "execution_count": 9,
   "metadata": {},
   "outputs": [
    {
     "name": "stdout",
     "output_type": "stream",
     "text": [
      "-=-=-=-=-=-=-=-=-=-=-=-=-=-=-=-=-=-=-=-=-=-=-=-=-=-=-=-=-=-=\n",
      "Simule seu empréstimo bancário agora mesmo!\n",
      "-=-=-=-=-=-=-=-=-=-=-=-=-=-=-=-=-=-=-=-=-=-=-=-=-=-=-=-=-=-=\n",
      "Para pagar uma casa de R$ 250000.00 em 10 anos a prestação será de R$ 2083.33\n",
      "Emprestimo Não pode ser concedido, Lamento!\n"
     ]
    }
   ],
   "source": [
    "\"\"\"Ex.036 Escreva um programa para aprovar o empréstimo bancário para a compra de uma casa. \n",
    "Pergunte o valor da casa, o salário do comprador e em quantos anos ele vai pagar. \n",
    "A prestação mensal não pode exceder 30% do salário ou então o empréstimo será negado.\"\"\"\n",
    "#ilustração \n",
    "print('-=' * 30)\n",
    "print('Simule seu empréstimo bancário agora mesmo!')\n",
    "print('-=' * 30)\n",
    "\n",
    "valor_casa = float(input('Qual é o valor da casa que você deseja comprar?R$ '))\n",
    "salario = float(input('Qual é o seu salário?R$ '))\n",
    "tempo = int(input('Em quantos anos você deseja financiar? '))\n",
    "prestação = valor_casa / (tempo * 12)\n",
    "minimo = salario * 30/100\n",
    "print(f'Para pagar uma casa de R$ {valor_casa:.2f} em {tempo} anos ', end='')\n",
    "print(f'a prestação será de R$ {prestação :.2f}')\n",
    "\n",
    "if prestação <= minimo:\n",
    "    print('Emprestimo Concedido, PARABENS!')\n",
    "else:\n",
    "    print('Emprestimo Não pode ser concedido, Lamento!')\n",
    "\n"
   ]
  },
  {
   "cell_type": "code",
   "execution_count": 11,
   "metadata": {},
   "outputs": [
    {
     "name": "stdout",
     "output_type": "stream",
     "text": [
      "Escolha uma das bases para conversão:\n",
      "[ 1 ] converter para BINÁRIO\n",
      "[ 2 ] converter para OCTAL\n",
      "[ 3 ] converter para HEXADECIMAL\n",
      "O número 22 convertido em hexadecimal é 16\n"
     ]
    }
   ],
   "source": [
    "\"\"\"Ex.037 Escreva um programa em Python que leia um número inteiro qualquer e peça para o usuário escolher qual será a base de conversão:\n",
    " 1 para binário, 2 para octal e 3 para hexadecimal.\"\"\"\n",
    "\n",
    "num = int(input('Digite um número inteiro: '))\n",
    "print('''Escolha uma das bases para conversão:\n",
    "[ 1 ] converter para BINÁRIO\n",
    "[ 2 ] converter para OCTAL\n",
    "[ 3 ] converter para HEXADECIMAL''')\n",
    "opcao = int(input('Sua opção: '))\n",
    "\n",
    "if opcao == 1:\n",
    "    print(f'O número {num} convertido em binário é {bin(num)[2:]}')\n",
    "elif opcao == 2:\n",
    "    print(f'O número {num} convertido em octal é {oct(num)[2:]}')\n",
    "elif opcao == 3:\n",
    "    print(f'O número {num} convertido em hexadecimal é {hex(num)[2:]}')\n",
    "else: \n",
    "    print('Opção inválida. Tente novamente')"
   ]
  },
  {
   "cell_type": "code",
   "execution_count": null,
   "metadata": {},
   "outputs": [],
   "source": [
    "\"\"\"Ex.038 Escreva um programa que leia dois números inteiros e compare-os. mostrando na tela uma mensagem:\n",
    "– O primeiro valor é maior\n",
    "– O segundo valor é maior\n",
    "– Não existe valor maior, os dois são iguais\"\"\"\n",
    "\n",
    "from time import sleep\n",
    "num1 = int(input(\"Digite o primeiro número: \"))\n",
    "num2 = int(input(\"Digite o segundo número: \"))\n",
    "print(f'PROCESSANDO...')\n",
    "sleep(2)\n",
    "print(f'Você digitou primeiro {num1} e segundo {num2}')\n",
    "if num1 > num2:\n",
    "    print(\"O primeiro número é maior!\")\n",
    "elif num1 < num2:\n",
    "    print(\"O Segundo número é maior!\")\n",
    "else:\n",
    "    print(\"Não existe número maior, os dois são iguais\")"
   ]
  },
  {
   "cell_type": "code",
   "execution_count": 23,
   "metadata": {},
   "outputs": [
    {
     "name": "stdout",
     "output_type": "stream",
     "text": [
      "Quem nasceu em 2006 tem 18 anos em 2024\n",
      "Você tem que se alistar IMEDIATAMENTE! \n",
      "Você neste ano de 2024, completa 18\n"
     ]
    }
   ],
   "source": [
    "\"\"\"Ex.039 Faça um programa que leia o ano de nascimento de um jovem e informe, \n",
    "de acordo com a sua idade, se ele ainda vai se alistar ao serviço militar, \n",
    "se é a hora exata de se alistar ou se já passou do tempo do alistamento. \n",
    "Seu programa também deverá mostrar o tempo que falta ou que passou do prazo.\"\"\"\n",
    "\n",
    "from datetime import date\n",
    "atual = date.today().year\n",
    "nascimento = int(input('Qual é o ano do seu nascimento?: '))\n",
    "idade = (atual - nascimento)\n",
    "print(f'Quem nasceu em {nascimento} tem {idade} anos em {atual}')\n",
    "if idade < 18:\n",
    "    saldo = 18 - idade\n",
    "    print('Ainda não é o momento para você se alistar.')\n",
    "    print(f'O ano do seu alistamento será em {atual + saldo} daqui à {saldo} anos ')\n",
    "elif idade > 18:\n",
    "    saldo = idade - 18\n",
    "    print('Já passou do tempo para o alistamento.')\n",
    "    print(f'O seu alistamento, deveria ter sido no ano de {atual - saldo} deveria ter feito à {saldo} anos atrás  ')\n",
    "else:\n",
    "    print('Você tem que se alistar IMEDIATAMENTE! ')\n",
    "    print(f'Você neste ano de {atual}, completa {atual-nascimento}')"
   ]
  },
  {
   "cell_type": "code",
   "execution_count": 44,
   "metadata": {},
   "outputs": [
    {
     "name": "stdout",
     "output_type": "stream",
     "text": [
      "Victoria média foi de 8.5 e você foi aprovado!\n"
     ]
    }
   ],
   "source": [
    "\"\"\"Ex.040 Crie um programa que leia duas notas de um aluno e calcule sua média, mostrando uma mensagem no final, de acordo com a média atingida:\n",
    "– Média abaixo de 5.0: REPROVADO\n",
    "– Média entre 5.0 e 6.9: RECUPERAÇÃO\n",
    "– Média 7.0 ou superior: APROVADO\"\"\"\n",
    "\n",
    "aluno = str(input('Digite o nome da Aluna: ')).strip()\n",
    "n1 = float(input('Digite a primeira nota: '))\n",
    "n2 = float(input('Digite a segunda nota: '))\n",
    "\n",
    "media = (n1 + n2) / 2\n",
    "\n",
    "if media >= 7.0:\n",
    "    print(f'{aluno} média foi de {media:.1f} e você foi aprovado!')\n",
    "elif 5.0 <= media < 7.0:\n",
    "    print(f'{aluno} média foi de {media:.1f} e está de recuperação!')\n",
    "else:\n",
    "    print(f'{aluno} média foi de {media:.1f} e você foi reprovado!')"
   ]
  },
  {
   "cell_type": "code",
   "execution_count": 54,
   "metadata": {},
   "outputs": [
    {
     "name": "stdout",
     "output_type": "stream",
     "text": [
      "O Atleta tem: 33 \n",
      "Classificação: MASTER\n",
      "\u001b[1;32mCalculando Categoria... Aguarde..\u001b[m\n",
      "Você tem 33 anos, Sua categoria é.\n",
      "\u001b[1;30;41mMASTER \u001b[m\n"
     ]
    }
   ],
   "source": [
    "\"\"\"Ex.041 A Confederação Nacional de Natação precisa de um programa que leia o ano de nascimento de um atleta e mostre sua categoria, \n",
    "de acordo com a idade:\n",
    "– Até 9 anos: MIRIM\n",
    "– Até 14 anos: INFANTIL\n",
    "– Até 19 anos: JÚNIOR\n",
    "– Até 25 anos: SÊNIOR\n",
    "– Acima de 25 anos: MASTER\"\"\"\n",
    "ano = int(input('Ano de nascimento: '))\n",
    "data = date.today().year\n",
    "idade = data - ano\n",
    "\n",
    "if idade <= 9:\n",
    "    print(f'O Atleta tem: {idade} \\nClassificação: MIRIM')\n",
    "elif idade <= 14 and idade > 9:\n",
    "    print(f'O Atleta tem: {idade} \\nClassificação: INFANTIL')\n",
    "elif idade <= 19 and idade > 14:\n",
    "    print(f'O Atleta tem: {idade} \\nClassificação: JUNIOR')\n",
    "elif idade <= 25 and idade > 19:\n",
    "    print(f'O Atleta tem: {idade} \\nClassificação: SENIOR')\n",
    "elif idade > 25:\n",
    "    print(f'O Atleta tem: {idade} \\nClassificação: MASTER')\n",
    "\n",
    "#ou \n",
    "\n",
    "from time import sleep #tempo de resposta\n",
    "from datetime import date #data\n",
    "dtn = int(input('Qual ano de nascimento do atleta? '))\n",
    "print('\\033[1;32mCalculando Categoria... Aguarde..\\033[m')\n",
    "sleep(1.5)\n",
    "dta = date.today().year #Data atual\n",
    "idd = dta - dtn #idade\n",
    "print(f'Você tem {idd} anos, Sua categoria é.') #Ano do atleta\n",
    "cg = '' #n aprendi ainda como corrigir isso\n",
    "a = ''\n",
    "if idd <= 9:\n",
    "   a = '\\033[1;30;107mmirim'\n",
    "elif idd <= 14:\n",
    "    a = '\\033[1;30;47mInfantil'   \n",
    "elif idd <= 19:\n",
    "    a = '\\033[1;30;44mJunor'\n",
    "elif idd <= 25:\n",
    "    a = '\\033[1;97;40mSenior'\n",
    "else:\n",
    "    a = '\\033[1;30;41mMASTER'\n",
    "print(f'{a} \\033[m')\n"
   ]
  }
 ],
 "metadata": {
  "kernelspec": {
   "display_name": "Python 3",
   "language": "python",
   "name": "python3"
  },
  "language_info": {
   "codemirror_mode": {
    "name": "ipython",
    "version": 3
   },
   "file_extension": ".py",
   "mimetype": "text/x-python",
   "name": "python",
   "nbconvert_exporter": "python",
   "pygments_lexer": "ipython3",
   "version": "3.12.3"
  }
 },
 "nbformat": 4,
 "nbformat_minor": 2
}
