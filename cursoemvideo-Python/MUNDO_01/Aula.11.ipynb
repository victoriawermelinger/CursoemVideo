{
 "cells": [
  {
   "cell_type": "code",
   "execution_count": 8,
   "metadata": {},
   "outputs": [
    {
     "data": {
      "text/plain": [
       "\"class style:\\n    RESET = '\\x1b[0m'\\n    NEGRITO = '\\x1b[1m'\\n    ITALICO = '\\x1b[3m'\\n    SUBLINHADO = '\\x1b[4m'\\n    INVERTIDO = '\\x1b[7m'\\n    \\n    class text:\\n        PRETO = '\\x1b[30m'\\n        VERMELHO = '\\x1b[31m'\\n        VERDE = '\\x1b[32m'\\n        AMARELO = '\\x1b[33m'\\n        AZUL = '\\x1b[34m'\\n        MAGENTA = '\\x1b[35m'\\n        CIANO = '\\x1b[36m'\\n        CINZA = '\\x1b[37m'\\n        BRANCO = '\\x1b[97m'\\n    \\n    class back:\\n        PRETO = '\\x1b[40m'\\n        VERMELHO = '\\x1b[41m'\\n        VERDE = '\\x1b[42m'\\n        AMARELO = '\\x1b[43m'\\n        AZUL = '\\x1b[44m'\\n        MAGENTA = '\\x1b[45m'\\n        CIANO = '\\x1b[46m'\\n        CINZA = '\\x1b[47m'\\n        BRANCO = '\\x1b[107m'\""
      ]
     },
     "execution_count": 8,
     "metadata": {},
     "output_type": "execute_result"
    }
   ],
   "source": [
    "\"\"\"class style:\n",
    "    RESET = '\\033[0m'\n",
    "    NEGRITO = '\\033[1m'\n",
    "    ITALICO = '\\033[3m'\n",
    "    SUBLINHADO = '\\033[4m'\n",
    "    INVERTIDO = '\\033[7m'\n",
    "    \n",
    "    class text:\n",
    "        PRETO = '\\033[30m'\n",
    "        VERMELHO = '\\033[31m'\n",
    "        VERDE = '\\033[32m'\n",
    "        AMARELO = '\\033[33m'\n",
    "        AZUL = '\\033[34m'\n",
    "        MAGENTA = '\\033[35m'\n",
    "        CIANO = '\\033[36m'\n",
    "        CINZA = '\\033[37m'\n",
    "        BRANCO = '\\033[97m'\n",
    "    \n",
    "    class back:\n",
    "        PRETO = '\\033[40m'\n",
    "        VERMELHO = '\\033[41m'\n",
    "        VERDE = '\\033[42m'\n",
    "        AMARELO = '\\033[43m'\n",
    "        AZUL = '\\033[44m'\n",
    "        MAGENTA = '\\033[45m'\n",
    "        CIANO = '\\033[46m'\n",
    "        CINZA = '\\033[47m'\n",
    "        BRANCO = '\\033[107m'\"\"\"\n",
    "\n",
    "\n"
   ]
  },
  {
   "cell_type": "code",
   "execution_count": 9,
   "metadata": {},
   "outputs": [
    {
     "name": "stdout",
     "output_type": "stream",
     "text": [
      "\u001b[1;31;43mOlá Mundo!\u001b[m\n",
      "\u001b[4;35;46mOlá Mundo!\u001b[m\n"
     ]
    }
   ],
   "source": [
    "# EXEMPLO DE COMO FICA O PRINT('OLÁ MUNDO!) PARA QUEM ESTÁ COM DÚVIDAS: \n",
    "print('\\033[1;31;43mOlá Mundo!\\033[m')\n",
    "print('\\033[4;35;46mOlá Mundo!\\033[m')"
   ]
  },
  {
   "cell_type": "code",
   "execution_count": 22,
   "metadata": {},
   "outputs": [
    {
     "name": "stdout",
     "output_type": "stream",
     "text": [
      "Olá, Muito prazer em te conhecer, \u001b[4;34mVictoria\u001b[m\n"
     ]
    }
   ],
   "source": [
    "nome = 'Victoria'\n",
    "print(f'Olá, Muito prazer em te conhecer, {'\\033[4;34m'}{nome}{'\\033[m'}')"
   ]
  }
 ],
 "metadata": {
  "kernelspec": {
   "display_name": "Python 3",
   "language": "python",
   "name": "python3"
  },
  "language_info": {
   "codemirror_mode": {
    "name": "ipython",
    "version": 3
   },
   "file_extension": ".py",
   "mimetype": "text/x-python",
   "name": "python",
   "nbconvert_exporter": "python",
   "pygments_lexer": "ipython3",
   "version": "3.12.3"
  }
 },
 "nbformat": 4,
 "nbformat_minor": 2
}
