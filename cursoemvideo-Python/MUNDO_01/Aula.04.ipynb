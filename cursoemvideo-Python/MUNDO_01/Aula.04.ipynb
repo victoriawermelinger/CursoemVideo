{
 "cells": [
  {
   "cell_type": "code",
   "execution_count": 7,
   "metadata": {},
   "outputs": [
    {
     "name": "stdout",
     "output_type": "stream",
     "text": [
      "Olá, Mundo \n",
      "11\n",
      "olá 5\n"
     ]
    }
   ],
   "source": [
    "#CURSO EM VIDEO PYTHON \n",
    "print('Olá, Mundo ')\n",
    "print(7+4)\n",
    "print('olá', 5)"
   ]
  },
  {
   "cell_type": "code",
   "execution_count": 8,
   "metadata": {},
   "outputs": [
    {
     "name": "stdout",
     "output_type": "stream",
     "text": [
      "Guanabara 25 75.8\n"
     ]
    }
   ],
   "source": [
    "# toda variavel e um obejeto \n",
    "nome = 'Guanabara'\n",
    "idade = 25\n",
    "peso = 75.8\n",
    "\n",
    "print(nome,idade,peso)"
   ]
  },
  {
   "cell_type": "code",
   "execution_count": 9,
   "metadata": {},
   "outputs": [
    {
     "name": "stdout",
     "output_type": "stream",
     "text": [
      "Victoria  32 98\n"
     ]
    }
   ],
   "source": [
    "nome = input('Qual é o seu nome ? ')\n",
    "idade = input( 'Quantoas anos você tem ? ')\n",
    "peso = input('Quantos você pesa? ')\n",
    "print(nome,idade,peso)"
   ]
  },
  {
   "cell_type": "code",
   "execution_count": 3,
   "metadata": {},
   "outputs": [
    {
     "name": "stdout",
     "output_type": "stream",
     "text": [
      "Olá Victoria Sabbatino  ! Seja bem vindo!\n"
     ]
    }
   ],
   "source": [
    "#1. Crie um script Python que leia o nome de uma pessoa e mostre uma mensagem de boas-vindas de acordo com o valor digitado.\n",
    "nome = input ('Qual é seu nome?')\n",
    "print('Olá',nome,'!','Seja bem vindo!')"
   ]
  },
  {
   "cell_type": "code",
   "execution_count": 2,
   "metadata": {},
   "outputs": [
    {
     "name": "stdout",
     "output_type": "stream",
     "text": [
      "Olá Victoria ! Seja bem vindo!\n"
     ]
    }
   ],
   "source": [
    "nome = input('Qual é o seu nome? ')\n",
    "print(f'Olá {nome}! Seja bem vindo!')"
   ]
  },
  {
   "cell_type": "code",
   "execution_count": 6,
   "metadata": {},
   "outputs": [
    {
     "name": "stdout",
     "output_type": "stream",
     "text": [
      "você nasceu em no dia 31 de 08 de 1991 correto? \n"
     ]
    }
   ],
   "source": [
    "#2. Crie um script Python que leia o dia, mês e ano de nascimento de uma pessoa e mostre uma mensagem com a data formada. \n",
    "ano = input ('em que ano você nasceu? ')\n",
    "mês = input ('em que mês? ')\n",
    "dia = input ('em qual dia? ')\n",
    "\n",
    "print ('você nasceu em no dia', dia, 'de', mês, 'de', ano,'correto? ' )"
   ]
  },
  {
   "cell_type": "code",
   "execution_count": 5,
   "metadata": {},
   "outputs": [
    {
     "name": "stdout",
     "output_type": "stream",
     "text": [
      "A soma é = 62\n"
     ]
    }
   ],
   "source": [
    "#3. Crie um script em python que leia dois números e mostre a soma entre eles. \n",
    "n1 = input ('Primeiro número')\n",
    "n2 = input ('Segundo número')\n",
    "print ('A soma é =',int(n1)+int(n2))"
   ]
  }
 ],
 "metadata": {
  "kernelspec": {
   "display_name": "Python 3",
   "language": "python",
   "name": "python3"
  },
  "language_info": {
   "codemirror_mode": {
    "name": "ipython",
    "version": 3
   },
   "file_extension": ".py",
   "mimetype": "text/x-python",
   "name": "python",
   "nbconvert_exporter": "python",
   "pygments_lexer": "ipython3",
   "version": "3.12.3"
  }
 },
 "nbformat": 4,
 "nbformat_minor": 2
}
