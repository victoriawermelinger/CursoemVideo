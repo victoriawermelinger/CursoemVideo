{
 "cells": [
  {
   "cell_type": "markdown",
   "metadata": {},
   "source": [
    "import + CTRL + ESPAÇO (para ver as bibliotecas)"
   ]
  },
  {
   "cell_type": "code",
   "execution_count": 8,
   "metadata": {},
   "outputs": [],
   "source": [
    "import math # importa toda a biblioteca \n",
    " #ceil\n",
    " #floor\n",
    " #trunc\n",
    " #pow\n",
    " #sqrt\n",
    " #factorial \n",
    "from math import sqrt # importar parte específica da biblioteca"
   ]
  },
  {
   "cell_type": "code",
   "execution_count": 13,
   "metadata": {},
   "outputs": [
    {
     "name": "stdout",
     "output_type": "stream",
     "text": [
      "A raiz de 29 é igual a 5.385164807134504\n",
      "A raiz de 29 é igual a 6\n"
     ]
    }
   ],
   "source": [
    "import math\n",
    "num = int(input('Digite um número: '))\n",
    "raiz = math.sqrt(num)\n",
    "\n",
    "print('A raiz de {} é igual a {}'.format(num,raiz))\n",
    "\n",
    "# arredondado para cima \n",
    "print('A raiz de {} é igual a {}'.format(num,math.ceil(raiz)))"
   ]
  },
  {
   "cell_type": "code",
   "execution_count": 14,
   "metadata": {},
   "outputs": [
    {
     "name": "stdout",
     "output_type": "stream",
     "text": [
      "A raiz de 29 é igual a 5\n"
     ]
    }
   ],
   "source": [
    "from math import sqrt, floor\n",
    "num = int(input('Digite um número: '))\n",
    "raiz = sqrt(num)\n",
    "\n",
    "print('A raiz de {} é igual a {}'.format(num,floor(raiz)))"
   ]
  },
  {
   "cell_type": "code",
   "execution_count": 28,
   "metadata": {},
   "outputs": [
    {
     "name": "stdout",
     "output_type": "stream",
     "text": [
      "0.9651929375952839\n",
      "22\n"
     ]
    }
   ],
   "source": [
    "import random \n",
    "num = random.random()\n",
    "print(num)\n",
    "\n",
    "num1 = random.randint(1,30)\n",
    "print(num1)\n"
   ]
  },
  {
   "cell_type": "code",
   "execution_count": 61,
   "metadata": {},
   "outputs": [
    {
     "name": "stdout",
     "output_type": "stream",
     "text": [
      "Olá, mundo 🌎\n"
     ]
    }
   ],
   "source": [
    "import emoji\n",
    "print(emoji.emojize('Olá, mundo :earth_americas:', language = 'alias'))"
   ]
  },
  {
   "cell_type": "code",
   "execution_count": 63,
   "metadata": {},
   "outputs": [
    {
     "name": "stdout",
     "output_type": "stream",
     "text": [
      "A parte inteira de 5.878711 é 5.\n"
     ]
    }
   ],
   "source": [
    "#16 Crie um programa que leia um número REAL qualquer pelo teclado e mostre na tela a sua porção inteira \n",
    "    #exemplo: Digita um número: 6.127 O número inteiro 6.127 tem a parte inteira 6.\n",
    "\n",
    "import math\n",
    "n = float(input('Digite um número e descubra a sua parte inteira:'))\n",
    "pi = math.floor(n)\n",
    "print('A parte inteira de {} é {}.'.format(n,pi))"
   ]
  },
  {
   "cell_type": "code",
   "execution_count": 65,
   "metadata": {},
   "outputs": [
    {
     "name": "stdout",
     "output_type": "stream",
     "text": [
      "A hipotenusa vai medir 8.54\n"
     ]
    }
   ],
   "source": [
    "#17 Faça um programa que leia o comprimento do cateto oposto e do cateto adjacente de um Triangulo retangulo, calcule e mostre o comprimento da hipotenusa. \n",
    "\n",
    "co = float(input('Comprimento do cateto oposto: '))\n",
    "ca = float(input('Comprimento do Cateto Adjacente: '))\n",
    "hi = (co**2 + ca**2) ** (1/2)\n",
    "print('A hipotenusa vai medir {:.2f}'.format(hi))"
   ]
  },
  {
   "cell_type": "code",
   "execution_count": 66,
   "metadata": {},
   "outputs": [
    {
     "name": "stdout",
     "output_type": "stream",
     "text": [
      "0.8660254037844387\n",
      "0.49999999999999994\n",
      "0.5773502691896257\n"
     ]
    }
   ],
   "source": [
    "#18 Faça um programa que leia um ângulo qualquer e mostre na tela o valor do seno, cosseno e tangente desse ângulo.\n",
    "\n",
    "from math import sin, cos, tan, pi\n",
    "n = float(input('Digite um ângulo em graus: '))\n",
    "print(f'{cos((n * pi)/180)}')\n",
    "print(f'{sin((n * pi)/180)}')\n",
    "print(f'{tan((n * pi)/180)}')\n"
   ]
  },
  {
   "cell_type": "code",
   "execution_count": 67,
   "metadata": {},
   "outputs": [
    {
     "name": "stdout",
     "output_type": "stream",
     "text": [
      "O aluno escolhido foi Leticia\n"
     ]
    }
   ],
   "source": [
    "#19 Um professor quer sortear um dos seus quatro alunos para apagar o quadro. Faça um programa que ajude ele, lendo o nome dos alunos e escrevendo na tela o nome do escolhido.\n",
    "import random\n",
    "n1 = str(input('Primeiro Aluno: '))\n",
    "n2 = str(input('Segundo Aluno : '))\n",
    "n3 = str(input('Terceiro Aluno: '))\n",
    "n4 = str(input('Quarto Aluno: '))\n",
    "chamada = [n1, n2, n3, n4]\n",
    "escolhido = random.choice(chamada)\n",
    "print(f'O aluno escolhido foi {escolhido}')"
   ]
  },
  {
   "cell_type": "code",
   "execution_count": 68,
   "metadata": {},
   "outputs": [
    {
     "name": "stdout",
     "output_type": "stream",
     "text": [
      "a ordem de apresentação e ['Fernanda ', 'Victoria', 'Leticia', 'Samara']\n"
     ]
    }
   ],
   "source": [
    "#20  O mesmo professor do desafio 19 quer sortear a ordem de apresentação de trabalhos dos alunos. Faça um programa que leia o nome dos quatro alunos e mostre a ordem sorteada.\n",
    "import random\n",
    "# Leitura dos nomes dos alunos\n",
    "n1 = input('Nome do primeiro aluno: ')\n",
    "n2 = input('Nome do segundo aluno: ')\n",
    "n3 = input('Nome do terceiro aluno: ')\n",
    "n4 = input('Nome do quarto aluno: ')\n",
    "# Colocando os nomes em uma lista\n",
    "todos = [n1, n2, n3, n4]\n",
    "# Embaralhando a lista\n",
    "random.shuffle(todos)\n",
    "# Mostrando a ordem de apresentação\n",
    "print('A ordem de apresentação é:')\n",
    "for i, aluno in enumerate(todos, start=1):\n",
    "    print(f\"{i}. {aluno}\")"
   ]
  },
  {
   "cell_type": "code",
   "execution_count": null,
   "metadata": {},
   "outputs": [],
   "source": [
    "#21 Faça um programa em Python que abra e reproduza o áudio de um arquivo MP3.\n",
    "    #! pip install pygame\n",
    "import pygame\n",
    "pygame.init()\n",
    "pygame.mixer.music.load(nomedoarquivomp3)\n",
    "pygame.mixer.music.play()\n",
    "pygame.event.wain()\n"
   ]
  }
 ],
 "metadata": {
  "kernelspec": {
   "display_name": "Python 3",
   "language": "python",
   "name": "python3"
  },
  "language_info": {
   "codemirror_mode": {
    "name": "ipython",
    "version": 3
   },
   "file_extension": ".py",
   "mimetype": "text/x-python",
   "name": "python",
   "nbconvert_exporter": "python",
   "pygments_lexer": "ipython3",
   "version": "3.12.3"
  }
 },
 "nbformat": 4,
 "nbformat_minor": 2
}
