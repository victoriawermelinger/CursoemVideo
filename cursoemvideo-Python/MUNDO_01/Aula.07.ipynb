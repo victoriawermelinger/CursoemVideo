{
 "cells": [
  {
   "cell_type": "code",
   "execution_count": null,
   "metadata": {},
   "outputs": [],
   "source": [
    "# OPERAÇÕES ARITIMÉTICAS \n",
    "# +   (Adição)\n",
    "# -   (Subitração) \n",
    "# *   (Multiplicação)\n",
    "# /   (Divisão) \n",
    "# **  (Potência) \n",
    "# //  (Divisão Inteira) \n",
    "# %   (Resto da Divisão)"
   ]
  },
  {
   "cell_type": "code",
   "execution_count": 1,
   "metadata": {},
   "outputs": [
    {
     "data": {
      "text/plain": [
       "True"
      ]
     },
     "execution_count": 1,
     "metadata": {},
     "output_type": "execute_result"
    }
   ],
   "source": [
    "5 + 2 == 7\n",
    "5 - 2 == 3 \n",
    "5 * 2 == 10\n",
    "5 / 2 == 2.5\n",
    "5 ** 2 == 25\n",
    "5 // 2 == 2\n",
    "5 % 2 == 1"
   ]
  },
  {
   "cell_type": "code",
   "execution_count": null,
   "metadata": {},
   "outputs": [],
   "source": [
    "# ORDEM DE PRECEDÊNCIA \n",
    "#1. ()\n",
    "#2. **\n",
    "#3. * / // %\n",
    "#4. + -"
   ]
  },
  {
   "cell_type": "code",
   "execution_count": 13,
   "metadata": {},
   "outputs": [],
   "source": [
    "# pow(4,3)      # POTENCIA \n",
    "# 81**(1/2)     # RAIZ QUADRADA \n",
    "# 127**(1/3)    # RAIZ CUBICA"
   ]
  },
  {
   "cell_type": "code",
   "execution_count": 18,
   "metadata": {},
   "outputs": [],
   "source": [
    "# 'oi'+'olá' = 'oiolá'\n",
    "# 'Oi'*5 = 'OiOiOiOiOi'\n",
    "# '=' *20 = '===================='"
   ]
  },
  {
   "cell_type": "code",
   "execution_count": 5,
   "metadata": {},
   "outputs": [
    {
     "name": "stdout",
     "output_type": "stream",
     "text": [
      "12 4\n",
      "A soma é 16, e o produto é 48 e a divisão é 3.0\n",
      "Divisão interia 3 e potência 20736\n"
     ]
    }
   ],
   "source": [
    "n1 = int(input('Digite um valor: '))\n",
    "n2 = int(input('Digite outro valor: '))\n",
    "s = n1+n2\n",
    "m = n1*n2\n",
    "d = n1/n2\n",
    "di = n1//n2\n",
    "e = n1**n2\n",
    "print(n1,n2)\n",
    "print('A soma é {}, e o produto é {} e a divisão é {}'.format(s,m,d))\n",
    "print(\"Divisão interia {} e potência {}\".format(di,e))\n"
   ]
  },
  {
   "cell_type": "code",
   "execution_count": 6,
   "metadata": {},
   "outputs": [
    {
     "name": "stdout",
     "output_type": "stream",
     "text": [
      "12 4\n",
      "A soma é 16, e o produto é 48 e a divisão é 3.000 Divisão interia 3 e potência 20736\n"
     ]
    }
   ],
   "source": [
    "n1 = int(input('Digite um valor: '))\n",
    "n2 = int(input('Digite outro valor: '))\n",
    "s = n1+n2\n",
    "m = n1*n2\n",
    "d = n1/n2\n",
    "di = n1//n2\n",
    "e = n1**n2\n",
    "print(n1,n2)\n",
    "print('A soma é {}, e o produto é {} e a divisão é {:.3f}'.format(s,m,d), end=' ')\n",
    "print(\"Divisão interia {} e potência {}\".format(di,e))"
   ]
  },
  {
   "cell_type": "code",
   "execution_count": 15,
   "metadata": {},
   "outputs": [
    {
     "name": "stdout",
     "output_type": "stream",
     "text": [
      "O sucessor de 4 é 5 e o antecessor é 3\n"
     ]
    }
   ],
   "source": [
    "#5. Faça um programa que leia um número interiro e motre na tela o seu sucessor e o seu antecessor. \n",
    "n1=int (input('Digite um numero:'))\n",
    "suc= n1+1 \n",
    "ant= n1-1 \n",
    "print('O sucessor de {} é {} e o antecessor é {}'.format(n1,suc,ant))"
   ]
  },
  {
   "cell_type": "code",
   "execution_count": 16,
   "metadata": {},
   "outputs": [
    {
     "name": "stdout",
     "output_type": "stream",
     "text": [
      "O dobro de 4.0 é 8.0, o triplo é 12.0 e a raiz é 2.0\n"
     ]
    }
   ],
   "source": [
    "#6. Crie um algoritimo que leia um número e mostre o seu dobro, triplo e raiz quadrada.\n",
    "n1= int(input('Digite um número:')) \n",
    "dob= n1*2 \n",
    "tri= n1*3 \n",
    "raiz= n1**(1/2)\n",
    "print(f'O dobro de {n1} é {dob}, o triplo é {tri} e a raiz é {raiz}')"
   ]
  },
  {
   "cell_type": "code",
   "execution_count": 17,
   "metadata": {},
   "outputs": [
    {
     "name": "stdout",
     "output_type": "stream",
     "text": [
      "A media do aluno no ano foi de 6.5!\n"
     ]
    }
   ],
   "source": [
    "#7. Desenvolva um programa que leia as duas notas de um aluno, calcule e mostre a sua média.\n",
    "n1= float(input('Digite a nota do 1° semestre:'))\n",
    "n2= float(input('Digite a nota do 2° semestre:')) \n",
    "med= (n1+n2)/2\n",
    "print(f'A media do aluno no ano foi de {med}!')"
   ]
  },
  {
   "cell_type": "code",
   "execution_count": 18,
   "metadata": {},
   "outputs": [
    {
     "name": "stdout",
     "output_type": "stream",
     "text": [
      "5875.0 em metros equivale a 587500.0 centimetros e a 5875000.0 milimetros!\n"
     ]
    }
   ],
   "source": [
    "#8. Escreva um programa que leia um valor em metros e o exiba convertido em centimetros e milimetros.\n",
    "n1= float(input('Digite uma medida em metros:')) \n",
    "cent= n1*100 \n",
    "mil= n1*1000\n",
    "print(f'{n1} em metros equivale a {cent} centimetros e a {mil} milimetros!')"
   ]
  },
  {
   "cell_type": "code",
   "execution_count": 19,
   "metadata": {},
   "outputs": [
    {
     "name": "stdout",
     "output_type": "stream",
     "text": [
      "5 X 1= 5\n",
      "5 X 2= 10\n",
      "5 X 3= 15\n",
      "5 X 4= 20\n",
      "5 X 5= 25\n",
      "5 X 6= 30\n",
      "5 X 7= 35\n",
      "5 X 8= 40\n",
      "5 X 9= 45\n",
      "5 X 10= 50\n"
     ]
    }
   ],
   "source": [
    "#9. Faça um programa que leia um número interio e qualquer e mostre a sua tabuada na tela.\n",
    "n1= int(input('Digite um número:')) \n",
    "x1= n1*1\n",
    "x2= n1*2 \n",
    "x3= n1*3\n",
    "x4= n1*4 \n",
    "x5= n1*5 \n",
    "x6= n1*6 \n",
    "x7= n1*7 \n",
    "x8= n1*8 \n",
    "x9= n1*9 \n",
    "x10= n1*10 \n",
    "print(f'{n1} X 1= {x1}') \n",
    "print(f'{n1} X 2= {x2}') \n",
    "print(f'{n1} X 3= {x3}') \n",
    "print(f'{n1} X 4= {x4}') \n",
    "print(f'{n1} X 5= {x5}') \n",
    "print(f'{n1} X 6= {x6}') \n",
    "print(f'{n1} X 7= {x7}') \n",
    "print(f'{n1} X 8= {x8}') \n",
    "print(f'{n1} X 9= {x9}') \n",
    "print(f'{n1} X 10= {x10}')"
   ]
  },
  {
   "cell_type": "code",
   "execution_count": 1,
   "metadata": {},
   "outputs": [
    {
     "name": "stdout",
     "output_type": "stream",
     "text": [
      "Você tem 37.84709480122324 dolares!\n"
     ]
    }
   ],
   "source": [
    "#10. Crie um programa que leia quanto dinheiro uma pessoa tem na carteira e mostre quantos Dólares ela pode comprar, CONSIDERANDO US$1,00 = R$3,27\n",
    "n1= float(input('R$ em sua carteira:'))\n",
    "dol= n1/3.27\n",
    "print(f'Você tem {dol} dolares!')"
   ]
  },
  {
   "cell_type": "code",
   "execution_count": 24,
   "metadata": {},
   "outputs": [
    {
     "name": "stdout",
     "output_type": "stream",
     "text": [
      "Com a area total de 3364.0, necessita de 1682.0 litros de tinta!\n"
     ]
    }
   ],
   "source": [
    "#11. Faça um programa que leia a largura e a altura de uma parede em metros, calcule a sua área e a quantidade de tinta necessária para pintá-la, sabendo que cada litro de tinta, pinta uma área de 2m².\n",
    "n1= float(input('Qual a largura da parede:'))\n",
    "n2= float(input('Qual a altura da parede:'))\n",
    "area= n1*n2\n",
    "tinta= area/2\n",
    "print(f'Com a area total de {area}, necessita de {tinta} litros de tinta!')"
   ]
  },
  {
   "cell_type": "code",
   "execution_count": 25,
   "metadata": {},
   "outputs": [
    {
     "name": "stdout",
     "output_type": "stream",
     "text": [
      "O valor do produto com desconto é de 4.75 reais!\n"
     ]
    }
   ],
   "source": [
    "#12. Faça um algoritimo que leia o preço de um produto e mostre seu novo preço, com 5% de desconto.\n",
    "n1=float(input('Qual o valor do produto:'))\n",
    "liq= n1-(n1*0.05)\n",
    "print(f'O valor do produto com desconto é de {liq} reais!')"
   ]
  },
  {
   "cell_type": "code",
   "execution_count": 26,
   "metadata": {},
   "outputs": [
    {
     "name": "stdout",
     "output_type": "stream",
     "text": [
      "Seu novo salario é de R$172.5!\n"
     ]
    }
   ],
   "source": [
    "#13. Faça um algoritimo que leia o salário de um funcionário e mostre seu novo salário com 15% de aumento. \n",
    "n1=float(input('Digite seu salario:'))\n",
    "aum= (n1*15)/100+n1\n",
    "print(f'Seu novo salario é de R${aum}!')"
   ]
  }
 ],
 "metadata": {
  "kernelspec": {
   "display_name": "Python 3",
   "language": "python",
   "name": "python3"
  },
  "language_info": {
   "codemirror_mode": {
    "name": "ipython",
    "version": 3
   },
   "file_extension": ".py",
   "mimetype": "text/x-python",
   "name": "python",
   "nbconvert_exporter": "python",
   "pygments_lexer": "ipython3",
   "version": "3.12.3"
  }
 },
 "nbformat": 4,
 "nbformat_minor": 2
}
