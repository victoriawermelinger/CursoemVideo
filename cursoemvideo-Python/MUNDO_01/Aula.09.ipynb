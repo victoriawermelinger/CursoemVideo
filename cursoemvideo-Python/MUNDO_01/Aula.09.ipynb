{
 "cells": [
  {
   "cell_type": "code",
   "execution_count": 5,
   "metadata": {},
   "outputs": [
    {
     "data": {
      "text/plain": [
       "11"
      ]
     },
     "execution_count": 5,
     "metadata": {},
     "output_type": "execute_result"
    }
   ],
   "source": [
    "frase = 'curso em video Python'"
   ]
  },
  {
   "cell_type": "code",
   "execution_count": 25,
   "metadata": {},
   "outputs": [
    {
     "data": {
      "text/plain": [
       "'s'"
      ]
     },
     "execution_count": 25,
     "metadata": {},
     "output_type": "execute_result"
    }
   ],
   "source": [
    "frase[3] # o que ocupa o espaço \"3\""
   ]
  },
  {
   "cell_type": "code",
   "execution_count": 26,
   "metadata": {},
   "outputs": [
    {
     "data": {
      "text/plain": [
       "'so em vide'"
      ]
     },
     "execution_count": 26,
     "metadata": {},
     "output_type": "execute_result"
    }
   ],
   "source": [
    "frase[3:13] # o que tem entre começo \"3\" ate a posição \"13\""
   ]
  },
  {
   "cell_type": "code",
   "execution_count": 27,
   "metadata": {},
   "outputs": [
    {
     "data": {
      "text/plain": [
       "'curso em vide'"
      ]
     },
     "execution_count": 27,
     "metadata": {},
     "output_type": "execute_result"
    }
   ],
   "source": [
    "frase[:13] # do inicio ate o \"13\""
   ]
  },
  {
   "cell_type": "code",
   "execution_count": 28,
   "metadata": {},
   "outputs": [
    {
     "data": {
      "text/plain": [
       "'us mvdo'"
      ]
     },
     "execution_count": 28,
     "metadata": {},
     "output_type": "execute_result"
    }
   ],
   "source": [
    "frase[1:15:2] # comeca posição \"1\" até \"15\" pulado \"2\""
   ]
  },
  {
   "cell_type": "code",
   "execution_count": 29,
   "metadata": {},
   "outputs": [
    {
     "data": {
      "text/plain": [
       "'croe ie yhn'"
      ]
     },
     "execution_count": 29,
     "metadata": {},
     "output_type": "execute_result"
    }
   ],
   "source": [
    "frase[::2] #começa no \"0\" ,não sabe onde termina e pula 2 em 2"
   ]
  },
  {
   "cell_type": "code",
   "execution_count": 33,
   "metadata": {},
   "outputs": [
    {
     "name": "stdout",
     "output_type": "stream",
     "text": [
      "Welcome! Are you completely new to programming?\n",
      "       about why and how to get started with Python. \n",
      "       Fortunately an experienced programmer in any programming language \n",
      "       (whatever it may be) can pick up Python very quickly.\n",
      "       It's also easy for beginners to use and learn, so jump in!\n"
     ]
    }
   ],
   "source": [
    "print('''Welcome! Are you completely new to programming?\n",
    "       about why and how to get started with Python. \n",
    "       Fortunately an experienced programmer in any programming language \n",
    "       (whatever it may be) can pick up Python very quickly.\n",
    "       It's also easy for beginners to use and learn, so jump in!''')\n"
   ]
  },
  {
   "cell_type": "code",
   "execution_count": 3,
   "metadata": {},
   "outputs": [
    {
     "data": {
      "text/plain": [
       "21"
      ]
     },
     "execution_count": 3,
     "metadata": {},
     "output_type": "execute_result"
    }
   ],
   "source": [
    "len(frase) #comprimento da frase "
   ]
  },
  {
   "cell_type": "code",
   "execution_count": 6,
   "metadata": {},
   "outputs": [
    {
     "data": {
      "text/plain": [
       "3"
      ]
     },
     "execution_count": 6,
     "metadata": {},
     "output_type": "execute_result"
    }
   ],
   "source": [
    "frase.count('o') #conta quantas vezes exixte a letra o"
   ]
  },
  {
   "cell_type": "code",
   "execution_count": 7,
   "metadata": {},
   "outputs": [
    {
     "data": {
      "text/plain": [
       "11"
      ]
     },
     "execution_count": 7,
     "metadata": {},
     "output_type": "execute_result"
    }
   ],
   "source": [
    "frase.find('deo') #em que momento começou na possição "
   ]
  },
  {
   "cell_type": "code",
   "execution_count": 8,
   "metadata": {},
   "outputs": [
    {
     "data": {
      "text/plain": [
       "True"
      ]
     },
     "execution_count": 8,
     "metadata": {},
     "output_type": "execute_result"
    }
   ],
   "source": [
    "'curso' in frase"
   ]
  },
  {
   "cell_type": "markdown",
   "metadata": {},
   "source": [
    "# Transformação "
   ]
  },
  {
   "cell_type": "code",
   "execution_count": 9,
   "metadata": {},
   "outputs": [
    {
     "data": {
      "text/plain": [
       "'curso em video Android'"
      ]
     },
     "execution_count": 9,
     "metadata": {},
     "output_type": "execute_result"
    }
   ],
   "source": [
    "frase.replace('Python', 'Android') #substitui a palavra"
   ]
  },
  {
   "cell_type": "code",
   "execution_count": 10,
   "metadata": {},
   "outputs": [
    {
     "data": {
      "text/plain": [
       "'CURSO EM VIDEO PYTHON'"
      ]
     },
     "execution_count": 10,
     "metadata": {},
     "output_type": "execute_result"
    }
   ],
   "source": [
    "frase.upper() # transforma tudo em maiuscula "
   ]
  },
  {
   "cell_type": "code",
   "execution_count": 11,
   "metadata": {},
   "outputs": [
    {
     "data": {
      "text/plain": [
       "'curso em video python'"
      ]
     },
     "execution_count": 11,
     "metadata": {},
     "output_type": "execute_result"
    }
   ],
   "source": [
    "frase.lower() # transforma tudo em minuscula "
   ]
  },
  {
   "cell_type": "code",
   "execution_count": 12,
   "metadata": {},
   "outputs": [
    {
     "data": {
      "text/plain": [
       "'Curso em video python'"
      ]
     },
     "execution_count": 12,
     "metadata": {},
     "output_type": "execute_result"
    }
   ],
   "source": [
    "frase.capitalize() #coloca apenas a primeira letra da frase em maiuscula "
   ]
  },
  {
   "cell_type": "code",
   "execution_count": 13,
   "metadata": {},
   "outputs": [
    {
     "data": {
      "text/plain": [
       "'Curso Em Video Python'"
      ]
     },
     "execution_count": 13,
     "metadata": {},
     "output_type": "execute_result"
    }
   ],
   "source": [
    "frase.title() # faz capitalize toda fez que tiver espaço "
   ]
  },
  {
   "cell_type": "code",
   "execution_count": 16,
   "metadata": {},
   "outputs": [],
   "source": [
    "frase1 ='    Aprenda Python    '"
   ]
  },
  {
   "cell_type": "code",
   "execution_count": 17,
   "metadata": {},
   "outputs": [
    {
     "data": {
      "text/plain": [
       "'Aprenda Python'"
      ]
     },
     "execution_count": 17,
     "metadata": {},
     "output_type": "execute_result"
    }
   ],
   "source": [
    "frase1.strip() # tira o espaço antes do começo da frase e do termido na frase, não alterando entre as palavras"
   ]
  },
  {
   "cell_type": "code",
   "execution_count": 19,
   "metadata": {},
   "outputs": [
    {
     "data": {
      "text/plain": [
       "'    Aprenda Python'"
      ]
     },
     "execution_count": 19,
     "metadata": {},
     "output_type": "execute_result"
    }
   ],
   "source": [
    "frase1.rstrip()"
   ]
  },
  {
   "cell_type": "code",
   "execution_count": 20,
   "metadata": {},
   "outputs": [
    {
     "data": {
      "text/plain": [
       "'Aprenda Python    '"
      ]
     },
     "execution_count": 20,
     "metadata": {},
     "output_type": "execute_result"
    }
   ],
   "source": [
    "frase1.lstrip()"
   ]
  },
  {
   "cell_type": "markdown",
   "metadata": {},
   "source": [
    "# Divisão"
   ]
  },
  {
   "cell_type": "code",
   "execution_count": 21,
   "metadata": {},
   "outputs": [
    {
     "data": {
      "text/plain": [
       "['curso', 'em', 'video', 'Python']"
      ]
     },
     "execution_count": 21,
     "metadata": {},
     "output_type": "execute_result"
    }
   ],
   "source": [
    "frase.split() # divide a frase em palavras, gerando uma lista "
   ]
  },
  {
   "cell_type": "markdown",
   "metadata": {},
   "source": [
    "# Junção"
   ]
  },
  {
   "cell_type": "code",
   "execution_count": 24,
   "metadata": {},
   "outputs": [
    {
     "data": {
      "text/plain": [
       "'c*u*r*s*o* *e*m* *v*i*d*e*o* *P*y*t*h*o*n'"
      ]
     },
     "execution_count": 24,
     "metadata": {},
     "output_type": "execute_result"
    }
   ],
   "source": [
    "'*'.join(frase)"
   ]
  },
  {
   "cell_type": "markdown",
   "metadata": {},
   "source": [
    "## Testando"
   ]
  },
  {
   "cell_type": "code",
   "execution_count": 36,
   "metadata": {},
   "outputs": [
    {
     "data": {
      "text/plain": [
       "0"
      ]
     },
     "execution_count": 36,
     "metadata": {},
     "output_type": "execute_result"
    }
   ],
   "source": [
    "frase.count('O')"
   ]
  },
  {
   "cell_type": "code",
   "execution_count": 35,
   "metadata": {},
   "outputs": [
    {
     "data": {
      "text/plain": [
       "3"
      ]
     },
     "execution_count": 35,
     "metadata": {},
     "output_type": "execute_result"
    }
   ],
   "source": [
    "frase.upper().count('O')"
   ]
  },
  {
   "cell_type": "code",
   "execution_count": 34,
   "metadata": {},
   "outputs": [
    {
     "data": {
      "text/plain": [
       "'curso'"
      ]
     },
     "execution_count": 34,
     "metadata": {},
     "output_type": "execute_result"
    }
   ],
   "source": [
    "dividindo = frase.split()\n",
    "dividindo[0]"
   ]
  },
  {
   "cell_type": "code",
   "execution_count": 37,
   "metadata": {},
   "outputs": [
    {
     "data": {
      "text/plain": [
       "'e'"
      ]
     },
     "execution_count": 37,
     "metadata": {},
     "output_type": "execute_result"
    }
   ],
   "source": [
    "dividindo[2][3]"
   ]
  },
  {
   "cell_type": "code",
   "execution_count": 45,
   "metadata": {},
   "outputs": [
    {
     "name": "stdout",
     "output_type": "stream",
     "text": [
      "Analisando seu nome \n",
      "Seu nome em maiuscula é VICTORIA SABBATINO WERMELINGER\n",
      "Seu nome em maiuscula é victoria sabbatino wermelinger\n",
      "Seu nome tem 28 letras\n",
      "Seu primeiro nome tem 8 letras\n"
     ]
    }
   ],
   "source": [
    "#Ex.022 \n",
    "# Crie um programa que leia o nome completo de uma pessoa e mostre:\n",
    "\"\"\"O nome com todas as letras maiúsculas e minúsculas.\n",
    "    Quantas letras ao todo (sem considerar espaços).\n",
    "    Quantas letras tem o primeiro nome.\"\"\" \n",
    "\n",
    "Nome= str(input('Digite nome completo: ')).strip()\n",
    "print('Analisando seu nome ')\n",
    "print(f'Seu nome em maiuscula é {Nome.upper()}')\n",
    "print(f'Seu nome em maiuscula é {Nome.lower()}')\n",
    "print(f'Seu nome tem {len(Nome)-Nome.count(' ')} letras')\n",
    "print(f'Seu primeiro nome tem {Nome.find(' ')} letras')"
   ]
  },
  {
   "cell_type": "code",
   "execution_count": 50,
   "metadata": {},
   "outputs": [
    {
     "name": "stdout",
     "output_type": "stream",
     "text": [
      "Analisando o número 59872\n",
      "Unidade:2\n",
      "Dezena: 7\n",
      "Centena: 8\n",
      "Milhar: 9\n"
     ]
    }
   ],
   "source": [
    "#23 Faça um programa que leia um número de 0 a 9999 e mostre na tela cada um dos dígitos separados.\n",
    "\n",
    "num = int(input('Informe um número: '))\n",
    "u = num // 1 % 10\n",
    "d = num // 10 % 10\n",
    "c = num // 100 % 10\n",
    "m = num // 1000 % 10\n",
    "print(f'Analisando o número {num}')\n",
    "print(f'Unidade:{u}')\n",
    "print(f'Dezena: {d}')\n",
    "print(f'Centena: {c}')\n",
    "print(f'Milhar: {m}')\n"
   ]
  },
  {
   "cell_type": "code",
   "execution_count": 54,
   "metadata": {},
   "outputs": [
    {
     "name": "stdout",
     "output_type": "stream",
     "text": [
      "True\n"
     ]
    }
   ],
   "source": [
    "#24 Crie um programa que leia o nome de uma cidade diga se ela começa ou não com o nome “SANTO”.\n",
    "\n",
    "cid = str (input('Em que cidade você nasceu? ')).strip()\n",
    "print(cid[:5].upper()== 'SANTO')"
   ]
  },
  {
   "cell_type": "code",
   "execution_count": 56,
   "metadata": {},
   "outputs": [
    {
     "name": "stdout",
     "output_type": "stream",
     "text": [
      "Seu nome tem \"Silva?\" True\n"
     ]
    }
   ],
   "source": [
    "#25 Crie um programa que leia o nome de uma pessoa e diga se ela tem “SILVA” no nome.\n",
    "\n",
    "nome = str(input(\"NOME COMPLETO: \")).strip().upper()\n",
    "print(f'Seu nome tem \"Silva?\" {\"SILVA\" in nome}')"
   ]
  },
  {
   "cell_type": "code",
   "execution_count": 65,
   "metadata": {},
   "outputs": [
    {
     "name": "stdout",
     "output_type": "stream",
     "text": [
      "A letra A aparece 4 vezes na frase ARARA AZUL\n",
      "A primeira letra A apareceu na posição 1\n",
      "A última letra A apareceu na posição 7\n"
     ]
    }
   ],
   "source": [
    "#26 Faça um programa que leia uma frase pelo teclado e mostre \n",
    "\"\"\"quantas vezes aparece a letra “A”, \n",
    "em que posição ela aparece a primeira vez,\n",
    "em que posição ela aparece a última vez.\"\"\"\n",
    "\n",
    "frase = str(input('Digite uma frase: ')).strip().upper()\n",
    "print(f'A letra A aparece {frase.count('A')} vezes na frase {frase}')\n",
    "print(f'A primeira letra A apareceu na posição {frase.find('A')+1}')\n",
    "print(f'A última letra A apareceu na posição {frase.rfind('A')+1}')"
   ]
  },
  {
   "cell_type": "code",
   "execution_count": 72,
   "metadata": {},
   "outputs": [
    {
     "name": "stdout",
     "output_type": "stream",
     "text": [
      "Muito prazer em te conhecer: \n",
      "Seu primeiro nome é VICTORIA\n",
      "Seu último nome é WERMELINGER\n"
     ]
    }
   ],
   "source": [
    "#Ex.027 Faça um programa que leia o nome completo de uma pessoa, mostrando em seguida o primeiro e o último nome separadamente.\n",
    "\n",
    "nome = str(input('Qual o seu nome Completo? ')).strip().upper().split()\n",
    "print('Muito prazer em te conhecer: ')\n",
    "print(f'Seu primeiro nome é {nome[0]}')\n",
    "print(f'Seu último nome é {nome[-1]}')\n"
   ]
  }
 ],
 "metadata": {
  "kernelspec": {
   "display_name": "Python 3",
   "language": "python",
   "name": "python3"
  },
  "language_info": {
   "codemirror_mode": {
    "name": "ipython",
    "version": 3
   },
   "file_extension": ".py",
   "mimetype": "text/x-python",
   "name": "python",
   "nbconvert_exporter": "python",
   "pygments_lexer": "ipython3",
   "version": "3.12.3"
  }
 },
 "nbformat": 4,
 "nbformat_minor": 2
}
