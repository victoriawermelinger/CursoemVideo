{
 "cells": [
  {
   "cell_type": "markdown",
   "metadata": {},
   "source": [
    "TIPOS PRIMITIVOS \n",
    "\n",
    "INT   (7, -4, 0 , 9875) <p>\n",
    "FLOAT (4.5, 0.076, -15.223, 7.0) <p>\n",
    "BOOL  (True, False) <p>\n",
    "STR   ('Olá', '7.5', ' ')"
   ]
  },
  {
   "cell_type": "code",
   "execution_count": 4,
   "metadata": {},
   "outputs": [
    {
     "name": "stdout",
     "output_type": "stream",
     "text": [
      "A soma é 64\n",
      "A soma é 64\n"
     ]
    }
   ],
   "source": [
    "# resolusão da aula4 (3. Crie um script em python que leia dois números e mostre a soma entre eles.)\n",
    "n1 = input ('Primeiro número')\n",
    "n2 = input ('Segundo número')\n",
    "print ('A soma é',int(n1)+int(n2))\n",
    "\n",
    "#ou \n",
    "\n",
    "n1 =int(input ('Primeiro número'))\n",
    "n2 =int(input ('Segundo número'))\n",
    "s= n1 + n2\n",
    "print ('A soma é',s)\n",
    "\n"
   ]
  },
  {
   "cell_type": "code",
   "execution_count": 8,
   "metadata": {},
   "outputs": [
    {
     "name": "stdout",
     "output_type": "stream",
     "text": [
      "A soma entre 32 e 32 vale 64\n"
     ]
    }
   ],
   "source": [
    "n1 =int(input ('Digite um valor: '))\n",
    "n2 =int(input ('Digite outro valor: '))\n",
    "s= n1 + n2\n",
    "#print ('A soma entre',n1, 'e', n2, 'vale', s)\n",
    "print('A soma entre {} e {} vale {}'.format(n1,n2,s))"
   ]
  },
  {
   "cell_type": "code",
   "execution_count": 7,
   "metadata": {},
   "outputs": [
    {
     "name": "stdout",
     "output_type": "stream",
     "text": [
      "Oi É do tipo primitivo <class 'str'>\n",
      "Oi Possui apenas números? False\n",
      "Oi Possui apenas letras? True\n",
      "Oi Possui letras ou números? True\n",
      "Oi Possui números de 0 a 9? False\n",
      "Oi Possui todas as letras em minúsculo? False\n",
      "Oi Possui todas as letras em maiúsculas? False\n",
      "Oi Possui espaços apenas espaços em branco? False\n",
      "Oi Possui a primeira palavra maiúscula e o restante minúsculas? True\n"
     ]
    }
   ],
   "source": [
    "#04. Faça um programa que leia algo pelo teclado e mostre na tela o seu tipo primitivo e todos as informaçoes possiveis sobre ela.\n",
    "algo = input('Digite algo: ')\n",
    "print(algo, 'É do tipo primitivo', type(algo))\n",
    "print(algo,'Possui apenas números?', algo.isnumeric())\n",
    "print(algo,'Possui apenas letras?', algo.isalpha())\n",
    "print(algo,'Possui letras ou números?', algo.isalnum())\n",
    "print(algo,'Possui números de 0 a 9?', algo.isdecimal())\n",
    "print(algo,'Possui todas as letras em minúsculo?', algo.islower())\n",
    "print(algo,'Possui todas as letras em maiúsculas?', algo.isupper())\n",
    "print(algo,'Possui espaços apenas espaços em branco?', algo.isspace())\n",
    "print(algo,'Possui a primeira palavra maiúscula e o restante minúsculas?',algo.istitle()) "
   ]
  }
 ],
 "metadata": {
  "kernelspec": {
   "display_name": "Python 3",
   "language": "python",
   "name": "python3"
  },
  "language_info": {
   "codemirror_mode": {
    "name": "ipython",
    "version": 3
   },
   "file_extension": ".py",
   "mimetype": "text/x-python",
   "name": "python",
   "nbconvert_exporter": "python",
   "pygments_lexer": "ipython3",
   "version": "3.12.3"
  }
 },
 "nbformat": 4,
 "nbformat_minor": 2
}
