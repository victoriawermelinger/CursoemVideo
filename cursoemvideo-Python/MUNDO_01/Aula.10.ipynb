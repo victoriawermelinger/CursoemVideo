{
 "cells": [
  {
   "cell_type": "code",
   "execution_count": 1,
   "metadata": {},
   "outputs": [
    {
     "name": "stdout",
     "output_type": "stream",
     "text": [
      "Carro Novo\n",
      "--FIM--\n"
     ]
    }
   ],
   "source": [
    "tempo = int(input('Quanto tempo tem o seu carro? '))\n",
    "if tempo <= 3: \n",
    "    print('Carro Novo')\n",
    "else:\n",
    "    print('Carro Velho')\n",
    "print ('--FIM--')"
   ]
  },
  {
   "cell_type": "code",
   "execution_count": 4,
   "metadata": {},
   "outputs": [
    {
     "name": "stdout",
     "output_type": "stream",
     "text": [
      "carro velho\n",
      "--FIM--\n"
     ]
    }
   ],
   "source": [
    "tempo = int(input('Quanto tempo tem o seu carro? '))\n",
    "print('carro novo'if tempo <= 3 else 'carro velho' )\n",
    "print ('--FIM--')\n"
   ]
  },
  {
   "cell_type": "code",
   "execution_count": 11,
   "metadata": {},
   "outputs": [
    {
     "name": "stdout",
     "output_type": "stream",
     "text": [
      "Que nome lindo você tem\n",
      "Bom dia, Victoria!\n"
     ]
    }
   ],
   "source": [
    "nome = str(input('Qual é seu nome? '))\n",
    "if nome == 'Victoria':\n",
    "    print('Que nome lindo você tem')\n",
    "print(f'Bom dia, {nome}!')"
   ]
  },
  {
   "cell_type": "code",
   "execution_count": 13,
   "metadata": {},
   "outputs": [
    {
     "name": "stdout",
     "output_type": "stream",
     "text": [
      "Seu nome e tão comum !!\n",
      "Bom dia, Fernanda E Leticia !\n"
     ]
    }
   ],
   "source": [
    "nome = str(input('Qual é seu nome? '))\n",
    "if nome == 'Victoria':\n",
    "    print('Que nome lindo você tem !!')\n",
    "else: \n",
    "    print('Seu nome e tão comum !!')\n",
    "print(f'Bom dia, {nome}!')"
   ]
  },
  {
   "cell_type": "code",
   "execution_count": 17,
   "metadata": {},
   "outputs": [
    {
     "name": "stdout",
     "output_type": "stream",
     "text": [
      "A sua média foi 5.0\n",
      "Sua média foi uma vergonha! ESTUDE MAIS!\n",
      "ESTUDE MAIS\n"
     ]
    }
   ],
   "source": [
    "n1 = float(input('Digite a primeira nota: '))\n",
    "n2 = float(input('Digite a segunda nota: '))\n",
    "m= (n1+n2)/2\n",
    "print('A sua média foi {:.1f}'.format(m))\n",
    "if m >= 6.0:\n",
    "    print(\"Sua média foi boa! PARABÉNS \")\n",
    "else:\n",
    "    print('Sua média foi uma vergonha! ESTUDE MAIS!')\n",
    "\n",
    "#ou\n",
    "print('PARABÉNS'if m>=6 else 'ESTUDE MAIS')"
   ]
  },
  {
   "cell_type": "code",
   "execution_count": 25,
   "metadata": {},
   "outputs": [
    {
     "name": "stdout",
     "output_type": "stream",
     "text": [
      "Vou pensar em um número de 0 a 5... Tente adivinhar qual é o número!\n",
      "O Computador VENCEU!\n"
     ]
    }
   ],
   "source": [
    "#28 Escreva um programa que faça o computador “pensar” em um número inteiro entre 0 e 5 e peça para o usuário tentar descobrir qual foi o número escolhido pelo computador. O programa deverá escrever na tela se o usuário venceu ou perdeu.\n",
    "import random\n",
    "nums = [0, 1, 2, 3, 4, 5]\n",
    "np = random.choice(nums)\n",
    "print('Vou pensar em um número de 0 a 5... Tente adivinhar qual é o número!')\n",
    "\n",
    "adivinhe = int(input('Qual é o número? '))\n",
    "if adivinhe == (np):\n",
    "    print('VOCÊ ACERTOU, PARABÉNS!')\n",
    "else:\n",
    "    print('O Computador VENCEU!')"
   ]
  },
  {
   "cell_type": "code",
   "execution_count": 33,
   "metadata": {},
   "outputs": [
    {
     "name": "stdout",
     "output_type": "stream",
     "text": [
      "A velocidade  do carro é de 47km/h\n",
      "Tenha um Bom Dia!, Dirija com segurança!\n"
     ]
    }
   ],
   "source": [
    "#Ex.029 Escreva um programa que leia a velocidade de um carro. Se ele ultrapassar 80Km/h, mostre uma mensagem dizendo que ele foi multado. A multa vai custar R$7,00 por cada Km acima do limite.\n",
    "import random\n",
    "velocidade = random.randint(10,120)\n",
    "print(f'A velocidade  do carro é de {velocidade}km/h')\n",
    "\n",
    "if velocidade > 80:\n",
    "    print('Cidadão, seu carro ultrapassou os 80km/h, chegando a {}km/h, sua multa é R$ {:.2f}'.format(velocidade, (velocidade - 80)*7,00))\n",
    "else:\n",
    "    print('Tenha um Bom Dia!, Dirija com segurança!')"
   ]
  },
  {
   "cell_type": "code",
   "execution_count": 39,
   "metadata": {},
   "outputs": [
    {
     "name": "stdout",
     "output_type": "stream",
     "text": [
      "-=--=--=--=--=--=--=--=--=--=-\n",
      "O valor 352 é PAR!\n",
      "-=--=--=--=--=--=--=--=--=--=-\n"
     ]
    }
   ],
   "source": [
    "#30 Crie um programa que leia um número inteiro e mostre na tela se ele é PAR ou ÍMPAR.\n",
    "import random\n",
    "num = random.randint(0,1000)\n",
    "print('-=-'*10)\n",
    "if num % 2 == 0:\n",
    "    print(f'O valor {num} é PAR!')\n",
    "else:\n",
    "    print(f'O valor {num} é IMPAR!')\n",
    "print('-=-'*10)"
   ]
  },
  {
   "cell_type": "code",
   "execution_count": 59,
   "metadata": {},
   "outputs": [
    {
     "name": "stdout",
     "output_type": "stream",
     "text": [
      "------------------------------------------------------------\n",
      "Sua viagem é de 39Km o valor da passagem será R$19.50\n",
      "------------------------------------------------------------\n"
     ]
    }
   ],
   "source": [
    "#31  Desenvolva um programa que pergunte a distância de uma viagem em Km. \n",
    "\"\"\"Calcule o preço da passagem, cobrando R$0,50 por Km para viagens de até 200Km e R$0,45 parta viagens mais longas.\"\"\"\n",
    "from random import randint\n",
    "distancia = random.randint(0,1000)\n",
    "print('---'*20)\n",
    "if distancia <= 200:\n",
    "  print('Sua viagem é de {}Km o valor da passagem será R${:.2f}'.format(distancia, distancia * 0.5))\n",
    "else:\n",
    "    print('Sua viagem é de {}km, o valor da passagem será de R${:.2f}'.format(distancia, distancia * 0.45))\n",
    "print('---'*20)"
   ]
  },
  {
   "cell_type": "code",
   "execution_count": 64,
   "metadata": {},
   "outputs": [
    {
     "name": "stdout",
     "output_type": "stream",
     "text": [
      "Ano 2024 bissexto!\n"
     ]
    }
   ],
   "source": [
    "#32 Faça um programa que leia um ano qualquer e mostre se ele é bissexto.\n",
    "ano = int(input(\"Digite um ano: \"))\n",
    "\n",
    "if (ano % 4 == 0 and ano % 100 != 0) or (ano % 400 == 0):\n",
    "  print(f\"Ano {ano} bissexto!\")\n",
    "else:\n",
    "  print(f'Ano {ano} normal!')"
   ]
  },
  {
   "cell_type": "code",
   "execution_count": 65,
   "metadata": {},
   "outputs": [
    {
     "name": "stdout",
     "output_type": "stream",
     "text": [
      "Maior numero digitado, 87\n",
      "Menor numero digitado, 25\n"
     ]
    }
   ],
   "source": [
    "#33 Faça um programa que leia três números e mostre qual é o maior e qual é o menor.\n",
    "\n",
    "n1 = int(input('Digite o primeiro numero:'))\n",
    "n2 = int(input('Digite o segundo numeoro:'))\n",
    "n3 = int(input('Digite o terceiro numero:'))\n",
    "#Maior\n",
    "if n1 > n2 and n1 > n3:\n",
    "    print(f'Maior numero digitado, {n1}')\n",
    "if n2 > n1 and n2 > n3:\n",
    "    print(f'Maior numero digitado, {n2}')\n",
    "if n3 > n1 and n3 > n2:\n",
    "    print(f'Maior numero digitado, {n3}')\n",
    "#Menor\n",
    "if n1 < n2 and n1 < n3:\n",
    "    print(f'Menor numero digitado, {n1}')\n",
    "if n2 < n1 and n2 < n3:\n",
    "    print(f'Menor numero digitado, {n2}')\n",
    "if n3 < n1 and n3 < n2:\n",
    "    print(f'Menor numero digtado, {n3}')"
   ]
  },
  {
   "cell_type": "code",
   "execution_count": 1,
   "metadata": {},
   "outputs": [
    {
     "name": "stdout",
     "output_type": "stream",
     "text": [
      "O novo salario de Victoria é de R$2081.2\n"
     ]
    }
   ],
   "source": [
    "#34 Escreva um programa que pergunte o salário de um funcionário e calcule o valor do seu aumento. \n",
    "\"\"\"Para salários superiores a R$1250,00, \n",
    "calcule um aumento de 10%. Para os inferiores ou iguais, o aumento é de 15%.\"\"\"\n",
    "\n",
    "nome = str(input('Qual nome do funionario? ')).strip().capitalize()\n",
    "s = float(input(f'Qual salario de {nome} R$'))\n",
    "if s >= 1250:\n",
    "    ns = s + (10*s) / 100\n",
    "else:\n",
    "    ns = s + (15*s) / 100\n",
    "print(f'O novo salario de {nome} é de R${ns}')\n"
   ]
  },
  {
   "cell_type": "code",
   "execution_count": 5,
   "metadata": {},
   "outputs": [
    {
     "name": "stdout",
     "output_type": "stream",
     "text": [
      "Formam um triangulo\n"
     ]
    }
   ],
   "source": [
    "#35  Desenvolva um programa que leia o comprimento de três retas e diga ao usuário se elas podem ou não formar um triângulo.\n",
    "a = float(input('Digite a reta de um triângulo: '))\n",
    "b = float(input('Digite a reta de um triângulo: '))\n",
    "c = float(input('Digite a reta de um triângulo: '))\n",
    "\n",
    "if a + b > c and a + c > b and b + c > a:\n",
    "  print('Formam um triangulo')\n",
    "else:\n",
    "  print(\"Não formam um triangulo\")"
   ]
  }
 ],
 "metadata": {
  "kernelspec": {
   "display_name": "Python 3",
   "language": "python",
   "name": "python3"
  },
  "language_info": {
   "codemirror_mode": {
    "name": "ipython",
    "version": 3
   },
   "file_extension": ".py",
   "mimetype": "text/x-python",
   "name": "python",
   "nbconvert_exporter": "python",
   "pygments_lexer": "ipython3",
   "version": "3.12.3"
  }
 },
 "nbformat": 4,
 "nbformat_minor": 2
}
