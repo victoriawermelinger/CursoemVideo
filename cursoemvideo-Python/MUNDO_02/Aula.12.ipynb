{
 "cells": [
  {
   "cell_type": "code",
   "execution_count": 15,
   "metadata": {},
   "outputs": [
    {
     "name": "stdout",
     "output_type": "stream",
     "text": [
      "É um nome feminino, bonito.\n",
      "Tenha um bom dia, DENISE !\n"
     ]
    }
   ],
   "source": [
    "\n",
    "nome = str(input('Qual o seu nome? ')).strip().upper()\n",
    "if nome == \"VICTORIA\":\n",
    "    print('Que nome lindo !')\n",
    "elif nome == \"RICARDO\" or nome == 'SAMARA':\n",
    "    print('Esse nome é bem popular no Brasil. ')\n",
    "elif nome in 'FERNANDA, LETICIA, DENISE, DALVA':\n",
    "    print('É um nome feminino, bonito.')\n",
    "else:\n",
    "    print(f'Seu {nome} é bem comum, correto? ')\n",
    "print(f'Tenha um bom dia, {nome} !')"
   ]
  },
  {
   "cell_type": "code",
   "execution_count": 19,
   "metadata": {},
   "outputs": [
    {
     "name": "stdout",
     "output_type": "stream",
     "text": [
      "-=-=-=-=-=-=-=-=-=-=-=-=-=-=-=-=-=-=-=-=-=-=-=-=-=-=-=-=-=-=\n",
      "Simule seu empréstimo bancário agora mesmo!\n",
      "-=-=-=-=-=-=-=-=-=-=-=-=-=-=-=-=-=-=-=-=-=-=-=-=-=-=-=-=-=-=\n",
      "PROCESSANDO...\n",
      "Para um empréstimo de R$15000000.00 em 20 anos, a parcela terá o valor de R$62500.00.\n",
      "Desculpe, infelizmente sua renda não é compatível para realizar esse empréstimo.\n"
     ]
    }
   ],
   "source": [
    "\"\"\"Ex.036 Escreva um programa para aprovar o empréstimo bancário para a compra de uma casa. \n",
    "Pergunte o valor da casa, o salário do comprador e em quantos anos ele vai pagar. \n",
    "A prestação mensal não pode exceder 30% do salário ou então o empréstimo será negado.\"\"\"\n",
    "\n",
    "from time import sleep\n",
    "print('-=' * 30)\n",
    "print('Simule seu empréstimo bancário agora mesmo!')\n",
    "print('-=' * 30)\n",
    "valor_casa = float(input('Qual é o valor da casa que você deseja comprar?R$ '))\n",
    "salario = float(input('Qual é o seu salário?R$ '))\n",
    "tempo = int(input('Em quantos anos você deseja pagar? '))\n",
    "parcela = valor_casa / (tempo * 12)\n",
    "max_parcela = salario * 0.3\n",
    "print(f'PROCESSANDO...')\n",
    "sleep(2)\n",
    "print(f'Para um empréstimo de R${valor_casa:.2f} em {tempo} anos, a parcela terá o valor de R${parcela:.2f}.')\n",
    "if parcela <= max_parcela:\n",
    "    print('Considerando sua renda, seu empréstimo pode ser concedido!')\n",
    "else:\n",
    "    print('Desculpe, infelizmente sua renda não é compatível para realizar esse empréstimo.')"
   ]
  },
  {
   "cell_type": "code",
   "execution_count": 24,
   "metadata": {},
   "outputs": [
    {
     "name": "stdout",
     "output_type": "stream",
     "text": [
      "Escolha uma das bases para conversão:\n",
      "[ 1 ] converter para BINÁRIO\n",
      "[ 2 ] converter para OCTAL\n",
      "[ 3 ] converter para HEXADECIMAL\n",
      "O número 357 convertido em octal é 545\n"
     ]
    }
   ],
   "source": [
    "\"\"\"Ex.037 Escreva um programa em Python que leia um número inteiro qualquer e peça para o usuário escolher qual será a base de conversão:\n",
    " 1 para binário, 2 para octal e 3 para hexadecimal.\"\"\"\n",
    "\n",
    "num = int(input('Digite um número inteiro: '))\n",
    "print('''Escolha uma das bases para conversão:\n",
    "[ 1 ] converter para BINÁRIO\n",
    "[ 2 ] converter para OCTAL\n",
    "[ 3 ] converter para HEXADECIMAL''')\n",
    "opcao = int(input('Sua opção: '))\n",
    "\n",
    "if opcao == 1:\n",
    "    print(f'O número {num} convertido em binário é {bin(num)[2:]}')\n",
    "elif opcao == 2:\n",
    "    print(f'O número {num} convertido em octal é {oct(num)[2:]}')\n",
    "elif opcao == 3:\n",
    "    print(f'O número {num} convertido em hexadecimal é {hex(num)[2:]}')\n",
    "else: \n",
    "    print('Opção inválida. Tente novamente')"
   ]
  },
  {
   "cell_type": "code",
   "execution_count": 29,
   "metadata": {},
   "outputs": [
    {
     "name": "stdout",
     "output_type": "stream",
     "text": [
      "PROCESSANDO...\n",
      "Você digitou primeiro 32 e segundo 25\n",
      "O primeiro número é maior!\n"
     ]
    }
   ],
   "source": [
    "\"\"\"Ex.038 Escreva um programa que leia dois números inteiros e compare-os. mostrando na tela uma mensagem:\n",
    "– O primeiro valor é maior\n",
    "– O segundo valor é maior\n",
    "– Não existe valor maior, os dois são iguais\"\"\"\n",
    "from time import sleep\n",
    "num1 = int(input(\"Digite o primeiro número: \"))\n",
    "num2 = int(input(\"Digite o segundo número: \"))\n",
    "print(f'PROCESSANDO...')\n",
    "sleep(2)\n",
    "print(f'Você digitou primeiro {num1} e segundo {num2}')\n",
    "if num1 > num2:\n",
    "    print(\"O primeiro número é maior!\")\n",
    "elif num1 < num2:\n",
    "    print(\"O Segundo número é maior!\")\n",
    "else:\n",
    "    print(\"Não existe número maior, os dois são iguais\")"
   ]
  },
  {
   "cell_type": "code",
   "execution_count": 36,
   "metadata": {},
   "outputs": [
    {
     "name": "stdout",
     "output_type": "stream",
     "text": [
      "Quem nasceu em 2022 tem 2 anos em 2024\n",
      "Ainda não é o momento para você se alistar.\n",
      "O ano do seu alistamento será em 2040 daqui à 16 anos \n"
     ]
    }
   ],
   "source": [
    "\"\"\"Ex.039 Faça um programa que leia o ano de nascimento de um jovem e informe, \n",
    "de acordo com a sua idade, se ele ainda vai se alistar ao serviço militar, \n",
    "se é a hora exata de se alistar ou se já passou do tempo do alistamento. \n",
    "Seu programa também deverá mostrar o tempo que falta ou que passou do prazo.\"\"\"\n",
    "\n",
    "from datetime import date\n",
    "atual = date.today().year\n",
    "nascimento = int(input('Qual é o ano do seu nascimento?: '))\n",
    "idade = (atual - nascimento)\n",
    "print(f'Quem nasceu em {nascimento} tem {idade} anos em {atual}')\n",
    "if idade < 18:\n",
    "    saldo = 18 - idade\n",
    "    print('Ainda não é o momento para você se alistar.')\n",
    "    print(f'O ano do seu alistamento será em {nascimento + 18} daqui à {saldo} anos ')\n",
    "elif idade > 18:\n",
    "    saldo = idade - 18\n",
    "    print('Já passou do tempo para o alistamento.')\n",
    "    print(f'O seu alistamento, deveria ter sido no ano de {nascimento + 18}daqui à {saldo} anos ')\n",
    "elif idade == 18:\n",
    "    print('Você tem que se alistar IMEDIATAMENTE! ')\n",
    "else:\n",
    "    print('Já é a hora de se alistar.')\n",
    "    print(f'Você neste ano de {atual}, completa {atual-nascimento}')"
   ]
  },
  {
   "cell_type": "code",
   "execution_count": 37,
   "metadata": {},
   "outputs": [
    {
     "name": "stdout",
     "output_type": "stream",
     "text": [
      "Victoria média foi de 9.1 e você foi aprovado!\n"
     ]
    }
   ],
   "source": [
    "\"\"\"Ex.040 Crie um programa que leia duas notas de um aluno e calcule sua média, mostrando uma mensagem no final, de acordo com a média atingida:\n",
    "– Média abaixo de 5.0: REPROVADO\n",
    "– Média entre 5.0 e 6.9: RECUPERAÇÃO\n",
    "– Média 7.0 ou superior: APROVADO\"\"\"\n",
    "\n",
    "aluno = str(input('Digite o nome da Aluna: '))\n",
    "n1 = float(input('Digite a primeira nota: '))\n",
    "n2 = float(input('Digite a segunda nota: '))\n",
    "\n",
    "media = (n1 + n2) / 2\n",
    "\n",
    "if media >= 7.0:\n",
    "    print(f'{aluno} média foi de {media:.1f} e você foi aprovado!')\n",
    "elif 5.0 <= media < 7.0:\n",
    "    print(f'{aluno} média foi de {media:.1f} e está de recuperação!')\n",
    "else:\n",
    "    print(f'{aluno} média foi de {media:.1f} e você foi reprovado!')"
   ]
  },
  {
   "cell_type": "code",
   "execution_count": 1,
   "metadata": {},
   "outputs": [
    {
     "name": "stdout",
     "output_type": "stream",
     "text": [
      "\u001b[1;32mCalculando Categoria... Aguarde..\u001b[m\n",
      "Você tem 1992 anos, Sua categoria é.\n",
      "\u001b[1;30;41mMASTER \u001b[m\n"
     ]
    }
   ],
   "source": [
    "\"\"\"Ex.041 A Confederação Nacional de Natação precisa de um programa que leia o ano de nascimento de um atleta e mostre sua categoria, \n",
    "de acordo com a idade:\n",
    "– Até 9 anos: MIRIM\n",
    "– Até 14 anos: INFANTIL\n",
    "– Até 19 anos: JÚNIOR\n",
    "– Até 25 anos: SÊNIOR\n",
    "– Acima de 25 anos: MASTER\"\"\"\n",
    "\n",
    "from time import sleep #tempo de resposta\n",
    "from datetime import date #data\n",
    "dtn = int(input('Qual ano de nascimento do atleta? '))\n",
    "print('\\033[1;32mCalculando Categoria... Aguarde..\\033[m')\n",
    "sleep(1.5)\n",
    "dta = date.today().year #Data atual\n",
    "idd = dta - dtn #idade\n",
    "print(f'Você tem {idd} anos, Sua categoria é.') #Ano do atleta\n",
    "cg = '' #n aprendi ainda como corrigir isso\n",
    "a = ''\n",
    "if idd <= 9:\n",
    "   a = '\\033[1;30;107mmirim'\n",
    "elif idd <= 14:\n",
    "    a = '\\033[1;30;47mInfantil'   \n",
    "elif idd <= 19:\n",
    "    a = '\\033[1;30;44mJunor'\n",
    "elif idd <= 25:\n",
    "    a = '\\033[1;97;40mSenior'\n",
    "else:\n",
    "    a = '\\033[1;30;41mMASTER'\n",
    "print(f'{a} \\033[m')\n"
   ]
  },
  {
   "cell_type": "code",
   "execution_count": 2,
   "metadata": {},
   "outputs": [
    {
     "name": "stdout",
     "output_type": "stream",
     "text": [
      "======================================================================\n",
      " Com as retas 2.0, 5.0 e 4.0 é possivel formar um triangulo\n",
      " O Triangulo formado por tais retas é o Escaleno\n",
      "======================================================================\n"
     ]
    }
   ],
   "source": [
    "\"\"\"Ex.042 Refaça o DESAFIO 35 dos triângulos, acrescentando o recurso de mostrar que tipo de triângulo será formado:\n",
    "– EQUILÁTERO: todos os lados iguais\n",
    "– ISÓSCELES: dois lados iguais, um diferente\n",
    "– ESCALENO: todos os lados diferentes \"\"\"\n",
    "\n",
    "a = float(input(' Digite o primeiro lado: '))\n",
    "b = float(input(' Digite o segundo lado: '))\n",
    "c = float(input(' Digite o terceiro lado: '))\n",
    "print('=' * 70)\n",
    "if a < b + c and b < a + c and c < a + b:\n",
    "\tprint(' Com as retas {}, {} e {} é possivel formar um triangulo'.format(a, b, c))\n",
    "\tif a == b and a == c:\n",
    "\t\tprint(' O Triangulo formado por tais retas é o equilatero')\n",
    "\telif a == b or a == c or b == c:\n",
    "\t\tprint(' O Triangulo formado por tais retas é o Isóceles')\n",
    "\telif a != b and a != c:\n",
    "\t\tprint(' O Triangulo formado por tais retas é o Escaleno')\n",
    "else:\n",
    "\tprint(' Com as Retas {}, {} e {} não é possivel formar um triangulo'.format(a, b, c))\n",
    "print('=' * 70)"
   ]
  },
  {
   "cell_type": "code",
   "execution_count": 4,
   "metadata": {},
   "outputs": [
    {
     "name": "stdout",
     "output_type": "stream",
     "text": [
      "========================================\n",
      " Obesidade Imc: 34.93\n",
      "========================================\n"
     ]
    }
   ],
   "source": [
    "\"\"\"Ex.043 Desenvolva uma lógica que eia o peso e a altura de uma pessoa, calcule seu Índice de Massa Corporal (IMC) e mostre seu status, de acordo com a tabela abaixo:\n",
    "– IMC abaixo de 18,5: Abaixo do Peso\n",
    "– Entre 18,5 e 25: Peso Ideal\n",
    "– 25 até 30: Sobrepeso\n",
    "– 30 até 40: Obesidade\n",
    "– Acima de 40: Obesidade Mórbida \"\"\"\n",
    "\n",
    "peso = float(input(' Digite seu peso: '))\n",
    "altura = float(input(' Digite sua altura: '))\n",
    "imc = peso / (altura ** 2)\n",
    "print('=' * 40)\n",
    "if imc < 18.5:\n",
    "\tprint(f' Abaixo do Peso Imc: {imc:.2f}')\n",
    "elif imc >= 18.5 and imc <= 25:\n",
    "\tprint(f' Peso Ideal Imc: {imc:.2f}')\n",
    "elif imc > 25 and imc <= 30:\n",
    "\tprint(f' Sobrepeso Imc: {imc:.2f}')\n",
    "elif imc > 30 and imc <= 40:\n",
    "\tprint(f' Obesidade Imc: {imc:.2f}')\n",
    "else:\n",
    "\tprint(f' Obesidade Morbida Imc: {imc:.2f}')\n",
    "print('=' * 40)"
   ]
  },
  {
   "cell_type": "code",
   "execution_count": null,
   "metadata": {},
   "outputs": [],
   "source": [
    "\"\"\"Ex.044 Elabore um programa que calcule o valor a ser pago por um produto, considerando o seu preço normal e condição de pagamento:\n",
    "– à vista dinheiro/cheque: 10% de desconto\n",
    "– à vista no cartão: 5% de desconto\n",
    "– em até 2x no cartão: preço formal \n",
    "– 3x ou mais no cartão: 20% de juros\"\"\"\n",
    "\n",
    "preço = float(input('Preço das compras: R$ '))\n",
    "print('''Formas de Pagamento\n",
    "[ 1 ] à vista em dinheiro/cheque\n",
    "[ 2 ] à vista em cartão\n",
    "[ 3 ] 2x no cartão\n",
    "[ 4 ] 3x ou mais no cartão''')\n",
    "print('___' * 10)\n",
    "opção = int(input('Qual a opção de pagamento? '))\n",
    "if opção == 1:\n",
    "    pagar = preço - (preço * 10 / 100)\n",
    "    print('O total será de R${}.'.format(pagar))\n",
    "elif opção == 2:\n",
    "    pagar = preço - (preço * 5 / 100)\n",
    "    print('O total será de R${}.'.format(pagar))\n",
    "elif opção == 3:\n",
    "    pagar = preço\n",
    "    print('Sua compra será parcelada em 2x de R${:.2f}, em total de R${:.2f}'.format((pagar / 2), pagar))\n",
    "elif opção == 4:\n",
    "    pagar = preço + (preço * 20/100)\n",
    "    parc = int(input('Quantas parcelas? '))\n",
    "    parcelas = pagar / parc\n",
    "    print('Sua compra será parcelada em {}x de R${:.2f}, em total de R${:.2f} devido aos juros.'.format(parc, parcelas, pagar))\n",
    "else:\n",
    "    print('Opção inválida, tente novamente')"
   ]
  },
  {
   "cell_type": "code",
   "execution_count": 6,
   "metadata": {},
   "outputs": [
    {
     "name": "stdout",
     "output_type": "stream",
     "text": [
      "VAMOS JOGAR PEDRA, PAPEL E TESOURA!\n",
      "Considere:\n",
      "       [1] PEDRA\n",
      "       [2] PAPEL\n",
      "       [3]'TESOURA\n",
      "3\n",
      "VOCÊ GANHOU\n"
     ]
    }
   ],
   "source": [
    "#Ex.045 Crie um programa que faça o computador jogar Jokenpô com você.\n",
    "\n",
    "import random\n",
    "print (\"VAMOS JOGAR PEDRA, PAPEL E TESOURA!\")\n",
    "print ('''Considere:\n",
    "       [1] PEDRA\n",
    "       [2] PAPEL\n",
    "       [3]'TESOURA''')\n",
    "a = int(input('''Considere:\n",
    "       [1] PEDRA\n",
    "       [2] PAPEL\n",
    "       [3]'TESOURA\n",
    "       Agora, digite sua escolha: '''))\n",
    "b = random.randint(1,3)\n",
    "print (b)\n",
    "if a == b:\n",
    "    print (\"EMPATE\")\n",
    "elif (a == 1 and b == 2) or (a == 2 and b == 3) or (a == 3 and b == 1):\n",
    "    print (\"VOCÊ PERDEU!\")\n",
    "else:\n",
    "    print (\"VOCÊ GANHOU\")\n"
   ]
  }
 ],
 "metadata": {
  "kernelspec": {
   "display_name": "Python 3",
   "language": "python",
   "name": "python3"
  },
  "language_info": {
   "codemirror_mode": {
    "name": "ipython",
    "version": 3
   },
   "file_extension": ".py",
   "mimetype": "text/x-python",
   "name": "python",
   "nbconvert_exporter": "python",
   "pygments_lexer": "ipython3",
   "version": "3.10.12"
  }
 },
 "nbformat": 4,
 "nbformat_minor": 2
}
