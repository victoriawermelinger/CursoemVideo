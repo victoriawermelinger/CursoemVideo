{
 "cells": [
  {
   "cell_type": "code",
   "execution_count": 15,
   "metadata": {},
   "outputs": [
    {
     "name": "stdout",
     "output_type": "stream",
     "text": [
      "É um nome feminino, bonito.\n",
      "Tenha um bom dia, DENISE !\n"
     ]
    }
   ],
   "source": [
    "\n",
    "nome = str(input('Qual o seu nome? ')).strip().upper()\n",
    "if nome == \"VICTORIA\":\n",
    "    print('Que nome lindo !')\n",
    "elif nome == \"RICARDO\" or nome == 'SAMARA':\n",
    "    print('Esse nome é bem popular no Brasil. ')\n",
    "elif nome in 'FERNANDA, LETICIA, DENISE, DALVA':\n",
    "    print('É um nome feminino, bonito.')\n",
    "else:\n",
    "    print(f'Seu {nome} é bem comum, correto? ')\n",
    "print(f'Tenha um bom dia, {nome} !')"
   ]
  },
  {
   "cell_type": "code",
   "execution_count": 19,
   "metadata": {},
   "outputs": [
    {
     "name": "stdout",
     "output_type": "stream",
     "text": [
      "-=-=-=-=-=-=-=-=-=-=-=-=-=-=-=-=-=-=-=-=-=-=-=-=-=-=-=-=-=-=\n",
      "Simule seu empréstimo bancário agora mesmo!\n",
      "-=-=-=-=-=-=-=-=-=-=-=-=-=-=-=-=-=-=-=-=-=-=-=-=-=-=-=-=-=-=\n",
      "PROCESSANDO...\n",
      "Para um empréstimo de R$15000000.00 em 20 anos, a parcela terá o valor de R$62500.00.\n",
      "Desculpe, infelizmente sua renda não é compatível para realizar esse empréstimo.\n"
     ]
    }
   ],
   "source": [
    "\"\"\"Ex.036 Escreva um programa para aprovar o empréstimo bancário para a compra de uma casa. \n",
    "Pergunte o valor da casa, o salário do comprador e em quantos anos ele vai pagar. \n",
    "A prestação mensal não pode exceder 30% do salário ou então o empréstimo será negado.\"\"\"\n",
    "\n",
    "from time import sleep\n",
    "print('-=' * 30)\n",
    "print('Simule seu empréstimo bancário agora mesmo!')\n",
    "print('-=' * 30)\n",
    "valor_casa = float(input('Qual é o valor da casa que você deseja comprar?R$ '))\n",
    "salario = float(input('Qual é o seu salário?R$ '))\n",
    "tempo = int(input('Em quantos anos você deseja pagar? '))\n",
    "parcela = valor_casa / (tempo * 12)\n",
    "max_parcela = salario * 0.3\n",
    "print(f'PROCESSANDO...')\n",
    "sleep(2)\n",
    "print(f'Para um empréstimo de R${valor_casa:.2f} em {tempo} anos, a parcela terá o valor de R${parcela:.2f}.')\n",
    "if parcela <= max_parcela:\n",
    "    print('Considerando sua renda, seu empréstimo pode ser concedido!')\n",
    "else:\n",
    "    print('Desculpe, infelizmente sua renda não é compatível para realizar esse empréstimo.')"
   ]
  },
  {
   "cell_type": "code",
   "execution_count": 24,
   "metadata": {},
   "outputs": [
    {
     "name": "stdout",
     "output_type": "stream",
     "text": [
      "Escolha uma das bases para conversão:\n",
      "[ 1 ] converter para BINÁRIO\n",
      "[ 2 ] converter para OCTAL\n",
      "[ 3 ] converter para HEXADECIMAL\n",
      "O número 357 convertido em octal é 545\n"
     ]
    }
   ],
   "source": [
    "\"\"\"Ex.037 Escreva um programa em Python que leia um número inteiro qualquer e peça para o usuário escolher qual será a base de conversão:\n",
    " 1 para binário, 2 para octal e 3 para hexadecimal.\"\"\"\n",
    "\n",
    "num = int(input('Digite um número inteiro: '))\n",
    "print('''Escolha uma das bases para conversão:\n",
    "[ 1 ] converter para BINÁRIO\n",
    "[ 2 ] converter para OCTAL\n",
    "[ 3 ] converter para HEXADECIMAL''')\n",
    "opcao = int(input('Sua opção: '))\n",
    "\n",
    "if opcao == 1:\n",
    "    print(f'O número {num} convertido em binário é {bin(num)[2:]}')\n",
    "elif opcao == 2:\n",
    "    print(f'O número {num} convertido em octal é {oct(num)[2:]}')\n",
    "elif opcao == 3:\n",
    "    print(f'O número {num} convertido em hexadecimal é {hex(num)[2:]}')\n",
    "else: \n",
    "    print('Opção inválida. Tente novamente')"
   ]
  },
  {
   "cell_type": "code",
   "execution_count": 29,
   "metadata": {},
   "outputs": [
    {
     "name": "stdout",
     "output_type": "stream",
     "text": [
      "PROCESSANDO...\n",
      "Você digitou primeiro 32 e segundo 25\n",
      "O primeiro número é maior!\n"
     ]
    }
   ],
   "source": [
    "\"\"\"Ex.038 Escreva um programa que leia dois números inteiros e compare-os. mostrando na tela uma mensagem:\n",
    "– O primeiro valor é maior\n",
    "– O segundo valor é maior\n",
    "– Não existe valor maior, os dois são iguais\"\"\"\n",
    "from time import sleep\n",
    "num1 = int(input(\"Digite o primeiro número: \"))\n",
    "num2 = int(input(\"Digite o segundo número: \"))\n",
    "print(f'PROCESSANDO...')\n",
    "sleep(2)\n",
    "print(f'Você digitou primeiro {num1} e segundo {num2}')\n",
    "if num1 > num2:\n",
    "    print(\"O primeiro número é maior!\")\n",
    "elif num1 < num2:\n",
    "    print(\"O Segundo número é maior!\")\n",
    "else:\n",
    "    print(\"Não existe número maior, os dois são iguais\")"
   ]
  },
  {
   "cell_type": "code",
   "execution_count": 36,
   "metadata": {},
   "outputs": [
    {
     "name": "stdout",
     "output_type": "stream",
     "text": [
      "Quem nasceu em 2022 tem 2 anos em 2024\n",
      "Ainda não é o momento para você se alistar.\n",
      "O ano do seu alistamento será em 2040 daqui à 16 anos \n"
     ]
    }
   ],
   "source": [
    "\"\"\"Ex.039 Faça um programa que leia o ano de nascimento de um jovem e informe, \n",
    "de acordo com a sua idade, se ele ainda vai se alistar ao serviço militar, \n",
    "se é a hora exata de se alistar ou se já passou do tempo do alistamento. \n",
    "Seu programa também deverá mostrar o tempo que falta ou que passou do prazo.\"\"\"\n",
    "\n",
    "from datetime import date\n",
    "atual = date.today().year\n",
    "nascimento = int(input('Qual é o ano do seu nascimento?: '))\n",
    "idade = (atual - nascimento)\n",
    "print(f'Quem nasceu em {nascimento} tem {idade} anos em {atual}')\n",
    "if idade < 18:\n",
    "    saldo = 18 - idade\n",
    "    print('Ainda não é o momento para você se alistar.')\n",
    "    print(f'O ano do seu alistamento será em {nascimento + 18} daqui à {saldo} anos ')\n",
    "elif idade > 18:\n",
    "    saldo = idade - 18\n",
    "    print('Já passou do tempo para o alistamento.')\n",
    "    print(f'O seu alistamento, deveria ter sido no ano de {nascimento + 18}daqui à {saldo} anos ')\n",
    "elif idade == 18:\n",
    "    print('Você tem que se alistar IMEDIATAMENTE! ')\n",
    "else:\n",
    "    print('Já é a hora de se alistar.')\n",
    "    print(f'Você neste ano de {atual}, completa {atual-nascimento}')"
   ]
  },
  {
   "cell_type": "code",
   "execution_count": 37,
   "metadata": {},
   "outputs": [
    {
     "name": "stdout",
     "output_type": "stream",
     "text": [
      "Victoria média foi de 9.1 e você foi aprovado!\n"
     ]
    }
   ],
   "source": [
    "\"\"\"Ex.040 Crie um programa que leia duas notas de um aluno e calcule sua média, mostrando uma mensagem no final, de acordo com a média atingida:\n",
    "– Média abaixo de 5.0: REPROVADO\n",
    "– Média entre 5.0 e 6.9: RECUPERAÇÃO\n",
    "– Média 7.0 ou superior: APROVADO\"\"\"\n",
    "\n",
    "aluno = str(input('Digite o nome da Aluna: '))\n",
    "n1 = float(input('Digite a primeira nota: '))\n",
    "n2 = float(input('Digite a segunda nota: '))\n",
    "\n",
    "media = (n1 + n2) / 2\n",
    "\n",
    "if media >= 7.0:\n",
    "    print(f'{aluno} média foi de {media:.1f} e você foi aprovado!')\n",
    "elif 5.0 <= media < 7.0:\n",
    "    print(f'{aluno} média foi de {media:.1f} e está de recuperação!')\n",
    "else:\n",
    "    print(f'{aluno} média foi de {media:.1f} e você foi reprovado!')"
   ]
  },
  {
   "cell_type": "code",
   "execution_count": null,
   "metadata": {},
   "outputs": [],
   "source": [
    "\"\"\"Ex.041 A Confederação Nacional de Natação precisa de um programa que leia o ano de nascimento de um atleta e mostre sua categoria, \n",
    "de acordo com a idade:\n",
    "– Até 9 anos: MIRIM\n",
    "– Até 14 anos: INFANTIL\n",
    "– Até 19 anos: JÚNIOR\n",
    "– Até 25 anos: SÊNIOR\n",
    "– Acima de 25 anos: MASTER\"\"\"\n",
    "\n",
    "from time import sleep #tempo de resposta\n",
    "from datetime import date #data\n",
    "dtn = int(input('Qual ano de nascimento do atleta? '))\n",
    "print('\\033[1;32mCalculando Categoria... Aguarde..\\033[m')\n",
    "sleep(1.5)\n",
    "dta = date.today().year #Data atual\n",
    "idd = dta - dtn #idade\n",
    "print(f'Você tem {idd} anos, Sua categoria é.') #Ano do atleta\n",
    "cg = '' #n aprendi ainda como corrigir isso\n",
    "a = ''\n",
    "if idd <= 9:\n",
    "   a = '\\033[1;30;107mmirim'\n",
    "elif idd <= 14:\n",
    "    a = '\\033[1;30;47mInfantil'   \n",
    "elif idd <= 19:\n",
    "    a = '\\033[1;30;44mJunor'\n",
    "elif idd <= 25:\n",
    "    a = '\\033[1;97;40mSenior'\n",
    "else:\n",
    "    a = '\\033[1;30;41mMASTER'\n",
    "print(f'{a} \\033[m')"
   ]
  }
 ],
 "metadata": {
  "kernelspec": {
   "display_name": "Python 3",
   "language": "python",
   "name": "python3"
  },
  "language_info": {
   "codemirror_mode": {
    "name": "ipython",
    "version": 3
   },
   "file_extension": ".py",
   "mimetype": "text/x-python",
   "name": "python",
   "nbconvert_exporter": "python",
   "pygments_lexer": "ipython3",
   "version": "3.12.3"
  }
 },
 "nbformat": 4,
 "nbformat_minor": 2
}
