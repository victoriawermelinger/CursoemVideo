{
 "cells": [
  {
   "cell_type": "markdown",
   "metadata": {},
   "source": [
    "A estrutura de repetição `for` é uma das principais estruturas de controle em muitas linguagens de programação. Ela é usada para repetir um bloco de código um número específico de vezes ou iterar sobre elementos de uma coleção, como listas, tuplas, dicionários, entre outros.\n",
    "\n",
    "### Estrutura de um loop `for` em Python\n",
    "\n",
    "Em Python, o loop `for` é bastante flexível e fácil de usar. Vamos ver a sintaxe básica:\n",
    "\n",
    "```python\n",
    "for elemento in iterável:\n",
    "    # bloco de código a ser repetido\n",
    "```\n",
    "\n",
    "Aqui, `iterável` pode ser qualquer objeto que pode ser iterado (como listas, tuplas, strings, ranges, etc.). `elemento` é uma variável que assume o valor de cada item no iterável a cada iteração do loop.\n",
    "\n",
    "### Exemplos de uso\n",
    "\n",
    "#### 1. Iterando sobre uma lista\n",
    "```python\n",
    "frutas = ['maçã', 'banana', 'cereja']\n",
    "for fruta in frutas:\n",
    "    print(fruta)\n",
    "```\n",
    "\n",
    "#### 2. Usando `range` para iterar um número específico de vezes\n",
    "```python\n",
    "for i in range(5):\n",
    "    print(i)\n",
    "```\n",
    "O código acima imprime os números de 0 a 4. A função `range` gera uma sequência de números.\n",
    "\n",
    "#### 3. Iterando sobre uma string\n",
    "```python\n",
    "palavra = \"Python\"\n",
    "for letra in palavra:\n",
    "    print(letra)\n",
    "```\n",
    "\n",
    "#### 4. Iterando sobre um dicionário\n",
    "```python\n",
    "aluno_notas = {'Ana': 8.5, 'Bruno': 7.0, 'Carlos': 9.5}\n",
    "for aluno, nota in aluno_notas.items():\n",
    "    print(f'{aluno}: {nota}')\n",
    "```\n",
    "\n",
    "### Modificadores em loops `for`\n",
    "\n",
    "#### `break`\n",
    "O comando `break` é usado para interromper o loop antes que ele tenha iterado sobre todos os elementos.\n",
    "```python\n",
    "for i in range(10):\n",
    "    if i == 5:\n",
    "        break\n",
    "    print(i)\n",
    "```\n",
    "Neste exemplo, o loop é interrompido quando `i` é igual a 5.\n",
    "\n",
    "#### `continue`\n",
    "O comando `continue` é usado para pular o restante do bloco de código atual e ir para a próxima iteração do loop.\n",
    "```python\n",
    "for i in range(10):\n",
    "    if i % 2 == 0:\n",
    "        continue\n",
    "    print(i)\n",
    "```\n",
    "Neste exemplo, apenas os números ímpares são impressos, pois `continue` faz com que o loop pule a impressão dos números pares.\n",
    "\n",
    "### Aninhamento de loops `for`\n",
    "\n",
    "É possível aninhar um loop `for` dentro de outro. Isso é útil, por exemplo, para trabalhar com matrizes ou listas de listas.\n",
    "```python\n",
    "matriz = [\n",
    "    [1, 2, 3],\n",
    "    [4, 5, 6],\n",
    "    [7, 8, 9]\n",
    "]\n",
    "for linha in matriz:\n",
    "    for elemento in linha:\n",
    "        print(elemento, end=' ')\n",
    "    print()\n",
    "```\n",
    "\n",
    "### Conclusão\n",
    "\n",
    "O loop `for` é uma ferramenta poderosa e versátil na programação. Com ele, podemos iterar sobre coleções de dados, realizar tarefas repetitivas de forma eficiente e controlar o fluxo de execução do nosso código com comandos como `break` e `continue`."
   ]
  },
  {
   "cell_type": "code",
   "execution_count": 5,
   "metadata": {},
   "outputs": [
    {
     "name": "stdout",
     "output_type": "stream",
     "text": [
      "Victoria\n",
      "Victoria\n",
      "Victoria\n",
      "Victoria\n",
      "Victoria\n",
      "Victoria\n",
      "Victoria\n",
      "Victoria\n",
      "Victoria\n",
      "Victoria\n",
      "Fim\n"
     ]
    }
   ],
   "source": [
    "for c in range(0,10):\n",
    "    print('Victoria')\n",
    "print('Fim')"
   ]
  },
  {
   "cell_type": "code",
   "execution_count": 8,
   "metadata": {},
   "outputs": [
    {
     "name": "stdout",
     "output_type": "stream",
     "text": [
      "6\n",
      "5\n",
      "4\n",
      "3\n",
      "2\n",
      "1\n"
     ]
    }
   ],
   "source": [
    "for c in range(6,0,-1):\n",
    "    print(c)\n",
    "print('Fim')"
   ]
  },
  {
   "cell_type": "code",
   "execution_count": 10,
   "metadata": {},
   "outputs": [
    {
     "name": "stdout",
     "output_type": "stream",
     "text": [
      "0\n",
      "1\n",
      "2\n",
      "3\n",
      "4\n",
      "5\n",
      "6\n",
      "7\n",
      "8\n",
      "9\n",
      "10\n",
      "FIM\n"
     ]
    }
   ],
   "source": [
    "n = int(input('DIGITE UM NÚMERO: '))\n",
    "for c in range(0, n+1):\n",
    "    print(c)\n",
    "print('FIM')"
   ]
  },
  {
   "cell_type": "code",
   "execution_count": 15,
   "metadata": {},
   "outputs": [
    {
     "name": "stdout",
     "output_type": "stream",
     "text": [
      "0\n",
      "2\n",
      "4\n",
      "6\n",
      "8\n",
      "10\n",
      "FIM\n",
      "inicio = 0, fim = 10, passo 2\n"
     ]
    }
   ],
   "source": [
    "i = int(input('Iníco: '))\n",
    "f = int(input('Fim: '))\n",
    "p = int(input('Passo: '))\n",
    "for c in range (i ,f+1, p):\n",
    "    print(c)\n",
    "print('FIM')\n",
    "print(f'inicio = {i}, fim = {f}, passo {p}')\n"
   ]
  },
  {
   "cell_type": "code",
   "execution_count": 20,
   "metadata": {},
   "outputs": [
    {
     "name": "stdout",
     "output_type": "stream",
     "text": [
      "6\n",
      "4\n",
      "8\n",
      "2\n",
      "O somatório de todos os valores foi 20\n"
     ]
    }
   ],
   "source": [
    "s = 0\n",
    "for c in range(0,4):\n",
    "    n = int(input('Digite um valor: '))\n",
    "    print(n)\n",
    "    s += n \n",
    "\n",
    "print(f'O somatório de todos os valores foi {s}')\n"
   ]
  }
 ],
 "metadata": {
  "kernelspec": {
   "display_name": "Python 3",
   "language": "python",
   "name": "python3"
  },
  "language_info": {
   "codemirror_mode": {
    "name": "ipython",
    "version": 3
   },
   "file_extension": ".py",
   "mimetype": "text/x-python",
   "name": "python",
   "nbconvert_exporter": "python",
   "pygments_lexer": "ipython3",
   "version": "3.10.12"
  }
 },
 "nbformat": 4,
 "nbformat_minor": 2
}
