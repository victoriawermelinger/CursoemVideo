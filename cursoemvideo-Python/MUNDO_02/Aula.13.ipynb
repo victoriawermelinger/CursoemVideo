{
 "cells": [
  {
   "cell_type": "markdown",
   "metadata": {},
   "source": [
    "A estrutura de repetição `for` é uma das principais estruturas de controle em muitas linguagens de programação. Ela é usada para repetir um bloco de código um número específico de vezes ou iterar sobre elementos de uma coleção, como listas, tuplas, dicionários, entre outros.\n",
    "\n",
    "### Estrutura de um loop `for` em Python\n",
    "\n",
    "Em Python, o loop `for` é bastante flexível e fácil de usar. Vamos ver a sintaxe básica:\n",
    "\n",
    "```python\n",
    "for elemento in iterável:\n",
    "    # bloco de código a ser repetido\n",
    "```\n",
    "\n",
    "Aqui, `iterável` pode ser qualquer objeto que pode ser iterado (como listas, tuplas, strings, ranges, etc.). `elemento` é uma variável que assume o valor de cada item no iterável a cada iteração do loop.\n",
    "\n",
    "### Exemplos de uso\n",
    "\n",
    "#### 1. Iterando sobre uma lista\n",
    "```python\n",
    "frutas = ['maçã', 'banana', 'cereja']\n",
    "for fruta in frutas:\n",
    "    print(fruta)\n",
    "```\n",
    "\n",
    "#### 2. Usando `range` para iterar um número específico de vezes\n",
    "```python\n",
    "for i in range(5):\n",
    "    print(i)\n",
    "```\n",
    "O código acima imprime os números de 0 a 4. A função `range` gera uma sequência de números.\n",
    "\n",
    "#### 3. Iterando sobre uma string\n",
    "```python\n",
    "palavra = \"Python\"\n",
    "for letra in palavra:\n",
    "    print(letra)\n",
    "```\n",
    "\n",
    "#### 4. Iterando sobre um dicionário\n",
    "```python\n",
    "aluno_notas = {'Ana': 8.5, 'Bruno': 7.0, 'Carlos': 9.5}\n",
    "for aluno, nota in aluno_notas.items():\n",
    "    print(f'{aluno}: {nota}')\n",
    "```\n",
    "\n",
    "### Modificadores em loops `for`\n",
    "\n",
    "#### `break`\n",
    "O comando `break` é usado para interromper o loop antes que ele tenha iterado sobre todos os elementos.\n",
    "```python\n",
    "for i in range(10):\n",
    "    if i == 5:\n",
    "        break\n",
    "    print(i)\n",
    "```\n",
    "Neste exemplo, o loop é interrompido quando `i` é igual a 5.\n",
    "\n",
    "#### `continue`\n",
    "O comando `continue` é usado para pular o restante do bloco de código atual e ir para a próxima iteração do loop.\n",
    "```python\n",
    "for i in range(10):\n",
    "    if i % 2 == 0:\n",
    "        continue\n",
    "    print(i)\n",
    "```\n",
    "Neste exemplo, apenas os números ímpares são impressos, pois `continue` faz com que o loop pule a impressão dos números pares.\n",
    "\n",
    "### Aninhamento de loops `for`\n",
    "\n",
    "É possível aninhar um loop `for` dentro de outro. Isso é útil, por exemplo, para trabalhar com matrizes ou listas de listas.\n",
    "```python\n",
    "matriz = [\n",
    "    [1, 2, 3],\n",
    "    [4, 5, 6],\n",
    "    [7, 8, 9]\n",
    "]\n",
    "for linha in matriz:\n",
    "    for elemento in linha:\n",
    "        print(elemento, end=' ')\n",
    "    print()\n",
    "```\n",
    "\n",
    "### Conclusão\n",
    "\n",
    "O loop `for` é uma ferramenta poderosa e versátil na programação. Com ele, podemos iterar sobre coleções de dados, realizar tarefas repetitivas de forma eficiente e controlar o fluxo de execução do nosso código com comandos como `break` e `continue`."
   ]
  },
  {
   "cell_type": "code",
   "execution_count": 5,
   "metadata": {},
   "outputs": [
    {
     "name": "stdout",
     "output_type": "stream",
     "text": [
      "Victoria\n",
      "Victoria\n",
      "Victoria\n",
      "Victoria\n",
      "Victoria\n",
      "Victoria\n",
      "Victoria\n",
      "Victoria\n",
      "Victoria\n",
      "Victoria\n",
      "Fim\n"
     ]
    }
   ],
   "source": [
    "for c in range(0,10):\n",
    "    print('Victoria')\n",
    "print('Fim')"
   ]
  },
  {
   "cell_type": "code",
   "execution_count": 8,
   "metadata": {},
   "outputs": [
    {
     "name": "stdout",
     "output_type": "stream",
     "text": [
      "6\n",
      "5\n",
      "4\n",
      "3\n",
      "2\n",
      "1\n"
     ]
    }
   ],
   "source": [
    "for c in range(6,0,-1):\n",
    "    print(c)\n",
    "print('Fim')"
   ]
  },
  {
   "cell_type": "code",
   "execution_count": 10,
   "metadata": {},
   "outputs": [
    {
     "name": "stdout",
     "output_type": "stream",
     "text": [
      "0\n",
      "1\n",
      "2\n",
      "3\n",
      "4\n",
      "5\n",
      "6\n",
      "7\n",
      "8\n",
      "9\n",
      "10\n",
      "FIM\n"
     ]
    }
   ],
   "source": [
    "n = int(input('DIGITE UM NÚMERO: '))\n",
    "for c in range(0, n+1):\n",
    "    print(c)\n",
    "print('FIM')"
   ]
  },
  {
   "cell_type": "code",
   "execution_count": 15,
   "metadata": {},
   "outputs": [
    {
     "name": "stdout",
     "output_type": "stream",
     "text": [
      "0\n",
      "2\n",
      "4\n",
      "6\n",
      "8\n",
      "10\n",
      "FIM\n",
      "inicio = 0, fim = 10, passo 2\n"
     ]
    }
   ],
   "source": [
    "i = int(input('Iníco: '))\n",
    "f = int(input('Fim: '))\n",
    "p = int(input('Passo: '))\n",
    "for c in range (i ,f+1, p):\n",
    "    print(c)\n",
    "print('FIM')\n",
    "print(f'inicio = {i}, fim = {f}, passo {p}')\n"
   ]
  },
  {
   "cell_type": "code",
   "execution_count": 23,
   "metadata": {},
   "outputs": [
    {
     "name": "stdout",
     "output_type": "stream",
     "text": [
      "5\n",
      "4\n",
      "545\n",
      "5\n",
      "O somatório de todos os valores foi 559\n"
     ]
    }
   ],
   "source": [
    "s = 0\n",
    "for c in range(0,4):\n",
    "    n = int(input('Digite um valor: '))\n",
    "    print(n)\n",
    "    s += n \n",
    "\n",
    "print(f'O somatório de todos os valores foi {s}')\n"
   ]
  },
  {
   "cell_type": "code",
   "execution_count": 35,
   "metadata": {},
   "outputs": [
    {
     "name": "stdout",
     "output_type": "stream",
     "text": [
      "11\n",
      "10\n",
      "9\n",
      "8\n",
      "7\n",
      "6\n",
      "5\n",
      "4\n",
      "3\n",
      "2\n",
      "1\n",
      "0\n",
      "BUM ! BUM ! POOOOWWW!\n"
     ]
    }
   ],
   "source": [
    "#Ex.046 Faça um programa que mostre na tela uma contagem regressiva para o estouro de fogos de artifício, indo de 10 até 0, com uma pausa de 1 segundo entre eles.\n",
    "from time import sleep\n",
    "for cont in range(11,-1,-1):\n",
    "       print(cont)\n",
    "       sleep(0.5)\n",
    "print('BUM ! BUM ! POOOOWWW!')"
   ]
  },
  {
   "cell_type": "code",
   "execution_count": 34,
   "metadata": {},
   "outputs": [
    {
     "name": "stdout",
     "output_type": "stream",
     "text": [
      "2 - 4 - 6 - 8 - 10 - 12 - 14 - 16 - 18 - 20 - 22 - 24 - 26 - 28 - 30 - 32 - 34 - 36 - 38 - 40 - 42 - 44 - 46 - 48 - 50 -  FIM\n"
     ]
    }
   ],
   "source": [
    "#Ex.047 Crie um programa que mostre na tela todos os números pares que estão no intervalo entre 1 e 50. \n",
    "\n",
    "for cont in range(2,51,2):\n",
    "    print(cont, end=' - ')\n",
    "print(\" FIM\")"
   ]
  },
  {
   "cell_type": "code",
   "execution_count": 37,
   "metadata": {},
   "outputs": [
    {
     "name": "stdout",
     "output_type": "stream",
     "text": [
      "a soma dos 83 valores múltiplos de três e ímpares entre 1 e 500 é 20667\n"
     ]
    }
   ],
   "source": [
    "#Ex.048 Faça um programa que calcule a soma entre todos os números que são múltiplos de três e que se encontram no intervalo de 1 até 500.\n",
    "t = 0\n",
    "tv = 0\n",
    "for i in range(3, 501, 6):\n",
    "    t += i\n",
    "    tv += 1\n",
    "print(f'a soma dos {tv} valores múltiplos de três e ímpares entre 1 e 500 é {t}')"
   ]
  },
  {
   "cell_type": "code",
   "execution_count": 41,
   "metadata": {},
   "outputs": [
    {
     "name": "stdout",
     "output_type": "stream",
     "text": [
      "Multiplicação: \n",
      "1 x 1 = 1\n",
      "1 x 2 = 2\n",
      "1 x 3 = 3\n",
      "1 x 4 = 4\n",
      "1 x 5 = 5\n",
      "1 x 6 = 6\n",
      "1 x 7 = 7\n",
      "1 x 8 = 8\n",
      "1 x 9 = 9\n",
      "1 x 10 = 10\n",
      "Soma: \n",
      "1 + 1 = 2\n",
      "1 + 2 = 3\n",
      "1 + 3 = 4\n",
      "1 + 4 = 5\n",
      "1 + 5 = 6\n",
      "1 + 6 = 7\n",
      "1 + 7 = 8\n",
      "1 + 8 = 9\n",
      "1 + 9 = 10\n",
      "1 + 10 = 11\n",
      "Subtração: \n",
      "1 - 1 = 0\n",
      "2 - 1 = 1\n",
      "3 - 1 = 2\n",
      "4 - 1 = 3\n",
      "5 - 1 = 4\n",
      "6 - 1 = 5\n",
      "7 - 1 = 6\n",
      "8 - 1 = 7\n",
      "9 - 1 = 8\n",
      "10 - 1 = 9\n",
      "Divisão: \n",
      "1/1 = 0.0\n",
      "2/1 = 1.0\n",
      "3/1 = 2.0\n",
      "4/1 = 3.0\n",
      "5/1 = 4.0\n",
      "6/1 = 5.0\n",
      "7/1 = 6.0\n",
      "8/1 = 7.0\n",
      "9/1 = 8.0\n",
      "10/1 = 9.0\n"
     ]
    }
   ],
   "source": [
    "#Ex.049 Refaça o DESAFIO 9, mostrando a tabuada de um número que o usuário escolher, só que agora utilizando um laço for.\n",
    "\n",
    "n = int (input(\"digite um número que deseja saber a tabuada: \"))\n",
    "print(\"Multiplicação: \")\n",
    "for c in range (1,11):\n",
    "  print (f\"{n} x {c} = {n*c}\")\n",
    "print(\"Soma: \")\n",
    "for x in range (1,11):\n",
    "  print (f\"{n} + {x} = {n+x}\")\n",
    "print(\"Subtração: \")\n",
    "for y in range (1,11):\n",
    "  print(f\"{y} - {n} = {y-n}\")\n",
    "print(\"Divisão: \")\n",
    "for z in range (1,11):\n",
    "  print(f\"{z}/{n} = {(z-1)/n}\")"
   ]
  },
  {
   "cell_type": "code",
   "execution_count": 42,
   "metadata": {},
   "outputs": [
    {
     "name": "stdout",
     "output_type": "stream",
     "text": [
      "A soma dos números pares é 8\n"
     ]
    }
   ],
   "source": [
    "#Ex.050: Desenvolva um programa que leia seis números inteiros e mostre a soma apenas daqueles que forem pares. Se o valor digitado for ímpar, desconsidere-o.\n",
    "s = 0\n",
    "for n in range(1,7):\n",
    "    num = int(input(f'Digite o {n}° número: '))\n",
    "    if num % 2 == 0:\n",
    "        s = s + num\n",
    "print(f'A soma dos números pares é {s}')"
   ]
  },
  {
   "cell_type": "code",
   "execution_count": null,
   "metadata": {},
   "outputs": [],
   "source": [
    "#Ex.051 Desenvolva um programa que leia o primeiro termo e a razão de uma PA. No final, mostre os 10 primeiros termos dessa progressão.\n",
    "\n",
    "primeiro = int(input('Informe o primeiro termo da PA: '))\n",
    "razao = int(input('Digite a razão: '))\n",
    "décimo = primeiro + (10 - 1) * razao\n",
    "print(f'Termo PA {primeiro} em razão {razao}')\n",
    "for c in range(primeiro, décimo + razao, razao):\n",
    "        print(f'{c}', end=' -> ')\n",
    "print(' ACABOU')"
   ]
  },
  {
   "cell_type": "code",
   "execution_count": 44,
   "metadata": {},
   "outputs": [
    {
     "name": "stdout",
     "output_type": "stream",
     "text": [
      "\u001b[1;36m1 \u001b[1;36m2 \u001b[31m3 \u001b[1;36m4 \u001b[31m5 \u001b[31m6 \u001b[31m7 \u001b[1;36m8 \n",
      "\u001b[mO nº 8 foi divisível 4 vezes\n",
      "Logo nº 8 NÃO É PRIMO.\n"
     ]
    }
   ],
   "source": [
    "#Ex.052 Faça um programa que leia um número inteiro e diga se ele é ou não um número primo. \n",
    "\n",
    "n = int (input(\"Digite um número: \"))\n",
    "tot = 0\n",
    "for c in range(1, n+1):\n",
    "  if n % c== 0:\n",
    "    print(\"\\033[1;36m\", end =\"\")\n",
    "    tot += 1\n",
    "  else:\n",
    "    print(\"\\033[31m\", end =\"\")\n",
    "  print(f\"{c}\", end = \" \")\n",
    "print(f\"\\n\\033[mO nº {n} foi divisível {tot} vezes\")\n",
    "if tot == 2:\n",
    "  print(f\"Logo nº {n} É PRIMO.\")\n",
    "else:\n",
    "  print(f\"Logo nº {n} NÃO É PRIMO.\")"
   ]
  },
  {
   "cell_type": "code",
   "execution_count": 1,
   "metadata": {},
   "outputs": [
    {
     "name": "stdout",
     "output_type": "stream",
     "text": [
      "A frase digitada asacadadecasa não é um palimedro pois de tras pr fente fica asacedadacasa\n"
     ]
    }
   ],
   "source": [
    "\"\"\"Ex.053: Crie um programa que leia uma frase qualquer e diga se ela é um palíndromo, desconsiderando os espaços. \n",
    "Exemplos de palíndromos:\n",
    "APOS A SOPA, A SACADA DA CASA, A TORRE DA DERROTA, O LOBO AMA O BOLO, ANOTARAM A DATA DA MARATONA.\"\"\"\n",
    "\n",
    "frase = input('DIGITE UMA FRASE:').lower().replace(' ', '').strip()\n",
    "caracteres = (frase[::-1])\n",
    "if frase == caracteres:\n",
    "    print(f'A frase digitada {frase} é um palimedro pois de tras pr fente fica {caracteres}')\n",
    "else:\n",
    "    print(f'A frase digitada {frase} não é um palimedro pois de tras pr fente fica {caracteres}')"
   ]
  },
  {
   "cell_type": "code",
   "execution_count": null,
   "metadata": {},
   "outputs": [],
   "source": [
    "\"\"\"Ex.054: Crie um programa que leia o ano de nascimento de sete pessoas. \n",
    "No final, mostre quantas pessoas ainda não atingiram a maioridade e quantas já são maiores.\"\"\"\n",
    "\n",
    "from datetime import date\n",
    "idade = 0\n",
    "qmaior = 0\n",
    "qmenor = 0\n",
    "for c in range(1, 8):\n",
    "    asc = int(input(f'Digite o ano de nascimento da {c}ª pessoa:'))\n",
    "    idade = date.today().year - asc\n",
    "    if idade <= 18:\n",
    "        qmenor += 1\n",
    "    elif idade >= 18:\n",
    "        qmaior += 1\n",
    "print('-'*45)\n",
    "print(f'Ao todo temos um total de {qmaior} velinhos.\\n'\n",
    "      f'E temos um total de {qmenor} jovens de menor!')\n",
    "print('-'*45)"
   ]
  },
  {
   "cell_type": "code",
   "execution_count": 9,
   "metadata": {},
   "outputs": [
    {
     "name": "stdout",
     "output_type": "stream",
     "text": [
      "O menor peso equivale a 45 kg\n",
      "O maior peso equivale a 95 kg\n",
      "O maior peso lido foi de 150.0 Kg. \n",
      "O mwno peso lido foi de 15.0 Kg.\n"
     ]
    }
   ],
   "source": [
    "#Ex.055 Faça um programa que leia o peso de cinco pessoas. No final, mostre qual foi o maior e o menor peso lidos.\n",
    "pesos = []\n",
    "for x in range (1,6):\n",
    "    pergunta = eval(input('Digite o peso da {}ª pessoa! \\n'.format(x)))\n",
    "    pesos.append(pergunta)\n",
    "print (\"O menor peso equivale a {} kg\".format(min(pesos)))\n",
    "print (\"O maior peso equivale a {} kg\".format(max(pesos)))\n",
    "\n",
    "#ou\n",
    "maior = 0\n",
    "menor = 0\n",
    "for p in range(1,6):\n",
    "    peso = float(input(f'Peso da {p} pessoa'))\n",
    "    if p == 1:\n",
    "        maior = peso\n",
    "        menor = peso\n",
    "    else:\n",
    "        if peso > maior:\n",
    "            maior = peso \n",
    "        if peso < menor:\n",
    "            menor = peso\n",
    "print(f'O maior peso lido foi de {maior} Kg. \\n'\n",
    "      f'O mwno peso lido foi de {menor} Kg.')\n"
   ]
  },
  {
   "cell_type": "code",
   "execution_count": 14,
   "metadata": {},
   "outputs": [
    {
     "name": "stdout",
     "output_type": "stream",
     "text": [
      "nome: Ricardo\n",
      " idade: 63 \n",
      " sexo: m  \n",
      "nome: samara\n",
      " idade: 62 \n",
      " sexo: f  \n",
      "nome: Octavio\n",
      " idade: 38 \n",
      " sexo: m  \n",
      "nome: Victoria\n",
      " idade: 32 \n",
      " sexo: f  \n",
      "A media de idade do grupo é de 0.0\n",
      "O homem mais velho tem 0 anos e se chama \n",
      "Ao todo são 0 mulheres com menos de 20 anos\n"
     ]
    }
   ],
   "source": [
    "\"\"\"Ex.056 Desenvolva um programa que leia o nome, idade e sexo de 4 pessoas. \n",
    "No final do programa, mostre:\n",
    "a média de idade do grupo, qual é o nome do homem mais velho e quantas mulheres têm menos de 20 anos.\"\"\"\n",
    "\n",
    "mdade = 0 \n",
    "maisvelho = 0\n",
    "menvin = 0  #mulher menor de vinte(20)\n",
    "nmaisvelho = ''   #nome do mais velho\n",
    "for p in range(1, 5):\n",
    "    nome = str(input('Nome: ')).strip()\n",
    "    idade = int(input('Idade: '))\n",
    "    sexo = str(input('Sexo [M/F]: ')).strip()\n",
    "    print(f'nome: {nome}\\n idade: {idade} \\n sexo: {sexo}  ')\n",
    "    if sexo == 'M' and idade > maisvelho:\n",
    "        maisvelho = idade\n",
    "        nmaisvelho = nome\n",
    "    if sexo == 'F' and idade < 20:\n",
    "        menvin += 1\n",
    "mdade = mdade/4    #média da idade\n",
    "print('A media de idade do grupo é de {:.1f}'.format(mdade))\n",
    "print('O homem mais velho tem {} anos e se chama {}'.format(maisvelho, nmaisvelho))\n",
    "print('Ao todo são {} mulheres com menos de 20 anos'.format(menvin))\n"
   ]
  }
 ],
 "metadata": {
  "kernelspec": {
   "display_name": "Python 3",
   "language": "python",
   "name": "python3"
  },
  "language_info": {
   "codemirror_mode": {
    "name": "ipython",
    "version": 3
   },
   "file_extension": ".py",
   "mimetype": "text/x-python",
   "name": "python",
   "nbconvert_exporter": "python",
   "pygments_lexer": "ipython3",
   "version": "3.12.4"
  }
 },
 "nbformat": 4,
 "nbformat_minor": 2
}
