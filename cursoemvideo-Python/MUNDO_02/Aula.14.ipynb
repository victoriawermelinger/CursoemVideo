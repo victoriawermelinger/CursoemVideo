{
 "cells": [
  {
   "cell_type": "markdown",
   "metadata": {},
   "source": [
    "Em Python, a estrutura de repetição `while` é usada para executar um bloco de código repetidamente, enquanto uma condição especificada é verdadeira. Aqui está a sintaxe básica:\n",
    "\n",
    "```python\n",
    "while condição:\n",
    "    # bloco de código\n",
    "```\n",
    "\n",
    "A condição é uma expressão booleana que é avaliada antes da execução de cada iteração do bloco de código. Se a condição for `True`, o bloco de código é executado. Esse processo continua até que a condição se torne `False`.\n",
    "\n",
    "### Exemplo Simples\n",
    "\n",
    "Vamos considerar um exemplo onde imprimimos números de 1 a 5:\n",
    "\n",
    "```python\n",
    "contador = 1\n",
    "while contador <= 5:\n",
    "    print(contador)\n",
    "    contador += 1\n",
    "```\n",
    "\n",
    "Neste exemplo:\n",
    "1. Inicializamos a variável `contador` com o valor 1.\n",
    "2. A condição do `while` verifica se `contador` é menor ou igual a 5.\n",
    "3. Se a condição for `True`, o bloco de código dentro do `while` é executado, imprimindo o valor de `contador` e, em seguida, incrementando-o em 1.\n",
    "4. O processo repete até que `contador` seja maior que 5.\n",
    "\n",
    "### Exemplo com Break e Continue\n",
    "\n",
    "Podemos usar as palavras-chave `break` e `continue` para controlar o fluxo do laço.\n",
    "\n",
    "- `break` interrompe o laço imediatamente.\n",
    "- `continue` pula a iteração atual e vai para a próxima.\n",
    "\n",
    "#### Exemplo com `break`\n",
    "\n",
    "```python\n",
    "contador = 1\n",
    "while contador <= 10:\n",
    "    print(contador)\n",
    "    if contador == 5:\n",
    "        break\n",
    "    contador += 1\n",
    "```\n",
    "\n",
    "Neste exemplo, quando `contador` é igual a 5, o laço é interrompido pelo `break`.\n",
    "\n",
    "#### Exemplo com `continue`\n",
    "\n",
    "```python\n",
    "contador = 0\n",
    "while contador < 10:\n",
    "    contador += 1\n",
    "    if contador % 2 == 0:\n",
    "        continue\n",
    "    print(contador)\n",
    "```\n",
    "\n",
    "Aqui, se `contador` for par, o `continue` faz com que o laço vá para a próxima iteração sem executar o `print`, resultando na impressão apenas dos números ímpares de 1 a 9.\n",
    "\n",
    "### Loop Infinito\n",
    "\n",
    "Cuidado com as condições que nunca se tornam `False`, pois isso criará um loop infinito:\n",
    "\n",
    "```python\n",
    "while True:\n",
    "    print(\"Este é um loop infinito!\")\n",
    "```\n",
    "\n",
    "Esse código continuará executando indefinidamente, então é importante garantir que sempre haverá uma condição para sair do laço.\n",
    "\n",
    "### Conclusão\n",
    "\n",
    "A estrutura de repetição `while` é muito útil para situações em que não sabemos de antemão quantas vezes o laço deve ser executado. É fundamental entender como controlar a condição de término para evitar loops infinitos e usar `break` e `continue` para gerenciar o fluxo do laço conforme necessário."
   ]
  },
  {
   "cell_type": "code",
   "execution_count": 4,
   "metadata": {},
   "outputs": [
    {
     "name": "stdout",
     "output_type": "stream",
     "text": [
      "1\n",
      "2\n",
      "3\n",
      "4\n",
      "5\n",
      "6\n",
      "7\n",
      "8\n",
      "9\n",
      "ACABOU\n"
     ]
    }
   ],
   "source": [
    "c = 1\n",
    "while c!=10:\n",
    "    print(c)\n",
    "    c += 1\n",
    "print('ACABOU')\n"
   ]
  },
  {
   "cell_type": "code",
   "execution_count": 2,
   "metadata": {},
   "outputs": [
    {
     "name": "stdout",
     "output_type": "stream",
     "text": [
      "O valor digitado foi 54\n",
      "O valor digitado foi 31\n",
      "Fim\n"
     ]
    }
   ],
   "source": [
    "r = 'S'\n",
    "while r == 'S':\n",
    "    n = int(input('Digite um valor: '))\n",
    "    print(f'O valor digitado foi {n}')\n",
    "    r = input('Quer continuar: [S/N] ? ').upper()\n",
    "print('Fim')"
   ]
  },
  {
   "cell_type": "code",
   "execution_count": 9,
   "metadata": {},
   "outputs": [
    {
     "name": "stdout",
     "output_type": "stream",
     "text": [
      "valor digitado 54\n",
      "valor digitado 31\n",
      "valor digitado 12\n",
      "valor digitado 54\n",
      "valor digitado 98\n",
      "valor digitado 0\n",
      "Você digitou 4 número pares e 1 números ímpares!\n"
     ]
    }
   ],
   "source": [
    "n = 1 \n",
    "par = impar =0\n",
    "while n != 0:\n",
    "    n = int(input('Digite um valor: '))\n",
    "    print(f'valor digitado {n}')\n",
    "    if n != 0:\n",
    "        if n % 2 == 0:\n",
    "            par += 1\n",
    "        else:\n",
    "            impar += 1\n",
    "print(f\"Você digitou {par} número pares e {impar} números ímpares!\")"
   ]
  },
  {
   "cell_type": "code",
   "execution_count": 1,
   "metadata": {},
   "outputs": [
    {
     "name": "stdout",
     "output_type": "stream",
     "text": [
      "Invalido, informe novamente!\n",
      "Seu sexo é Feminino!\n"
     ]
    }
   ],
   "source": [
    "#Ex.057 Faça um programa que leia o sexo de uma pessoa, mas só aceite os valores ‘M’ ou ‘F’.\n",
    "#Caso esteja errado, peça a digitação novamente até ter um valor correto.\n",
    "\n",
    "r = ''\n",
    "while r != 'M' and r != 'F':\n",
    "    r = input('Qual o seu SEXO? [M/F]: ').upper()\n",
    "    if r == 'M':\n",
    "        print('Seu sexo é Masculino!')\n",
    "    elif r == 'F':\n",
    "        print('Seu sexo é Feminino!')\n",
    "    else:\n",
    "        print('Invalido, informe novamente!')"
   ]
  },
  {
   "cell_type": "code",
   "execution_count": 4,
   "metadata": {},
   "outputs": [
    {
     "name": "stdout",
     "output_type": "stream",
     "text": [
      "-=--=--=--=--=--=--=--=--=--=--=--=--=--=--=--=--=--=--=--=-\n",
      "Vou pensar em um número de 0 a 10 \n",
      "TENTE ADIVINHAR\n",
      "PENSANDO...\n",
      "Menor...Tente outra vez:\n",
      "Menor...Tente outra vez:\n",
      "Menor...Tente outra vez:\n",
      "\u001b[34mParabéns eu pensei no número 0\u001b[m.\n",
      "Você acertou na \u001b[34m4°\u001b[m vez\n"
     ]
    }
   ],
   "source": [
    "#Ex.058 Melhore o jogo do DESAFIO 28 onde o computador vai “pensar” em um número entre 0 e 10. \n",
    "#Só que agora o jogador vai tentar adivinhar até acertar, mostrando no final quantos palpites foram necessários para vencer.\n",
    "\n",
    "from random import randint\n",
    "from time import sleep\n",
    "\n",
    "computador = randint(0, 10)\n",
    "print('-=-' * 20)\n",
    "print('Vou pensar em um número de 0 a 10 \\nTENTE ADIVINHAR')\n",
    "modo = input('Você quer jogar no modo facil ou dificil?[F/D]').lower()\n",
    "print('PENSANDO...')\n",
    "sleep(1)\n",
    "jogador = 11\n",
    "contador = 0\n",
    "while jogador != computador:\n",
    "    jogador = int(input('Em que número eu pensei?'))\n",
    "    contador += 1\n",
    "    if modo == 'f':\n",
    "        if jogador > computador:\n",
    "            print('Menor...Tente outra vez:')\n",
    "        if jogador < computador:\n",
    "            print('Maior...Tente outra vez:')\n",
    "    else:\n",
    "        print('Você errou tente mais uma vez:')\n",
    "print(f'\\33[34mParabéns eu pensei no número {computador}\\33[m.')\n",
    "print(f'Você acertou na \\33[34m{contador}°\\33[m vez')\n",
    "\n"
   ]
  },
  {
   "cell_type": "code",
   "execution_count": null,
   "metadata": {},
   "outputs": [],
   "source": []
  }
 ],
 "metadata": {
  "kernelspec": {
   "display_name": "Python 3",
   "language": "python",
   "name": "python3"
  },
  "language_info": {
   "codemirror_mode": {
    "name": "ipython",
    "version": 3
   },
   "file_extension": ".py",
   "mimetype": "text/x-python",
   "name": "python",
   "nbconvert_exporter": "python",
   "pygments_lexer": "ipython3",
   "version": "3.12.3"
  }
 },
 "nbformat": 4,
 "nbformat_minor": 2
}
