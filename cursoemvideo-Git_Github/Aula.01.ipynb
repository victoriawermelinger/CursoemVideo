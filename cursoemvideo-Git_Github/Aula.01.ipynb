{
 "cells": [
  {
   "cell_type": "markdown",
   "metadata": {},
   "source": [
    "# Git\n",
    "O que é: Sistema de controle de versão distribuído.\n",
    "Função: Gerencia o histórico de alterações do código-fonte localmente.\n",
    "Uso: Executado via linha de comando (ex.: git add, git commit). <p>\n",
    "# GitHub\n",
    "O que é: Plataforma de hospedagem para repositórios Git.\n",
    "Função: Facilita a colaboração remota e oferece ferramentas adicionais (ex.: pull requests, revisões de código).\n",
    "Uso: Acessado através de uma interface web e integrações com outras ferramentas.\n",
    "\n",
    "Em resumo, Git é a ferramenta para controle de versão, enquanto GitHub é um serviço que usa Git para facilitar a colaboração e o gerenciamento de projetos online."
   ]
  },
  {
   "cell_type": "markdown",
   "metadata": {},
   "source": [
    "Git = Software de controle de versão <p>\n",
    "GitHub = Plataforma de Rede Social para Programadores "
   ]
  }
 ],
 "metadata": {
  "language_info": {
   "name": "python"
  }
 },
 "nbformat": 4,
 "nbformat_minor": 2
}
