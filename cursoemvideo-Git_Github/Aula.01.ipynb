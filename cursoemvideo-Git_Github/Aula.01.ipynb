{
 "cells": [
  {
   "cell_type": "markdown",
   "metadata": {},
   "source": [
    "# Git\n",
    "O que é: Sistema de controle de versão distribuído.\n",
    "Função: Gerencia o histórico de alterações do código-fonte localmente.\n",
    "Uso: Executado via linha de comando (ex.: git add, git commit). <p>\n",
    "# GitHub\n",
    "O que é: Plataforma de hospedagem para repositórios Git.\n",
    "Função: Facilita a colaboração remota e oferece ferramentas adicionais (ex.: pull requests, revisões de código).\n",
    "Uso: Acessado através de uma interface web e integrações com outras ferramentas.\n",
    "\n",
    "Em resumo, Git é a ferramenta para controle de versão, enquanto GitHub é um serviço que usa Git para facilitar a colaboração e o gerenciamento de projetos online."
   ]
  },
  {
   "cell_type": "markdown",
   "metadata": {},
   "source": [
    "Git = Software de controle de versão <p>\n",
    "GitHub = Plataforma de Rede Social para Programadores "
   ]
  },
  {
   "cell_type": "markdown",
   "metadata": {},
   "source": [
    "# Vantagens do Git\n",
    "Distribuído:\n",
    "\n",
    "Cada desenvolvedor possui uma cópia completa do repositório, incluindo todo o histórico de alterações.\n",
    "Permite trabalhar offline e sincronizar mudanças posteriormente.\n",
    "\n",
    "Desempenho:\n",
    "\n",
    "Operações locais são muito rápidas, como commits, diffs e histórico.\n",
    "Apenas as mudanças são transferidas entre repositórios, otimizando a eficiência.\n",
    "\n",
    "Branching e Merging:\n",
    "\n",
    "Facilita a criação de ramificações (branches) para desenvolvimento de novas funcionalidades ou correções de bugs.\n",
    "Integra facilmente mudanças de diferentes branches, suportando fluxos de trabalho complexos.\n",
    "\n",
    "Segurança:\n",
    "\n",
    "Usa SHA-1 para identificar objetos e alterações, garantindo a integridade e segurança dos dados.\n",
    "Histórico de mudanças é imutável, preservando o registro completo das alterações.\n",
    "\n",
    "Flexibilidade:\n",
    "\n",
    "Suporta diversos fluxos de trabalho e políticas de gerenciamento de código.\n",
    "Pode ser integrado com várias ferramentas e plataformas.\n",
    "\n",
    "Colaboração:\n",
    "\n",
    "Facilita a colaboração entre desenvolvedores através de pull requests e revisões de código.\n",
    "Ferramentas de integração contínua (CI) e entrega contínua (CD) melhoram o fluxo de trabalho.\n",
    "\n",
    "Compatibilidade:\n",
    "\n",
    "Funciona em múltiplos sistemas operacionais (Windows, macOS, Linux).\n",
    "Integra-se bem com serviços de hospedagem de repositórios, como GitHub, GitLab e Bitbucket.\n",
    "Rastreabilidade:\n",
    "\n",
    "Mantém um histórico detalhado de todas as mudanças, incluindo quem fez a alteração e por quê.\n",
    "Ferramentas de comparação e revisão ajudam a entender o histórico do projeto.\n",
    "Comunidade e Suporte:\n",
    "\n",
    "Ampla adoção e suporte por uma grande comunidade de desenvolvedores.\n",
    "Documentação extensa e diversos recursos de aprendizado disponíveis online."
   ]
  }
 ],
 "metadata": {
  "language_info": {
   "name": "python"
  }
 },
 "nbformat": 4,
 "nbformat_minor": 2
}
