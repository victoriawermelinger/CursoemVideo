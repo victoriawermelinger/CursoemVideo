{
 "cells": [
  {
   "cell_type": "markdown",
   "metadata": {},
   "source": [
    "# GitHub\n",
    "\n",
    "GitHub é uma plataforma de hospedagem para repositórios Git. Suas principais funções incluem:\n",
    "\n",
    "Hospedagem de Repositórios: Armazena código-fonte na nuvem.\n",
    "Colaboração: Facilita o trabalho em equipe com ferramentas como pull requests e revisões de código.\n",
    "Interface Web: Oferece uma interface gráfica para navegar e gerenciar repositórios.\n",
    "Issues e Projetos: Ferramentas para rastreamento de bugs, tarefas e gerenciamento de projetos.\n",
    "Integração: Suporta integração com outras ferramentas e serviços, como CI/CD.\n",
    "Em resumo, GitHub é um serviço que utiliza Git para facilitar a colaboração e gerenciamento de projetos de software online\n"
   ]
  },
  {
   "cell_type": "markdown",
   "metadata": {},
   "source": [
    "# Repositório \n",
    "\n",
    "Repositório é um local onde o código-fonte de um projeto é armazenado e gerenciado. Ele inclui:\n",
    "\n",
    "Arquivos e Diretórios: Contém todos os arquivos e pastas do projeto.\n",
    "Histórico de Versões: Registra todas as alterações feitas no código ao longo do tempo.\n",
    "Branches: Suporta diferentes ramificações para desenvolver novas funcionalidades ou correções.\n",
    "Commits: Inclui registros das mudanças realizadas, com descrições e metadados.\n",
    "Em resumo, um repositório é um armazenamento central para código-fonte, facilitando o gerenciamento e a colaboração em projetos de software."
   ]
  }
 ],
 "metadata": {
  "language_info": {
   "name": "python"
  }
 },
 "nbformat": 4,
 "nbformat_minor": 2
}
